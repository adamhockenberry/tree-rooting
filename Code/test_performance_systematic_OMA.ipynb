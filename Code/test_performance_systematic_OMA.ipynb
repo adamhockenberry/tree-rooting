{
 "cells": [
  {
   "cell_type": "code",
   "execution_count": 1,
   "metadata": {
    "collapsed": false
   },
   "outputs": [],
   "source": [
    "%matplotlib inline\n",
    "%load_ext autoreload\n",
    "%autoreload 2"
   ]
  },
  {
   "cell_type": "code",
   "execution_count": 2,
   "metadata": {
    "collapsed": true
   },
   "outputs": [],
   "source": [
    "import glob\n",
    "from Bio import Phylo, SeqIO\n",
    "import pandas as pd\n",
    "import numpy as np\n",
    "from matplotlib import pyplot as plt\n",
    "\n",
    "from scipy import stats"
   ]
  },
  {
   "cell_type": "code",
   "execution_count": null,
   "metadata": {
    "collapsed": true
   },
   "outputs": [],
   "source": []
  },
  {
   "cell_type": "markdown",
   "metadata": {},
   "source": [
    "# Read in dataframe"
   ]
  },
  {
   "cell_type": "code",
   "execution_count": 112,
   "metadata": {
    "collapsed": false
   },
   "outputs": [
    {
     "name": "stdout",
     "output_type": "stream",
     "text": [
      "(200, 9)\n"
     ]
    },
    {
     "data": {
      "text/html": [
       "<div>\n",
       "<style>\n",
       "    .dataframe thead tr:only-child th {\n",
       "        text-align: right;\n",
       "    }\n",
       "\n",
       "    .dataframe thead th {\n",
       "        text-align: left;\n",
       "    }\n",
       "\n",
       "    .dataframe tbody tr th {\n",
       "        vertical-align: top;\n",
       "    }\n",
       "</style>\n",
       "<table border=\"1\" class=\"dataframe\">\n",
       "  <thead>\n",
       "    <tr style=\"text-align: right;\">\n",
       "      <th></th>\n",
       "      <th>monophyletic_clade</th>\n",
       "      <th>other_clade</th>\n",
       "      <th>root_bl</th>\n",
       "      <th>monophyletic_total_bl</th>\n",
       "      <th>other_total_bl</th>\n",
       "      <th>total_tree_bl</th>\n",
       "      <th>total_n</th>\n",
       "      <th>monophyletic_n</th>\n",
       "      <th>other_n</th>\n",
       "    </tr>\n",
       "    <tr>\n",
       "      <th>OMA_group</th>\n",
       "      <th></th>\n",
       "      <th></th>\n",
       "      <th></th>\n",
       "      <th></th>\n",
       "      <th></th>\n",
       "      <th></th>\n",
       "      <th></th>\n",
       "      <th></th>\n",
       "      <th></th>\n",
       "    </tr>\n",
       "  </thead>\n",
       "  <tbody>\n",
       "    <tr>\n",
       "      <th>OMAGroup_781946</th>\n",
       "      <td>IntNode_70</td>\n",
       "      <td>IntNode_97</td>\n",
       "      <td>0.49919</td>\n",
       "      <td>14.27866</td>\n",
       "      <td>13.28222</td>\n",
       "      <td>28.06007</td>\n",
       "      <td>218.0</td>\n",
       "      <td>98.0</td>\n",
       "      <td>120.0</td>\n",
       "    </tr>\n",
       "    <tr>\n",
       "      <th>OMAGroup_519799</th>\n",
       "      <td>IntNode_37</td>\n",
       "      <td>IntNode_56</td>\n",
       "      <td>0.95431</td>\n",
       "      <td>36.50749</td>\n",
       "      <td>42.45750</td>\n",
       "      <td>79.91930</td>\n",
       "      <td>182.0</td>\n",
       "      <td>57.0</td>\n",
       "      <td>125.0</td>\n",
       "    </tr>\n",
       "    <tr>\n",
       "      <th>OMAGroup_827022</th>\n",
       "      <td>IntNode_68</td>\n",
       "      <td>IntNode_69</td>\n",
       "      <td>0.74559</td>\n",
       "      <td>29.35498</td>\n",
       "      <td>28.03554</td>\n",
       "      <td>58.13611</td>\n",
       "      <td>194.0</td>\n",
       "      <td>70.0</td>\n",
       "      <td>124.0</td>\n",
       "    </tr>\n",
       "    <tr>\n",
       "      <th>OMAGroup_809653</th>\n",
       "      <td>IntNode_48</td>\n",
       "      <td>IntNode_68</td>\n",
       "      <td>0.27492</td>\n",
       "      <td>47.96207</td>\n",
       "      <td>48.17366</td>\n",
       "      <td>96.41065</td>\n",
       "      <td>208.0</td>\n",
       "      <td>89.0</td>\n",
       "      <td>119.0</td>\n",
       "    </tr>\n",
       "    <tr>\n",
       "      <th>OMAGroup_840979</th>\n",
       "      <td>IntNode_66</td>\n",
       "      <td>IntNode_93</td>\n",
       "      <td>0.79274</td>\n",
       "      <td>31.50017</td>\n",
       "      <td>44.09551</td>\n",
       "      <td>76.38842</td>\n",
       "      <td>218.0</td>\n",
       "      <td>94.0</td>\n",
       "      <td>124.0</td>\n",
       "    </tr>\n",
       "    <tr>\n",
       "      <th>OMAGroup_819074</th>\n",
       "      <td>IntNode_41</td>\n",
       "      <td>IntNode_61</td>\n",
       "      <td>0.31338</td>\n",
       "      <td>55.87864</td>\n",
       "      <td>41.05930</td>\n",
       "      <td>97.25132</td>\n",
       "      <td>193.0</td>\n",
       "      <td>68.0</td>\n",
       "      <td>125.0</td>\n",
       "    </tr>\n",
       "    <tr>\n",
       "      <th>OMAGroup_733464</th>\n",
       "      <td>IntNode_64</td>\n",
       "      <td>IntNode_81</td>\n",
       "      <td>0.86006</td>\n",
       "      <td>45.26063</td>\n",
       "      <td>34.58560</td>\n",
       "      <td>80.70629</td>\n",
       "      <td>181.0</td>\n",
       "      <td>82.0</td>\n",
       "      <td>99.0</td>\n",
       "    </tr>\n",
       "    <tr>\n",
       "      <th>OMAGroup_733878</th>\n",
       "      <td>IntNode_66</td>\n",
       "      <td>IntNode_91</td>\n",
       "      <td>0.52861</td>\n",
       "      <td>29.78150</td>\n",
       "      <td>55.18236</td>\n",
       "      <td>85.49247</td>\n",
       "      <td>203.0</td>\n",
       "      <td>92.0</td>\n",
       "      <td>111.0</td>\n",
       "    </tr>\n",
       "    <tr>\n",
       "      <th>OMAGroup_830349</th>\n",
       "      <td>IntNode_43</td>\n",
       "      <td>IntNode_71</td>\n",
       "      <td>0.40299</td>\n",
       "      <td>18.34220</td>\n",
       "      <td>27.77079</td>\n",
       "      <td>46.51598</td>\n",
       "      <td>226.0</td>\n",
       "      <td>93.0</td>\n",
       "      <td>133.0</td>\n",
       "    </tr>\n",
       "    <tr>\n",
       "      <th>OMAGroup_506216</th>\n",
       "      <td>IntNode_48</td>\n",
       "      <td>IntNode_66</td>\n",
       "      <td>1.00077</td>\n",
       "      <td>39.07315</td>\n",
       "      <td>25.24817</td>\n",
       "      <td>65.32209</td>\n",
       "      <td>211.0</td>\n",
       "      <td>92.0</td>\n",
       "      <td>119.0</td>\n",
       "    </tr>\n",
       "  </tbody>\n",
       "</table>\n",
       "</div>"
      ],
      "text/plain": [
       "                monophyletic_clade other_clade  root_bl  \\\n",
       "OMA_group                                                 \n",
       "OMAGroup_781946         IntNode_70  IntNode_97  0.49919   \n",
       "OMAGroup_519799         IntNode_37  IntNode_56  0.95431   \n",
       "OMAGroup_827022         IntNode_68  IntNode_69  0.74559   \n",
       "OMAGroup_809653         IntNode_48  IntNode_68  0.27492   \n",
       "OMAGroup_840979         IntNode_66  IntNode_93  0.79274   \n",
       "OMAGroup_819074         IntNode_41  IntNode_61  0.31338   \n",
       "OMAGroup_733464         IntNode_64  IntNode_81  0.86006   \n",
       "OMAGroup_733878         IntNode_66  IntNode_91  0.52861   \n",
       "OMAGroup_830349         IntNode_43  IntNode_71  0.40299   \n",
       "OMAGroup_506216         IntNode_48  IntNode_66  1.00077   \n",
       "\n",
       "                 monophyletic_total_bl  other_total_bl  total_tree_bl  \\\n",
       "OMA_group                                                               \n",
       "OMAGroup_781946               14.27866        13.28222       28.06007   \n",
       "OMAGroup_519799               36.50749        42.45750       79.91930   \n",
       "OMAGroup_827022               29.35498        28.03554       58.13611   \n",
       "OMAGroup_809653               47.96207        48.17366       96.41065   \n",
       "OMAGroup_840979               31.50017        44.09551       76.38842   \n",
       "OMAGroup_819074               55.87864        41.05930       97.25132   \n",
       "OMAGroup_733464               45.26063        34.58560       80.70629   \n",
       "OMAGroup_733878               29.78150        55.18236       85.49247   \n",
       "OMAGroup_830349               18.34220        27.77079       46.51598   \n",
       "OMAGroup_506216               39.07315        25.24817       65.32209   \n",
       "\n",
       "                 total_n  monophyletic_n  other_n  \n",
       "OMA_group                                          \n",
       "OMAGroup_781946    218.0            98.0    120.0  \n",
       "OMAGroup_519799    182.0            57.0    125.0  \n",
       "OMAGroup_827022    194.0            70.0    124.0  \n",
       "OMAGroup_809653    208.0            89.0    119.0  \n",
       "OMAGroup_840979    218.0            94.0    124.0  \n",
       "OMAGroup_819074    193.0            68.0    125.0  \n",
       "OMAGroup_733464    181.0            82.0     99.0  \n",
       "OMAGroup_733878    203.0            92.0    111.0  \n",
       "OMAGroup_830349    226.0            93.0    133.0  \n",
       "OMAGroup_506216    211.0            92.0    119.0  "
      ]
     },
     "execution_count": 112,
     "metadata": {},
     "output_type": "execute_result"
    }
   ],
   "source": [
    "monophyly_df = pd.read_csv('../Data/tree_monophyly.csv', index_col='OMA_group')\n",
    "print(monophyly_df.shape)\n",
    "monophyly_df.head(n=10)"
   ]
  },
  {
   "cell_type": "code",
   "execution_count": null,
   "metadata": {
    "collapsed": false
   },
   "outputs": [],
   "source": []
  },
  {
   "cell_type": "markdown",
   "metadata": {},
   "source": [
    "# Testing algorithm accuracies on full datasets"
   ]
  },
  {
   "cell_type": "code",
   "execution_count": 113,
   "metadata": {
    "collapsed": false
   },
   "outputs": [],
   "source": [
    "trees_dir = '../Data/raw_OMA_trees/*Rooted.MPAJH'\n",
    "trees_dir = '../Data/pruned_OMA_trees/*pruned_0.9_dikarya.treefile.Rooted.MPAJH'\n",
    "# trees_dir = '../Data/pruned_OMA_trees/*pruned_0.9_notdikarya.treefile.Rooted.MPAJH'\n",
    "methods = ['.MPAJH', '.MLAJH', '.MADAJH', '.MLWEIGHTAJH']\n",
    "accuracy_dict = {}\n",
    "for method in methods:\n",
    "    accuracy_dict[method] = []\n",
    "\n",
    "trees_tested = []\n",
    "\n",
    "for tree_loc in glob.glob(trees_dir)[:]:\n",
    "    oma_group = tree_loc.split('/')[-1].split('.')[0]\n",
    "    if type(monophyly_df.loc[oma_group]['monophyletic_clade']) != str:\n",
    "        continue\n",
    "    trees_tested.append(tree_loc)\n",
    "    for method in methods:\n",
    "        my_tree = Phylo.read(tree_loc.replace('.MPAJH', method), 'newick', rooted=True)\n",
    "        \n",
    "        if monophyly_df.loc[oma_group]['monophyletic_clade'] in [clade.name for clade in my_tree.root.clades] \\\n",
    "        and monophyly_df.loc[oma_group]['other_clade'] in [clade.name for clade in my_tree.root.clades]:\n",
    "            monophyly_df.set_value(oma_group, '{}_success'.format(method), 1)\n",
    "        else:\n",
    "            monophyly_df.set_value(oma_group, '{}_success'.format(method), 0)"
   ]
  },
  {
   "cell_type": "code",
   "execution_count": 114,
   "metadata": {
    "collapsed": false
   },
   "outputs": [
    {
     "name": "stdout",
     "output_type": "stream",
     "text": [
      "127.0\n",
      "119.0\n",
      "113.0\n",
      "132.0\n"
     ]
    }
   ],
   "source": [
    "for method in methods:\n",
    "    print(monophyly_df['{}_success'.format(method)].sum())"
   ]
  },
  {
   "cell_type": "code",
   "execution_count": 115,
   "metadata": {
    "collapsed": false
   },
   "outputs": [
    {
     "data": {
      "text/plain": [
       "193"
      ]
     },
     "execution_count": 115,
     "metadata": {},
     "output_type": "execute_result"
    }
   ],
   "source": [
    "len(trees_tested)"
   ]
  },
  {
   "cell_type": "code",
   "execution_count": 118,
   "metadata": {
    "collapsed": false
   },
   "outputs": [
    {
     "data": {
      "text/plain": [
       "(0.73405511811023627, 0.17233059972405268)"
      ]
     },
     "execution_count": 118,
     "metadata": {},
     "output_type": "execute_result"
    }
   ],
   "source": [
    "stats.fisher_exact([[113, 193-113], [127, 193-127]])"
   ]
  },
  {
   "cell_type": "code",
   "execution_count": null,
   "metadata": {
    "collapsed": true
   },
   "outputs": [],
   "source": []
  },
  {
   "cell_type": "code",
   "execution_count": null,
   "metadata": {
    "collapsed": true
   },
   "outputs": [],
   "source": []
  },
  {
   "cell_type": "markdown",
   "metadata": {},
   "source": [
    "**These little tests only make sense for non pruned trees. Would need to recalculate things for pruned trees**"
   ]
  },
  {
   "cell_type": "code",
   "execution_count": 109,
   "metadata": {
    "collapsed": false
   },
   "outputs": [
    {
     "data": {
      "text/plain": [
       "OMA_group\n",
       "OMAGroup_781946    1.152457\n",
       "OMAGroup_783111    1.533814\n",
       "OMAGroup_833893    1.137061\n",
       "OMAGroup_555704    1.034230\n",
       "OMAGroup_838637    1.101530\n",
       "OMAGroup_821886    1.772734\n",
       "OMAGroup_825385    1.519673\n",
       "OMAGroup_786887    1.220396\n",
       "OMAGroup_788814    1.588566\n",
       "OMAGroup_839846    1.238657\n",
       "OMAGroup_835263    0.847889\n",
       "dtype: float64"
      ]
     },
     "execution_count": 109,
     "metadata": {},
     "output_type": "execute_result"
    }
   ],
   "source": [
    "testy = monophyly_df[(monophyly_df['.MADAJH_success']==0) & (monophyly_df['.MPAJH_success']==1)]\n",
    "# testy['monophyletic_total_bl'] / (testy['total_tree_bl'])\n",
    "# testy['monophyletic_n'] / testy['total_n']\n",
    "(testy['monophyletic_total_bl']/testy['monophyletic_n']) / ((testy['total_tree_bl']-testy['root_bl'])/testy['total_n'])"
   ]
  },
  {
   "cell_type": "code",
   "execution_count": 111,
   "metadata": {
    "collapsed": false
   },
   "outputs": [
    {
     "data": {
      "text/plain": [
       "OMA_group\n",
       "OMAGroup_733464    1.251212\n",
       "OMAGroup_839159    0.991569\n",
       "OMAGroup_555513    1.869245\n",
       "OMAGroup_801600    1.312716\n",
       "OMAGroup_826604    0.978806\n",
       "OMAGroup_840516    1.130587\n",
       "OMAGroup_821345    1.348694\n",
       "OMAGroup_810040    0.884900\n",
       "OMAGroup_813355    0.872944\n",
       "OMAGroup_720829    1.362083\n",
       "OMAGroup_505679    1.842300\n",
       "OMAGroup_664903    1.476282\n",
       "OMAGroup_672890    1.567113\n",
       "OMAGroup_813517    1.182209\n",
       "OMAGroup_754919    1.685450\n",
       "OMAGroup_840787    1.176062\n",
       "OMAGroup_555601    1.098920\n",
       "OMAGroup_833097    1.008965\n",
       "OMAGroup_841011    0.974773\n",
       "OMAGroup_507555    1.034536\n",
       "OMAGroup_838578    1.051909\n",
       "OMAGroup_804384    1.242594\n",
       "OMAGroup_840195    1.589686\n",
       "OMAGroup_555445    0.745158\n",
       "OMAGroup_835421    0.904167\n",
       "OMAGroup_555570    1.116653\n",
       "OMAGroup_803883    1.035633\n",
       "OMAGroup_817985    0.825660\n",
       "OMAGroup_810533    1.304283\n",
       "OMAGroup_748669    2.197517\n",
       "OMAGroup_747014    1.186689\n",
       "OMAGroup_770008    1.137417\n",
       "OMAGroup_556019    1.278242\n",
       "OMAGroup_775366    1.217142\n",
       "OMAGroup_555435    1.507963\n",
       "OMAGroup_838548    1.558731\n",
       "OMAGroup_834727    1.079562\n",
       "OMAGroup_732528    1.620088\n",
       "OMAGroup_794135    1.027996\n",
       "dtype: float64"
      ]
     },
     "execution_count": 111,
     "metadata": {},
     "output_type": "execute_result"
    }
   ],
   "source": [
    "testy = monophyly_df[(monophyly_df['.MADAJH_success']==1) & (monophyly_df['.MPAJH_success']==0)]\n",
    "# testy['monophyletic_total_bl'] / (testy['total_tree_bl'])\n",
    "# testy['monophyletic_n'] / testy['total_n']\n",
    "(testy['monophyletic_total_bl']/testy['monophyletic_n']) / ((testy['total_tree_bl']-testy['root_bl'])/testy['total_n'])"
   ]
  },
  {
   "cell_type": "code",
   "execution_count": null,
   "metadata": {
    "collapsed": true
   },
   "outputs": [],
   "source": []
  },
  {
   "cell_type": "code",
   "execution_count": null,
   "metadata": {
    "collapsed": true
   },
   "outputs": [],
   "source": []
  },
  {
   "cell_type": "markdown",
   "metadata": {
    "collapsed": true
   },
   "source": [
    "**Directly comparing which methods outperform others**"
   ]
  },
  {
   "cell_type": "code",
   "execution_count": 50,
   "metadata": {
    "collapsed": false
   },
   "outputs": [
    {
     "data": {
      "text/plain": [
       "(0, 0)"
      ]
     },
     "execution_count": 50,
     "metadata": {},
     "output_type": "execute_result"
    }
   ],
   "source": [
    "list(np.array(accuracy_dict['.MPAJH']) - np.array(accuracy_dict['.MADAJH'])).count(1),\\\n",
    "list(np.array(accuracy_dict['.MPAJH']) - np.array(accuracy_dict['.MADAJH'])).count(-1)"
   ]
  },
  {
   "cell_type": "code",
   "execution_count": 51,
   "metadata": {
    "collapsed": false
   },
   "outputs": [
    {
     "data": {
      "text/plain": [
       "(0, 0)"
      ]
     },
     "execution_count": 51,
     "metadata": {},
     "output_type": "execute_result"
    }
   ],
   "source": [
    "list(np.array(accuracy_dict['.MLAJH']) - np.array(accuracy_dict['.MADAJH'])).count(1),\\\n",
    "list(np.array(accuracy_dict['.MLAJH']) - np.array(accuracy_dict['.MADAJH'])).count(-1)"
   ]
  },
  {
   "cell_type": "code",
   "execution_count": null,
   "metadata": {
    "collapsed": true
   },
   "outputs": [],
   "source": []
  },
  {
   "cell_type": "markdown",
   "metadata": {},
   "source": [
    "# Test variability/robustness in distance"
   ]
  },
  {
   "cell_type": "code",
   "execution_count": null,
   "metadata": {
    "collapsed": false,
    "scrolled": true
   },
   "outputs": [],
   "source": [
    "trees_dir = '../Data/raw_OMA_trees/*Rooted.MPAJH'\n",
    "# trees_dir = '../Data/pruned_OMA_trees/*Rooted.MPAJH'\n",
    "methods = ['.MPAJH', '.MLAJH', '.MADAJH']\n",
    "accuracy_dict = {}\n",
    "for method in methods:\n",
    "    accuracy_dict[method] = []\n",
    "\n",
    "trees_tested = []\n",
    "\n",
    "for tree_loc in glob.glob(trees_dir)[:]:\n",
    "    print(tree_loc)\n",
    "    test_tree = Phylo.read(tree_loc, 'newick', rooted=True)\n",
    "    testy = [term for term in test_tree.get_terminals() if\\\n",
    "                      term.name in metazoa]\n",
    "    valid = is_monophyletic_all(test_tree.root, test_tree, testy, False)\n",
    "    if valid == False:\n",
    "        continue\n",
    "        \n",
    "    trees_tested.append(tree_loc)\n",
    "    for method in methods:\n",
    "        my_tree = Phylo.read(tree_loc.replace('.MPAJH', method), 'newick', rooted=True)\n",
    "        metazoa_clades = [term for term in my_tree.get_terminals() if\\\n",
    "                          term.name in metazoa]\n",
    "        non_metazoa_clades = [term for term in my_tree.get_terminals() if\\\n",
    "                          term.name not in metazoa]\n",
    "\n",
    "        if set(metazoa_clades) == set(my_tree.root.clades[0].get_terminals()) or \\\n",
    "            set(metazoa_clades) == set(my_tree.root.clades[1].get_terminals()):\n",
    "            all_ca = my_tree.common_ancestor(non_metazoa_clades)\n",
    "            accuracy_dict[method].append(my_tree.distance(all_ca, my_tree.root))"
   ]
  },
  {
   "cell_type": "code",
   "execution_count": null,
   "metadata": {
    "collapsed": true
   },
   "outputs": [],
   "source": []
  },
  {
   "cell_type": "code",
   "execution_count": null,
   "metadata": {
    "collapsed": false
   },
   "outputs": [],
   "source": [
    "fig, ax = plt.subplots()\n",
    "ax.hist(accuracy_dict['.MPAJH'], alpha=0.2)\n",
    "# ax.hist(accuracy_dict['.MLAJH'], alpha=0.2)\n",
    "ax.hist(accuracy_dict['.MADAJH'], alpha=0.2)"
   ]
  },
  {
   "cell_type": "code",
   "execution_count": null,
   "metadata": {
    "collapsed": true
   },
   "outputs": [],
   "source": []
  },
  {
   "cell_type": "code",
   "execution_count": null,
   "metadata": {
    "collapsed": true
   },
   "outputs": [],
   "source": []
  },
  {
   "cell_type": "code",
   "execution_count": null,
   "metadata": {
    "collapsed": true
   },
   "outputs": [],
   "source": []
  },
  {
   "cell_type": "code",
   "execution_count": null,
   "metadata": {
    "collapsed": false
   },
   "outputs": [],
   "source": [
    "trees_dir = '../Data/euk_trees/*Rooted.MPAJH'\n",
    "ideal_species_n = 31\n",
    "\n",
    "# trees_dir = '../Data/pruned_euk_trees/*_9_meta.nwk.Rooted.MPAJH'\n",
    "# ideal_species_n = 22\n",
    "\n",
    "# trees_dir = '../Data/pruned_euk_trees/*_12_meta.nwk.Rooted.MPAJH'\n",
    "# ideal_species_n = 19\n",
    "\n",
    "\n",
    "# methods = ['.MPAJH', '.MLAJH']\n",
    "methods = ['.MPAJH', '.MLAJH', '.MADAJH']\n",
    "accuracy_dict = {}\n",
    "for method in methods:\n",
    "    accuracy_dict[method] = []\n",
    "\n",
    "trees_tested = []\n",
    "for tree_loc in glob.glob(trees_dir)[:50]:\n",
    "    print(tree_loc)\n",
    "    test_tree = Phylo.read(tree_loc, 'newick', rooted=True)\n",
    "    if len(test_tree.get_terminals()) != ideal_species_n:\n",
    "        continue\n",
    "    testy = [term for term in test_tree.get_terminals() if\\\n",
    "                      term.name in metazoa]\n",
    "    valid = is_monophyletic_all(test_tree.root, test_tree, testy, False)\n",
    "    if valid == False:\n",
    "        continue\n",
    "        \n",
    "    trees_tested.append(tree_loc)\n",
    "    for method in methods:\n",
    "        my_tree = Phylo.read(tree_loc.replace('.MPAJH', method), 'newick', rooted=True)\n",
    "        metazoa_clades = [term for term in my_tree.get_terminals() if\\\n",
    "                          term.name in metazoa]\n",
    "        non_metazoa_clades = [term for term in my_tree.get_terminals() if\\\n",
    "                          term.name not in metazoa]\n",
    "\n",
    "        if set(metazoa_clades) == set(my_tree.root.clades[0].get_terminals()) or \\\n",
    "            set(metazoa_clades) == set(my_tree.root.clades[1].get_terminals()):\n",
    "            all_ca = my_tree.common_ancestor(non_metazoa_clades)\n",
    "            initial_dist = my_tree.distance(all_ca, my_tree.root)\n",
    "        \n",
    "\n",
    "            pruned_tree_loc = tree_loc.replace('/euk_trees/', '/pruned_euk_trees/')\n",
    "            pruned_tree_loc = pruned_tree_loc.replace('.nwk.Rooted.MPAJH', '.pruned_9_meta.nwk.Rooted.MPAJH')\n",
    "            pruned_tree_loc = pruned_tree_loc.replace('.MPAJH', method)\n",
    "            pruned_tree = Phylo.read(pruned_tree_loc, 'newick', rooted=True)\n",
    "            metazoa_clades = [term for term in pruned_tree.get_terminals() if\\\n",
    "                          term.name in metazoa]\n",
    "            non_metazoa_clades = [term for term in pruned_tree.get_terminals() if\\\n",
    "                          term.name not in metazoa]\n",
    "\n",
    "            if set(metazoa_clades) == set(pruned_tree.root.clades[0].get_terminals()) or \\\n",
    "                set(metazoa_clades) == set(pruned_tree.root.clades[1].get_terminals()):\n",
    "                pruned_ca = pruned_tree.common_ancestor(non_metazoa_clades)\n",
    "                pruned_dist = pruned_tree.distance(pruned_ca, pruned_tree.root)\n",
    "#                 print(method, initial_dist, pruned_dist, initial_dist-pruned_dist)\n",
    "#                 print(method, initial_dist-pruned_dist)\n",
    "                accuracy_dict[method].append(initial_dist-pruned_dist)"
   ]
  },
  {
   "cell_type": "code",
   "execution_count": null,
   "metadata": {
    "collapsed": false
   },
   "outputs": [],
   "source": [
    "fig, ax = plt.subplots()\n",
    "# ax.hist(accuracy_dict['.MPAJH'], alpha=0.2)\n",
    "ax.hist(accuracy_dict['.MLAJH'], alpha=0.2)\n",
    "ax.hist(accuracy_dict['.MADAJH'], alpha=0.2)"
   ]
  },
  {
   "cell_type": "code",
   "execution_count": null,
   "metadata": {
    "collapsed": true
   },
   "outputs": [],
   "source": []
  },
  {
   "cell_type": "code",
   "execution_count": null,
   "metadata": {
    "collapsed": true
   },
   "outputs": [],
   "source": []
  }
 ],
 "metadata": {
  "kernelspec": {
   "display_name": "Python 3",
   "language": "python",
   "name": "python3"
  },
  "language_info": {
   "codemirror_mode": {
    "name": "ipython",
    "version": 3
   },
   "file_extension": ".py",
   "mimetype": "text/x-python",
   "name": "python",
   "nbconvert_exporter": "python",
   "pygments_lexer": "ipython3",
   "version": "3.4.5"
  },
  "toc": {
   "colors": {
    "hover_highlight": "#DAA520",
    "navigate_num": "#000000",
    "navigate_text": "#333333",
    "running_highlight": "#FF0000",
    "selected_highlight": "#FFD700",
    "sidebar_border": "#EEEEEE",
    "wrapper_background": "#FFFFFF"
   },
   "moveMenuLeft": true,
   "nav_menu": {
    "height": "48px",
    "width": "252px"
   },
   "navigate_menu": true,
   "number_sections": true,
   "sideBar": true,
   "threshold": 4,
   "toc_cell": false,
   "toc_section_display": "block",
   "toc_window_display": false,
   "widenNotebook": false
  }
 },
 "nbformat": 4,
 "nbformat_minor": 2
}

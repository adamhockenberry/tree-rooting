{
 "cells": [
  {
   "cell_type": "code",
   "execution_count": 1,
   "metadata": {
    "collapsed": false
   },
   "outputs": [],
   "source": [
    "%matplotlib inline\n",
    "%load_ext autoreload\n",
    "%autoreload 2"
   ]
  },
  {
   "cell_type": "code",
   "execution_count": 2,
   "metadata": {
    "collapsed": true
   },
   "outputs": [],
   "source": [
    "import glob\n",
    "from Bio import Phylo, SeqIO\n",
    "import pandas as pd\n",
    "import numpy as np\n",
    "from matplotlib import pyplot as plt\n",
    "\n",
    "from scipy import stats"
   ]
  },
  {
   "cell_type": "code",
   "execution_count": null,
   "metadata": {
    "collapsed": true
   },
   "outputs": [],
   "source": []
  },
  {
   "cell_type": "markdown",
   "metadata": {},
   "source": [
    "# Read in dataframe containing monophyly information"
   ]
  },
  {
   "cell_type": "code",
   "execution_count": 135,
   "metadata": {
    "collapsed": false
   },
   "outputs": [
    {
     "name": "stdout",
     "output_type": "stream",
     "text": [
      "(20, 9)\n"
     ]
    },
    {
     "data": {
      "text/html": [
       "<div>\n",
       "<style>\n",
       "    .dataframe thead tr:only-child th {\n",
       "        text-align: right;\n",
       "    }\n",
       "\n",
       "    .dataframe thead th {\n",
       "        text-align: left;\n",
       "    }\n",
       "\n",
       "    .dataframe tbody tr th {\n",
       "        vertical-align: top;\n",
       "    }\n",
       "</style>\n",
       "<table border=\"1\" class=\"dataframe\">\n",
       "  <thead>\n",
       "    <tr style=\"text-align: right;\">\n",
       "      <th></th>\n",
       "      <th>monophyletic_clade</th>\n",
       "      <th>other_clade</th>\n",
       "      <th>root_bl</th>\n",
       "      <th>monophyletic_total_bl</th>\n",
       "      <th>other_total_bl</th>\n",
       "      <th>total_tree_bl</th>\n",
       "      <th>total_n</th>\n",
       "      <th>monophyletic_n</th>\n",
       "      <th>other_n</th>\n",
       "    </tr>\n",
       "    <tr>\n",
       "      <th>Group_id</th>\n",
       "      <th></th>\n",
       "      <th></th>\n",
       "      <th></th>\n",
       "      <th></th>\n",
       "      <th></th>\n",
       "      <th></th>\n",
       "      <th></th>\n",
       "      <th></th>\n",
       "      <th></th>\n",
       "    </tr>\n",
       "  </thead>\n",
       "  <tbody>\n",
       "    <tr>\n",
       "      <th>OMAGroup_733878</th>\n",
       "      <td>IntNode_66</td>\n",
       "      <td>IntNode_91</td>\n",
       "      <td>0.52861</td>\n",
       "      <td>29.78150</td>\n",
       "      <td>55.18236</td>\n",
       "      <td>85.49247</td>\n",
       "      <td>203.0</td>\n",
       "      <td>92.0</td>\n",
       "      <td>111.0</td>\n",
       "    </tr>\n",
       "    <tr>\n",
       "      <th>OMAGroup_754919</th>\n",
       "      <td>IntNode_25</td>\n",
       "      <td>IntNode_90</td>\n",
       "      <td>0.12304</td>\n",
       "      <td>3.82319</td>\n",
       "      <td>1.20663</td>\n",
       "      <td>5.15286</td>\n",
       "      <td>204.0</td>\n",
       "      <td>92.0</td>\n",
       "      <td>112.0</td>\n",
       "    </tr>\n",
       "    <tr>\n",
       "      <th>OMAGroup_788814</th>\n",
       "      <td>IntNode_45</td>\n",
       "      <td>IntNode_53</td>\n",
       "      <td>1.15706</td>\n",
       "      <td>47.97359</td>\n",
       "      <td>29.46055</td>\n",
       "      <td>78.59120</td>\n",
       "      <td>200.0</td>\n",
       "      <td>78.0</td>\n",
       "      <td>122.0</td>\n",
       "    </tr>\n",
       "    <tr>\n",
       "      <th>OMAGroup_833097</th>\n",
       "      <td>IntNode_1</td>\n",
       "      <td>IntNode_90</td>\n",
       "      <td>0.19569</td>\n",
       "      <td>20.50439</td>\n",
       "      <td>27.28626</td>\n",
       "      <td>47.98634</td>\n",
       "      <td>214.0</td>\n",
       "      <td>91.0</td>\n",
       "      <td>123.0</td>\n",
       "    </tr>\n",
       "    <tr>\n",
       "      <th>OMAGroup_803985</th>\n",
       "      <td>IntNode_41</td>\n",
       "      <td>IntNode_53</td>\n",
       "      <td>2.17933</td>\n",
       "      <td>25.95126</td>\n",
       "      <td>32.27627</td>\n",
       "      <td>60.40686</td>\n",
       "      <td>165.0</td>\n",
       "      <td>54.0</td>\n",
       "      <td>111.0</td>\n",
       "    </tr>\n",
       "    <tr>\n",
       "      <th>OMAGroup_555520</th>\n",
       "      <td>IntNode_57</td>\n",
       "      <td>IntNode_84</td>\n",
       "      <td>1.08677</td>\n",
       "      <td>24.39260</td>\n",
       "      <td>17.81970</td>\n",
       "      <td>43.29907</td>\n",
       "      <td>200.0</td>\n",
       "      <td>85.0</td>\n",
       "      <td>115.0</td>\n",
       "    </tr>\n",
       "    <tr>\n",
       "      <th>OMAGroup_819101</th>\n",
       "      <td>IntNode_62</td>\n",
       "      <td>IntNode_72</td>\n",
       "      <td>1.02957</td>\n",
       "      <td>41.96620</td>\n",
       "      <td>30.85214</td>\n",
       "      <td>73.84791</td>\n",
       "      <td>182.0</td>\n",
       "      <td>73.0</td>\n",
       "      <td>109.0</td>\n",
       "    </tr>\n",
       "    <tr>\n",
       "      <th>OMAGroup_786887</th>\n",
       "      <td>IntNode_86</td>\n",
       "      <td>IntNode_87</td>\n",
       "      <td>0.25946</td>\n",
       "      <td>30.35176</td>\n",
       "      <td>32.38955</td>\n",
       "      <td>63.00077</td>\n",
       "      <td>222.0</td>\n",
       "      <td>88.0</td>\n",
       "      <td>134.0</td>\n",
       "    </tr>\n",
       "    <tr>\n",
       "      <th>OMAGroup_761172</th>\n",
       "      <td>IntNode_60</td>\n",
       "      <td>IntNode_61</td>\n",
       "      <td>10.02083</td>\n",
       "      <td>26.10815</td>\n",
       "      <td>31.57735</td>\n",
       "      <td>67.70633</td>\n",
       "      <td>185.0</td>\n",
       "      <td>79.0</td>\n",
       "      <td>106.0</td>\n",
       "    </tr>\n",
       "    <tr>\n",
       "      <th>OMAGroup_555739</th>\n",
       "      <td>IntNode_44</td>\n",
       "      <td>IntNode_60</td>\n",
       "      <td>1.06537</td>\n",
       "      <td>28.75971</td>\n",
       "      <td>17.33500</td>\n",
       "      <td>47.16008</td>\n",
       "      <td>175.0</td>\n",
       "      <td>61.0</td>\n",
       "      <td>114.0</td>\n",
       "    </tr>\n",
       "  </tbody>\n",
       "</table>\n",
       "</div>"
      ],
      "text/plain": [
       "                monophyletic_clade other_clade   root_bl  \\\n",
       "Group_id                                                   \n",
       "OMAGroup_733878         IntNode_66  IntNode_91   0.52861   \n",
       "OMAGroup_754919         IntNode_25  IntNode_90   0.12304   \n",
       "OMAGroup_788814         IntNode_45  IntNode_53   1.15706   \n",
       "OMAGroup_833097          IntNode_1  IntNode_90   0.19569   \n",
       "OMAGroup_803985         IntNode_41  IntNode_53   2.17933   \n",
       "OMAGroup_555520         IntNode_57  IntNode_84   1.08677   \n",
       "OMAGroup_819101         IntNode_62  IntNode_72   1.02957   \n",
       "OMAGroup_786887         IntNode_86  IntNode_87   0.25946   \n",
       "OMAGroup_761172         IntNode_60  IntNode_61  10.02083   \n",
       "OMAGroup_555739         IntNode_44  IntNode_60   1.06537   \n",
       "\n",
       "                 monophyletic_total_bl  other_total_bl  total_tree_bl  \\\n",
       "Group_id                                                                \n",
       "OMAGroup_733878               29.78150        55.18236       85.49247   \n",
       "OMAGroup_754919                3.82319         1.20663        5.15286   \n",
       "OMAGroup_788814               47.97359        29.46055       78.59120   \n",
       "OMAGroup_833097               20.50439        27.28626       47.98634   \n",
       "OMAGroup_803985               25.95126        32.27627       60.40686   \n",
       "OMAGroup_555520               24.39260        17.81970       43.29907   \n",
       "OMAGroup_819101               41.96620        30.85214       73.84791   \n",
       "OMAGroup_786887               30.35176        32.38955       63.00077   \n",
       "OMAGroup_761172               26.10815        31.57735       67.70633   \n",
       "OMAGroup_555739               28.75971        17.33500       47.16008   \n",
       "\n",
       "                 total_n  monophyletic_n  other_n  \n",
       "Group_id                                           \n",
       "OMAGroup_733878    203.0            92.0    111.0  \n",
       "OMAGroup_754919    204.0            92.0    112.0  \n",
       "OMAGroup_788814    200.0            78.0    122.0  \n",
       "OMAGroup_833097    214.0            91.0    123.0  \n",
       "OMAGroup_803985    165.0            54.0    111.0  \n",
       "OMAGroup_555520    200.0            85.0    115.0  \n",
       "OMAGroup_819101    182.0            73.0    109.0  \n",
       "OMAGroup_786887    222.0            88.0    134.0  \n",
       "OMAGroup_761172    185.0            79.0    106.0  \n",
       "OMAGroup_555739    175.0            61.0    114.0  "
      ]
     },
     "execution_count": 135,
     "metadata": {},
     "output_type": "execute_result"
    }
   ],
   "source": [
    "monophyly_df = pd.read_csv('../Data/OMA_group_data/eukaryotes/tree_monophyly.csv', index_col='Group_id')\n",
    "# monophyly_df = pd.read_csv('../Data/Tria_et_al_data/eukaryotes/tree_monophyly.csv', index_col='Group_id')\n",
    "print(monophyly_df.shape)\n",
    "monophyly_df.head(n=10)"
   ]
  },
  {
   "cell_type": "code",
   "execution_count": null,
   "metadata": {
    "collapsed": false
   },
   "outputs": [],
   "source": []
  },
  {
   "cell_type": "markdown",
   "metadata": {},
   "source": [
    "# Testing algorithm accuracies on full datasets"
   ]
  },
  {
   "cell_type": "code",
   "execution_count": 141,
   "metadata": {
    "collapsed": false
   },
   "outputs": [],
   "source": [
    "# trees_dir = '../Data/OMA_group_data/eukaryotes/processed_OMA_trees/*treefile.Rooted.MPAJH'\n",
    "trees_dir = '../Data/OMA_group_data/eukaryotes/processed_OMA_trees/*Terms.Rooted.MPAJH'\n",
    "# trees_dir = '../Data/OMA_group_data/eukaryotes/pruned_OMA_trees/*frac0.05*treefile.Rooted.MPAJH'\n",
    "# trees_dir = '../Data/OMA_group_data/eukaryotes/pruned_OMA_trees/*frac0.1*treefile.Rooted.MPAJH'\n",
    "# trees_dir = '../Data/OMA_group_data/eukaryotes/pruned_OMA_trees/*frac0.5*treefile.Rooted.MPAJH'\n",
    "# trees_dir = '../Data/OMA_group_data/eukaryotes/pruned_OMA_trees/*frac0.9*treefile.Rooted.MPAJH'\n",
    "# trees_dir = '../Data/OMA_group_data/eukaryotes/pruned_OMA_trees/*frac0.95*treefile.Rooted.MPAJH'\n",
    "# trees_dir = '../Data/Tria_et_al_data/eukaryotes/processed_trees/*nwk.Rooted.MPAJH'\n",
    "# trees_dir = '../Data/Tria_et_al_data/eukaryotes/processed_trees/*Terms.Rooted.MPAJH'\n",
    "\n",
    "methods = ['.MPAJH', '.MINSDAJH', '.MADAJH']\n",
    "for method in methods:\n",
    "    monophyly_df['{}_success'.format(method)] = np.nan\n",
    "\n",
    "trees_tested = []\n",
    "\n",
    "for tree_loc in glob.glob(trees_dir)[:]:\n",
    "#     print(tree_loc)\n",
    "    group = tree_loc.split('/')[-1].split('.')[0]\n",
    "    if type(monophyly_df.loc[group]['monophyletic_clade']) != str:\n",
    "        continue\n",
    "    for method in methods:\n",
    "        my_tree = Phylo.read(tree_loc.replace('.MPAJH', method), 'newick', rooted=True)\n",
    "        internals = [i.name for i in my_tree.get_nonterminals()]\n",
    "        assert monophyly_df.loc[group]['monophyletic_clade'] in internals\n",
    "        assert monophyly_df.loc[group]['other_clade'] in internals\n",
    "        if monophyly_df.loc[group]['monophyletic_clade'] in [clade.name for clade in my_tree.root.clades] \\\n",
    "        and monophyly_df.loc[group]['other_clade'] in [clade.name for clade in my_tree.root.clades]:\n",
    "            monophyly_df.set_value(group, '{}_success'.format(method), 1)\n",
    "        else:\n",
    "            monophyly_df.set_value(group, '{}_success'.format(method), 0)\n",
    "    trees_tested.append(tree_loc)\n",
    "\n"
   ]
  },
  {
   "cell_type": "code",
   "execution_count": 142,
   "metadata": {
    "collapsed": false
   },
   "outputs": [
    {
     "name": "stdout",
     "output_type": "stream",
     "text": [
      "10.0\n",
      "11.0\n",
      "11.0\n"
     ]
    }
   ],
   "source": [
    "for method in methods:\n",
    "    print(monophyly_df['{}_success'.format(method)].sum())"
   ]
  },
  {
   "cell_type": "code",
   "execution_count": 143,
   "metadata": {
    "collapsed": false
   },
   "outputs": [
    {
     "data": {
      "text/plain": [
       "18"
      ]
     },
     "execution_count": 143,
     "metadata": {},
     "output_type": "execute_result"
    }
   ],
   "source": [
    "len(trees_tested)"
   ]
  },
  {
   "cell_type": "code",
   "execution_count": null,
   "metadata": {
    "collapsed": false
   },
   "outputs": [],
   "source": []
  },
  {
   "cell_type": "code",
   "execution_count": null,
   "metadata": {
    "collapsed": true
   },
   "outputs": [],
   "source": []
  },
  {
   "cell_type": "code",
   "execution_count": 129,
   "metadata": {
    "collapsed": false
   },
   "outputs": [
    {
     "data": {
      "text/plain": [
       "(2.2272727272727271, 0.47052280311456685)"
      ]
     },
     "execution_count": 129,
     "metadata": {},
     "output_type": "execute_result"
    }
   ],
   "source": [
    "stats.fisher_exact([[7, 18-7], [4, 18-4]])"
   ]
  },
  {
   "cell_type": "code",
   "execution_count": null,
   "metadata": {
    "collapsed": true
   },
   "outputs": [],
   "source": []
  },
  {
   "cell_type": "markdown",
   "metadata": {},
   "source": [
    "**These little tests only make sense for non pruned trees. Would need to recalculate things for pruned trees**"
   ]
  },
  {
   "cell_type": "code",
   "execution_count": null,
   "metadata": {
    "collapsed": false
   },
   "outputs": [],
   "source": [
    "testy = monophyly_df[(monophyly_df['.MADAJH_success']==0) & (monophyly_df['.MPAJH_success']==1)]\n",
    "# testy['monophyletic_total_bl'] / (testy['total_tree_bl'])\n",
    "# testy['monophyletic_n'] / testy['total_n']\n",
    "(testy['monophyletic_total_bl']/testy['monophyletic_n']) / ((testy['total_tree_bl']-testy['root_bl'])/testy['total_n'])"
   ]
  },
  {
   "cell_type": "code",
   "execution_count": null,
   "metadata": {
    "collapsed": false
   },
   "outputs": [],
   "source": [
    "testy = monophyly_df[(monophyly_df['.MADAJH_success']==1) & (monophyly_df['.MPAJH_success']==0)]\n",
    "# testy['monophyletic_total_bl'] / (testy['total_tree_bl'])\n",
    "# testy['monophyletic_n'] / testy['total_n']\n",
    "(testy['monophyletic_total_bl']/testy['monophyletic_n']) / ((testy['total_tree_bl']-testy['root_bl'])/testy['total_n'])"
   ]
  },
  {
   "cell_type": "code",
   "execution_count": null,
   "metadata": {
    "collapsed": true
   },
   "outputs": [],
   "source": []
  },
  {
   "cell_type": "code",
   "execution_count": null,
   "metadata": {
    "collapsed": true
   },
   "outputs": [],
   "source": []
  },
  {
   "cell_type": "markdown",
   "metadata": {
    "collapsed": true
   },
   "source": [
    "**Directly comparing which methods outperform others**"
   ]
  },
  {
   "cell_type": "code",
   "execution_count": null,
   "metadata": {
    "collapsed": false
   },
   "outputs": [],
   "source": [
    "list(np.array(accuracy_dict['.MPAJH']) - np.array(accuracy_dict['.MADAJH'])).count(1),\\\n",
    "list(np.array(accuracy_dict['.MPAJH']) - np.array(accuracy_dict['.MADAJH'])).count(-1)"
   ]
  },
  {
   "cell_type": "code",
   "execution_count": null,
   "metadata": {
    "collapsed": false
   },
   "outputs": [],
   "source": [
    "list(np.array(accuracy_dict['.MLAJH']) - np.array(accuracy_dict['.MADAJH'])).count(1),\\\n",
    "list(np.array(accuracy_dict['.MLAJH']) - np.array(accuracy_dict['.MADAJH'])).count(-1)"
   ]
  },
  {
   "cell_type": "code",
   "execution_count": null,
   "metadata": {
    "collapsed": true
   },
   "outputs": [],
   "source": []
  },
  {
   "cell_type": "markdown",
   "metadata": {},
   "source": [
    "# Test variability/robustness in distance"
   ]
  },
  {
   "cell_type": "code",
   "execution_count": null,
   "metadata": {
    "collapsed": false,
    "scrolled": true
   },
   "outputs": [],
   "source": [
    "trees_dir = '../Data/raw_OMA_trees/*Rooted.MPAJH'\n",
    "# trees_dir = '../Data/pruned_OMA_trees/*Rooted.MPAJH'\n",
    "methods = ['.MPAJH', '.MLAJH', '.MADAJH']\n",
    "accuracy_dict = {}\n",
    "for method in methods:\n",
    "    accuracy_dict[method] = []\n",
    "\n",
    "trees_tested = []\n",
    "\n",
    "for tree_loc in glob.glob(trees_dir)[:]:\n",
    "    print(tree_loc)\n",
    "    test_tree = Phylo.read(tree_loc, 'newick', rooted=True)\n",
    "    testy = [term for term in test_tree.get_terminals() if\\\n",
    "                      term.name in metazoa]\n",
    "    valid = is_monophyletic_all(test_tree.root, test_tree, testy, False)\n",
    "    if valid == False:\n",
    "        continue\n",
    "        \n",
    "    trees_tested.append(tree_loc)\n",
    "    for method in methods:\n",
    "        my_tree = Phylo.read(tree_loc.replace('.MPAJH', method), 'newick', rooted=True)\n",
    "        metazoa_clades = [term for term in my_tree.get_terminals() if\\\n",
    "                          term.name in metazoa]\n",
    "        non_metazoa_clades = [term for term in my_tree.get_terminals() if\\\n",
    "                          term.name not in metazoa]\n",
    "\n",
    "        if set(metazoa_clades) == set(my_tree.root.clades[0].get_terminals()) or \\\n",
    "            set(metazoa_clades) == set(my_tree.root.clades[1].get_terminals()):\n",
    "            all_ca = my_tree.common_ancestor(non_metazoa_clades)\n",
    "            accuracy_dict[method].append(my_tree.distance(all_ca, my_tree.root))"
   ]
  },
  {
   "cell_type": "code",
   "execution_count": null,
   "metadata": {
    "collapsed": true
   },
   "outputs": [],
   "source": []
  },
  {
   "cell_type": "code",
   "execution_count": null,
   "metadata": {
    "collapsed": false
   },
   "outputs": [],
   "source": [
    "fig, ax = plt.subplots()\n",
    "ax.hist(accuracy_dict['.MPAJH'], alpha=0.2)\n",
    "# ax.hist(accuracy_dict['.MLAJH'], alpha=0.2)\n",
    "ax.hist(accuracy_dict['.MADAJH'], alpha=0.2)"
   ]
  },
  {
   "cell_type": "code",
   "execution_count": null,
   "metadata": {
    "collapsed": true
   },
   "outputs": [],
   "source": []
  },
  {
   "cell_type": "code",
   "execution_count": null,
   "metadata": {
    "collapsed": true
   },
   "outputs": [],
   "source": []
  },
  {
   "cell_type": "code",
   "execution_count": null,
   "metadata": {
    "collapsed": true
   },
   "outputs": [],
   "source": []
  },
  {
   "cell_type": "code",
   "execution_count": null,
   "metadata": {
    "collapsed": false
   },
   "outputs": [],
   "source": [
    "trees_dir = '../Data/euk_trees/*Rooted.MPAJH'\n",
    "ideal_species_n = 31\n",
    "\n",
    "# trees_dir = '../Data/pruned_euk_trees/*_9_meta.nwk.Rooted.MPAJH'\n",
    "# ideal_species_n = 22\n",
    "\n",
    "# trees_dir = '../Data/pruned_euk_trees/*_12_meta.nwk.Rooted.MPAJH'\n",
    "# ideal_species_n = 19\n",
    "\n",
    "\n",
    "# methods = ['.MPAJH', '.MLAJH']\n",
    "methods = ['.MPAJH', '.MLAJH', '.MADAJH']\n",
    "accuracy_dict = {}\n",
    "for method in methods:\n",
    "    accuracy_dict[method] = []\n",
    "\n",
    "trees_tested = []\n",
    "for tree_loc in glob.glob(trees_dir)[:50]:\n",
    "    print(tree_loc)\n",
    "    test_tree = Phylo.read(tree_loc, 'newick', rooted=True)\n",
    "    if len(test_tree.get_terminals()) != ideal_species_n:\n",
    "        continue\n",
    "    testy = [term for term in test_tree.get_terminals() if\\\n",
    "                      term.name in metazoa]\n",
    "    valid = is_monophyletic_all(test_tree.root, test_tree, testy, False)\n",
    "    if valid == False:\n",
    "        continue\n",
    "        \n",
    "    trees_tested.append(tree_loc)\n",
    "    for method in methods:\n",
    "        my_tree = Phylo.read(tree_loc.replace('.MPAJH', method), 'newick', rooted=True)\n",
    "        metazoa_clades = [term for term in my_tree.get_terminals() if\\\n",
    "                          term.name in metazoa]\n",
    "        non_metazoa_clades = [term for term in my_tree.get_terminals() if\\\n",
    "                          term.name not in metazoa]\n",
    "\n",
    "        if set(metazoa_clades) == set(my_tree.root.clades[0].get_terminals()) or \\\n",
    "            set(metazoa_clades) == set(my_tree.root.clades[1].get_terminals()):\n",
    "            all_ca = my_tree.common_ancestor(non_metazoa_clades)\n",
    "            initial_dist = my_tree.distance(all_ca, my_tree.root)\n",
    "        \n",
    "\n",
    "            pruned_tree_loc = tree_loc.replace('/euk_trees/', '/pruned_euk_trees/')\n",
    "            pruned_tree_loc = pruned_tree_loc.replace('.nwk.Rooted.MPAJH', '.pruned_9_meta.nwk.Rooted.MPAJH')\n",
    "            pruned_tree_loc = pruned_tree_loc.replace('.MPAJH', method)\n",
    "            pruned_tree = Phylo.read(pruned_tree_loc, 'newick', rooted=True)\n",
    "            metazoa_clades = [term for term in pruned_tree.get_terminals() if\\\n",
    "                          term.name in metazoa]\n",
    "            non_metazoa_clades = [term for term in pruned_tree.get_terminals() if\\\n",
    "                          term.name not in metazoa]\n",
    "\n",
    "            if set(metazoa_clades) == set(pruned_tree.root.clades[0].get_terminals()) or \\\n",
    "                set(metazoa_clades) == set(pruned_tree.root.clades[1].get_terminals()):\n",
    "                pruned_ca = pruned_tree.common_ancestor(non_metazoa_clades)\n",
    "                pruned_dist = pruned_tree.distance(pruned_ca, pruned_tree.root)\n",
    "#                 print(method, initial_dist, pruned_dist, initial_dist-pruned_dist)\n",
    "#                 print(method, initial_dist-pruned_dist)\n",
    "                accuracy_dict[method].append(initial_dist-pruned_dist)"
   ]
  },
  {
   "cell_type": "code",
   "execution_count": null,
   "metadata": {
    "collapsed": false
   },
   "outputs": [],
   "source": [
    "fig, ax = plt.subplots()\n",
    "# ax.hist(accuracy_dict['.MPAJH'], alpha=0.2)\n",
    "ax.hist(accuracy_dict['.MLAJH'], alpha=0.2)\n",
    "ax.hist(accuracy_dict['.MADAJH'], alpha=0.2)"
   ]
  },
  {
   "cell_type": "code",
   "execution_count": null,
   "metadata": {
    "collapsed": true
   },
   "outputs": [],
   "source": []
  },
  {
   "cell_type": "code",
   "execution_count": null,
   "metadata": {
    "collapsed": true
   },
   "outputs": [],
   "source": []
  }
 ],
 "metadata": {
  "kernelspec": {
   "display_name": "Python 3",
   "language": "python",
   "name": "python3"
  },
  "language_info": {
   "codemirror_mode": {
    "name": "ipython",
    "version": 3
   },
   "file_extension": ".py",
   "mimetype": "text/x-python",
   "name": "python",
   "nbconvert_exporter": "python",
   "pygments_lexer": "ipython3",
   "version": "3.4.5"
  },
  "toc": {
   "colors": {
    "hover_highlight": "#DAA520",
    "navigate_num": "#000000",
    "navigate_text": "#333333",
    "running_highlight": "#FF0000",
    "selected_highlight": "#FFD700",
    "sidebar_border": "#EEEEEE",
    "wrapper_background": "#FFFFFF"
   },
   "moveMenuLeft": true,
   "nav_menu": {
    "height": "48px",
    "width": "252px"
   },
   "navigate_menu": true,
   "number_sections": true,
   "sideBar": true,
   "threshold": 4,
   "toc_cell": false,
   "toc_section_display": "block",
   "toc_window_display": false,
   "widenNotebook": false
  }
 },
 "nbformat": 4,
 "nbformat_minor": 2
}

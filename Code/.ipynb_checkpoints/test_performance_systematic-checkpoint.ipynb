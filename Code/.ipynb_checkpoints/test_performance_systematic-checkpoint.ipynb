{
 "cells": [
  {
   "cell_type": "code",
   "execution_count": 1,
   "metadata": {
    "collapsed": true
   },
   "outputs": [],
   "source": [
    "%matplotlib inline\n",
    "%load_ext autoreload\n",
    "%autoreload 2"
   ]
  },
  {
   "cell_type": "code",
   "execution_count": 2,
   "metadata": {
    "collapsed": true
   },
   "outputs": [],
   "source": [
    "import glob\n",
    "from Bio import Phylo\n",
    "\n",
    "import numpy as np\n",
    "from matplotlib import pyplot as plt\n",
    "\n",
    "from scipy import stats"
   ]
  },
  {
   "cell_type": "code",
   "execution_count": null,
   "metadata": {
    "collapsed": true
   },
   "outputs": [],
   "source": []
  },
  {
   "cell_type": "markdown",
   "metadata": {},
   "source": [
    "# Testing first on the basic eukaryotic set"
   ]
  },
  {
   "cell_type": "code",
   "execution_count": 3,
   "metadata": {
    "collapsed": true
   },
   "outputs": [],
   "source": [
    "def is_monophyletic_all(hypothetical_root, tree, test_set, is_mono):\n",
    "    if tree.is_monophyletic(test_set):\n",
    "        is_mono = True\n",
    "    if len(hypothetical_root.clades) == 2:\n",
    "        l_clade, r_clade = hypothetical_root.clades\n",
    "        if l_clade.branch_length > 0:\n",
    "            tree.root_with_outgroup(l_clade, outgroup_branch_length=10e-10)\n",
    "            is_mono = is_monophyletic_all(l_clade, tree, test_set, is_mono)\n",
    "        if r_clade.branch_length > 0:\n",
    "            tree.root_with_outgroup(r_clade, outgroup_branch_length=10e-10)\n",
    "            is_mono = is_monophyletic_all(r_clade, tree, test_set, is_mono)\n",
    "    elif len(hypothetical_root.clades) == 1:\n",
    "        l_clade = hypothetical_root.clades[0]\n",
    "        if l_clade.branch_length > 0:\n",
    "            tree.root_with_outgroup(l_clade, outgroup_branch_length=10e-10)\n",
    "            is_mono = is_monophyletic_all(l_clade, tree, test_set, is_mono)\n",
    "    elif len(hypothetical_root.clades) == 0:\n",
    "        return is_mono\n",
    "    return is_mono\n",
    "\n",
    "# tree.get_terminals()\n",
    "# tree.is_monophyletic(metazoa)\n",
    "# tree = Phylo.read('../test.ete3.newick', 'newick', rooted=False)\n",
    "# tree = mp_root_adhock(tree)\n",
    "# tree.is_monophyletic([term for term in tree.get_terminals() if\\\n",
    "#                       term.name in ['7165', '7425', '7460', '121225', '7227', '6239']])"
   ]
  },
  {
   "cell_type": "code",
   "execution_count": null,
   "metadata": {
    "collapsed": false
   },
   "outputs": [],
   "source": [
    "trees_dir = '../Data/raw_OMA_trees/*Rooted.MPAJH'\n",
    "methods = ['.MPAJH', '.MLAJH', '.MADAJH']\n",
    "accuracy_dict = {}\n",
    "for method in methods:\n",
    "    accuracy_dict[method] = []\n",
    "\n",
    "trees_tested = []\n",
    "\n",
    "for tree_loc in glob.glob(trees_dir)[:500]:\n",
    "    print(tree_loc)\n",
    "    test_tree = Phylo.read(tree_loc, 'newick', rooted=True)\n",
    "    if len(test_tree.get_terminals()) != ideal_species_n:\n",
    "        continue\n",
    "    testy = [term for term in test_tree.get_terminals() if\\\n",
    "                      term.name in metazoa]\n",
    "    valid = is_monophyletic_all(test_tree.root, test_tree, testy, False)\n",
    "    if valid == False:\n",
    "        continue\n",
    "        \n",
    "    trees_tested.append(tree_loc)\n",
    "    for method in methods:\n",
    "        my_tree = Phylo.read(tree_loc.replace('.MPAJH', method), 'newick', rooted=True)\n",
    "        metazoa_clades = [term for term in my_tree.get_terminals() if\\\n",
    "                          term.name in metazoa]\n",
    "        if set(metazoa_clades) == set(my_tree.root.clades[0].get_terminals()) or \\\n",
    "            set(metazoa_clades) == set(my_tree.root.clades[1].get_terminals()):\n",
    "            accuracy_dict[method].append(1)\n",
    "        else:\n",
    "            accuracy_dict[method].append(0)\n",
    "        \n",
    "    ###ML\n",
    "#     ml_tree = Phylo.read(tree_loc.replace('.MPAJH', '.MLAJH'), 'newick', rooted=True)\n",
    "#     metazoa_clades = [term for term in ml_tree.get_terminals() if\\\n",
    "#                       term.name in metazoa]\n",
    "#     if set(metazoa_clades) == set(ml_tree.root.clades[0].get_terminals()) or \\\n",
    "#         set(metazoa_clades) == set(ml_tree.root.clades[1].get_terminals()):\n",
    "#         print('ML correct!')\n",
    "            \n",
    "#     ###ML        \n",
    "#     ml_tree = max_likelihood_root(tree)\n",
    "#     if set(testy) == set(ml_tree.root.clades[0].get_terminals()) or \\\n",
    "#         set(testy) == set(ml_tree.root.clades[1].get_terminals()):\n",
    "#             ml_success_rate += 1\n",
    "#     ###MAD\n",
    "#     testy = [term for term in mad_tree.get_terminals() if\\\n",
    "#                   term.name in metazoa]\n",
    "#     if set(testy) == set(mad_tree.root.clades[0].get_terminals()) or \\\n",
    "#         set(testy) == set(mad_tree.root.clades[1].get_terminals()):\n",
    "#             mad_success_rate += 1\n",
    "    "
   ]
  },
  {
   "cell_type": "code",
   "execution_count": null,
   "metadata": {
    "collapsed": false
   },
   "outputs": [],
   "source": [
    "np.sum(accuracy_dict['.MPAJH']), np.sum(accuracy_dict['.MLAJH']), np.sum(accuracy_dict['.MADAJH'])"
   ]
  },
  {
   "cell_type": "code",
   "execution_count": null,
   "metadata": {
    "collapsed": false
   },
   "outputs": [],
   "source": [
    "len(trees_tested)"
   ]
  },
  {
   "cell_type": "code",
   "execution_count": null,
   "metadata": {
    "collapsed": false
   },
   "outputs": [],
   "source": [
    "np.array([np.sum(accuracy_dict['.MPAJH']),\\\n",
    "         np.sum(accuracy_dict['.MLAJH']),\\\n",
    "         np.sum(accuracy_dict['.MADAJH'])])/len(trees_tested)"
   ]
  },
  {
   "cell_type": "code",
   "execution_count": null,
   "metadata": {
    "collapsed": false
   },
   "outputs": [],
   "source": [
    "success = []\n",
    "failure = []\n",
    "for i, tree_loc in enumerate(trees_tested):  \n",
    "    if accuracy_dict['.MADAJH'][i] == 1 and accuracy_dict['.MPAJH'][i] == 0:\n",
    "        mad_tree = Phylo.read(tree_loc.replace('.MPAJH', '.MADAJH'), 'newick', rooted=True)\n",
    "        temp_bl = mad_tree.root.clades[0].branch_length + mad_tree.root.clades[1].branch_length\n",
    "        smallest = min(mad_tree.root.clades[0].total_branch_length()-mad_tree.root.clades[0].branch_length,\\\n",
    "                       mad_tree.root.clades[1].total_branch_length()-mad_tree.root.clades[1].branch_length)\n",
    "        success.append(smallest/(mad_tree.total_branch_length()-temp_bl))\n",
    "    \n",
    "    elif accuracy_dict['.MADAJH'][i] == 0 and accuracy_dict['.MPAJH'][i] == 1:\n",
    "        mp_tree = Phylo.read(tree_loc.replace('.MPAJH', '.MPAJH'), 'newick', rooted=True)\n",
    "        temp_bl = mp_tree.root.clades[0].branch_length + mp_tree.root.clades[1].branch_length\n",
    "        smallest = min(mp_tree.root.clades[0].total_branch_length()-mp_tree.root.clades[0].branch_length,\\\n",
    "                       mp_tree.root.clades[1].total_branch_length()-mp_tree.root.clades[1].branch_length)\n",
    "        failure.append(smallest/(mp_tree.total_branch_length()-temp_bl))\n",
    "        \n"
   ]
  },
  {
   "cell_type": "code",
   "execution_count": null,
   "metadata": {
    "collapsed": false
   },
   "outputs": [],
   "source": [
    "np.mean(success)"
   ]
  },
  {
   "cell_type": "code",
   "execution_count": null,
   "metadata": {
    "collapsed": false
   },
   "outputs": [],
   "source": [
    "np.mean(failure)"
   ]
  },
  {
   "cell_type": "code",
   "execution_count": null,
   "metadata": {
    "collapsed": false
   },
   "outputs": [],
   "source": [
    "fig, ax = plt.subplots()\n",
    "ax.hist(success, alpha=0.5)\n",
    "ax.hist(failure, alpha=0.5)\n"
   ]
  },
  {
   "cell_type": "code",
   "execution_count": null,
   "metadata": {
    "collapsed": false
   },
   "outputs": [],
   "source": [
    "stats.ranksums(failure, success)"
   ]
  },
  {
   "cell_type": "code",
   "execution_count": null,
   "metadata": {
    "collapsed": false
   },
   "outputs": [],
   "source": [
    "stats.ttest_ind(failure, success, equal_var=False)"
   ]
  },
  {
   "cell_type": "code",
   "execution_count": null,
   "metadata": {
    "collapsed": true
   },
   "outputs": [],
   "source": []
  },
  {
   "cell_type": "code",
   "execution_count": null,
   "metadata": {
    "collapsed": true
   },
   "outputs": [],
   "source": []
  },
  {
   "cell_type": "code",
   "execution_count": null,
   "metadata": {
    "collapsed": true
   },
   "outputs": [],
   "source": []
  },
  {
   "cell_type": "code",
   "execution_count": null,
   "metadata": {
    "collapsed": true
   },
   "outputs": [],
   "source": []
  },
  {
   "cell_type": "markdown",
   "metadata": {},
   "source": [
    "# Test variability/robustness in distance"
   ]
  },
  {
   "cell_type": "code",
   "execution_count": null,
   "metadata": {
    "collapsed": false,
    "scrolled": true
   },
   "outputs": [],
   "source": [
    "trees_dir = '../Data/euk_trees/*Rooted.MPAJH'\n",
    "ideal_species_n = 31\n",
    "\n",
    "# trees_dir = '../Data/pruned_euk_trees/*_9_meta.nwk.Rooted.MPAJH'\n",
    "# ideal_species_n = 22\n",
    "\n",
    "# trees_dir = '../Data/pruned_euk_trees/*_12_meta.nwk.Rooted.MPAJH'\n",
    "# ideal_species_n = 19\n",
    "\n",
    "\n",
    "# methods = ['.MPAJH', '.MLAJH']\n",
    "methods = ['.MPAJH', '.MLAJH', '.MADAJH']\n",
    "accuracy_dict = {}\n",
    "for method in methods:\n",
    "    accuracy_dict[method] = []\n",
    "\n",
    "trees_tested = []\n",
    "for tree_loc in glob.glob(trees_dir)[:]:\n",
    "    print(tree_loc)\n",
    "    test_tree = Phylo.read(tree_loc, 'newick', rooted=True)\n",
    "    if len(test_tree.get_terminals()) != ideal_species_n:\n",
    "        continue\n",
    "    testy = [term for term in test_tree.get_terminals() if\\\n",
    "                      term.name in metazoa]\n",
    "    valid = is_monophyletic_all(test_tree.root, test_tree, testy, False)\n",
    "    if valid == False:\n",
    "        continue\n",
    "        \n",
    "    trees_tested.append(tree_loc)\n",
    "    for method in methods:\n",
    "        my_tree = Phylo.read(tree_loc.replace('.MPAJH', method), 'newick', rooted=True)\n",
    "        metazoa_clades = [term for term in my_tree.get_terminals() if\\\n",
    "                          term.name in metazoa]\n",
    "        non_metazoa_clades = [term for term in my_tree.get_terminals() if\\\n",
    "                          term.name not in metazoa]\n",
    "\n",
    "        if set(metazoa_clades) == set(my_tree.root.clades[0].get_terminals()) or \\\n",
    "            set(metazoa_clades) == set(my_tree.root.clades[1].get_terminals()):\n",
    "            all_ca = my_tree.common_ancestor(non_metazoa_clades)\n",
    "            accuracy_dict[method].append(my_tree.distance(all_ca, my_tree.root))"
   ]
  },
  {
   "cell_type": "code",
   "execution_count": null,
   "metadata": {
    "collapsed": true
   },
   "outputs": [],
   "source": []
  },
  {
   "cell_type": "code",
   "execution_count": null,
   "metadata": {
    "collapsed": false
   },
   "outputs": [],
   "source": [
    "fig, ax = plt.subplots()\n",
    "ax.hist(accuracy_dict['.MPAJH'], alpha=0.2)\n",
    "# ax.hist(accuracy_dict['.MLAJH'], alpha=0.2)\n",
    "ax.hist(accuracy_dict['.MADAJH'], alpha=0.2)"
   ]
  },
  {
   "cell_type": "code",
   "execution_count": null,
   "metadata": {
    "collapsed": true
   },
   "outputs": [],
   "source": []
  },
  {
   "cell_type": "code",
   "execution_count": null,
   "metadata": {
    "collapsed": true
   },
   "outputs": [],
   "source": []
  },
  {
   "cell_type": "code",
   "execution_count": null,
   "metadata": {
    "collapsed": true
   },
   "outputs": [],
   "source": []
  },
  {
   "cell_type": "code",
   "execution_count": null,
   "metadata": {
    "collapsed": false
   },
   "outputs": [],
   "source": [
    "trees_dir = '../Data/euk_trees/*Rooted.MPAJH'\n",
    "ideal_species_n = 31\n",
    "\n",
    "# trees_dir = '../Data/pruned_euk_trees/*_9_meta.nwk.Rooted.MPAJH'\n",
    "# ideal_species_n = 22\n",
    "\n",
    "# trees_dir = '../Data/pruned_euk_trees/*_12_meta.nwk.Rooted.MPAJH'\n",
    "# ideal_species_n = 19\n",
    "\n",
    "\n",
    "# methods = ['.MPAJH', '.MLAJH']\n",
    "methods = ['.MPAJH', '.MLAJH', '.MADAJH']\n",
    "accuracy_dict = {}\n",
    "for method in methods:\n",
    "    accuracy_dict[method] = []\n",
    "\n",
    "trees_tested = []\n",
    "for tree_loc in glob.glob(trees_dir)[:50]:\n",
    "    print(tree_loc)\n",
    "    test_tree = Phylo.read(tree_loc, 'newick', rooted=True)\n",
    "    if len(test_tree.get_terminals()) != ideal_species_n:\n",
    "        continue\n",
    "    testy = [term for term in test_tree.get_terminals() if\\\n",
    "                      term.name in metazoa]\n",
    "    valid = is_monophyletic_all(test_tree.root, test_tree, testy, False)\n",
    "    if valid == False:\n",
    "        continue\n",
    "        \n",
    "    trees_tested.append(tree_loc)\n",
    "    for method in methods:\n",
    "        my_tree = Phylo.read(tree_loc.replace('.MPAJH', method), 'newick', rooted=True)\n",
    "        metazoa_clades = [term for term in my_tree.get_terminals() if\\\n",
    "                          term.name in metazoa]\n",
    "        non_metazoa_clades = [term for term in my_tree.get_terminals() if\\\n",
    "                          term.name not in metazoa]\n",
    "\n",
    "        if set(metazoa_clades) == set(my_tree.root.clades[0].get_terminals()) or \\\n",
    "            set(metazoa_clades) == set(my_tree.root.clades[1].get_terminals()):\n",
    "            all_ca = my_tree.common_ancestor(non_metazoa_clades)\n",
    "            initial_dist = my_tree.distance(all_ca, my_tree.root)\n",
    "        \n",
    "\n",
    "            pruned_tree_loc = tree_loc.replace('/euk_trees/', '/pruned_euk_trees/')\n",
    "            pruned_tree_loc = pruned_tree_loc.replace('.nwk.Rooted.MPAJH', '.pruned_9_meta.nwk.Rooted.MPAJH')\n",
    "            pruned_tree_loc = pruned_tree_loc.replace('.MPAJH', method)\n",
    "            pruned_tree = Phylo.read(pruned_tree_loc, 'newick', rooted=True)\n",
    "            metazoa_clades = [term for term in pruned_tree.get_terminals() if\\\n",
    "                          term.name in metazoa]\n",
    "            non_metazoa_clades = [term for term in pruned_tree.get_terminals() if\\\n",
    "                          term.name not in metazoa]\n",
    "\n",
    "            if set(metazoa_clades) == set(pruned_tree.root.clades[0].get_terminals()) or \\\n",
    "                set(metazoa_clades) == set(pruned_tree.root.clades[1].get_terminals()):\n",
    "                pruned_ca = pruned_tree.common_ancestor(non_metazoa_clades)\n",
    "                pruned_dist = pruned_tree.distance(pruned_ca, pruned_tree.root)\n",
    "#                 print(method, initial_dist, pruned_dist, initial_dist-pruned_dist)\n",
    "#                 print(method, initial_dist-pruned_dist)\n",
    "                accuracy_dict[method].append(initial_dist-pruned_dist)"
   ]
  },
  {
   "cell_type": "code",
   "execution_count": null,
   "metadata": {
    "collapsed": false
   },
   "outputs": [],
   "source": [
    "fig, ax = plt.subplots()\n",
    "# ax.hist(accuracy_dict['.MPAJH'], alpha=0.2)\n",
    "ax.hist(accuracy_dict['.MLAJH'], alpha=0.2)\n",
    "ax.hist(accuracy_dict['.MADAJH'], alpha=0.2)"
   ]
  },
  {
   "cell_type": "code",
   "execution_count": null,
   "metadata": {
    "collapsed": true
   },
   "outputs": [],
   "source": []
  },
  {
   "cell_type": "code",
   "execution_count": null,
   "metadata": {
    "collapsed": true
   },
   "outputs": [],
   "source": []
  }
 ],
 "metadata": {
  "kernelspec": {
   "display_name": "Python 3",
   "language": "python",
   "name": "python3"
  },
  "language_info": {
   "codemirror_mode": {
    "name": "ipython",
    "version": 3
   },
   "file_extension": ".py",
   "mimetype": "text/x-python",
   "name": "python",
   "nbconvert_exporter": "python",
   "pygments_lexer": "ipython3",
   "version": "3.4.5"
  },
  "toc": {
   "colors": {
    "hover_highlight": "#DAA520",
    "navigate_num": "#000000",
    "navigate_text": "#333333",
    "running_highlight": "#FF0000",
    "selected_highlight": "#FFD700",
    "sidebar_border": "#EEEEEE",
    "wrapper_background": "#FFFFFF"
   },
   "moveMenuLeft": true,
   "nav_menu": {
    "height": "48px",
    "width": "252px"
   },
   "navigate_menu": true,
   "number_sections": true,
   "sideBar": true,
   "threshold": 4,
   "toc_cell": false,
   "toc_section_display": "block",
   "toc_window_display": false,
   "widenNotebook": false
  }
 },
 "nbformat": 4,
 "nbformat_minor": 2
}

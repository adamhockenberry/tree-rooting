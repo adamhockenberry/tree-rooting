{
 "cells": [
  {
   "cell_type": "code",
   "execution_count": 1,
   "metadata": {
    "collapsed": true
   },
   "outputs": [],
   "source": [
    "%matplotlib inline\n",
    "%load_ext autoreload\n",
    "%autoreload 2"
   ]
  },
  {
   "cell_type": "code",
   "execution_count": 41,
   "metadata": {
    "collapsed": true
   },
   "outputs": [],
   "source": [
    "import glob\n",
    "from Bio import Phylo\n",
    "\n",
    "import numpy as np\n",
    "from matplotlib import pyplot as plt"
   ]
  },
  {
   "cell_type": "code",
   "execution_count": null,
   "metadata": {
    "collapsed": true
   },
   "outputs": [],
   "source": []
  },
  {
   "cell_type": "markdown",
   "metadata": {},
   "source": [
    "# Testing first on the basic eukaryotic set"
   ]
  },
  {
   "cell_type": "code",
   "execution_count": 3,
   "metadata": {
    "collapsed": true
   },
   "outputs": [],
   "source": [
    "def is_monophyletic_all(hypothetical_root, tree, test_set, is_mono):\n",
    "    if tree.is_monophyletic(test_set):\n",
    "        is_mono = True\n",
    "    if len(hypothetical_root.clades) == 2:\n",
    "        l_clade, r_clade = hypothetical_root.clades\n",
    "        if l_clade.branch_length > 0:\n",
    "            tree.root_with_outgroup(l_clade, outgroup_branch_length=10e-10)\n",
    "            is_mono = is_monophyletic_all(l_clade, tree, test_set, is_mono)\n",
    "        if r_clade.branch_length > 0:\n",
    "            tree.root_with_outgroup(r_clade, outgroup_branch_length=10e-10)\n",
    "            is_mono = is_monophyletic_all(r_clade, tree, test_set, is_mono)\n",
    "    elif len(hypothetical_root.clades) == 1:\n",
    "        l_clade = hypothetical_root.clades[0]\n",
    "        if l_clade.branch_length > 0:\n",
    "            tree.root_with_outgroup(l_clade, outgroup_branch_length=10e-10)\n",
    "            is_mono = is_monophyletic_all(l_clade, tree, test_set, is_mono)\n",
    "    elif len(hypothetical_root.clades) == 0:\n",
    "        return is_mono\n",
    "    return is_mono\n",
    "\n",
    "# tree.get_terminals()\n",
    "# tree.is_monophyletic(metazoa)\n",
    "# tree = Phylo.read('../test.ete3.newick', 'newick', rooted=False)\n",
    "# tree = mp_root_adhock(tree)\n",
    "# tree.is_monophyletic([term for term in tree.get_terminals() if\\\n",
    "#                       term.name in ['7165', '7425', '7460', '121225', '7227', '6239']])"
   ]
  },
  {
   "cell_type": "code",
   "execution_count": 4,
   "metadata": {
    "collapsed": false
   },
   "outputs": [
    {
     "name": "stdout",
     "output_type": "stream",
     "text": [
      "41\n",
      "41\n"
     ]
    }
   ],
   "source": [
    "id_species_dict = {}\n",
    "with open('../Tria_et_al_data/eukaryotes/ID_to_Species.txt', 'r') as infile:\n",
    "    texty = infile.readlines()\n",
    "    for line in texty[1:]:\n",
    "        sl = line.split('\\t')\n",
    "        id_species_dict[sl[0]] = sl[1]\n",
    "print(len(id_species_dict.keys()))\n",
    "\n",
    "species_seqid_dict = {}\n",
    "with open('../Tria_et_al_data/eukaryotes/cluster_to_seqid.txt', 'r') as infile:\n",
    "    texty = infile.readlines()\n",
    "    for line in texty:\n",
    "        sl = line.split('\\t')\n",
    "        if sl[0] == 'KOG0725':\n",
    "            species_seqid_dict[sl[1]] = sl[2].strip()\n",
    "print(len(species_seqid_dict.keys()))"
   ]
  },
  {
   "cell_type": "code",
   "execution_count": 5,
   "metadata": {
    "collapsed": true
   },
   "outputs": [],
   "source": [
    "metazoa = ['10090', '121225', '9606', '30611', '8364', '7955', '8128', '8090',\\\n",
    "          '7668', '7460', '7425', '7227', '7165', '6239']"
   ]
  },
  {
   "cell_type": "code",
   "execution_count": 105,
   "metadata": {
    "collapsed": false
   },
   "outputs": [
    {
     "name": "stdout",
     "output_type": "stream",
     "text": [
      "../Data/pruned_euk_trees/KOG2231.faa.aln.pruned_12_meta.nwk.Rooted.MPAJH\n",
      "../Data/pruned_euk_trees/KOG3767.faa.aln.pruned_12_meta.nwk.Rooted.MPAJH\n",
      "../Data/pruned_euk_trees/KOG1822.faa.aln.pruned_12_meta.nwk.Rooted.MPAJH\n",
      "../Data/pruned_euk_trees/KOG1191.faa.aln.pruned_12_meta.nwk.Rooted.MPAJH\n",
      "../Data/pruned_euk_trees/KOG2270.faa.aln.pruned_12_meta.nwk.Rooted.MPAJH\n",
      "../Data/pruned_euk_trees/KOG0925.faa.aln.pruned_12_meta.nwk.Rooted.MPAJH\n",
      "../Data/pruned_euk_trees/KOG1443.faa.aln.pruned_12_meta.nwk.Rooted.MPAJH\n",
      "../Data/pruned_euk_trees/KOG1863.faa.aln.pruned_12_meta.nwk.Rooted.MPAJH\n",
      "../Data/pruned_euk_trees/KOG0014.faa.aln.pruned_12_meta.nwk.Rooted.MPAJH\n",
      "../Data/pruned_euk_trees/KOG2698.faa.aln.pruned_12_meta.nwk.Rooted.MPAJH\n",
      "../Data/pruned_euk_trees/KOG2330.faa.aln.pruned_12_meta.nwk.Rooted.MPAJH\n",
      "../Data/pruned_euk_trees/KOG1128.faa.aln.pruned_12_meta.nwk.Rooted.MPAJH\n",
      "../Data/pruned_euk_trees/KOG1113.faa.aln.pruned_12_meta.nwk.Rooted.MPAJH\n",
      "../Data/pruned_euk_trees/KOG2929.faa.aln.pruned_12_meta.nwk.Rooted.MPAJH\n",
      "../Data/pruned_euk_trees/KOG0385.faa.aln.pruned_12_meta.nwk.Rooted.MPAJH\n",
      "../Data/pruned_euk_trees/KOG1711.faa.aln.pruned_12_meta.nwk.Rooted.MPAJH\n",
      "../Data/pruned_euk_trees/KOG2509.faa.aln.pruned_12_meta.nwk.Rooted.MPAJH\n",
      "../Data/pruned_euk_trees/KOG1692.faa.aln.pruned_12_meta.nwk.Rooted.MPAJH\n",
      "../Data/pruned_euk_trees/KOG2968.faa.aln.pruned_12_meta.nwk.Rooted.MPAJH\n",
      "../Data/pruned_euk_trees/KOG0616.faa.aln.pruned_12_meta.nwk.Rooted.MPAJH\n",
      "../Data/pruned_euk_trees/KOG1282.faa.aln.pruned_12_meta.nwk.Rooted.MPAJH\n",
      "../Data/pruned_euk_trees/KOG0206.faa.aln.pruned_12_meta.nwk.Rooted.MPAJH\n",
      "../Data/pruned_euk_trees/KOG1241.faa.aln.pruned_12_meta.nwk.Rooted.MPAJH\n",
      "../Data/pruned_euk_trees/KOG2472.faa.aln.pruned_12_meta.nwk.Rooted.MPAJH\n",
      "../Data/pruned_euk_trees/KOG1793.faa.aln.pruned_12_meta.nwk.Rooted.MPAJH\n",
      "../Data/pruned_euk_trees/KOG3124.faa.aln.pruned_12_meta.nwk.Rooted.MPAJH\n",
      "../Data/pruned_euk_trees/KOG1651.faa.aln.pruned_12_meta.nwk.Rooted.MPAJH\n",
      "../Data/pruned_euk_trees/KOG0307.faa.aln.pruned_12_meta.nwk.Rooted.MPAJH\n",
      "../Data/pruned_euk_trees/KOG2062.faa.aln.pruned_12_meta.nwk.Rooted.MPAJH\n",
      "../Data/pruned_euk_trees/KOG3165.faa.aln.pruned_12_meta.nwk.Rooted.MPAJH\n",
      "../Data/pruned_euk_trees/KOG0284.faa.aln.pruned_12_meta.nwk.Rooted.MPAJH\n",
      "../Data/pruned_euk_trees/KOG0346.faa.aln.pruned_12_meta.nwk.Rooted.MPAJH\n",
      "../Data/pruned_euk_trees/KOG2407.faa.aln.pruned_12_meta.nwk.Rooted.MPAJH\n",
      "../Data/pruned_euk_trees/KOG1234.faa.aln.pruned_12_meta.nwk.Rooted.MPAJH\n",
      "../Data/pruned_euk_trees/KOG2017.faa.aln.pruned_12_meta.nwk.Rooted.MPAJH\n",
      "../Data/pruned_euk_trees/KOG4035.faa.aln.pruned_12_meta.nwk.Rooted.MPAJH\n",
      "../Data/pruned_euk_trees/KOG0308.faa.aln.pruned_12_meta.nwk.Rooted.MPAJH\n",
      "../Data/pruned_euk_trees/KOG2866.faa.aln.pruned_12_meta.nwk.Rooted.MPAJH\n",
      "../Data/pruned_euk_trees/KOG0333.faa.aln.pruned_12_meta.nwk.Rooted.MPAJH\n",
      "../Data/pruned_euk_trees/KOG2056.faa.aln.pruned_12_meta.nwk.Rooted.MPAJH\n",
      "../Data/pruned_euk_trees/KOG1374.faa.aln.pruned_12_meta.nwk.Rooted.MPAJH\n",
      "../Data/pruned_euk_trees/KOG2157.faa.aln.pruned_12_meta.nwk.Rooted.MPAJH\n",
      "../Data/pruned_euk_trees/KOG0658.faa.aln.pruned_12_meta.nwk.Rooted.MPAJH\n",
      "../Data/pruned_euk_trees/KOG0061.faa.aln.pruned_12_meta.nwk.Rooted.MPAJH\n",
      "../Data/pruned_euk_trees/KOG3790.faa.aln.pruned_12_meta.nwk.Rooted.MPAJH\n",
      "../Data/pruned_euk_trees/KOG0810.faa.aln.pruned_12_meta.nwk.Rooted.MPAJH\n",
      "../Data/pruned_euk_trees/KOG3613.faa.aln.pruned_12_meta.nwk.Rooted.MPAJH\n",
      "../Data/pruned_euk_trees/KOG1166.faa.aln.pruned_12_meta.nwk.Rooted.MPAJH\n",
      "../Data/pruned_euk_trees/KOG1956.faa.aln.pruned_12_meta.nwk.Rooted.MPAJH\n",
      "../Data/pruned_euk_trees/KOG3712.faa.aln.pruned_12_meta.nwk.Rooted.MPAJH\n",
      "../Data/pruned_euk_trees/KOG0911.faa.aln.pruned_12_meta.nwk.Rooted.MPAJH\n",
      "../Data/pruned_euk_trees/KOG1477.faa.aln.pruned_12_meta.nwk.Rooted.MPAJH\n",
      "../Data/pruned_euk_trees/KOG0121.faa.aln.pruned_12_meta.nwk.Rooted.MPAJH\n",
      "../Data/pruned_euk_trees/KOG2654.faa.aln.pruned_12_meta.nwk.Rooted.MPAJH\n",
      "../Data/pruned_euk_trees/KOG0531.faa.aln.pruned_12_meta.nwk.Rooted.MPAJH\n",
      "../Data/pruned_euk_trees/KOG2386.faa.aln.pruned_12_meta.nwk.Rooted.MPAJH\n",
      "../Data/pruned_euk_trees/KOG1436.faa.aln.pruned_12_meta.nwk.Rooted.MPAJH\n",
      "../Data/pruned_euk_trees/KOG3691.faa.aln.pruned_12_meta.nwk.Rooted.MPAJH\n",
      "../Data/pruned_euk_trees/KOG3343.faa.aln.pruned_12_meta.nwk.Rooted.MPAJH\n",
      "../Data/pruned_euk_trees/KOG1860.faa.aln.pruned_12_meta.nwk.Rooted.MPAJH\n",
      "../Data/pruned_euk_trees/KOG2248.faa.aln.pruned_12_meta.nwk.Rooted.MPAJH\n",
      "../Data/pruned_euk_trees/KOG0116.faa.aln.pruned_12_meta.nwk.Rooted.MPAJH\n",
      "../Data/pruned_euk_trees/KOG0547.faa.aln.pruned_12_meta.nwk.Rooted.MPAJH\n",
      "../Data/pruned_euk_trees/KOG0967.faa.aln.pruned_12_meta.nwk.Rooted.MPAJH\n",
      "../Data/pruned_euk_trees/KOG3275.faa.aln.pruned_12_meta.nwk.Rooted.MPAJH\n",
      "../Data/pruned_euk_trees/KOG1920.faa.aln.pruned_12_meta.nwk.Rooted.MPAJH\n",
      "../Data/pruned_euk_trees/KOG0446.faa.aln.pruned_12_meta.nwk.Rooted.MPAJH\n",
      "../Data/pruned_euk_trees/KOG2762.faa.aln.pruned_12_meta.nwk.Rooted.MPAJH\n",
      "../Data/pruned_euk_trees/KOG2759.faa.aln.pruned_12_meta.nwk.Rooted.MPAJH\n",
      "../Data/pruned_euk_trees/KOG2372.faa.aln.pruned_12_meta.nwk.Rooted.MPAJH\n",
      "../Data/pruned_euk_trees/KOG1281.faa.aln.pruned_12_meta.nwk.Rooted.MPAJH\n",
      "../Data/pruned_euk_trees/KOG1753.faa.aln.pruned_12_meta.nwk.Rooted.MPAJH\n",
      "../Data/pruned_euk_trees/KOG2950.faa.aln.pruned_12_meta.nwk.Rooted.MPAJH\n",
      "../Data/pruned_euk_trees/KOG2570.faa.aln.pruned_12_meta.nwk.Rooted.MPAJH\n",
      "../Data/pruned_euk_trees/KOG0615.faa.aln.pruned_12_meta.nwk.Rooted.MPAJH\n",
      "../Data/pruned_euk_trees/KOG1343.faa.aln.pruned_12_meta.nwk.Rooted.MPAJH\n",
      "../Data/pruned_euk_trees/KOG2911.faa.aln.pruned_12_meta.nwk.Rooted.MPAJH\n",
      "../Data/pruned_euk_trees/KOG2121.faa.aln.pruned_12_meta.nwk.Rooted.MPAJH\n",
      "../Data/pruned_euk_trees/KOG4103.faa.aln.pruned_12_meta.nwk.Rooted.MPAJH\n",
      "../Data/pruned_euk_trees/KOG0796.faa.aln.pruned_12_meta.nwk.Rooted.MPAJH\n",
      "../Data/pruned_euk_trees/KOG1302.faa.aln.pruned_12_meta.nwk.Rooted.MPAJH\n",
      "../Data/pruned_euk_trees/KOG0697.faa.aln.pruned_12_meta.nwk.Rooted.MPAJH\n",
      "../Data/pruned_euk_trees/KOG2020.faa.aln.pruned_12_meta.nwk.Rooted.MPAJH\n",
      "../Data/pruned_euk_trees/KOG4002.faa.aln.pruned_12_meta.nwk.Rooted.MPAJH\n",
      "../Data/pruned_euk_trees/KOG0345.faa.aln.pruned_12_meta.nwk.Rooted.MPAJH\n",
      "../Data/pruned_euk_trees/KOG1628.faa.aln.pruned_12_meta.nwk.Rooted.MPAJH\n",
      "../Data/pruned_euk_trees/KOG0304.faa.aln.pruned_12_meta.nwk.Rooted.MPAJH\n",
      "../Data/pruned_euk_trees/KOG2198.faa.aln.pruned_12_meta.nwk.Rooted.MPAJH\n",
      "../Data/pruned_euk_trees/KOG1652.faa.aln.pruned_12_meta.nwk.Rooted.MPAJH\n",
      "../Data/pruned_euk_trees/KOG1380.faa.aln.pruned_12_meta.nwk.Rooted.MPAJH\n",
      "../Data/pruned_euk_trees/KOG0714.faa.aln.pruned_12_meta.nwk.Rooted.MPAJH\n",
      "../Data/pruned_euk_trees/KOG3127.faa.aln.pruned_12_meta.nwk.Rooted.MPAJH\n",
      "../Data/pruned_euk_trees/KOG1666.faa.aln.pruned_12_meta.nwk.Rooted.MPAJH\n",
      "../Data/pruned_euk_trees/KOG4077.faa.aln.pruned_12_meta.nwk.Rooted.MPAJH\n",
      "../Data/pruned_euk_trees/KOG2055.faa.aln.pruned_12_meta.nwk.Rooted.MPAJH\n",
      "../Data/pruned_euk_trees/KOG2197.faa.aln.pruned_12_meta.nwk.Rooted.MPAJH\n",
      "../Data/pruned_euk_trees/KOG3169.faa.aln.pruned_12_meta.nwk.Rooted.MPAJH\n",
      "../Data/pruned_euk_trees/KOG0371.faa.aln.pruned_12_meta.nwk.Rooted.MPAJH\n",
      "../Data/pruned_euk_trees/KOG0698.faa.aln.pruned_12_meta.nwk.Rooted.MPAJH\n",
      "../Data/pruned_euk_trees/KOG0761.faa.aln.pruned_12_meta.nwk.Rooted.MPAJH\n",
      "../Data/pruned_euk_trees/KOG3480.faa.aln.pruned_12_meta.nwk.Rooted.MPAJH\n",
      "../Data/pruned_euk_trees/KOG1237.faa.aln.pruned_12_meta.nwk.Rooted.MPAJH\n",
      "../Data/pruned_euk_trees/KOG0270.faa.aln.pruned_12_meta.nwk.Rooted.MPAJH\n",
      "../Data/pruned_euk_trees/KOG2115.faa.aln.pruned_12_meta.nwk.Rooted.MPAJH\n",
      "../Data/pruned_euk_trees/KOG0389.faa.aln.pruned_12_meta.nwk.Rooted.MPAJH\n",
      "../Data/pruned_euk_trees/KOG3068.faa.aln.pruned_12_meta.nwk.Rooted.MPAJH\n",
      "../Data/pruned_euk_trees/KOG0433.faa.aln.pruned_12_meta.nwk.Rooted.MPAJH\n",
      "../Data/pruned_euk_trees/KOG0018.faa.aln.pruned_12_meta.nwk.Rooted.MPAJH\n",
      "../Data/pruned_euk_trees/KOG1165.faa.aln.pruned_12_meta.nwk.Rooted.MPAJH\n",
      "../Data/pruned_euk_trees/KOG0869.faa.aln.pruned_12_meta.nwk.Rooted.MPAJH\n",
      "../Data/pruned_euk_trees/KOG1124.faa.aln.pruned_12_meta.nwk.Rooted.MPAJH\n",
      "../Data/pruned_euk_trees/KOG0891.faa.aln.pruned_12_meta.nwk.Rooted.MPAJH\n",
      "../Data/pruned_euk_trees/KOG0968.faa.aln.pruned_12_meta.nwk.Rooted.MPAJH\n",
      "../Data/pruned_euk_trees/KOG1815.faa.aln.pruned_12_meta.nwk.Rooted.MPAJH\n",
      "../Data/pruned_euk_trees/KOG1435.faa.aln.pruned_12_meta.nwk.Rooted.MPAJH\n",
      "../Data/pruned_euk_trees/KOG3282.faa.aln.pruned_12_meta.nwk.Rooted.MPAJH\n",
      "../Data/pruned_euk_trees/KOG0548.faa.aln.pruned_12_meta.nwk.Rooted.MPAJH\n",
      "../Data/pruned_euk_trees/KOG3750.faa.aln.pruned_12_meta.nwk.Rooted.MPAJH\n",
      "../Data/pruned_euk_trees/KOG3301.faa.aln.pruned_12_meta.nwk.Rooted.MPAJH\n",
      "../Data/pruned_euk_trees/KOG0929.faa.aln.pruned_12_meta.nwk.Rooted.MPAJH\n",
      "../Data/pruned_euk_trees/KOG0122.faa.aln.pruned_12_meta.nwk.Rooted.MPAJH\n",
      "../Data/pruned_euk_trees/KOG1474.faa.aln.pruned_12_meta.nwk.Rooted.MPAJH\n",
      "../Data/pruned_euk_trees/KOG0478.faa.aln.pruned_12_meta.nwk.Rooted.MPAJH\n",
      "../Data/pruned_euk_trees/KOG0581.faa.aln.pruned_12_meta.nwk.Rooted.MPAJH\n",
      "../Data/pruned_euk_trees/KOG0068.faa.aln.pruned_12_meta.nwk.Rooted.MPAJH\n",
      "../Data/pruned_euk_trees/KOG0822.faa.aln.pruned_12_meta.nwk.Rooted.MPAJH\n",
      "../Data/pruned_euk_trees/KOG1096.faa.aln.pruned_12_meta.nwk.Rooted.MPAJH\n",
      "../Data/pruned_euk_trees/KOG2767.faa.aln.pruned_12_meta.nwk.Rooted.MPAJH\n",
      "../Data/pruned_euk_trees/KOG1154.faa.aln.pruned_12_meta.nwk.Rooted.MPAJH\n",
      "../Data/pruned_euk_trees/KOG0538.faa.aln.pruned_12_meta.nwk.Rooted.MPAJH\n",
      "../Data/pruned_euk_trees/KOG0113.faa.aln.pruned_12_meta.nwk.Rooted.MPAJH\n",
      "../Data/pruned_euk_trees/KOG0128.faa.aln.pruned_12_meta.nwk.Rooted.MPAJH\n",
      "../Data/pruned_euk_trees/KOG3330.faa.aln.pruned_12_meta.nwk.Rooted.MPAJH\n",
      "../Data/pruned_euk_trees/KOG0480.faa.aln.pruned_12_meta.nwk.Rooted.MPAJH\n",
      "../Data/pruned_euk_trees/KOG0962.faa.aln.pruned_12_meta.nwk.Rooted.MPAJH\n",
      "../Data/pruned_euk_trees/KOG0152.faa.aln.pruned_12_meta.nwk.Rooted.MPAJH\n",
      "../Data/pruned_euk_trees/KOG0959.faa.aln.pruned_12_meta.nwk.Rooted.MPAJH\n",
      "../Data/pruned_euk_trees/KOG1014.faa.aln.pruned_12_meta.nwk.Rooted.MPAJH\n",
      "../Data/pruned_euk_trees/KOG0750.faa.aln.pruned_12_meta.nwk.Rooted.MPAJH\n",
      "../Data/pruned_euk_trees/KOG1206.faa.aln.pruned_12_meta.nwk.Rooted.MPAJH\n",
      "../Data/pruned_euk_trees/KOG0282.faa.aln.pruned_12_meta.nwk.Rooted.MPAJH\n",
      "../Data/pruned_euk_trees/KOG3968.faa.aln.pruned_12_meta.nwk.Rooted.MPAJH\n",
      "../Data/pruned_euk_trees/KOG2815.faa.aln.pruned_12_meta.nwk.Rooted.MPAJH\n",
      "../Data/pruned_euk_trees/KOG1247.faa.aln.pruned_12_meta.nwk.Rooted.MPAJH\n",
      "../Data/pruned_euk_trees/KOG4046.faa.aln.pruned_12_meta.nwk.Rooted.MPAJH\n",
      "../Data/pruned_euk_trees/KOG0301.faa.aln.pruned_12_meta.nwk.Rooted.MPAJH\n",
      "../Data/pruned_euk_trees/KOG2854.faa.aln.pruned_12_meta.nwk.Rooted.MPAJH\n",
      "../Data/pruned_euk_trees/KOG1756.faa.aln.pruned_12_meta.nwk.Rooted.MPAJH\n",
      "../Data/pruned_euk_trees/KOG2165.faa.aln.pruned_12_meta.nwk.Rooted.MPAJH\n",
      "../Data/pruned_euk_trees/KOG0651.faa.aln.pruned_12_meta.nwk.Rooted.MPAJH\n",
      "../Data/pruned_euk_trees/KOG3059.faa.aln.pruned_12_meta.nwk.Rooted.MPAJH\n",
      "../Data/pruned_euk_trees/KOG2914.faa.aln.pruned_12_meta.nwk.Rooted.MPAJH\n",
      "../Data/pruned_euk_trees/KOG2110.faa.aln.pruned_12_meta.nwk.Rooted.MPAJH\n",
      "../Data/pruned_euk_trees/KOG3194.faa.aln.pruned_12_meta.nwk.Rooted.MPAJH\n",
      "../Data/pruned_euk_trees/KOG2920.faa.aln.pruned_12_meta.nwk.Rooted.MPAJH\n",
      "../Data/pruned_euk_trees/KOG1723.faa.aln.pruned_12_meta.nwk.Rooted.MPAJH\n",
      "../Data/pruned_euk_trees/KOG3017.faa.aln.pruned_12_meta.nwk.Rooted.MPAJH\n",
      "../Data/pruned_euk_trees/KOG0234.faa.aln.pruned_12_meta.nwk.Rooted.MPAJH\n",
      "../Data/pruned_euk_trees/KOG2440.faa.aln.pruned_12_meta.nwk.Rooted.MPAJH\n",
      "../Data/pruned_euk_trees/KOG1273.faa.aln.pruned_12_meta.nwk.Rooted.MPAJH\n",
      "../Data/pruned_euk_trees/KOG0335.faa.aln.pruned_12_meta.nwk.Rooted.MPAJH\n",
      "../Data/pruned_euk_trees/KOG1248.faa.aln.pruned_12_meta.nwk.Rooted.MPAJH\n",
      "../Data/pruned_euk_trees/KOG0764.faa.aln.pruned_12_meta.nwk.Rooted.MPAJH\n",
      "../Data/pruned_euk_trees/KOG3157.faa.aln.pruned_12_meta.nwk.Rooted.MPAJH\n",
      "../Data/pruned_euk_trees/KOG1622.faa.aln.pruned_12_meta.nwk.Rooted.MPAJH\n",
      "../Data/pruned_euk_trees/KOG3095.faa.aln.pruned_12_meta.nwk.Rooted.MPAJH\n",
      "../Data/pruned_euk_trees/KOG0166.faa.aln.pruned_12_meta.nwk.Rooted.MPAJH\n",
      "../Data/pruned_euk_trees/KOG0894.faa.aln.pruned_12_meta.nwk.Rooted.MPAJH\n",
      "../Data/pruned_euk_trees/KOG1020.faa.aln.pruned_12_meta.nwk.Rooted.MPAJH\n",
      "../Data/pruned_euk_trees/KOG1471.faa.aln.pruned_12_meta.nwk.Rooted.MPAJH\n",
      "../Data/pruned_euk_trees/KOG2669.faa.aln.pruned_12_meta.nwk.Rooted.MPAJH\n",
      "../Data/pruned_euk_trees/KOG1061.faa.aln.pruned_12_meta.nwk.Rooted.MPAJH\n",
      "../Data/pruned_euk_trees/KOG0537.faa.aln.pruned_12_meta.nwk.Rooted.MPAJH\n",
      "../Data/pruned_euk_trees/KOG1198.faa.aln.pruned_12_meta.nwk.Rooted.MPAJH\n",
      "../Data/pruned_euk_trees/KOG0816.faa.aln.pruned_12_meta.nwk.Rooted.MPAJH\n",
      "../Data/pruned_euk_trees/KOG2768.faa.aln.pruned_12_meta.nwk.Rooted.MPAJH\n",
      "../Data/pruned_euk_trees/KOG1099.faa.aln.pruned_12_meta.nwk.Rooted.MPAJH\n",
      "../Data/pruned_euk_trees/KOG3205.faa.aln.pruned_12_meta.nwk.Rooted.MPAJH\n",
      "../Data/pruned_euk_trees/KOG1950.faa.aln.pruned_12_meta.nwk.Rooted.MPAJH\n",
      "../Data/pruned_euk_trees/KOG0436.faa.aln.pruned_12_meta.nwk.Rooted.MPAJH\n",
      "../Data/pruned_euk_trees/KOG3386.faa.aln.pruned_12_meta.nwk.Rooted.MPAJH\n",
      "../Data/pruned_euk_trees/KOG1531.faa.aln.pruned_12_meta.nwk.Rooted.MPAJH\n",
      "../Data/pruned_euk_trees/KOG0857.faa.aln.pruned_12_meta.nwk.Rooted.MPAJH\n",
      "../Data/pruned_euk_trees/KOG2729.faa.aln.pruned_12_meta.nwk.Rooted.MPAJH\n",
      "../Data/pruned_euk_trees/KOG0995.faa.aln.pruned_12_meta.nwk.Rooted.MPAJH\n",
      "../Data/pruned_euk_trees/KOG2339.faa.aln.pruned_12_meta.nwk.Rooted.MPAJH\n",
      "../Data/pruned_euk_trees/KOG0440.faa.aln.pruned_12_meta.nwk.Rooted.MPAJH\n",
      "../Data/pruned_euk_trees/KOG1116.faa.aln.pruned_12_meta.nwk.Rooted.MPAJH\n",
      "../Data/pruned_euk_trees/KOG2725.faa.aln.pruned_12_meta.nwk.Rooted.MPAJH\n",
      "../Data/pruned_euk_trees/KOG1506.faa.aln.pruned_12_meta.nwk.Rooted.MPAJH\n",
      "../Data/pruned_euk_trees/KOG2335.faa.aln.pruned_12_meta.nwk.Rooted.MPAJH\n",
      "../Data/pruned_euk_trees/KOG0860.faa.aln.pruned_12_meta.nwk.Rooted.MPAJH\n",
      "../Data/pruned_euk_trees/KOG2624.faa.aln.pruned_12_meta.nwk.Rooted.MPAJH\n",
      "../Data/pruned_euk_trees/KOG0898.faa.aln.pruned_12_meta.nwk.Rooted.MPAJH\n",
      "../Data/pruned_euk_trees/KOG1446.faa.aln.pruned_12_meta.nwk.Rooted.MPAJH\n",
      "../Data/pruned_euk_trees/KOG0110.faa.aln.pruned_12_meta.nwk.Rooted.MPAJH\n",
      "../Data/pruned_euk_trees/KOG0920.faa.aln.pruned_12_meta.nwk.Rooted.MPAJH\n",
      "../Data/pruned_euk_trees/KOG2275.faa.aln.pruned_12_meta.nwk.Rooted.MPAJH\n",
      "../Data/pruned_euk_trees/KOG2067.faa.aln.pruned_12_meta.nwk.Rooted.MPAJH\n",
      "../Data/pruned_euk_trees/KOG1654.faa.aln.pruned_12_meta.nwk.Rooted.MPAJH\n",
      "../Data/pruned_euk_trees/KOG0729.faa.aln.pruned_12_meta.nwk.Rooted.MPAJH\n",
      "../Data/pruned_euk_trees/KOG3911.faa.aln.pruned_12_meta.nwk.Rooted.MPAJH\n",
      "../Data/pruned_euk_trees/KOG0768.faa.aln.pruned_12_meta.nwk.Rooted.MPAJH\n",
      "../Data/pruned_euk_trees/KOG2026.faa.aln.pruned_12_meta.nwk.Rooted.MPAJH\n",
      "../Data/pruned_euk_trees/KOG0378.faa.aln.pruned_12_meta.nwk.Rooted.MPAJH\n",
      "../Data/pruned_euk_trees/KOG1714.faa.aln.pruned_12_meta.nwk.Rooted.MPAJH\n",
      "../Data/pruned_euk_trees/KOG2537.faa.aln.pruned_12_meta.nwk.Rooted.MPAJH\n",
      "../Data/pruned_euk_trees/KOG0380.faa.aln.pruned_12_meta.nwk.Rooted.MPAJH\n",
      "../Data/pruned_euk_trees/KOG3198.faa.aln.pruned_12_meta.nwk.Rooted.MPAJH\n",
      "../Data/pruned_euk_trees/KOG0279.faa.aln.pruned_12_meta.nwk.Rooted.MPAJH\n",
      "../Data/pruned_euk_trees/KOG1304.faa.aln.pruned_12_meta.nwk.Rooted.MPAJH\n",
      "../Data/pruned_euk_trees/KOG1287.faa.aln.pruned_12_meta.nwk.Rooted.MPAJH\n",
      "../Data/pruned_euk_trees/KOG0238.faa.aln.pruned_12_meta.nwk.Rooted.MPAJH\n",
      "../Data/pruned_euk_trees/KOG3020.faa.aln.pruned_12_meta.nwk.Rooted.MPAJH\n",
      "../Data/pruned_euk_trees/KOG1697.faa.aln.pruned_12_meta.nwk.Rooted.MPAJH\n",
      "../Data/pruned_euk_trees/KOG2576.faa.aln.pruned_12_meta.nwk.Rooted.MPAJH\n",
      "../Data/pruned_euk_trees/KOG3404.faa.aln.pruned_12_meta.nwk.Rooted.MPAJH\n",
      "../Data/pruned_euk_trees/KOG2090.faa.aln.pruned_12_meta.nwk.Rooted.MPAJH\n",
      "../Data/pruned_euk_trees/KOG0627.faa.aln.pruned_12_meta.nwk.Rooted.MPAJH\n",
      "../Data/pruned_euk_trees/KOG2169.faa.aln.pruned_12_meta.nwk.Rooted.MPAJH\n",
      "../Data/pruned_euk_trees/KOG0276.faa.aln.pruned_12_meta.nwk.Rooted.MPAJH\n",
      "../Data/pruned_euk_trees/KOG0666.faa.aln.pruned_12_meta.nwk.Rooted.MPAJH\n",
      "../Data/pruned_euk_trees/KOG2918.faa.aln.pruned_12_meta.nwk.Rooted.MPAJH\n",
      "../Data/pruned_euk_trees/KOG2439.faa.aln.pruned_12_meta.nwk.Rooted.MPAJH\n",
      "../Data/pruned_euk_trees/KOG2012.faa.aln.pruned_12_meta.nwk.Rooted.MPAJH\n",
      "../Data/pruned_euk_trees/KOG3154.faa.aln.pruned_12_meta.nwk.Rooted.MPAJH\n",
      "../Data/pruned_euk_trees/KOG2581.faa.aln.pruned_12_meta.nwk.Rooted.MPAJH\n",
      "../Data/pruned_euk_trees/KOG0726.faa.aln.pruned_12_meta.nwk.Rooted.MPAJH\n",
      "../Data/pruned_euk_trees/KOG0534.faa.aln.pruned_12_meta.nwk.Rooted.MPAJH\n",
      "../Data/pruned_euk_trees/KOG2383.faa.aln.pruned_12_meta.nwk.Rooted.MPAJH\n",
      "../Data/pruned_euk_trees/KOG1059.faa.aln.pruned_12_meta.nwk.Rooted.MPAJH\n",
      "../Data/pruned_euk_trees/KOG3717.faa.aln.pruned_12_meta.nwk.Rooted.MPAJH\n",
      "../Data/pruned_euk_trees/KOG2241.faa.aln.pruned_12_meta.nwk.Rooted.MPAJH\n",
      "../Data/pruned_euk_trees/KOG1813.faa.aln.pruned_12_meta.nwk.Rooted.MPAJH\n",
      "../Data/pruned_euk_trees/KOG0955.faa.aln.pruned_12_meta.nwk.Rooted.MPAJH\n",
      "../Data/pruned_euk_trees/KOG2711.faa.aln.pruned_12_meta.nwk.Rooted.MPAJH\n",
      "../Data/pruned_euk_trees/KOG0064.faa.aln.pruned_12_meta.nwk.Rooted.MPAJH\n",
      "../Data/pruned_euk_trees/KOG0854.faa.aln.pruned_12_meta.nwk.Rooted.MPAJH\n",
      "../Data/pruned_euk_trees/KOG3206.faa.aln.pruned_12_meta.nwk.Rooted.MPAJH\n",
      "../Data/pruned_euk_trees/KOG2750.faa.aln.pruned_12_meta.nwk.Rooted.MPAJH\n",
      "../Data/pruned_euk_trees/KOG0815.faa.aln.pruned_12_meta.nwk.Rooted.MPAJH\n",
      "../Data/pruned_euk_trees/KOG2340.faa.aln.pruned_12_meta.nwk.Rooted.MPAJH\n",
      "../Data/pruned_euk_trees/KOG1158.faa.aln.pruned_12_meta.nwk.Rooted.MPAJH\n",
      "../Data/pruned_euk_trees/KOG2414.faa.aln.pruned_12_meta.nwk.Rooted.MPAJH\n",
      "../Data/pruned_euk_trees/KOG3949.faa.aln.pruned_12_meta.nwk.Rooted.MPAJH\n",
      "../Data/pruned_euk_trees/KOG2834.faa.aln.pruned_12_meta.nwk.Rooted.MPAJH\n",
      "../Data/pruned_euk_trees/KOG3103.faa.aln.pruned_12_meta.nwk.Rooted.MPAJH\n",
      "../Data/pruned_euk_trees/KOG2455.faa.aln.pruned_12_meta.nwk.Rooted.MPAJH\n",
      "../Data/pruned_euk_trees/KOG3933.faa.aln.pruned_12_meta.nwk.Rooted.MPAJH\n",
      "../Data/pruned_euk_trees/KOG4067.faa.aln.pruned_12_meta.nwk.Rooted.MPAJH\n",
      "../Data/pruned_euk_trees/KOG2086.faa.aln.pruned_12_meta.nwk.Rooted.MPAJH\n",
      "../Data/pruned_euk_trees/KOG2496.faa.aln.pruned_12_meta.nwk.Rooted.MPAJH\n",
      "../Data/pruned_euk_trees/KOG2144.faa.aln.pruned_12_meta.nwk.Rooted.MPAJH\n",
      "../Data/pruned_euk_trees/KOG0789.faa.aln.pruned_12_meta.nwk.Rooted.MPAJH\n",
      "../Data/pruned_euk_trees/KOG2515.faa.aln.pruned_12_meta.nwk.Rooted.MPAJH\n",
      "../Data/pruned_euk_trees/KOG3873.faa.aln.pruned_12_meta.nwk.Rooted.MPAJH\n",
      "../Data/pruned_euk_trees/KOG3453.faa.aln.pruned_12_meta.nwk.Rooted.MPAJH\n",
      "../Data/pruned_euk_trees/KOG3181.faa.aln.pruned_12_meta.nwk.Rooted.MPAJH\n",
      "../Data/pruned_euk_trees/KOG0072.faa.aln.pruned_12_meta.nwk.Rooted.MPAJH\n",
      "../Data/pruned_euk_trees/KOG3393.faa.aln.pruned_12_meta.nwk.Rooted.MPAJH\n",
      "../Data/pruned_euk_trees/KOG2317.faa.aln.pruned_12_meta.nwk.Rooted.MPAJH\n",
      "../Data/pruned_euk_trees/KOG3251.faa.aln.pruned_12_meta.nwk.Rooted.MPAJH\n",
      "../Data/pruned_euk_trees/KOG2707.faa.aln.pruned_12_meta.nwk.Rooted.MPAJH\n",
      "../Data/pruned_euk_trees/KOG0803.faa.aln.pruned_12_meta.nwk.Rooted.MPAJH\n",
      "../Data/pruned_euk_trees/KOG0418.faa.aln.pruned_12_meta.nwk.Rooted.MPAJH\n",
      "../Data/pruned_euk_trees/KOG2294.faa.aln.pruned_12_meta.nwk.Rooted.MPAJH\n",
      "../Data/pruned_euk_trees/KOG1986.faa.aln.pruned_12_meta.nwk.Rooted.MPAJH\n",
      "../Data/pruned_euk_trees/KOG0902.faa.aln.pruned_12_meta.nwk.Rooted.MPAJH\n",
      "../Data/pruned_euk_trees/KOG1844.faa.aln.pruned_12_meta.nwk.Rooted.MPAJH\n",
      "../Data/pruned_euk_trees/KOG0173.faa.aln.pruned_12_meta.nwk.Rooted.MPAJH\n",
      "../Data/pruned_euk_trees/KOG1805.faa.aln.pruned_12_meta.nwk.Rooted.MPAJH\n",
      "../Data/pruned_euk_trees/KOG0495.faa.aln.pruned_12_meta.nwk.Rooted.MPAJH\n",
      "../Data/pruned_euk_trees/KOG2609.faa.aln.pruned_12_meta.nwk.Rooted.MPAJH\n",
      "../Data/pruned_euk_trees/KOG1411.faa.aln.pruned_12_meta.nwk.Rooted.MPAJH\n",
      "../Data/pruned_euk_trees/KOG0106.faa.aln.pruned_12_meta.nwk.Rooted.MPAJH\n",
      "../Data/pruned_euk_trees/KOG0936.faa.aln.pruned_12_meta.nwk.Rooted.MPAJH\n",
      "../Data/pruned_euk_trees/KOG2648.faa.aln.pruned_12_meta.nwk.Rooted.MPAJH\n",
      "../Data/pruned_euk_trees/KOG3325.faa.aln.pruned_12_meta.nwk.Rooted.MPAJH\n",
      "../Data/pruned_euk_trees/KOG1870.faa.aln.pruned_12_meta.nwk.Rooted.MPAJH\n",
      "../Data/pruned_euk_trees/KOG2749.faa.aln.pruned_12_meta.nwk.Rooted.MPAJH\n",
      "../Data/pruned_euk_trees/KOG2772.faa.aln.pruned_12_meta.nwk.Rooted.MPAJH\n",
      "../Data/pruned_euk_trees/KOG1888.faa.aln.pruned_12_meta.nwk.Rooted.MPAJH\n",
      "../Data/pruned_euk_trees/KOG0046.faa.aln.pruned_12_meta.nwk.Rooted.MPAJH\n",
      "../Data/pruned_euk_trees/KOG2323.faa.aln.pruned_12_meta.nwk.Rooted.MPAJH\n",
      "../Data/pruned_euk_trees/KOG3675.faa.aln.pruned_12_meta.nwk.Rooted.MPAJH\n",
      "../Data/pruned_euk_trees/KOG0594.faa.aln.pruned_12_meta.nwk.Rooted.MPAJH\n",
      "../Data/pruned_euk_trees/KOG3265.faa.aln.pruned_12_meta.nwk.Rooted.MPAJH\n",
      "../Data/pruned_euk_trees/KOG2318.faa.aln.pruned_12_meta.nwk.Rooted.MPAJH\n",
      "../Data/pruned_euk_trees/KOG0396.faa.aln.pruned_12_meta.nwk.Rooted.MPAJH\n",
      "../Data/pruned_euk_trees/KOG3077.faa.aln.pruned_12_meta.nwk.Rooted.MPAJH\n",
      "../Data/pruned_euk_trees/KOG3467.faa.aln.pruned_12_meta.nwk.Rooted.MPAJH\n",
      "../Data/pruned_euk_trees/KOG0254.faa.aln.pruned_12_meta.nwk.Rooted.MPAJH\n",
      "../Data/pruned_euk_trees/KOG1353.faa.aln.pruned_12_meta.nwk.Rooted.MPAJH\n",
      "../Data/pruned_euk_trees/KOG2560.faa.aln.pruned_12_meta.nwk.Rooted.MPAJH\n",
      "../Data/pruned_euk_trees/KOG2882.faa.aln.pruned_12_meta.nwk.Rooted.MPAJH\n",
      "../Data/pruned_euk_trees/KOG3036.faa.aln.pruned_12_meta.nwk.Rooted.MPAJH\n",
      "../Data/pruned_euk_trees/KOG1743.faa.aln.pruned_12_meta.nwk.Rooted.MPAJH\n",
      "../Data/pruned_euk_trees/KOG0215.faa.aln.pruned_12_meta.nwk.Rooted.MPAJH\n",
      "../Data/pruned_euk_trees/KOG1390.faa.aln.pruned_12_meta.nwk.Rooted.MPAJH\n",
      "../Data/pruned_euk_trees/KOG2841.faa.aln.pruned_12_meta.nwk.Rooted.MPAJH\n",
      "../Data/pruned_euk_trees/KOG2188.faa.aln.pruned_12_meta.nwk.Rooted.MPAJH\n",
      "../Data/pruned_euk_trees/KOG0745.faa.aln.pruned_12_meta.nwk.Rooted.MPAJH\n",
      "../Data/pruned_euk_trees/KOG1213.faa.aln.pruned_12_meta.nwk.Rooted.MPAJH\n",
      "../Data/pruned_euk_trees/KOG2420.faa.aln.pruned_12_meta.nwk.Rooted.MPAJH\n",
      "../Data/pruned_euk_trees/KOG0687.faa.aln.pruned_12_meta.nwk.Rooted.MPAJH\n",
      "../Data/pruned_euk_trees/KOG0323.faa.aln.pruned_12_meta.nwk.Rooted.MPAJH\n",
      "../Data/pruned_euk_trees/KOG3100.faa.aln.pruned_12_meta.nwk.Rooted.MPAJH\n",
      "../Data/pruned_euk_trees/KOG0318.faa.aln.pruned_12_meta.nwk.Rooted.MPAJH\n",
      "../Data/pruned_euk_trees/KOG0362.faa.aln.pruned_12_meta.nwk.Rooted.MPAJH\n",
      "../Data/pruned_euk_trees/KOG3083.faa.aln.pruned_12_meta.nwk.Rooted.MPAJH\n",
      "../Data/pruned_euk_trees/KOG2007.faa.aln.pruned_12_meta.nwk.Rooted.MPAJH\n",
      "../Data/pruned_euk_trees/KOG0359.faa.aln.pruned_12_meta.nwk.Rooted.MPAJH\n",
      "../Data/pruned_euk_trees/KOG2936.faa.aln.pruned_12_meta.nwk.Rooted.MPAJH\n",
      "../Data/pruned_euk_trees/KOG0263.faa.aln.pruned_12_meta.nwk.Rooted.MPAJH\n",
      "../Data/pruned_euk_trees/KOG0673.faa.aln.pruned_12_meta.nwk.Rooted.MPAJH\n",
      "../Data/pruned_euk_trees/KOG0258.faa.aln.pruned_12_meta.nwk.Rooted.MPAJH\n",
      "../Data/pruned_euk_trees/KOG2977.faa.aln.pruned_12_meta.nwk.Rooted.MPAJH\n",
      "../Data/pruned_euk_trees/KOG2147.faa.aln.pruned_12_meta.nwk.Rooted.MPAJH\n",
      "../Data/pruned_euk_trees/KOG4165.faa.aln.pruned_12_meta.nwk.Rooted.MPAJH\n",
      "../Data/pruned_euk_trees/KOG2085.faa.aln.pruned_12_meta.nwk.Rooted.MPAJH\n",
      "../Data/pruned_euk_trees/KOG0800.faa.aln.pruned_12_meta.nwk.Rooted.MPAJH\n",
      "../Data/pruned_euk_trees/KOG1566.faa.aln.pruned_12_meta.nwk.Rooted.MPAJH\n",
      "../Data/pruned_euk_trees/KOG1907.faa.aln.pruned_12_meta.nwk.Rooted.MPAJH\n",
      "../Data/pruned_euk_trees/KOG0188.faa.aln.pruned_12_meta.nwk.Rooted.MPAJH\n",
      "../Data/pruned_euk_trees/KOG1036.faa.aln.pruned_12_meta.nwk.Rooted.MPAJH\n",
      "../Data/pruned_euk_trees/KOG2215.faa.aln.pruned_12_meta.nwk.Rooted.MPAJH\n",
      "../Data/pruned_euk_trees/KOG0940.faa.aln.pruned_12_meta.nwk.Rooted.MPAJH\n",
      "../Data/pruned_euk_trees/KOG3291.faa.aln.pruned_12_meta.nwk.Rooted.MPAJH\n",
      "../Data/pruned_euk_trees/KOG1426.faa.aln.pruned_12_meta.nwk.Rooted.MPAJH\n",
      "../Data/pruned_euk_trees/KOG3739.faa.aln.pruned_12_meta.nwk.Rooted.MPAJH\n",
      "../Data/pruned_euk_trees/KOG1985.faa.aln.pruned_12_meta.nwk.Rooted.MPAJH\n",
      "../Data/pruned_euk_trees/KOG1043.faa.aln.pruned_12_meta.nwk.Rooted.MPAJH\n",
      "../Data/pruned_euk_trees/KOG1468.faa.aln.pruned_12_meta.nwk.Rooted.MPAJH\n",
      "../Data/pruned_euk_trees/KOG2670.faa.aln.pruned_12_meta.nwk.Rooted.MPAJH\n",
      "../Data/pruned_euk_trees/KOG2260.faa.aln.pruned_12_meta.nwk.Rooted.MPAJH\n",
      "../Data/pruned_euk_trees/KOG0554.faa.aln.pruned_12_meta.nwk.Rooted.MPAJH\n",
      "../Data/pruned_euk_trees/KOG1809.faa.aln.pruned_12_meta.nwk.Rooted.MPAJH\n",
      "../Data/pruned_euk_trees/KOG2730.faa.aln.pruned_12_meta.nwk.Rooted.MPAJH\n",
      "../Data/pruned_euk_trees/KOG0187.faa.aln.pruned_12_meta.nwk.Rooted.MPAJH\n",
      "../Data/pruned_euk_trees/KOG1933.faa.aln.pruned_12_meta.nwk.Rooted.MPAJH\n",
      "../Data/pruned_euk_trees/KOG1490.faa.aln.pruned_12_meta.nwk.Rooted.MPAJH\n",
      "../Data/pruned_euk_trees/KOG2688.faa.aln.pruned_12_meta.nwk.Rooted.MPAJH\n",
      "../Data/pruned_euk_trees/KOG0414.faa.aln.pruned_12_meta.nwk.Rooted.MPAJH\n",
      "../Data/pruned_euk_trees/KOG1080.faa.aln.pruned_12_meta.nwk.Rooted.MPAJH\n",
      "../Data/pruned_euk_trees/KOG1179.faa.aln.pruned_12_meta.nwk.Rooted.MPAJH\n",
      "../Data/pruned_euk_trees/KOG2298.faa.aln.pruned_12_meta.nwk.Rooted.MPAJH\n",
      "../Data/pruned_euk_trees/KOG0216.faa.aln.pruned_12_meta.nwk.Rooted.MPAJH\n",
      "../Data/pruned_euk_trees/KOG4093.faa.aln.pruned_12_meta.nwk.Rooted.MPAJH\n",
      "../Data/pruned_euk_trees/KOG2978.faa.aln.pruned_12_meta.nwk.Rooted.MPAJH\n",
      "../Data/pruned_euk_trees/KOG0785.faa.aln.pruned_12_meta.nwk.Rooted.MPAJH\n",
      "../Data/pruned_euk_trees/KOG2519.faa.aln.pruned_12_meta.nwk.Rooted.MPAJH\n",
      "../Data/pruned_euk_trees/KOG0257.faa.aln.pruned_12_meta.nwk.Rooted.MPAJH\n",
      "../Data/pruned_euk_trees/KOG0395.faa.aln.pruned_12_meta.nwk.Rooted.MPAJH\n",
      "../Data/pruned_euk_trees/KOG1311.faa.aln.pruned_12_meta.nwk.Rooted.MPAJH\n",
      "../Data/pruned_euk_trees/KOG2803.faa.aln.pruned_12_meta.nwk.Rooted.MPAJH\n",
      "../Data/pruned_euk_trees/KOG0356.faa.aln.pruned_12_meta.nwk.Rooted.MPAJH\n",
      "../Data/pruned_euk_trees/KOG3887.faa.aln.pruned_12_meta.nwk.Rooted.MPAJH\n",
      "../Data/pruned_euk_trees/KOG4011.faa.aln.pruned_12_meta.nwk.Rooted.MPAJH\n",
      "../Data/pruned_euk_trees/KOG1210.faa.aln.pruned_12_meta.nwk.Rooted.MPAJH\n",
      "../Data/pruned_euk_trees/KOG0746.faa.aln.pruned_12_meta.nwk.Rooted.MPAJH\n",
      "../Data/pruned_euk_trees/KOG2072.faa.aln.pruned_12_meta.nwk.Rooted.MPAJH\n",
      "../Data/pruned_euk_trees/KOG1393.faa.aln.pruned_12_meta.nwk.Rooted.MPAJH\n",
      "../Data/pruned_euk_trees/KOG2459.faa.aln.pruned_12_meta.nwk.Rooted.MPAJH\n",
      "../Data/pruned_euk_trees/KOG1641.faa.aln.pruned_12_meta.nwk.Rooted.MPAJH\n",
      "../Data/pruned_euk_trees/KOG2980.faa.aln.pruned_12_meta.nwk.Rooted.MPAJH\n",
      "../Data/pruned_euk_trees/KOG0707.faa.aln.pruned_12_meta.nwk.Rooted.MPAJH\n",
      "../Data/pruned_euk_trees/KOG2879.faa.aln.pruned_12_meta.nwk.Rooted.MPAJH\n",
      "../Data/pruned_euk_trees/KOG0676.faa.aln.pruned_12_meta.nwk.Rooted.MPAJH\n",
      "../Data/pruned_euk_trees/KOG2908.faa.aln.pruned_12_meta.nwk.Rooted.MPAJH\n",
      "../Data/pruned_euk_trees/KOG2513.faa.aln.pruned_12_meta.nwk.Rooted.MPAJH\n",
      "../Data/pruned_euk_trees/KOG3187.faa.aln.pruned_12_meta.nwk.Rooted.MPAJH\n",
      "../Data/pruned_euk_trees/KOG0266.faa.aln.pruned_12_meta.nwk.Rooted.MPAJH\n",
      "../Data/pruned_euk_trees/KOG3004.faa.aln.pruned_12_meta.nwk.Rooted.MPAJH\n",
      "../Data/pruned_euk_trees/KOG2179.faa.aln.pruned_12_meta.nwk.Rooted.MPAJH\n",
      "../Data/pruned_euk_trees/KOG2552.faa.aln.pruned_12_meta.nwk.Rooted.MPAJH\n",
      "../Data/pruned_euk_trees/KOG3834.faa.aln.pruned_12_meta.nwk.Rooted.MPAJH\n",
      "../Data/pruned_euk_trees/KOG1688.faa.aln.pruned_12_meta.nwk.Rooted.MPAJH\n",
      "../Data/pruned_euk_trees/KOG0227.faa.aln.pruned_12_meta.nwk.Rooted.MPAJH\n",
      "../Data/pruned_euk_trees/KOG2848.faa.aln.pruned_12_meta.nwk.Rooted.MPAJH\n",
      "../Data/pruned_euk_trees/KOG2078.faa.aln.pruned_12_meta.nwk.Rooted.MPAJH\n",
      "../Data/pruned_euk_trees/KOG1399.faa.aln.pruned_12_meta.nwk.Rooted.MPAJH\n",
      "../Data/pruned_euk_trees/KOG2873.faa.aln.pruned_12_meta.nwk.Rooted.MPAJH\n",
      "../Data/pruned_euk_trees/KOG0326.faa.aln.pruned_12_meta.nwk.Rooted.MPAJH\n",
      "../Data/pruned_euk_trees/KOG4061.faa.aln.pruned_12_meta.nwk.Rooted.MPAJH\n",
      "../Data/pruned_euk_trees/KOG2043.faa.aln.pruned_12_meta.nwk.Rooted.MPAJH\n",
      "../Data/pruned_euk_trees/KOG3974.faa.aln.pruned_12_meta.nwk.Rooted.MPAJH\n",
      "../Data/pruned_euk_trees/KOG2002.faa.aln.pruned_12_meta.nwk.Rooted.MPAJH\n",
      "../Data/pruned_euk_trees/KOG4020.faa.aln.pruned_12_meta.nwk.Rooted.MPAJH\n",
      "../Data/pruned_euk_trees/KOG2832.faa.aln.pruned_12_meta.nwk.Rooted.MPAJH\n",
      "../Data/pruned_euk_trees/KOG0175.faa.aln.pruned_12_meta.nwk.Rooted.MPAJH\n",
      "../Data/pruned_euk_trees/KOG2210.faa.aln.pruned_12_meta.nwk.Rooted.MPAJH\n",
      "../Data/pruned_euk_trees/KOG4209.faa.aln.pruned_12_meta.nwk.Rooted.MPAJH\n",
      "../Data/pruned_euk_trees/KOG2600.faa.aln.pruned_12_meta.nwk.Rooted.MPAJH\n",
      "../Data/pruned_euk_trees/KOG1879.faa.aln.pruned_12_meta.nwk.Rooted.MPAJH\n",
      "../Data/pruned_euk_trees/KOG2783.faa.aln.pruned_12_meta.nwk.Rooted.MPAJH\n",
      "../Data/pruned_euk_trees/KOG1462.faa.aln.pruned_12_meta.nwk.Rooted.MPAJH\n",
      "../Data/pruned_euk_trees/KOG1842.faa.aln.pruned_12_meta.nwk.Rooted.MPAJH\n",
      "../Data/pruned_euk_trees/KOG0524.faa.aln.pruned_12_meta.nwk.Rooted.MPAJH\n",
      "../Data/pruned_euk_trees/KOG2393.faa.aln.pruned_12_meta.nwk.Rooted.MPAJH\n",
      "../Data/pruned_euk_trees/KOG1148.faa.aln.pruned_12_meta.nwk.Rooted.MPAJH\n",
      "../Data/pruned_euk_trees/KOG1978.faa.aln.pruned_12_meta.nwk.Rooted.MPAJH\n",
      "../Data/pruned_euk_trees/KOG2292.faa.aln.pruned_12_meta.nwk.Rooted.MPAJH\n",
      "../Data/pruned_euk_trees/KOG1558.faa.aln.pruned_12_meta.nwk.Rooted.MPAJH\n",
      "../Data/pruned_euk_trees/KOG0425.faa.aln.pruned_12_meta.nwk.Rooted.MPAJH\n",
      "../Data/pruned_euk_trees/KOG1943.faa.aln.pruned_12_meta.nwk.Rooted.MPAJH\n",
      "../Data/pruned_euk_trees/KOG2740.faa.aln.pruned_12_meta.nwk.Rooted.MPAJH\n",
      "../Data/pruned_euk_trees/KOG3257.faa.aln.pruned_12_meta.nwk.Rooted.MPAJH\n",
      "../Data/pruned_euk_trees/KOG0592.faa.aln.pruned_12_meta.nwk.Rooted.MPAJH\n",
      "../Data/pruned_euk_trees/KOG0989.faa.aln.pruned_12_meta.nwk.Rooted.MPAJH\n",
      "../Data/pruned_euk_trees/KOG0182.faa.aln.pruned_12_meta.nwk.Rooted.MPAJH\n",
      "../Data/pruned_euk_trees/KOG0001.faa.aln.pruned_12_meta.nwk.Rooted.MPAJH\n",
      "../Data/pruned_euk_trees/KOG2675.faa.aln.pruned_12_meta.nwk.Rooted.MPAJH\n",
      "../Data/pruned_euk_trees/KOG1046.faa.aln.pruned_12_meta.nwk.Rooted.MPAJH\n",
      "../Data/pruned_euk_trees/KOG0888.faa.aln.pruned_12_meta.nwk.Rooted.MPAJH\n",
      "../Data/pruned_euk_trees/KOG4206.faa.aln.pruned_12_meta.nwk.Rooted.MPAJH\n",
      "../Data/pruned_euk_trees/KOG0551.faa.aln.pruned_12_meta.nwk.Rooted.MPAJH\n",
      "../Data/pruned_euk_trees/KOG0743.faa.aln.pruned_12_meta.nwk.Rooted.MPAJH\n",
      "../Data/pruned_euk_trees/KOG0368.faa.aln.pruned_12_meta.nwk.Rooted.MPAJH\n",
      "../Data/pruned_euk_trees/KOG2806.faa.aln.pruned_12_meta.nwk.Rooted.MPAJH\n",
      "../Data/pruned_euk_trees/KOG1605.faa.aln.pruned_12_meta.nwk.Rooted.MPAJH\n",
      "../Data/pruned_euk_trees/KOG0329.faa.aln.pruned_12_meta.nwk.Rooted.MPAJH\n",
      "../Data/pruned_euk_trees/KOG3901.faa.aln.pruned_12_meta.nwk.Rooted.MPAJH\n",
      "../Data/pruned_euk_trees/KOG1644.faa.aln.pruned_12_meta.nwk.Rooted.MPAJH\n",
      "../Data/pruned_euk_trees/KOG2884.faa.aln.pruned_12_meta.nwk.Rooted.MPAJH\n",
      "../Data/pruned_euk_trees/KOG3030.faa.aln.pruned_12_meta.nwk.Rooted.MPAJH\n",
      "../Data/pruned_euk_trees/KOG1355.faa.aln.pruned_12_meta.nwk.Rooted.MPAJH\n",
      "../Data/pruned_euk_trees/KOG2946.faa.aln.pruned_12_meta.nwk.Rooted.MPAJH\n",
      "../Data/pruned_euk_trees/KOG0213.faa.aln.pruned_12_meta.nwk.Rooted.MPAJH\n",
      "../Data/pruned_euk_trees/KOG3188.faa.aln.pruned_12_meta.nwk.Rooted.MPAJH\n",
      "../Data/pruned_euk_trees/KOG0642.faa.aln.pruned_12_meta.nwk.Rooted.MPAJH\n",
      "../Data/pruned_euk_trees/KOG1314.faa.aln.pruned_12_meta.nwk.Rooted.MPAJH\n",
      "../Data/pruned_euk_trees/KOG0390.faa.aln.pruned_12_meta.nwk.Rooted.MPAJH\n",
      "../Data/pruned_euk_trees/KOG1704.faa.aln.pruned_12_meta.nwk.Rooted.MPAJH\n",
      "../Data/pruned_euk_trees/KOG0679.faa.aln.pruned_12_meta.nwk.Rooted.MPAJH\n",
      "../Data/pruned_euk_trees/KOG0780.faa.aln.pruned_12_meta.nwk.Rooted.MPAJH\n",
      "../Data/pruned_euk_trees/KOG2137.faa.aln.pruned_12_meta.nwk.Rooted.MPAJH\n",
      "../Data/pruned_euk_trees/KOG3417.faa.aln.pruned_12_meta.nwk.Rooted.MPAJH\n",
      "../Data/pruned_euk_trees/KOG4548.faa.aln.pruned_12_meta.nwk.Rooted.MPAJH\n",
      "../Data/pruned_euk_trees/KOG2971.faa.aln.pruned_12_meta.nwk.Rooted.MPAJH\n",
      "../Data/pruned_euk_trees/KOG1749.faa.aln.pruned_12_meta.nwk.Rooted.MPAJH\n",
      "../Data/pruned_euk_trees/KOG3184.faa.aln.pruned_12_meta.nwk.Rooted.MPAJH\n",
      "../Data/pruned_euk_trees/KOG1318.faa.aln.pruned_12_meta.nwk.Rooted.MPAJH\n",
      "../Data/pruned_euk_trees/KOG2100.faa.aln.pruned_12_meta.nwk.Rooted.MPAJH\n",
      "../Data/pruned_euk_trees/KOG3046.faa.aln.pruned_12_meta.nwk.Rooted.MPAJH\n",
      "../Data/pruned_euk_trees/KOG0364.faa.aln.pruned_12_meta.nwk.Rooted.MPAJH\n",
      "../Data/pruned_euk_trees/KOG4018.faa.aln.pruned_12_meta.nwk.Rooted.MPAJH\n",
      "../Data/pruned_euk_trees/KOG3147.faa.aln.pruned_12_meta.nwk.Rooted.MPAJH\n",
      "../Data/pruned_euk_trees/KOG2989.faa.aln.pruned_12_meta.nwk.Rooted.MPAJH\n",
      "../Data/pruned_euk_trees/KOG1263.faa.aln.pruned_12_meta.nwk.Rooted.MPAJH\n",
      "../Data/pruned_euk_trees/KOG0735.faa.aln.pruned_12_meta.nwk.Rooted.MPAJH\n",
      "../Data/pruned_euk_trees/KOG2450.faa.aln.pruned_12_meta.nwk.Rooted.MPAJH\n",
      "../Data/pruned_euk_trees/KOG2642.faa.aln.pruned_12_meta.nwk.Rooted.MPAJH\n",
      "../Data/pruned_euk_trees/KOG1598.faa.aln.pruned_12_meta.nwk.Rooted.MPAJH\n",
      "../Data/pruned_euk_trees/KOG0907.faa.aln.pruned_12_meta.nwk.Rooted.MPAJH\n",
      "../Data/pruned_euk_trees/KOG1461.faa.aln.pruned_12_meta.nwk.Rooted.MPAJH\n",
      "../Data/pruned_euk_trees/KOG0566.faa.aln.pruned_12_meta.nwk.Rooted.MPAJH\n",
      "../Data/pruned_euk_trees/KOG2603.faa.aln.pruned_12_meta.nwk.Rooted.MPAJH\n",
      "../Data/pruned_euk_trees/KOG3355.faa.aln.pruned_12_meta.nwk.Rooted.MPAJH\n",
      "../Data/pruned_euk_trees/KOG0176.faa.aln.pruned_12_meta.nwk.Rooted.MPAJH\n",
      "../Data/pruned_euk_trees/KOG3745.faa.aln.pruned_12_meta.nwk.Rooted.MPAJH\n",
      "../Data/pruned_euk_trees/KOG2638.faa.aln.pruned_12_meta.nwk.Rooted.MPAJH\n",
      "../Data/pruned_euk_trees/KOG0946.faa.aln.pruned_12_meta.nwk.Rooted.MPAJH\n",
      "../Data/pruned_euk_trees/KOG2329.faa.aln.pruned_12_meta.nwk.Rooted.MPAJH\n",
      "../Data/pruned_euk_trees/KOG1131.faa.aln.pruned_12_meta.nwk.Rooted.MPAJH\n",
      "../Data/pruned_euk_trees/KOG3396.faa.aln.pruned_12_meta.nwk.Rooted.MPAJH\n",
      "../Data/pruned_euk_trees/KOG1521.faa.aln.pruned_12_meta.nwk.Rooted.MPAJH\n",
      "../Data/pruned_euk_trees/KOG0426.faa.aln.pruned_12_meta.nwk.Rooted.MPAJH\n",
      "../Data/pruned_euk_trees/KOG2291.faa.aln.pruned_12_meta.nwk.Rooted.MPAJH\n",
      "../Data/pruned_euk_trees/KOG1089.faa.aln.pruned_12_meta.nwk.Rooted.MPAJH\n",
      "../Data/pruned_euk_trees/KOG0036.faa.aln.pruned_12_meta.nwk.Rooted.MPAJH\n",
      "../Data/pruned_euk_trees/KOG1499.faa.aln.pruned_12_meta.nwk.Rooted.MPAJH\n",
      "../Data/pruned_euk_trees/KOG0039.faa.aln.pruned_12_meta.nwk.Rooted.MPAJH\n",
      "../Data/pruned_euk_trees/KOG1554.faa.aln.pruned_12_meta.nwk.Rooted.MPAJH\n",
      "../Data/pruned_euk_trees/KOG0181.faa.aln.pruned_12_meta.nwk.Rooted.MPAJH\n",
      "../Data/pruned_euk_trees/KOG3399.faa.aln.pruned_12_meta.nwk.Rooted.MPAJH\n",
      "../Data/pruned_euk_trees/KOG0453.faa.aln.pruned_12_meta.nwk.Rooted.MPAJH\n",
      "../Data/pruned_euk_trees/KOG0873.faa.aln.pruned_12_meta.nwk.Rooted.MPAJH\n",
      "../Data/pruned_euk_trees/KOG3298.faa.aln.pruned_12_meta.nwk.Rooted.MPAJH\n",
      "../Data/pruned_euk_trees/KOG1004.faa.aln.pruned_12_meta.nwk.Rooted.MPAJH\n",
      "../Data/pruned_euk_trees/KOG0569.faa.aln.pruned_12_meta.nwk.Rooted.MPAJH\n",
      "../Data/pruned_euk_trees/KOG0490.faa.aln.pruned_12_meta.nwk.Rooted.MPAJH\n",
      "../Data/pruned_euk_trees/KOG3771.faa.aln.pruned_12_meta.nwk.Rooted.MPAJH\n",
      "../Data/pruned_euk_trees/KOG2227.faa.aln.pruned_12_meta.nwk.Rooted.MPAJH\n",
      "../Data/pruned_euk_trees/KOG4205.faa.aln.pruned_12_meta.nwk.Rooted.MPAJH\n",
      "../Data/pruned_euk_trees/KOG1875.faa.aln.pruned_12_meta.nwk.Rooted.MPAJH\n",
      "../Data/pruned_euk_trees/KOG3320.faa.aln.pruned_12_meta.nwk.Rooted.MPAJH\n",
      "../Data/pruned_euk_trees/KOG1597.faa.aln.pruned_12_meta.nwk.Rooted.MPAJH\n",
      "../Data/pruned_euk_trees/KOG0103.faa.aln.pruned_12_meta.nwk.Rooted.MPAJH\n",
      "../Data/pruned_euk_trees/KOG2035.faa.aln.pruned_12_meta.nwk.Rooted.MPAJH\n",
      "../Data/pruned_euk_trees/KOG4017.faa.aln.pruned_12_meta.nwk.Rooted.MPAJH\n",
      "../Data/pruned_euk_trees/KOG0292.faa.aln.pruned_12_meta.nwk.Rooted.MPAJH\n",
      "../Data/pruned_euk_trees/KOG0251.faa.aln.pruned_12_meta.nwk.Rooted.MPAJH\n",
      "../Data/pruned_euk_trees/KOG2134.faa.aln.pruned_12_meta.nwk.Rooted.MPAJH\n",
      "../Data/pruned_euk_trees/KOG3980.faa.aln.pruned_12_meta.nwk.Rooted.MPAJH\n",
      "../Data/pruned_euk_trees/KOG3049.faa.aln.pruned_12_meta.nwk.Rooted.MPAJH\n",
      "../Data/pruned_euk_trees/KOG4157.faa.aln.pruned_12_meta.nwk.Rooted.MPAJH\n",
      "../Data/pruned_euk_trees/KOG1294.faa.aln.pruned_12_meta.nwk.Rooted.MPAJH\n",
      "../Data/pruned_euk_trees/KOG2175.faa.aln.pruned_12_meta.nwk.Rooted.MPAJH\n",
      "../Data/pruned_euk_trees/KOG4547.faa.aln.pruned_12_meta.nwk.Rooted.MPAJH\n",
      "../Data/pruned_euk_trees/KOG3418.faa.aln.pruned_12_meta.nwk.Rooted.MPAJH\n"
     ]
    }
   ],
   "source": [
    "# trees_dir = '../Data/euk_trees/*Rooted.MPAJH'\n",
    "# ideal_species_n = 31\n",
    "\n",
    "# trees_dir = '../Data/pruned_euk_trees/*_9_meta.nwk.Rooted.MPAJH'\n",
    "# ideal_species_n = 22\n",
    "\n",
    "trees_dir = '../Data/pruned_euk_trees/*_12_meta.nwk.Rooted.MPAJH'\n",
    "ideal_species_n = 19\n",
    "\n",
    "\n",
    "# methods = ['.MPAJH', '.MLAJH']\n",
    "methods = ['.MPAJH', '.MLAJH', '.MADAJH']\n",
    "accuracy_dict = {}\n",
    "for method in methods:\n",
    "    accuracy_dict[method] = []\n",
    "\n",
    "trees_tested = []\n",
    "\n",
    "for tree_loc in glob.glob(trees_dir)[:]:\n",
    "    print(tree_loc)\n",
    "    test_tree = Phylo.read(tree_loc, 'newick', rooted=True)\n",
    "    if len(test_tree.get_terminals()) != ideal_species_n:\n",
    "        continue\n",
    "    testy = [term for term in test_tree.get_terminals() if\\\n",
    "                      term.name in metazoa]\n",
    "    valid = is_monophyletic_all(test_tree.root, test_tree, testy, False)\n",
    "    if valid == False:\n",
    "        continue\n",
    "        \n",
    "    trees_tested.append(tree_loc)\n",
    "    for method in methods:\n",
    "        my_tree = Phylo.read(tree_loc.replace('.MPAJH', method), 'newick', rooted=True)\n",
    "        metazoa_clades = [term for term in my_tree.get_terminals() if\\\n",
    "                          term.name in metazoa]\n",
    "        if set(metazoa_clades) == set(my_tree.root.clades[0].get_terminals()) or \\\n",
    "            set(metazoa_clades) == set(my_tree.root.clades[1].get_terminals()):\n",
    "            accuracy_dict[method].append(1)\n",
    "        else:\n",
    "            accuracy_dict[method].append(0)\n",
    "        \n",
    "    ###ML\n",
    "#     ml_tree = Phylo.read(tree_loc.replace('.MPAJH', '.MLAJH'), 'newick', rooted=True)\n",
    "#     metazoa_clades = [term for term in ml_tree.get_terminals() if\\\n",
    "#                       term.name in metazoa]\n",
    "#     if set(metazoa_clades) == set(ml_tree.root.clades[0].get_terminals()) or \\\n",
    "#         set(metazoa_clades) == set(ml_tree.root.clades[1].get_terminals()):\n",
    "#         print('ML correct!')\n",
    "            \n",
    "#     ###ML        \n",
    "#     ml_tree = max_likelihood_root(tree)\n",
    "#     if set(testy) == set(ml_tree.root.clades[0].get_terminals()) or \\\n",
    "#         set(testy) == set(ml_tree.root.clades[1].get_terminals()):\n",
    "#             ml_success_rate += 1\n",
    "#     ###MAD\n",
    "#     testy = [term for term in mad_tree.get_terminals() if\\\n",
    "#                   term.name in metazoa]\n",
    "#     if set(testy) == set(mad_tree.root.clades[0].get_terminals()) or \\\n",
    "#         set(testy) == set(mad_tree.root.clades[1].get_terminals()):\n",
    "#             mad_success_rate += 1\n",
    "    "
   ]
  },
  {
   "cell_type": "code",
   "execution_count": 106,
   "metadata": {
    "collapsed": false
   },
   "outputs": [
    {
     "data": {
      "text/plain": [
       "(170, 151, 136)"
      ]
     },
     "execution_count": 106,
     "metadata": {},
     "output_type": "execute_result"
    }
   ],
   "source": [
    "np.sum(accuracy_dict['.MPAJH']), np.sum(accuracy_dict['.MLAJH']), np.sum(accuracy_dict['.MADAJH'])"
   ]
  },
  {
   "cell_type": "code",
   "execution_count": 107,
   "metadata": {
    "collapsed": false
   },
   "outputs": [
    {
     "data": {
      "text/plain": [
       "492"
      ]
     },
     "execution_count": 107,
     "metadata": {},
     "output_type": "execute_result"
    }
   ],
   "source": [
    "len(trees_tested)"
   ]
  },
  {
   "cell_type": "code",
   "execution_count": 110,
   "metadata": {
    "collapsed": false
   },
   "outputs": [
    {
     "data": {
      "text/plain": [
       "(0.2764227642276423, 0.34552845528455284)"
      ]
     },
     "execution_count": 110,
     "metadata": {},
     "output_type": "execute_result"
    }
   ],
   "source": [
    "(136/492), (170/492)"
   ]
  },
  {
   "cell_type": "code",
   "execution_count": 93,
   "metadata": {
    "collapsed": false
   },
   "outputs": [],
   "source": [
    "success = []\n",
    "failure = []\n",
    "for i, tree_loc in enumerate(trees_tested):  \n",
    "    if accuracy_dict['.MADAJH'][i] == 1 and accuracy_dict['.MPAJH'][i] == 0:\n",
    "        mad_tree = Phylo.read(tree_loc.replace('.MPAJH', '.MADAJH'), 'newick', rooted=True)\n",
    "        temp_bl = mad_tree.root.clades[0].branch_length + mad_tree.root.clades[1].branch_length\n",
    "        smallest = min(mad_tree.root.clades[0].total_branch_length()-mad_tree.root.clades[0].branch_length,\\\n",
    "                       mad_tree.root.clades[1].total_branch_length()-mad_tree.root.clades[1].branch_length)\n",
    "        success.append(smallest/(mad_tree.total_branch_length()-temp_bl))\n",
    "    \n",
    "    elif accuracy_dict['.MADAJH'][i] == 0 and accuracy_dict['.MPAJH'][i] == 1:\n",
    "        mp_tree = Phylo.read(tree_loc.replace('.MPAJH', '.MPAJH'), 'newick', rooted=True)\n",
    "        temp_bl = mp_tree.root.clades[0].branch_length + mp_tree.root.clades[1].branch_length\n",
    "        smallest = min(mp_tree.root.clades[0].total_branch_length()-mp_tree.root.clades[0].branch_length,\\\n",
    "                       mp_tree.root.clades[1].total_branch_length()-mp_tree.root.clades[1].branch_length)\n",
    "        failure.append(smallest/(mp_tree.total_branch_length()-temp_bl))\n",
    "        \n"
   ]
  },
  {
   "cell_type": "code",
   "execution_count": 94,
   "metadata": {
    "collapsed": false
   },
   "outputs": [
    {
     "data": {
      "text/plain": [
       "0.4042924544925427"
      ]
     },
     "execution_count": 94,
     "metadata": {},
     "output_type": "execute_result"
    }
   ],
   "source": [
    "np.mean(success)"
   ]
  },
  {
   "cell_type": "code",
   "execution_count": 95,
   "metadata": {
    "collapsed": false
   },
   "outputs": [
    {
     "data": {
      "text/plain": [
       "0.43857567937228148"
      ]
     },
     "execution_count": 95,
     "metadata": {},
     "output_type": "execute_result"
    }
   ],
   "source": [
    "np.mean(failure)"
   ]
  },
  {
   "cell_type": "code",
   "execution_count": 96,
   "metadata": {
    "collapsed": false
   },
   "outputs": [
    {
     "data": {
      "text/plain": [
       "(array([ 1.,  0.,  1.,  0.,  3.,  0.,  1.,  3.,  2.,  4.]),\n",
       " array([ 0.31111979,  0.32991234,  0.34870489,  0.36749744,  0.38628999,\n",
       "         0.40508255,  0.4238751 ,  0.44266765,  0.4614602 ,  0.48025275,\n",
       "         0.4990453 ]),\n",
       " <a list of 10 Patch objects>)"
      ]
     },
     "execution_count": 96,
     "metadata": {},
     "output_type": "execute_result"
    },
    {
     "data": {
      "image/png": "[encoded data removed]",
      "text/plain": [
       "<matplotlib.figure.Figure at 0x11b7213c8>"
      ]
     },
     "metadata": {},
     "output_type": "display_data"
    }
   ],
   "source": [
    "fig, ax = plt.subplots()\n",
    "ax.hist(success, alpha=0.5)\n",
    "ax.hist(failure, alpha=0.5)\n"
   ]
  },
  {
   "cell_type": "code",
   "execution_count": 74,
   "metadata": {
    "collapsed": false
   },
   "outputs": [
    {
     "data": {
      "text/plain": [
       "RanksumsResult(statistic=2.3034533599157627, pvalue=0.021253348448615025)"
      ]
     },
     "execution_count": 74,
     "metadata": {},
     "output_type": "execute_result"
    }
   ],
   "source": [
    "stats.ranksums(failure, success)"
   ]
  },
  {
   "cell_type": "code",
   "execution_count": 77,
   "metadata": {
    "collapsed": false
   },
   "outputs": [
    {
     "data": {
      "text/plain": [
       "Ttest_indResult(statistic=2.3895548355984872, pvalue=0.025476701841882686)"
      ]
     },
     "execution_count": 77,
     "metadata": {},
     "output_type": "execute_result"
    }
   ],
   "source": [
    "stats.ttest_ind(failure, success, equal_var=False)"
   ]
  },
  {
   "cell_type": "code",
   "execution_count": null,
   "metadata": {
    "collapsed": true
   },
   "outputs": [],
   "source": []
  }
 ],
 "metadata": {
  "kernelspec": {
   "display_name": "Python 3",
   "language": "python",
   "name": "python3"
  },
  "language_info": {
   "codemirror_mode": {
    "name": "ipython",
    "version": 3
   },
   "file_extension": ".py",
   "mimetype": "text/x-python",
   "name": "python",
   "nbconvert_exporter": "python",
   "pygments_lexer": "ipython3",
   "version": "3.4.5"
  },
  "toc": {
   "colors": {
    "hover_highlight": "#DAA520",
    "navigate_num": "#000000",
    "navigate_text": "#333333",
    "running_highlight": "#FF0000",
    "selected_highlight": "#FFD700",
    "sidebar_border": "#EEEEEE",
    "wrapper_background": "#FFFFFF"
   },
   "moveMenuLeft": true,
   "nav_menu": {
    "height": "30px",
    "width": "252px"
   },
   "navigate_menu": true,
   "number_sections": true,
   "sideBar": true,
   "threshold": 4,
   "toc_cell": false,
   "toc_section_display": "block",
   "toc_window_display": false,
   "widenNotebook": false
  }
 },
 "nbformat": 4,
 "nbformat_minor": 2
}

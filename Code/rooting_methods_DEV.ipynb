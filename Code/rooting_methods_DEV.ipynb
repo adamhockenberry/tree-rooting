{
 "cells": [
  {
   "cell_type": "code",
   "execution_count": 1,
   "metadata": {
    "collapsed": false
   },
   "outputs": [],
   "source": [
    "%matplotlib inline\n",
    "%load_ext autoreload\n",
    "%autoreload 2"
   ]
  },
  {
   "cell_type": "markdown",
   "metadata": {},
   "source": [
    "# Summary\n",
    "\n",
    "The point of this notebook is to develop better tree rooting algorithms. Develop, because this will be messy for the time being and will eventually split into hopefully comprehensible code when the time arises."
   ]
  },
  {
   "cell_type": "code",
   "execution_count": 64,
   "metadata": {
    "collapsed": true
   },
   "outputs": [],
   "source": [
    "from Bio import Phylo\n",
    "import numpy as np\n",
    "from scipy import stats\n",
    "\n",
    "import ete3\n",
    "from io import StringIO\n",
    "import random\n",
    "from scipy.optimize import minimize, minimize_scalar\n",
    "from matplotlib import pyplot as plt\n",
    "\n",
    "import glob\n",
    "import pandas as pd\n",
    "\n",
    "import copy"
   ]
  },
  {
   "cell_type": "markdown",
   "metadata": {
    "collapsed": true
   },
   "source": [
    "# Test my MP algorithm\n",
    "\n",
    "I'm confident that it works, at least on the trees I've tested. But I really need to demonstrate that here.\n",
    "\n",
    "Note that I've uncovered weird problems with the `root_at_midpoint()` method from `Bio.Phylo`, so I won't be trusting it as a positive control. Rather, should demonstrate that they are usually equivalent and when there are discrepancies my method produces the expected behavior (conserving branch length, for instance)."
   ]
  },
  {
   "cell_type": "code",
   "execution_count": null,
   "metadata": {
    "collapsed": true
   },
   "outputs": [],
   "source": [
    "import rooting_methods"
   ]
  },
  {
   "cell_type": "code",
   "execution_count": null,
   "metadata": {
    "collapsed": false
   },
   "outputs": [],
   "source": [
    "for input_tree in glob.glob('../Tria_et_al_data/cyanobacteria/ingroup/phyml/*.nwk')[:]:\n",
    "    my_tree = Phylo.read(input_tree, 'newick', rooted=False)\n",
    "    initial_terminals = my_tree.get_terminals()\n",
    "    my_tree = rooting_methods.mp_root_adhock(my_tree)\n",
    "    assert my_tree.is_bifurcating()\n",
    "    my_bls = (my_tree.root.clades[0].branch_length, my_tree.root.clades[1].branch_length)\n",
    "    my_bls = sorted(my_bls)\n",
    "    phylo_tree = Phylo.read(input_tree, 'newick', rooted=False)\n",
    "    phylo_tree.root_at_midpoint()\n",
    "    phylo_bls = (phylo_tree.root.clades[0].branch_length, phylo_tree.root.clades[1].branch_length)\n",
    "    phylo_bls = sorted(phylo_bls)"
   ]
  },
  {
   "cell_type": "code",
   "execution_count": null,
   "metadata": {
    "collapsed": false
   },
   "outputs": [],
   "source": []
  },
  {
   "cell_type": "code",
   "execution_count": null,
   "metadata": {
    "collapsed": true
   },
   "outputs": [],
   "source": []
  },
  {
   "cell_type": "code",
   "execution_count": null,
   "metadata": {
    "collapsed": true
   },
   "outputs": [],
   "source": []
  },
  {
   "cell_type": "markdown",
   "metadata": {},
   "source": [
    "**Investigate example errors**"
   ]
  },
  {
   "cell_type": "code",
   "execution_count": null,
   "metadata": {
    "collapsed": true
   },
   "outputs": [],
   "source": []
  },
  {
   "cell_type": "code",
   "execution_count": null,
   "metadata": {
    "collapsed": true
   },
   "outputs": [],
   "source": []
  },
  {
   "cell_type": "markdown",
   "metadata": {},
   "source": [
    "**The ete3 method is just plain wrong**"
   ]
  },
  {
   "cell_type": "code",
   "execution_count": null,
   "metadata": {
    "collapsed": true
   },
   "outputs": [],
   "source": [
    "# tree_loc = '../test.ete3.newick'\n",
    "# # tree_loc = '/Users/adamhockenberry/Projects/Phylogenetic_couplings/scratch/current/1AOE_A_rp75.newick'\n",
    "# tree = ete3.Tree(tree_loc)\n",
    "# outgroup = tree.get_midpoint_outgroup()\n",
    "# tree.set_outgroup(outgroup)\n",
    "# tree.render('%%inline')"
   ]
  },
  {
   "cell_type": "code",
   "execution_count": null,
   "metadata": {
    "collapsed": true
   },
   "outputs": [],
   "source": []
  },
  {
   "cell_type": "code",
   "execution_count": null,
   "metadata": {
    "collapsed": true
   },
   "outputs": [],
   "source": []
  },
  {
   "cell_type": "markdown",
   "metadata": {},
   "source": [
    "** Add in a comparison to DendroPy to be comprehensive **"
   ]
  },
  {
   "cell_type": "code",
   "execution_count": null,
   "metadata": {
    "collapsed": true
   },
   "outputs": [],
   "source": []
  },
  {
   "cell_type": "code",
   "execution_count": null,
   "metadata": {
    "collapsed": true
   },
   "outputs": [],
   "source": []
  },
  {
   "cell_type": "code",
   "execution_count": null,
   "metadata": {
    "collapsed": false
   },
   "outputs": [],
   "source": []
  },
  {
   "cell_type": "code",
   "execution_count": null,
   "metadata": {
    "collapsed": true
   },
   "outputs": [],
   "source": []
  },
  {
   "cell_type": "markdown",
   "metadata": {},
   "source": [
    "# Testing method based off of minimizing the standard deviation in the distribution of root-to-tip distances\n",
    "\n",
    "...this is surprisingly easy and seems like it should work great...I guess it's just the Min-var or MCCV method as it's called in the MAD paper? Not sure if maximizing the likelihood of a gaussian is the sme as minimizing the coefficient of variation but I'm kind of guessing yes. And in any event this code is easily adapted"
   ]
  },
  {
   "cell_type": "code",
   "execution_count": null,
   "metadata": {
    "collapsed": false
   },
   "outputs": [],
   "source": [
    "# def branch_search(bl, tree, node, terminal_list, non_terminal_list):\n",
    "#     if node in terminal_list:\n",
    "#         tree.root_with_outgroup(tree.root.clades[0].clades[0], outgroup_branch_length=10e-8)\n",
    "#     else:\n",
    "#         valid_terms = [term for term in terminal_list if term not in tree.find_any(node).clades][-1]\n",
    "#         tree.root_with_outgroup(valid_terms, outgroup_branch_length=10e-8)\n",
    "#     tree.root_with_outgroup(node, outgroup_branch_length=bl)\n",
    "#     all_dists = [float(j) for i,j in tree.depths().items() if i in terminal_list]\n",
    "#     mean, std = stats.norm.fit(all_dists)\n",
    "#     return -np.sum(stats.norm.logpdf(all_dists, loc=mean, scale=std))"
   ]
  },
  {
   "cell_type": "code",
   "execution_count": null,
   "metadata": {
    "collapsed": false
   },
   "outputs": [],
   "source": [
    "# tree_loc = '../test.ete3.newick'\n",
    "# # tree_loc = '/Users/adamhockenberry/Projects/Phylogenetic_couplings/scratch/current/1AOE_A_rp75.newick'\n",
    "# ###Load the tree\n",
    "# tree = Phylo.read(tree_loc, 'newick', rooted=False)\n",
    "# for i, internal_node in enumerate(tree.get_nonterminals()):\n",
    "#     internal_node.name = 'I{}'.format(i)\n",
    "# print(tree.total_branch_length())\n",
    "# # Phylo.draw(tree)"
   ]
  },
  {
   "cell_type": "code",
   "execution_count": null,
   "metadata": {
    "collapsed": false
   },
   "outputs": [],
   "source": [
    "# tree.root_at_midpoint()\n",
    "# Phylo.draw(tree)\n",
    "# print(tree.total_branch_length())\n",
    "# print(tree.root.clades)"
   ]
  },
  {
   "cell_type": "code",
   "execution_count": null,
   "metadata": {
    "collapsed": false
   },
   "outputs": [],
   "source": [
    "# ###\n",
    "# terminal_list = tree.get_terminals()\n",
    "# non_terminal_list = tree.get_nonterminals()\n",
    "# solutions = []\n",
    "# for node in terminal_list:\n",
    "#     if node.branch_length == None:\n",
    "#         continue\n",
    "# #     print('Name: ', node.name)\n",
    "# #     print('This should be my max! :', node.branch_length)\n",
    "#     bl_bounds = (10e-8, node.branch_length-10e-8)\n",
    "#     res = minimize_scalar(branch_search, node.branch_length/2.,\\\n",
    "#                           args=(tree, node, terminal_list, non_terminal_list),\\\n",
    "#                           bounds=bl_bounds, method='bounded')\n",
    "#     print(tree.total_branch_length())\n",
    "# #     print('finished one!')\n",
    "#     solutions.append((node, res.x, res.fun))\n",
    "# print('starting tricky nonterms')\n",
    "# # tree.root_with_outgroup([term for term in terminal_list if term not in node.clades][0], outgroup_branch_length=10e-8)\n",
    "# # for node in non_terminal_list:\n",
    "# #     if node.branch_length == None:\n",
    "# #         continue\n",
    "# #     print('Name: ', node.name)\n",
    "# #     print('This should be my max! :', node.branch_length)\n",
    "# #     bl_bounds = (10e-8, node.branch_length-10e-8)\n",
    "# #     res = minimize_scalar(branch_search, node.branch_length/2.,\\\n",
    "# #                           args=(tree, node, terminal_list, non_terminal_list),\\\n",
    "# #                           bounds=bl_bounds, method='bounded')\n",
    "# #     print(tree.total_branch_length())\n",
    "# #     print('finished one!')\n",
    "# #     solutions.append((node, res.x, res.fun))\n",
    "# # #     print(node)\n",
    "# # #     parent = tree.get_path(node)[-2]\n",
    "\n",
    "\n",
    "# # #     print(node)\n",
    "# # #     print(np.mean(all_dists), np.std(all_dists))\n",
    "# # #     print(tree.root[0].get_terminals())"
   ]
  },
  {
   "cell_type": "code",
   "execution_count": null,
   "metadata": {
    "collapsed": false
   },
   "outputs": [],
   "source": [
    "# tree.find_any('I3').clades"
   ]
  },
  {
   "cell_type": "code",
   "execution_count": null,
   "metadata": {
    "collapsed": false
   },
   "outputs": [],
   "source": [
    "# tree.root_at_midpoint()\n",
    "# Phylo.draw(tree)"
   ]
  },
  {
   "cell_type": "code",
   "execution_count": null,
   "metadata": {
    "collapsed": false
   },
   "outputs": [],
   "source": [
    "# solutions = sorted(solutions, key=lambda x: x[2])\n",
    "# print(solutions[:10])"
   ]
  },
  {
   "cell_type": "code",
   "execution_count": null,
   "metadata": {
    "collapsed": false
   },
   "outputs": [],
   "source": [
    "# Phylo.draw(tree)\n",
    "# print(tree.root.clades)"
   ]
  },
  {
   "cell_type": "code",
   "execution_count": null,
   "metadata": {
    "collapsed": false
   },
   "outputs": [],
   "source": [
    "# tree_loc = '../test.phylo.newick'\n",
    "# tree = Phylo.read(tree_loc, 'newick', rooted=False)\n",
    "# for clade in tree.get_nonterminals():\n",
    "#     print(len(clade.clades))\n",
    "# print([i for i in tree.get_terminals() if i.name == '6239'])\n",
    "# tree.root_with_outgroup('6239', outgroup_branch_length=1.1544946848352169)"
   ]
  },
  {
   "cell_type": "code",
   "execution_count": null,
   "metadata": {
    "collapsed": false
   },
   "outputs": [],
   "source": [
    "# if solutions[0][0] not in tree.root.clades:\n",
    "#     tree.root_with_outgroup(solutions[0][0], outgroup_branch_length=solutions[0][1])\n",
    "# else:\n",
    "#     tree.root_with_outgroup(solutions[10][0], outgroup_branch_length=10e-8)\n",
    "#     tree.root_with_outgroup(solutions[0][0], outgroup_branch_length=solutions[0][1])\n",
    "# # tree.root_with_outgroup(solutions[0][0])\n",
    "# Phylo.draw(tree)"
   ]
  },
  {
   "cell_type": "code",
   "execution_count": null,
   "metadata": {
    "collapsed": false
   },
   "outputs": [],
   "source": [
    "# solutions[0]"
   ]
  },
  {
   "cell_type": "code",
   "execution_count": null,
   "metadata": {
    "collapsed": true
   },
   "outputs": [],
   "source": [
    "####THIS IS BROKEN\n",
    "# def branch_scan(modifier, l_mp_dists, r_mp_dists):\n",
    "#     temp_l_mp_dists = np.array(l_mp_dists) + modifier\n",
    "#     temp_r_mp_dists = np.array(r_mp_dists) - modifier\n",
    "#     all_dists = np.concatenate((temp_l_mp_dists, temp_r_mp_dists))\n",
    "#     mean, std = stats.norm.fit(all_dists)\n",
    "#     return -np.sum(stats.norm.logpdf(all_dists, loc=mean, scale=std))\n",
    "\n",
    "# def recursive_tree_root(hypothetical_root, explored, function_optima, tree):\n",
    "#     '''\n",
    "#     '''\n",
    "#     if len(hypothetical_root.clades) == 2:\n",
    "#         l_clade, r_clade = hypothetical_root.clades      \n",
    "#         #L clade first\n",
    "#         if l_clade.branch_length > 0:\n",
    "#             tree.root_with_outgroup(l_clade, outgroup_branch_length=0.)\n",
    "#             res = optimize_root_loc_on_branch(tree)\n",
    "#             function_optima.append((l_clade, res))\n",
    "#             explored, function_optima = recursive_tree_root(l_clade, explored, function_optima, tree)\n",
    "#         #R clade second\n",
    "#         if r_clade.branch_length > 0:\n",
    "#             tree.root_with_outgroup(r_clade, outgroup_branch_length=0.)\n",
    "#             res = optimize_root_loc_on_branch(tree, left=False)\n",
    "#             function_optima.append((r_clade, res))\n",
    "#             explored, function_optima = recursive_tree_root(r_clade, explored, function_optima, tree)\n",
    "        \n",
    "#     elif len(hypothetical_root.clades) == 1:\n",
    "#         l_clade = hypothetical_root.clades[0]\n",
    "#         if l_clade.branch_length > 0:\n",
    "#             tree.root_with_outgroup(l_clade, outgroup_branch_length=0.)\n",
    "#             res = optimize_root_loc_on_branch(tree)\n",
    "#             function_optima.append((l_clade, res))\n",
    "#             explored, function_optima = recursive_tree_root(l_clade, explored, function_optima, tree)\n",
    "    \n",
    "#     elif len(hypothetical_root.clades) == 0:\n",
    "#         explored.append(hypothetical_root)\n",
    "#         return explored, function_optima\n",
    "    \n",
    "#     else:\n",
    "#         print('Some big error here with the number of clades stemming from this root')\n",
    "#     explored.append(hypothetical_root)\n",
    "#     return explored, function_optima\n",
    "\n",
    "# def optimize_root_loc_on_branch(tree, left=True):\n",
    "#     '''\n",
    "#     This will be made much much much faster if I can avoid the step of getting the depths\n",
    "#     of all terminals by passing an argument as a modifier allowing me to do it once at the beginning\n",
    "#     and then calling it a day by adding/subtracting from this array\n",
    "#     '''\n",
    "#     ###for a hypothetical root\n",
    "#     assert len(tree.root.clades) == 2\n",
    "#     if left:\n",
    "#         lterms = tree.root.clades[0].get_terminals()\n",
    "#         rterms = tree.root.clades[1].get_terminals()\n",
    "#         all_depths = tree.depths().items()\n",
    "#         lterm_dists = [float(j) for i,j in all_depths if i in lterms]\n",
    "#         rterm_dists = [float(j) for i,j in all_depths if i in rterms]\n",
    "#         current_loc = tree.root.clades[0].branch_length\n",
    "#         max_bound = tree.root.clades[1].branch_length\n",
    "#         bl_bounds = np.array([[-current_loc, max_bound]])\n",
    "#     else:\n",
    "#         rterms = tree.root.clades[0].get_terminals()\n",
    "#         lterms = tree.root.clades[1].get_terminals()\n",
    "#         all_depths = tree.depths().items()\n",
    "#         lterm_dists = [float(j) for i,j in all_depths if i in lterms]\n",
    "#         rterm_dists = [float(j) for i,j in all_depths if i in rterms]\n",
    "#         current_loc = tree.root.clades[1].branch_length\n",
    "#         max_bound = tree.root.clades[0].branch_length\n",
    "#         bl_bounds = np.array([[current_loc, max_bound]])\n",
    "# #         bl_bounds = np.array([[-current_loc, max_bound]])\n",
    "#     res = minimize(branch_scan, np.array(0.),\\\n",
    "#                           args=(lterm_dists, rterm_dists),\\\n",
    "#                           bounds=bl_bounds, method='SLSQP')\n",
    "# #     res = minimize(branch_scan, np.array(0.),\\\n",
    "# #                           args=(lterm_dists, rterm_dists),\\\n",
    "# #                           bounds=bl_bounds, method='L-BFGS-B')\n",
    "#     return res\n",
    "\n",
    "# def max_likelihood_root(tree):\n",
    "#     explored, function_optima = recursive_tree_root(tree.root, [], [], tree)\n",
    "#     function_optima = sorted(function_optima, key=lambda x: x[1].fun)\n",
    "#     tree.root_with_outgroup(function_optima[1][0], outgroup_branch_length=0.)\n",
    "# #     assert tree.root.clades[1].branch_length == 0.\n",
    "# #     tree.root.clades[0].branch_length += function_optima[1][1].x[0]\n",
    "# #     tree.root.clades[1].branch_length -= function_optima[1][1].x[0]\n",
    "#     return tree, function_optima"
   ]
  },
  {
   "cell_type": "code",
   "execution_count": null,
   "metadata": {
    "collapsed": false
   },
   "outputs": [],
   "source": [
    "###This should work\n",
    "# def branch_scan(modifier, ds_dists, us_dists):\n",
    "#     temp_ds_dists = ds_dists + modifier\n",
    "#     temp_us_dists = us_dists - modifier\n",
    "#     all_dists = np.concatenate((temp_ds_dists, temp_us_dists))\n",
    "#     mean, std = stats.norm.fit(all_dists)\n",
    "#     return -np.sum(stats.norm.logpdf(all_dists, loc=mean, scale=std))\n",
    "\n",
    "# def update_depth_df_dict(my_clade, parent_clade, depths_dict):\n",
    "#     downstream_terms = [i.name for i in my_clade.get_terminals()]\n",
    "#     upstream_terms = list(set(list(depths_dict[parent_clade].index)) - set(downstream_terms))\n",
    "#     depths_dict[my_clade] = depths_dict[parent_clade].copy(deep=True)\n",
    "#     depths_dict[my_clade].loc[downstream_terms, 'depth'] -= my_clade.branch_length\n",
    "    \n",
    "\n",
    "#     depths_dict[my_clade].loc[upstream_terms, 'depth'] += my_clade.branch_length\n",
    "#     return depths_dict, downstream_terms, upstream_terms\n",
    "\n",
    "# def recursive_tree_root(hypothetical_root, explored, function_optima, depths_dict, tree):\n",
    "#     '''\n",
    "#     '''\n",
    "#     if len(hypothetical_root.clades) == 2:\n",
    "#         l_clade, r_clade = hypothetical_root.clades \n",
    "#         l_bl = l_clade.branch_length\n",
    "#         r_bl = r_clade.branch_length\n",
    "#         #L clade first\n",
    "#         if l_bl > 0:\n",
    "#             depths_dict, downstream_terms, upstream_terms = update_depth_df_dict(l_clade, hypothetical_root, depths_dict)\n",
    "#             res = optimize_root_loc_on_branch(l_clade, depths_dict[l_clade], downstream_terms, upstream_terms)\n",
    "#             function_optima.append((l_clade, res))\n",
    "#             explored, function_optima, depths_dict = recursive_tree_root(l_clade, explored, function_optima, depths_dict, tree)\n",
    "#         #R clade second\n",
    "#         if r_clade.branch_length > 0:\n",
    "#             depths_dict, downstream_terms, upstream_terms = update_depth_df_dict(r_clade, hypothetical_root, depths_dict)\n",
    "#             res = optimize_root_loc_on_branch(r_clade, depths_dict[r_clade], downstream_terms, upstream_terms)\n",
    "#             function_optima.append((r_clade, res))\n",
    "#             explored, function_optima, depths_dict = recursive_tree_root(r_clade, explored, function_optima, depths_dict, tree)\n",
    "        \n",
    "#     elif len(hypothetical_root.clades) == 1:\n",
    "#         l_clade = hypothetical_root.clades[0]\n",
    "#         l_bl = l_clade.branch_length\n",
    "#         if l_clade.branch_length > 0:\n",
    "#             depths_dict, downstream_terms, upstream_terms = update_depth_df_dict(l_clade, hypothetical_root, depths_dict)\n",
    "#             res = optimize_root_loc_on_branch(l_clade, depths_dict[l_clade], downstream_terms, upstream_terms)\n",
    "#             function_optima.append((l_clade, res))\n",
    "#             explored, function_optima, depths_dict = recursive_tree_root(l_clade, explored, function_optima, depths_dict, tree)\n",
    "    \n",
    "#     elif len(hypothetical_root.clades) == 0:\n",
    "#         explored.append(hypothetical_root)\n",
    "#         return explored, function_optima, depths_dict\n",
    "    \n",
    "#     else:\n",
    "#         print('Some big error here with the number of clades stemming from this root')\n",
    "#     explored.append(hypothetical_root)\n",
    "#     return explored, function_optima, depths_dict\n",
    "\n",
    "# def optimize_root_loc_on_branch(clade, depths_df, downstream_terms, upstream_terms):\n",
    "#     '''\n",
    "#     '''\n",
    "#     downstream_dists = np.array(depths_df.loc[downstream_terms, 'depth'])\n",
    "#     upstream_dists = np.array(depths_df.loc[upstream_terms, 'depth'])\n",
    "#     bl_bounds = np.array([[0., clade.branch_length]])\n",
    "#     res = minimize(branch_scan, np.array(np.mean(bl_bounds)),\\\n",
    "#                           args=(downstream_dists, upstream_dists),\\\n",
    "#                           bounds=bl_bounds, method='SLSQP')\n",
    "# #     res = minimize(branch_scan, np.array(0.),\\\n",
    "# #                           args=(downstream_dists, upstream_dists),\\\n",
    "# #                           bounds=bl_bounds, method='L-BFGS-B')\n",
    "#     return res\n",
    "\n",
    "# def max_likelihood_root(tree):\n",
    "#     depths_dict = {}\n",
    "#     initial_depths = tree.root.depths()\n",
    "#     terminal_depths_df = pd.DataFrame()\n",
    "#     terminal_depths_df['depth'] = np.nan\n",
    "#     for term in tree.get_terminals():\n",
    "#         terminal_depths_df.set_value(term.name, 'depth', initial_depths[term])\n",
    "#     depths_dict[tree.root] = terminal_depths_df\n",
    "#     explored, function_optima, depths_dict = recursive_tree_root(tree.root, [], [], depths_dict, tree)\n",
    "#     function_optima = sorted(function_optima, key=lambda x: x[1].fun)\n",
    "#     tree.root_with_outgroup(function_optima[0][0], outgroup_branch_length=0.)\n",
    "#     assert tree.root.clades[1].branch_length == 0.\n",
    "#     tree.root.clades[0].branch_length -= function_optima[0][1].x[0]\n",
    "#     tree.root.clades[1].branch_length += function_optima[0][1].x[0]\n",
    "#     return tree, function_optima, depths_dict"
   ]
  },
  {
   "cell_type": "code",
   "execution_count": null,
   "metadata": {
    "collapsed": true
   },
   "outputs": [],
   "source": []
  },
  {
   "cell_type": "markdown",
   "metadata": {},
   "source": [
    "# Testing systematically"
   ]
  },
  {
   "cell_type": "code",
   "execution_count": null,
   "metadata": {
    "collapsed": false
   },
   "outputs": [],
   "source": [
    "id_species_dict = {}\n",
    "with open('../Tria_et_al_data/eukaryotes/ID_to_Species.txt', 'r') as infile:\n",
    "    texty = infile.readlines()\n",
    "    for line in texty[1:]:\n",
    "        sl = line.split('\\t')\n",
    "        id_species_dict[sl[0]] = sl[1]\n",
    "print(len(id_species_dict.keys()))\n",
    "\n",
    "species_seqid_dict = {}\n",
    "with open('../Tria_et_al_data/eukaryotes/cluster_to_seqid.txt', 'r') as infile:\n",
    "    texty = infile.readlines()\n",
    "    for line in texty:\n",
    "        sl = line.split('\\t')\n",
    "        if sl[0] == 'KOG0725':\n",
    "            species_seqid_dict[sl[1]] = sl[2].strip()\n",
    "print(len(species_seqid_dict.keys()))"
   ]
  },
  {
   "cell_type": "code",
   "execution_count": null,
   "metadata": {
    "collapsed": false
   },
   "outputs": [],
   "source": [
    "\n",
    "# fungi = ['13684', ]\n",
    "# id_species_dict"
   ]
  },
  {
   "cell_type": "markdown",
   "metadata": {},
   "source": [
    "** test monophyly **"
   ]
  },
  {
   "cell_type": "code",
   "execution_count": null,
   "metadata": {
    "collapsed": false
   },
   "outputs": [],
   "source": [
    "def recursive_tree_monophyly(hypothetical_root, tree, test_set, is_mono):\n",
    "    if tree.is_monophyletic(test_set):\n",
    "        is_mono = True\n",
    "    if len(hypothetical_root.clades) == 2:\n",
    "        l_clade, r_clade = hypothetical_root.clades\n",
    "        if l_clade.branch_length > 0:\n",
    "            tree.root_with_outgroup(l_clade, outgroup_branch_length=10e-10)\n",
    "            is_mono = recursive_tree_monophyly(l_clade, tree, test_set, is_mono)\n",
    "            is_mono = recursive_tree_monophyly(r_clade, tree, test_set, is_mono)\n",
    "        elif r_clade.branch_length > 0:\n",
    "            tree.root_with_outgroup(r_clade, outgroup_branch_length=10e-10)\n",
    "            is_mono = recursive_tree_monophyly(l_clade, tree, test_set, is_mono)\n",
    "            is_mono = recursive_tree_monophyly(r_clade, tree, test_set, is_mono)\n",
    "    elif len(hypothetical_root.clades) == 1:\n",
    "        l_clade = hypothetical_root.clades[0]\n",
    "        if l_clade.branch_length > 0:\n",
    "            tree.root_with_outgroup(l_clade, outgroup_branch_length=10e-10)\n",
    "            is_mono = recursive_tree_monophyly(l_clade, tree, test_set, is_mono)\n",
    "    elif len(hypothetical_root.clades) == 0:\n",
    "        return is_mono\n",
    "    return is_mono\n",
    "\n",
    "# tree.get_terminals()\n",
    "# tree.is_monophyletic(metazoa)\n",
    "tree = Phylo.read('../test.ete3.newick', 'newick', rooted=False)\n",
    "tree = mp_root_adhock(tree)\n",
    "# tree.is_monophyletic([term for term in tree.get_terminals() if\\\n",
    "#                       term.name in ['7165', '7425', '7460', '121225', '7227', '6239']])"
   ]
  },
  {
   "cell_type": "code",
   "execution_count": null,
   "metadata": {
    "collapsed": false
   },
   "outputs": [],
   "source": [
    "testy = [term for term in tree.get_terminals() if\\\n",
    "                      term.name in metazoa]\n",
    "recursive_tree_monophyly(tree.root, tree, testy, False)"
   ]
  },
  {
   "cell_type": "code",
   "execution_count": null,
   "metadata": {
    "collapsed": false
   },
   "outputs": [],
   "source": [
    "Phylo.draw(tree)"
   ]
  },
  {
   "cell_type": "code",
   "execution_count": null,
   "metadata": {
    "collapsed": false
   },
   "outputs": [],
   "source": [
    "metazoa = ['10090', '121225', '9606', '30611', '8364', '7955', '8128', '8090',\\\n",
    "          '7668', '7460', '7425', '7227', '7165', '6239']\n",
    "problematic = ['../Tria_et_al_data/eukaryotes/ingroup/phyml/KOG3467.faa.aln.nwk',\\\n",
    "              '../Tria_et_al_data/eukaryotes/ingroup/phyml/KOG2866.faa.aln.nwk']\n",
    "\n",
    "trees_dir = '../Tria_et_al_data/eukaryotes/ingroup/phyml/*.nwk'\n",
    "ideal_species_number = 31\n",
    "\n",
    "# n_pruned = 15\n",
    "# trees_dir = '../Tria_et_al_data/eukaryotes/ingroup/phyml/*.{}.pruned'.format(n_pruned)\n",
    "# problematic = [i+'.{}.pruned'.format(n_pruned) for i in problematic]\n",
    "# # problematic += ['../Tria_et_al_data/eukaryotes/ingroup/phyml/KOG2688.faa.aln.nwk.6.pruned']\n",
    "# problematic += ['../Tria_et_al_data/eukaryotes/ingroup/phyml/KOG3887.faa.aln.nwk.15.pruned']\n",
    "# problematic += ['../Tria_et_al_data/eukaryotes/ingroup/phyml/KOG1374.faa.aln.nwk.15.pruned']\n",
    "# problematic += ['../Tria_et_al_data/eukaryotes/ingroup/phyml/KOG1558.faa.aln.nwk.15.pruned']\n",
    "# problematic += ['../Tria_et_al_data/eukaryotes/ingroup/phyml/KOG0284.faa.aln.nwk.15.pruned']\n",
    "# problematic += ['../Tria_et_al_data/eukaryotes/ingroup/phyml/KOG0594.faa.aln.nwk.15.pruned']\n",
    "# ideal_species_number = 31-n_pruned\n",
    "\n",
    "\n",
    "# trees_dir = ['../Tria_et_al_data/eukaryotes/ingroup/phyml/KOG0725.faa.aln.nwk']\n",
    "mp_success_rate = 0\n",
    "ml_success_rate = 0\n",
    "mad_success_rate = 0\n",
    "attempts = 0\n",
    "for tree_loc in glob.glob(trees_dir)[:50]:\n",
    "    if tree_loc in problematic:\n",
    "        continue\n",
    "    print('######## {}'.format(tree_loc))\n",
    "    tree = Phylo.read(tree_loc, 'newick')\n",
    "    if len(tree.get_terminals()) != ideal_species_number:\n",
    "        continue\n",
    "        \n",
    "    try:\n",
    "        mad_tree = Phylo.read(tree_loc+'.rooted', 'newick', rooted=True)\n",
    "    except ValueError:\n",
    "        print('MAD did not work here')\n",
    "        continue\n",
    "\n",
    "    testy = [term for term in tree.get_terminals() if\\\n",
    "                      term.name in metazoa]\n",
    "    rooted_tree = mp_root_adhock(tree)\n",
    "    valid = recursive_tree_monophyly(rooted_tree.root, rooted_tree, testy, False)\n",
    "    if valid:\n",
    "        attempts += 1\n",
    "        ###Mid point\n",
    "        mp_tree = mp_root_adhock(tree)\n",
    "        if set(testy) == set(mp_tree.root.clades[0].get_terminals()) or \\\n",
    "            set(testy) == set(mp_tree.root.clades[1].get_terminals()):\n",
    "                mp_success_rate += 1\n",
    "        ###ML        \n",
    "        ml_tree = max_likelihood_root(tree)\n",
    "        if set(testy) == set(ml_tree.root.clades[0].get_terminals()) or \\\n",
    "            set(testy) == set(ml_tree.root.clades[1].get_terminals()):\n",
    "                ml_success_rate += 1\n",
    "        ###MAD\n",
    "        testy = [term for term in mad_tree.get_terminals() if\\\n",
    "                      term.name in metazoa]\n",
    "        if set(testy) == set(mad_tree.root.clades[0].get_terminals()) or \\\n",
    "            set(testy) == set(mad_tree.root.clades[1].get_terminals()):\n",
    "                mad_success_rate += 1\n",
    "#     tree.root_at_midpoint()\n",
    "#     print(min([term.branch_length for term in tree.get_terminals()]))\n",
    "#     print(recursive_tree_monophyly(tree.root, tree, testy, False))\n",
    "    print(mp_success_rate, mad_success_rate)\n",
    "\n",
    "\n",
    "    "
   ]
  },
  {
   "cell_type": "code",
   "execution_count": null,
   "metadata": {
    "collapsed": false
   },
   "outputs": [],
   "source": [
    "mp_success_rate / attempts, ml_success_rate / attempts, mad_success_rate / attempts"
   ]
  },
  {
   "cell_type": "code",
   "execution_count": null,
   "metadata": {
    "collapsed": false
   },
   "outputs": [],
   "source": [
    "# Phylo.draw(tree)\n",
    "# Phylo.draw(mp_tree)\n",
    "# Phylo.draw(ml_tree)\n",
    "# Phylo.draw(mad_tree)"
   ]
  },
  {
   "cell_type": "code",
   "execution_count": null,
   "metadata": {
    "collapsed": false
   },
   "outputs": [],
   "source": [
    "mp_success_rate, ml_success_rate, mad_success_rate, attempts"
   ]
  },
  {
   "cell_type": "code",
   "execution_count": null,
   "metadata": {
    "collapsed": false
   },
   "outputs": [],
   "source": [
    "tree_loc = '../Tria_et_al_data/eukaryotes/ingroup/phyml/KOG3467.faa.aln.nwk'\n",
    "tree = Phylo.read(tree_loc, 'newick')\n",
    "\n",
    "# tree.root_at_midpoint()\n",
    "tree = mp_root_adhock(tree)\n",
    "Phylo.draw(tree)"
   ]
  },
  {
   "cell_type": "code",
   "execution_count": null,
   "metadata": {
    "collapsed": false
   },
   "outputs": [],
   "source": [
    "# testy = [term for term in tree.get_terminals() if\\\n",
    "#                       term.name in metazoa]\n",
    "recursive_tree_monophyly(tree.root, tree, testy, False)"
   ]
  },
  {
   "cell_type": "code",
   "execution_count": null,
   "metadata": {
    "collapsed": false
   },
   "outputs": [],
   "source": [
    "tree.get_terminals()"
   ]
  },
  {
   "cell_type": "code",
   "execution_count": null,
   "metadata": {
    "collapsed": true
   },
   "outputs": [],
   "source": []
  },
  {
   "cell_type": "code",
   "execution_count": null,
   "metadata": {
    "collapsed": true
   },
   "outputs": [],
   "source": []
  },
  {
   "cell_type": "markdown",
   "metadata": {},
   "source": [
    "# A weighted MaxLik implementation"
   ]
  },
  {
   "cell_type": "code",
   "execution_count": 11,
   "metadata": {
    "collapsed": true
   },
   "outputs": [],
   "source": [
    "from Bio import Phylo\n",
    "import rooting_methods\n",
    "\n",
    "import pandas as pd\n",
    "import numpy as np\n",
    "\n",
    "from scipy.optimize import minimize\n",
    "from scipy import stats"
   ]
  },
  {
   "cell_type": "code",
   "execution_count": 13,
   "metadata": {
    "collapsed": false
   },
   "outputs": [],
   "source": [
    "import sys\n",
    "sys.path.append('../../Tree_weighting/Code/')\n",
    "import weighting_methods"
   ]
  },
  {
   "cell_type": "code",
   "execution_count": null,
   "metadata": {
    "collapsed": true
   },
   "outputs": [],
   "source": []
  },
  {
   "cell_type": "code",
   "execution_count": 832,
   "metadata": {
    "collapsed": false
   },
   "outputs": [],
   "source": [
    "# def ml_root_weighted(tree):\n",
    "#     ###Depths are important! This is what I am trying to optimize in terms\n",
    "#     ###of making these look as close to normal as possible. So this gets the\n",
    "#     ###starting depths as a DataFrame and subsequent tree crawling adds/subtracts\n",
    "#     ###to these values\n",
    "#     initial_depths = tree.root.depths()\n",
    "#     terminal_depths_df = pd.DataFrame()\n",
    "#     terminal_depths_df['depth'] = np.nan\n",
    "#     for term in tree.get_terminals():\n",
    "#         terminal_depths_df.set_value(term.name, 'depth', initial_depths[term])\n",
    "#     depths_dict = {}\n",
    "#     depths_dict[tree.root] = terminal_depths_df\n",
    "    \n",
    "#     ###Getting starting weights\n",
    "#     weights_dict_single = weighting_methods.GSC_adhock_extended(tree)\n",
    "#     weights_dict_all = {}\n",
    "#     weights_dict_all[tree.root] = weights_dict_single\n",
    "\n",
    "#     explored, function_optima, depths_dict, weights_dict =\\\n",
    "#             recursive_crawl_ml(tree.root, [], [], depths_dict, weights_dict_all, tree)\n",
    "    \n",
    "#     ###Getting the best function eval and rooting there\n",
    "#     function_optima = sorted(function_optima, key=lambda x: x[1].fun)\n",
    "#     tree.root_with_outgroup(function_optima[0][0], outgroup_branch_length=0.)\n",
    "#     assert tree.root.clades[1].branch_length == 0.\n",
    "#     assert tree.root.clades[1] == function_optima[0][0]\n",
    "#     tree.root.clades[0].branch_length -= function_optima[0][1].x[0]\n",
    "#     tree.root.clades[1].branch_length += function_optima[0][1].x[0]\n",
    "#     return tree, function_optima, depths_dict, weights_dict\n",
    "\n",
    "# def recursive_crawl_ml(hypothetical_root, explored, function_optima, depths_dict, weights_dict, tree):\n",
    "#     if len(hypothetical_root.clades) == 2:\n",
    "#         l_clade, r_clade = hypothetical_root.clades\n",
    "#         l_bl = l_clade.branch_length\n",
    "#         r_bl = r_clade.branch_length\n",
    "#         #L clade first\n",
    "#         if l_bl > 0:\n",
    "#             depths_dict, downstream_terms, upstream_terms =\\\n",
    "#                     update_depth_df_dict(depths_dict, l_clade, hypothetical_root)\n",
    "#             weights_dict =\\\n",
    "#                     update_weights_dict(weights_dict, l_clade, hypothetical_root, downstream_terms, upstream_terms)\n",
    "#             res = optimize_root_loc_on_branch(l_clade, depths_dict[l_clade], weights_dict[l_clade], downstream_terms, upstream_terms)\n",
    "#             function_optima.append((l_clade, res))\n",
    "#             explored, function_optima, depths_dict, weights_dict =\\\n",
    "#                     recursive_crawl_ml(l_clade, explored, function_optima, depths_dict, weights_dict, tree)\n",
    "#         #R clade second\n",
    "#         if r_bl > 0:\n",
    "#             depths_dict, downstream_terms, upstream_terms =\\\n",
    "#                     update_depth_df_dict(depths_dict, r_clade, hypothetical_root)\n",
    "#             weights_dict =\\\n",
    "#                     update_weights_dict(weights_dict, r_clade, hypothetical_root, downstream_terms, upstream_terms)\n",
    "#             res = optimize_root_loc_on_branch(r_clade, depths_dict[r_clade], weights_dict[r_clade], downstream_terms, upstream_terms)\n",
    "#             function_optima.append((r_clade, res))\n",
    "#             explored, function_optima, depths_dict, weights_dict =\\\n",
    "#                     recursive_crawl_ml(r_clade, explored, function_optima, depths_dict, weights_dict, tree)\n",
    "#     elif len(hypothetical_root.clades) == 0:\n",
    "#         explored.append(hypothetical_root)\n",
    "#         return explored, function_optima, depths_dict, weights_dict\n",
    "    \n",
    "#     else:\n",
    "#         print('Some big error here with the number of clades stemming from this root')\n",
    "#     explored.append(hypothetical_root)\n",
    "#     return explored, function_optima, depths_dict, weights_dict\n",
    "\n",
    "# def update_depth_df_dict(depths_dict, my_clade, parent_clade):\n",
    "#     downstream_terms = [i.name for i in my_clade.get_terminals()]\n",
    "#     upstream_terms = list(set(list(depths_dict[parent_clade].index)) - set(downstream_terms))\n",
    "#     depths_dict[my_clade] = depths_dict[parent_clade].copy(deep=True)\n",
    "#     depths_dict[my_clade].loc[downstream_terms, 'depth'] -= my_clade.branch_length\n",
    "#     depths_dict[my_clade].loc[upstream_terms, 'depth'] += my_clade.branch_length\n",
    "#     return depths_dict, downstream_terms, upstream_terms\n",
    "\n",
    "# def update_weights_dict(weights_dict, my_clade, parent_clade, downstream_terms, upstream_terms):\n",
    "#     '''\n",
    "#     Some convoluted copy things happening here that should be double checked\n",
    "#     '''\n",
    "#     weights_dict[my_clade] = copy.copy(weights_dict[parent_clade])\n",
    "#     trashy = 0\n",
    "#     temp_ds = [next(tree.find_elements(term)) for term in downstream_terms]\n",
    "#     for term in temp_ds:\n",
    "#         trashy += weights_dict[my_clade][term][-1]\n",
    "#         weights_dict[my_clade][term] = weights_dict[my_clade][term][:-1]\n",
    "#     bl_to_disperse = my_clade.branch_length\n",
    "#     temp_us = [next(tree.find_elements(i)) for i in upstream_terms]\n",
    "#     to_divide = np.sum([weights_dict[my_clade][term][-1] for term in temp_us])\n",
    "#     for term in temp_us:\n",
    "#         weights_dict[my_clade][term] = weights_dict[my_clade][term] + [weights_dict[my_clade][term][-1] +\\\n",
    "#                                             weights_dict[my_clade][term][-1]/to_divide*bl_to_disperse]       \n",
    "#     return weights_dict\n",
    "\n",
    "# def optimize_root_loc_on_branch(my_clade, depths_df, weights_dict, downstream_terms, upstream_terms):\n",
    "#     '''\n",
    "#     '''    \n",
    "# #     print('####')\n",
    "\n",
    "\n",
    "#     downstream_dists = np.array(depths_df.loc[downstream_terms, 'depth'])\n",
    "#     downstream_weights = np.array([weights_dict[next(tree.find_elements(i))][-1] for i in downstream_terms])\n",
    "\n",
    "#     upstream_dists = np.array(depths_df.loc[upstream_terms, 'depth'])\n",
    "#     upstream_weights = np.array([weights_dict[next(tree.find_elements(i))][-1] for i in upstream_terms])\n",
    "#     old_upstream_weights = np.array([weights_dict[next(tree.find_elements(i))][-2] for i in upstream_terms])\n",
    "#     bl_bounds = np.array([[0., my_clade.branch_length]])\n",
    "#     ###Valid options for method are L-BFGS-B, SLSQP and TNC\n",
    "#     res = minimize(branch_scan_ml, np.array(np.mean(bl_bounds)),\\\n",
    "#                           args=(downstream_dists, upstream_dists,\\\n",
    "#                                 downstream_weights, upstream_weights, old_upstream_weights),\\\n",
    "#                           bounds=bl_bounds, method='SLSQP')\n",
    "# #     print(res)\n",
    "#     return res\n",
    "\n",
    "# def branch_scan_ml(modifier, ds_dists, us_dists, ds_weights, us_weights, old_us_weights):\n",
    "#     temp_ds_dists = ds_dists + modifier\n",
    "#     temp_us_dists = us_dists - modifier\n",
    "#     all_dists = np.concatenate((temp_ds_dists, temp_us_dists))\n",
    "    \n",
    "#     total_ds = np.sum(ds_weights)\n",
    "#     if total_ds != 0:\n",
    "#         temp_ds_weights = ds_weights + (ds_weights/total_ds*modifier)\n",
    "#     else:\n",
    "#         temp_ds_weights = ds_weights + modifier\n",
    "\n",
    "\n",
    "#     total_us = np.sum(old_us_weights)\n",
    "#     if total_us != 0:\n",
    "#         temp_us_weights = us_weights - (old_us_weights/total_us*modifier)\n",
    "#     else:\n",
    "#         temp_us_weights = us_weights - modifier\n",
    "# #     all_weights = np.array([1 for i in range(all_dists.shape[0])])\n",
    "#     all_weights = np.concatenate((temp_ds_weights, temp_us_weights))\n",
    "# #     print(all_weights)\n",
    "#     dsw = DescrStatsW(all_dists, all_weights)\n",
    "#     return dsw.std"
   ]
  },
  {
   "cell_type": "code",
   "execution_count": 838,
   "metadata": {
    "collapsed": false
   },
   "outputs": [],
   "source": [
    "import rooting_methods_weighted"
   ]
  },
  {
   "cell_type": "code",
   "execution_count": null,
   "metadata": {
    "collapsed": true
   },
   "outputs": [],
   "source": []
  },
  {
   "cell_type": "code",
   "execution_count": 848,
   "metadata": {
    "collapsed": false
   },
   "outputs": [],
   "source": [
    "# tree = Phylo.read('../../Phylogenetic_couplings/Data/psicov150_aln_pdb/raw_trees/1a3aA.newick', 'newick')\n",
    "tree = Phylo.read('/Users/adamhockenberry/Downloads/BM_Folder/paper_tree.txt', 'newick')\n",
    "# tree = Phylo.read(StringIO('(((A:20, B:20):30,C:50):30, D:80)'), 'newick', rooted=False)\n",
    "# tree = Phylo.read('../../Tree_rooting/Tria_et_al_data/eukaryotes/ingroup/phyml/KOG0007.faa.aln.nwk', 'newick')\n",
    "# Phylo.draw(tree)\n",
    "# tree.root_with_outgroup('A', outgroup_branch_length=10e-8)\n",
    "# C = next(tree.find_elements('C'))\n",
    "# C.branch_length = 40\n",
    "tree.root_with_outgroup('MAL')\n",
    "# noi = next(tree.find_elements('PV22'))\n",
    "# noi.branch_length += 20\n",
    "# Phylo.draw(tree)"
   ]
  },
  {
   "cell_type": "code",
   "execution_count": 849,
   "metadata": {
    "collapsed": false,
    "scrolled": false
   },
   "outputs": [
    {
     "data": {
      "image/png": "[encoded data removed]",
      "text/plain": [
       "<matplotlib.figure.Figure at 0x1248852e8>"
      ]
     },
     "metadata": {},
     "output_type": "display_data"
    },
    {
     "name": "stdout",
     "output_type": "stream",
     "text": [
      "[(None, 1.9000000000000004), ('Z3', 10.1)]\n"
     ]
    },
    {
     "data": {
      "image/png": "[encoded data removed]",
      "text/plain": [
       "<matplotlib.figure.Figure at 0x124432240>"
      ]
     },
     "metadata": {},
     "output_type": "display_data"
    },
    {
     "name": "stdout",
     "output_type": "stream",
     "text": [
      "[(None, 2.3578678823546912), ('Z3', 9.6421321176453088)]\n"
     ]
    }
   ],
   "source": [
    "tree = rooting_methods.mp_root_adhock(tree)\n",
    "Phylo.draw(tree)\n",
    "print([(i.name, i.branch_length) for i in tree.root.clades])\n",
    "tree, a, b, c = rooting_methods_weighted.ml_root_weighted(tree)\n",
    "Phylo.draw(tree)\n",
    "print([(i.name, i.branch_length) for i in tree.root.clades])"
   ]
  },
  {
   "cell_type": "code",
   "execution_count": null,
   "metadata": {
    "collapsed": false
   },
   "outputs": [],
   "source": []
  },
  {
   "cell_type": "code",
   "execution_count": null,
   "metadata": {
    "collapsed": false
   },
   "outputs": [],
   "source": []
  },
  {
   "cell_type": "code",
   "execution_count": 813,
   "metadata": {
    "collapsed": false
   },
   "outputs": [
    {
     "name": "stdout",
     "output_type": "stream",
     "text": [
      "1 loops, best of 3: 595 ms per loop\n"
     ]
    }
   ],
   "source": [
    "%%timeit\n",
    "ml_root_weighted(tree)"
   ]
  },
  {
   "cell_type": "code",
   "execution_count": 492,
   "metadata": {
    "collapsed": false
   },
   "outputs": [
    {
     "name": "stdout",
     "output_type": "stream",
     "text": [
      "[Clade(branch_length=2.3086, name='284593'), Clade(branch_length=1.1719, name='4950'), Clade(branch_length=1.5555, name='381046'), Clade(branch_length=1.5196, name='284590')]\n"
     ]
    }
   ],
   "source": [
    "print(tree.root.clades[1].get_terminals())"
   ]
  },
  {
   "cell_type": "code",
   "execution_count": 402,
   "metadata": {
    "collapsed": false
   },
   "outputs": [
    {
     "name": "stdout",
     "output_type": "stream",
     "text": [
      "#####\n",
      "ELI\n",
      "{Clade(branch_length=3.7, name='CDC'): [0.0, 0.0, 0.0, 0.0, 0.0, 3.7, 3.8608695652173917, 3.9142028985507249, 4.2045582284999634, 4.4374637863468998, 5.0983626481432465], Clade(branch_length=6.1, name='MAL'): [0.0, 0.0, 0.0, 0.0, 0.0, 0.0, 0.0, 6.1, 7.0085106382978717], Clade(branch_length=3.3, name='SF2'): [0.0, 0.0, 0.0, 0.0, 3.3, 3.3428571428571425, 3.4106832298136642, 3.4640165631469975, 3.754371893096236, 3.9623400154543367, 4.552475762436897], Clade(branch_length=0.5, name='BRU'): [0.0, 0.0, 0.5, 0.54166666666666663, 1.0616666666666665, 1.0759523809523808, 1.1437784679089025, 1.1971118012422357, 1.4874671311914742, 1.5698632696539758, 1.8036726927939297], Clade(branch_length=4.3, name='RF'): [0.0, 0.0, 0.0, 0.0, 0.0, 0.0, 0.0, 4.3, 4.8675126903553299, 5.1371416732030015, 5.9022478798502567], Clade(branch_length=0.3, name='PV22'): [0.0, 0.3, 0.34999999999999998, 0.37916666666666665, 0.89916666666666667, 0.9134523809523809, 0.98127846790890261, 1.0346118012422358, 1.3249671311914744, 1.3983618119280283, 1.6066284647683731], Clade(branch_length=3.0, name='WMJ2'): [0.0, 0.0, 0.0, 0.0, 0.0, 0.0, 3.0, 3.0800000000000001, 3.3703553299492386, 3.5570513977889924, 4.0868250102256507], Clade(branch_length=0.7, name='HXB'): [0.0, 0.0, 0.0, 0.7, 1.54, 1.5542857142857143, 1.622111801242236, 1.6754451345755692, 1.9658004645248077, 2.074693201626765, 2.383690061443517], Clade(branch_length=0.3, name='BH10'): [0.0, 0.3, 0.34999999999999998, 0.37916666666666665, 0.89916666666666667, 0.9134523809523809, 0.98127846790890261, 1.0346118012422358, 1.3249671311914744, 1.3983618119280283, 1.6066284647683731], Clade(branch_length=6.3, name='ELI'): [0.0, 0.0, 0.0, 0.0, 0.0, 0.0, 0.0], Clade(name='Z3'): [0.0, 0.0, 0.0, 0.0, 0.0, 0.0, 0.0, 0.0, 0.0, 10.1, 12.0, 12.66472303206997, 14.550958377271881]}\n",
      "#####\n",
      "SF2\n",
      "{Clade(branch_length=3.7, name='CDC'): [0.0, 0.0, 0.0, 0.0, 0.0, 3.7, 3.7090686274509808, 3.9792656797818466], Clade(branch_length=6.1, name='MAL'): [0.0, 0.0, 0.0, 0.0, 0.0, 0.0, 0.0, 6.1, 7.0346774193548383, 7.7301208144241382, 7.8232548001400914, 7.9301298657157755, 7.9495664585239023, 8.5286739488799483], Clade(branch_length=3.3, name='SF2'): [0.0, 0.0, 0.0, 0.0], Clade(branch_length=0.5, name='BRU'): [0.0, 0.0, 0.5, 0.54166666666666663, 1.0616666666666665, 1.1390066225165563], Clade(branch_length=4.3, name='RF'): [0.0, 0.0, 0.0, 0.0, 0.0, 0.0, 0.0, 4.3, 4.3518072289156624, 4.4112581473434718, 4.422070054567353, 4.7442076082113322], Clade(branch_length=0.3, name='PV22'): [0.0, 0.3, 0.34999999999999998, 0.37916666666666665, 0.89916666666666667, 0.96466887417218539], Clade(branch_length=3.0, name='WMJ2'): [0.0, 0.0, 0.0, 0.0, 0.0, 0.0, 3.0, 3.040983606557377, 3.0484369977499197, 3.2705085671224303], Clade(branch_length=0.7, name='HXB'): [0.0, 0.0, 0.0, 0.7, 1.54, 1.6521854304635761], Clade(branch_length=0.3, name='BH10'): [0.0, 0.3, 0.34999999999999998, 0.37916666666666665, 0.89916666666666667, 0.96466887417218539], Clade(branch_length=6.3, name='ELI'): [0.0, 0.0, 0.0, 0.0, 0.0, 0.0, 0.0, 6.3, 7.2653225806451607, 7.9835673985036175, 8.0797549575217342, 8.1901341236080967, 8.2102079817541949, 8.8083026029415858], Clade(name='Z3'): [0.0, 0.0, 0.0, 0.0, 0.0, 0.0, 0.0, 0.0, 0.0, 10.1, 12.0, 13.186311787072244, 13.345183013422512, 13.527494256775277, 13.560649879953647, 14.548511791738351]}\n",
      "#####\n",
      "Clade\n",
      "{Clade(branch_length=3.7, name='CDC'): [0.0, 0.0, 0.0, 0.0, 0.0, 3.7, 3.8608695652173917, 3.9142028985507249, 4.2045582284999634], Clade(branch_length=6.1, name='MAL'): [0.0, 0.0, 0.0, 0.0, 0.0, 0.0, 0.0, 6.1, 7.0346774193548383], Clade(branch_length=3.3, name='SF2'): [0.0, 0.0, 0.0, 0.0, 3.3, 3.3428571428571425, 3.4106832298136642, 3.4640165631469975, 3.754371893096236], Clade(branch_length=0.5, name='BRU'): [0.0, 0.0, 0.5, 0.54166666666666663, 1.0616666666666665, 1.0759523809523808, 1.1437784679089025, 1.1971118012422357, 1.4874671311914742], Clade(branch_length=4.3, name='RF'): [0.0, 0.0, 0.0, 0.0, 0.0, 0.0, 0.0, 4.3, 4.8675126903553299], Clade(branch_length=0.3, name='PV22'): [0.0, 0.3, 0.34999999999999998, 0.37916666666666665, 0.89916666666666667, 0.9134523809523809, 0.98127846790890261, 1.0346118012422358, 1.3249671311914744], Clade(branch_length=3.0, name='WMJ2'): [0.0, 0.0, 0.0, 0.0, 0.0, 0.0, 3.0, 3.0800000000000001, 3.3703553299492386], Clade(branch_length=0.7, name='HXB'): [0.0, 0.0, 0.0, 0.7, 1.54, 1.5542857142857143, 1.622111801242236, 1.6754451345755692, 1.9658004645248077], Clade(branch_length=0.3, name='BH10'): [0.0, 0.3, 0.34999999999999998, 0.37916666666666665, 0.89916666666666667, 0.9134523809523809, 0.98127846790890261, 1.0346118012422358, 1.3249671311914744], Clade(branch_length=6.3, name='ELI'): [0.0, 0.0, 0.0, 0.0, 0.0, 0.0, 0.0, 6.3, 7.2653225806451607], Clade(name='Z3'): [0.0, 0.0, 0.0, 0.0, 0.0, 0.0, 0.0, 0.0, 0.0, 10.1, 12.0]}\n",
      "#####\n",
      "Clade\n",
      "{Clade(branch_length=3.7, name='CDC'): [0.0, 0.0, 0.0, 0.0, 0.0, 3.7, 3.7090686274509808, 3.9104660189867806, 3.9187333890057801, 3.9269144607991113], Clade(branch_length=6.1, name='MAL'): [0.0, 0.0, 0.0, 0.0, 0.0, 0.0, 0.0, 6.1, 7.0346774193548383, 7.7301208144241382, 7.8232548001400914, 7.9301298657157755, 7.9495664585239023, 8.3812171259550645, 8.3989364010627927, 8.4164707150524851], Clade(branch_length=3.3, name='SF2'): [0.0, 0.0, 0.0, 0.0, 3.3, 3.4791855203619906, 3.4865410922866458, 3.4938198837110437], Clade(branch_length=0.5, name='BRU'): [0.0, 0.0, 0.5, 0.5010438413361169], Clade(branch_length=4.3, name='RF'): [0.0, 0.0, 0.0, 0.0, 0.0, 0.0, 0.0, 4.3, 4.3518072289156624, 4.4112581473434718, 4.422070054567353, 4.6621824557203313, 4.6720390782482815, 4.6817928132759397], Clade(branch_length=0.3, name='PV22'): [0.0, 0.3], Clade(branch_length=3.0, name='WMJ2'): [0.0, 0.0, 0.0, 0.0, 0.0, 0.0, 3.0, 3.040983606557377, 3.0484369977499197, 3.2139629885779697, 3.2207578363339486, 3.2274817566603242], Clade(branch_length=0.7, name='HXB'): [0.0, 0.0, 0.0, 0.7, 0.70147991543340371, 0.70294438289777406], Clade(branch_length=0.3, name='BH10'): [0.0, 0.3], Clade(branch_length=6.3, name='ELI'): [0.0, 0.0, 0.0, 0.0, 0.0, 0.0, 0.0, 6.3, 7.2653225806451607, 7.9835673985036175, 8.0797549575217342, 8.1901341236080967, 8.2102079817541949, 8.6560111300847389, 8.6743113650320645, 8.6924205745624032], Clade(name='Z3'): [0.0, 0.0, 0.0, 0.0, 0.0, 0.0, 0.0, 0.0, 0.0, 10.1, 12.0, 13.186311787072244, 13.345183013422512, 13.527494256775277, 13.560649879953647, 14.296974760313121, 14.327200922597081, 14.357111571704799]}\n",
      "#####\n",
      "MAL\n",
      "{Clade(branch_length=3.7, name='CDC'): [0.0, 0.0, 0.0, 0.0, 0.0, 3.7, 3.8608695652173917, 3.9142028985507249, 4.2045582284999634, 4.4374637863468998, 5.0743703533284545], Clade(branch_length=6.1, name='MAL'): [0.0, 0.0, 0.0, 0.0, 0.0, 0.0, 0.0], Clade(branch_length=3.3, name='SF2'): [0.0, 0.0, 0.0, 0.0, 3.3, 3.3428571428571425, 3.4106832298136642, 3.4640165631469975, 3.754371893096236, 3.9623400154543367, 4.5310523470842536], Clade(branch_length=0.5, name='BRU'): [0.0, 0.0, 0.5, 0.54166666666666663, 1.0616666666666665, 1.0759523809523808, 1.1437784679089025, 1.1971118012422357, 1.4874671311914742, 1.5698632696539758, 1.7951848212984287], Clade(branch_length=4.3, name='RF'): [0.0, 0.0, 0.0, 0.0, 0.0, 0.0, 0.0, 4.3, 4.8675126903553299, 5.1371416732030015, 5.8744725957097854], Clade(branch_length=0.3, name='PV22'): [0.0, 0.3, 0.34999999999999998, 0.37916666666666665, 0.89916666666666667, 0.9134523809523809, 0.98127846790890261, 1.0346118012422358, 1.3249671311914744, 1.3983618119280283, 1.5990678602282866], Clade(branch_length=3.0, name='WMJ2'): [0.0, 0.0, 0.0, 0.0, 0.0, 0.0, 3.0, 3.0800000000000001, 3.3703553299492386, 3.5570513977889924, 4.0675928925304712], Clade(branch_length=0.7, name='HXB'): [0.0, 0.0, 0.0, 0.7, 1.54, 1.5542857142857143, 1.622111801242236, 1.6754451345755692, 1.9658004645248077, 2.074693201626765, 2.3724726964484888], Clade(branch_length=0.3, name='BH10'): [0.0, 0.3, 0.34999999999999998, 0.37916666666666665, 0.89916666666666667, 0.9134523809523809, 0.98127846790890261, 1.0346118012422358, 1.3249671311914744, 1.3983618119280283, 1.5990678602282866], Clade(branch_length=6.3, name='ELI'): [0.0, 0.0, 0.0, 0.0, 0.0, 0.0, 0.0, 6.3, 7.2042352941176464], Clade(name='Z3'): [0.0, 0.0, 0.0, 0.0, 0.0, 0.0, 0.0, 0.0, 0.0, 10.1, 12.0, 12.66472303206997, 14.482483279025896]}\n",
      "#####\n",
      "Clade\n",
      "{Clade(branch_length=3.7, name='CDC'): [0.0, 0.0, 0.0, 0.0, 0.0, 3.7, 3.7090686274509808], Clade(branch_length=6.1, name='MAL'): [0.0, 0.0, 0.0, 0.0, 0.0, 0.0, 0.0, 6.1, 7.0346774193548383, 7.7301208144241382, 7.8232548001400914, 7.9301298657157755, 7.9495664585239023], Clade(branch_length=3.3, name='SF2'): [0.0, 0.0, 0.0, 0.0, 3.3], Clade(branch_length=0.5, name='BRU'): [0.0, 0.0, 0.5, 0.54166666666666663, 1.0616666666666665], Clade(branch_length=4.3, name='RF'): [0.0, 0.0, 0.0, 0.0, 0.0, 0.0, 0.0, 4.3, 4.3518072289156624, 4.4112581473434718, 4.422070054567353], Clade(branch_length=0.3, name='PV22'): [0.0, 0.3, 0.34999999999999998, 0.37916666666666665, 0.89916666666666667], Clade(branch_length=3.0, name='WMJ2'): [0.0, 0.0, 0.0, 0.0, 0.0, 0.0, 3.0, 3.040983606557377, 3.0484369977499197], Clade(branch_length=0.7, name='HXB'): [0.0, 0.0, 0.0, 0.7, 1.54], Clade(branch_length=0.3, name='BH10'): [0.0, 0.3, 0.34999999999999998, 0.37916666666666665, 0.89916666666666667], Clade(branch_length=6.3, name='ELI'): [0.0, 0.0, 0.0, 0.0, 0.0, 0.0, 0.0, 6.3, 7.2653225806451607, 7.9835673985036175, 8.0797549575217342, 8.1901341236080967, 8.2102079817541949], Clade(name='Z3'): [0.0, 0.0, 0.0, 0.0, 0.0, 0.0, 0.0, 0.0, 0.0, 10.1, 12.0, 13.186311787072244, 13.345183013422512, 13.527494256775277, 13.560649879953647]}\n",
      "#####\n",
      "BH10\n",
      "{Clade(branch_length=3.7, name='CDC'): [0.0, 0.0, 0.0, 0.0, 0.0, 3.7, 3.7090686274509808, 3.9104660189867806, 3.9187333890057801, 3.9269144607991113, 3.9513052338475529], Clade(branch_length=6.1, name='MAL'): [0.0, 0.0, 0.0, 0.0, 0.0, 0.0, 0.0, 6.1, 7.0346774193548383, 7.7301208144241382, 7.8232548001400914, 7.9301298657157755, 7.9495664585239023, 8.3812171259550645, 8.3989364010627927, 8.4164707150524851, 8.4687469306739285], Clade(branch_length=3.3, name='SF2'): [0.0, 0.0, 0.0, 0.0, 3.3, 3.4791855203619906, 3.4865410922866458, 3.4938198837110437, 3.5155206283303668], Clade(branch_length=0.5, name='BRU'): [0.0, 0.0, 0.5, 0.5010438413361169, 0.50415591488478839], Clade(branch_length=4.3, name='RF'): [0.0, 0.0, 0.0, 0.0, 0.0, 0.0, 0.0, 4.3, 4.3518072289156624, 4.4112581473434718, 4.422070054567353, 4.6621824557203313, 4.6720390782482815, 4.6817928132759397, 4.7108722717434919], Clade(branch_length=0.3, name='PV22'): [0.0, 0.3, 0.30186335403726705], Clade(branch_length=3.0, name='WMJ2'): [0.0, 0.0, 0.0, 0.0, 0.0, 0.0, 3.0, 3.040983606557377, 3.0484369977499197, 3.2139629885779697, 3.2207578363339486, 3.2274817566603242, 3.247528227198587], Clade(branch_length=0.7, name='HXB'): [0.0, 0.0, 0.0, 0.7, 0.70147991543340371, 0.70294438289777406, 0.70731049707726334], Clade(branch_length=0.3, name='BH10'): [0.0], Clade(branch_length=6.3, name='ELI'): [0.0, 0.0, 0.0, 0.0, 0.0, 0.0, 0.0, 6.3, 7.2653225806451607, 7.9835673985036175, 8.0797549575217342, 8.1901341236080967, 8.2102079817541949, 8.6560111300847389, 8.6743113650320645, 8.6924205745624032, 8.7464107644665177], Clade(name='Z3'): [0.0, 0.0, 0.0, 0.0, 0.0, 0.0, 0.0, 0.0, 0.0, 10.1, 12.0, 13.186311787072244, 13.345183013422512, 13.527494256775277, 13.560649879953647, 14.296974760313121, 14.327200922597081, 14.357111571704799, 14.446286177740232]}\n",
      "#####\n",
      "BRU\n",
      "{Clade(branch_length=3.7, name='CDC'): [0.0, 0.0, 0.0, 0.0, 0.0, 3.7, 3.7090686274509808, 3.9104660189867806, 3.9187333890057801, 3.9594686633197695], Clade(branch_length=6.1, name='MAL'): [0.0, 0.0, 0.0, 0.0, 0.0, 0.0, 0.0, 6.1, 7.0346774193548383, 7.7301208144241382, 7.8232548001400914, 7.9301298657157755, 7.9495664585239023, 8.3812171259550645, 8.3989364010627927, 8.4862434322588722], Clade(branch_length=3.3, name='SF2'): [0.0, 0.0, 0.0, 0.0, 3.3, 3.4791855203619906, 3.4865410922866458, 3.5227837231835966], Clade(branch_length=0.5, name='BRU'): [0.0, 0.0], Clade(branch_length=4.3, name='RF'): [0.0, 0.0, 0.0, 0.0, 0.0, 0.0, 0.0, 4.3, 4.3518072289156624, 4.4112581473434718, 4.422070054567353, 4.6621824557203313, 4.6720390782482815, 4.7206049730325672], Clade(branch_length=0.3, name='PV22'): [0.0, 0.3, 0.34999999999999998, 0.35363825363825363], Clade(branch_length=3.0, name='WMJ2'): [0.0, 0.0, 0.0, 0.0, 0.0, 0.0, 3.0, 3.040983606557377, 3.0484369977499197, 3.2139629885779697, 3.2207578363339486, 3.254237647522451], Clade(branch_length=0.7, name='HXB'): [0.0, 0.0, 0.0, 0.7, 0.70147991543340371, 0.70877180644622495], Clade(branch_length=0.3, name='BH10'): [0.0, 0.3, 0.34999999999999998, 0.35363825363825363], Clade(branch_length=6.3, name='ELI'): [0.0, 0.0, 0.0, 0.0, 0.0, 0.0, 0.0, 6.3, 7.2653225806451607, 7.9835673985036175, 8.0797549575217342, 8.1901341236080967, 8.2102079817541949, 8.6560111300847389, 8.6743113650320645, 8.7644809218411304], Clade(name='Z3'): [0.0, 0.0, 0.0, 0.0, 0.0, 0.0, 0.0, 0.0, 0.0, 10.1, 12.0, 13.186311787072244, 13.345183013422512, 13.527494256775277, 13.560649879953647, 14.296974760313121, 14.327200922597081, 14.476132325118881]}\n",
      "#####\n",
      "RF\n",
      "{Clade(branch_length=3.7, name='CDC'): [0.0, 0.0, 0.0, 0.0, 0.0, 3.7, 3.8608695652173917, 3.9142028985507249, 4.2941368142114049], Clade(branch_length=6.1, name='MAL'): [0.0, 0.0, 0.0, 0.0, 0.0, 0.0, 0.0, 6.1, 7.0346774193548383, 7.7301208144241382, 8.4804485684201616], Clade(branch_length=3.3, name='SF2'): [0.0, 0.0, 0.0, 0.0, 3.3, 3.3428571428571425, 3.4106832298136642, 3.4640165631469975, 3.8002529338362097], Clade(branch_length=0.5, name='BRU'): [0.0, 0.0, 0.5, 0.54166666666666663, 1.0616666666666665, 1.0759523809523808, 1.1437784679089025, 1.1971118012422357, 1.3133100121980283], Clade(branch_length=4.3, name='RF'): [0.0, 0.0, 0.0, 0.0, 0.0, 0.0, 0.0], Clade(branch_length=0.3, name='PV22'): [0.0, 0.3, 0.34999999999999998, 0.37916666666666665, 0.89916666666666667, 0.9134523809523809, 0.98127846790890261, 1.0346118012422358, 1.1350368745005115], Clade(branch_length=3.0, name='WMJ2'): [0.0, 0.0, 0.0, 0.0, 0.0, 0.0, 3.0, 3.0800000000000001, 3.3789616252821673], Clade(branch_length=0.7, name='HXB'): [0.0, 0.0, 0.0, 0.7, 1.54, 1.5542857142857143, 1.622111801242236, 1.6754451345755692, 1.8380729918820014], Clade(branch_length=0.3, name='BH10'): [0.0, 0.3, 0.34999999999999998, 0.37916666666666665, 0.89916666666666667, 0.9134523809523809, 0.98127846790890261, 1.0346118012422358, 1.1350368745005115], Clade(branch_length=6.3, name='ELI'): [0.0, 0.0, 0.0, 0.0, 0.0, 0.0, 0.0, 6.3, 7.2653225806451607, 7.9835673985036175, 8.7584960624667225], Clade(name='Z3'): [0.0, 0.0, 0.0, 0.0, 0.0, 0.0, 0.0, 0.0, 0.0, 10.1, 12.0, 13.186311787072244, 14.466247242702281]}\n",
      "#####\n",
      "Clade\n",
      "{Clade(branch_length=3.7, name='CDC'): [0.0, 0.0, 0.0, 0.0, 0.0, 3.7, 3.8608695652173917, 3.9142028985507249], Clade(branch_length=6.1, name='MAL'): [0.0, 0.0, 0.0, 0.0, 0.0, 0.0, 0.0, 6.1, 7.0346774193548383, 7.7301208144241382], Clade(branch_length=3.3, name='SF2'): [0.0, 0.0, 0.0, 0.0, 3.3, 3.3428571428571425, 3.4106832298136642, 3.4640165631469975], Clade(branch_length=0.5, name='BRU'): [0.0, 0.0, 0.5, 0.54166666666666663, 1.0616666666666665, 1.0759523809523808, 1.1437784679089025, 1.1971118012422357], Clade(branch_length=4.3, name='RF'): [0.0, 0.0, 0.0, 0.0, 0.0, 0.0, 0.0, 4.3], Clade(branch_length=0.3, name='PV22'): [0.0, 0.3, 0.34999999999999998, 0.37916666666666665, 0.89916666666666667, 0.9134523809523809, 0.98127846790890261, 1.0346118012422358], Clade(branch_length=3.0, name='WMJ2'): [0.0, 0.0, 0.0, 0.0, 0.0, 0.0, 3.0, 3.0800000000000001], Clade(branch_length=0.7, name='HXB'): [0.0, 0.0, 0.0, 0.7, 1.54, 1.5542857142857143, 1.622111801242236, 1.6754451345755692], Clade(branch_length=0.3, name='BH10'): [0.0, 0.3, 0.34999999999999998, 0.37916666666666665, 0.89916666666666667, 0.9134523809523809, 0.98127846790890261, 1.0346118012422358], Clade(branch_length=6.3, name='ELI'): [0.0, 0.0, 0.0, 0.0, 0.0, 0.0, 0.0, 6.3, 7.2653225806451607, 7.9835673985036175], Clade(name='Z3'): [0.0, 0.0, 0.0, 0.0, 0.0, 0.0, 0.0, 0.0, 0.0, 10.1, 12.0, 13.186311787072244]}\n",
      "#####\n",
      "Clade\n",
      "{Clade(branch_length=3.7, name='CDC'): [0.0, 0.0, 0.0, 0.0, 0.0, 3.7, 3.7090686274509808, 3.9104660189867806], Clade(branch_length=6.1, name='MAL'): [0.0, 0.0, 0.0, 0.0, 0.0, 0.0, 0.0, 6.1, 7.0346774193548383, 7.7301208144241382, 7.8232548001400914, 7.9301298657157755, 7.9495664585239023, 8.3812171259550645], Clade(branch_length=3.3, name='SF2'): [0.0, 0.0, 0.0, 0.0, 3.3, 3.4791855203619906], Clade(branch_length=0.5, name='BRU'): [0.0, 0.0, 0.5, 0.54166666666666663], Clade(branch_length=4.3, name='RF'): [0.0, 0.0, 0.0, 0.0, 0.0, 0.0, 0.0, 4.3, 4.3518072289156624, 4.4112581473434718, 4.422070054567353, 4.6621824557203313], Clade(branch_length=0.3, name='PV22'): [0.0, 0.3, 0.34999999999999998, 0.37916666666666665], Clade(branch_length=3.0, name='WMJ2'): [0.0, 0.0, 0.0, 0.0, 0.0, 0.0, 3.0, 3.040983606557377, 3.0484369977499197, 3.2139629885779697], Clade(branch_length=0.7, name='HXB'): [0.0, 0.0, 0.0, 0.7], Clade(branch_length=0.3, name='BH10'): [0.0, 0.3, 0.34999999999999998, 0.37916666666666665], Clade(branch_length=6.3, name='ELI'): [0.0, 0.0, 0.0, 0.0, 0.0, 0.0, 0.0, 6.3, 7.2653225806451607, 7.9835673985036175, 8.0797549575217342, 8.1901341236080967, 8.2102079817541949, 8.6560111300847389], Clade(name='Z3'): [0.0, 0.0, 0.0, 0.0, 0.0, 0.0, 0.0, 0.0, 0.0, 10.1, 12.0, 13.186311787072244, 13.345183013422512, 13.527494256775277, 13.560649879953647, 14.296974760313121]}\n",
      "#####\n",
      "CDC\n",
      "{Clade(branch_length=3.7, name='CDC'): [0.0, 0.0, 0.0, 0.0, 0.0], Clade(branch_length=6.1, name='MAL'): [0.0, 0.0, 0.0, 0.0, 0.0, 0.0, 0.0, 6.1, 7.0346774193548383, 7.7301208144241382, 7.8232548001400914, 7.9301298657157755, 8.5836149548727541], Clade(branch_length=3.3, name='SF2'): [0.0, 0.0, 0.0, 0.0, 3.3, 3.3428571428571425, 3.6183264397072858], Clade(branch_length=0.5, name='BRU'): [0.0, 0.0, 0.5, 0.54166666666666663, 1.0616666666666665, 1.0759523809523808, 1.1646166083359846], Clade(branch_length=4.3, name='RF'): [0.0, 0.0, 0.0, 0.0, 0.0, 0.0, 0.0, 4.3, 4.3518072289156624, 4.4112581473434718, 4.7747693977927108], Clade(branch_length=0.3, name='PV22'): [0.0, 0.3, 0.34999999999999998, 0.37916666666666665, 0.89916666666666667, 0.9134523809523809, 0.98872573973910272], Clade(branch_length=3.0, name='WMJ2'): [0.0, 0.0, 0.0, 0.0, 0.0, 0.0, 3.0, 3.040983606557377, 3.2915769104384971], Clade(branch_length=0.7, name='HXB'): [0.0, 0.0, 0.0, 0.7, 1.54, 1.5542857142857143, 1.6823671651288579], Clade(branch_length=0.3, name='BH10'): [0.0, 0.3, 0.34999999999999998, 0.37916666666666665, 0.89916666666666667, 0.9134523809523809, 0.98872573973910272], Clade(branch_length=6.3, name='ELI'): [0.0, 0.0, 0.0, 0.0, 0.0, 0.0, 0.0, 6.3, 7.2653225806451607, 7.9835673985036175, 8.0797549575217342, 8.1901341236080967, 8.8650449533931734], Clade(name='Z3'): [0.0, 0.0, 0.0, 0.0, 0.0, 0.0, 0.0, 0.0, 0.0, 10.1, 12.0, 13.186311787072244, 13.345183013422512, 13.527494256775277, 14.642232090852527]}\n",
      "#####\n",
      "WMJ2\n",
      "{Clade(branch_length=3.7, name='CDC'): [0.0, 0.0, 0.0, 0.0, 0.0, 3.7, 3.8608695652173917, 4.114874141876431], Clade(branch_length=6.1, name='MAL'): [0.0, 0.0, 0.0, 0.0, 0.0, 0.0, 0.0, 6.1, 7.0346774193548383, 7.7301208144241382, 7.8232548001400914, 8.3379426159387826], Clade(branch_length=3.3, name='SF2'): [0.0, 0.0, 0.0, 0.0, 3.3, 3.3428571428571425, 3.4106832298136642, 3.6350702844066687], Clade(branch_length=0.5, name='BRU'): [0.0, 0.0, 0.5, 0.54166666666666663, 1.0616666666666665, 1.0759523809523808, 1.1437784679089025, 1.2190270513239618], Clade(branch_length=4.3, name='RF'): [0.0, 0.0, 0.0, 0.0, 0.0, 0.0, 0.0, 4.3, 4.3518072289156624, 4.6381103360811666], Clade(branch_length=0.3, name='PV22'): [0.0, 0.3, 0.34999999999999998, 0.37916666666666665, 0.89916666666666667, 0.9134523809523809, 0.98127846790890261, 1.0458362618502779], Clade(branch_length=3.0, name='WMJ2'): [0.0, 0.0, 0.0, 0.0, 0.0, 0.0], Clade(branch_length=0.7, name='HXB'): [0.0, 0.0, 0.0, 0.7, 1.54, 1.5542857142857143, 1.622111801242236, 1.7288296829029095], Clade(branch_length=0.3, name='BH10'): [0.0, 0.3, 0.34999999999999998, 0.37916666666666665, 0.89916666666666667, 0.9134523809523809, 0.98127846790890261, 1.0458362618502779], Clade(branch_length=6.3, name='ELI'): [0.0, 0.0, 0.0, 0.0, 0.0, 0.0, 0.0, 6.3, 7.2653225806451607, 7.9835673985036175, 8.0797549575217342, 8.6113177836744796], Clade(name='Z3'): [0.0, 0.0, 0.0, 0.0, 0.0, 0.0, 0.0, 0.0, 0.0, 10.1, 12.0, 13.186311787072244, 13.345183013422512, 14.223155580095046]}\n",
      "#####\n",
      "PV22\n",
      "{Clade(branch_length=3.7, name='CDC'): [0.0, 0.0, 0.0, 0.0, 0.0, 3.7, 3.7090686274509808, 3.9104660189867806, 3.9187333890057801, 3.9269144607991113, 3.9513052338475529], Clade(branch_length=6.1, name='MAL'): [0.0, 0.0, 0.0, 0.0, 0.0, 0.0, 0.0, 6.1, 7.0346774193548383, 7.7301208144241382, 7.8232548001400914, 7.9301298657157755, 7.9495664585239023, 8.3812171259550645, 8.3989364010627927, 8.4164707150524851, 8.4687469306739285], Clade(branch_length=3.3, name='SF2'): [0.0, 0.0, 0.0, 0.0, 3.3, 3.4791855203619906, 3.4865410922866458, 3.4938198837110437, 3.5155206283303668], Clade(branch_length=0.5, name='BRU'): [0.0, 0.0, 0.5, 0.5010438413361169, 0.50415591488478839], Clade(branch_length=4.3, name='RF'): [0.0, 0.0, 0.0, 0.0, 0.0, 0.0, 0.0, 4.3, 4.3518072289156624, 4.4112581473434718, 4.422070054567353, 4.6621824557203313, 4.6720390782482815, 4.6817928132759397, 4.7108722717434919], Clade(branch_length=0.3, name='PV22'): [0.0], Clade(branch_length=3.0, name='WMJ2'): [0.0, 0.0, 0.0, 0.0, 0.0, 0.0, 3.0, 3.040983606557377, 3.0484369977499197, 3.2139629885779697, 3.2207578363339486, 3.2274817566603242, 3.247528227198587], Clade(branch_length=0.7, name='HXB'): [0.0, 0.0, 0.0, 0.7, 0.70147991543340371, 0.70294438289777406, 0.70731049707726334], Clade(branch_length=0.3, name='BH10'): [0.0, 0.3, 0.30186335403726705], Clade(branch_length=6.3, name='ELI'): [0.0, 0.0, 0.0, 0.0, 0.0, 0.0, 0.0, 6.3, 7.2653225806451607, 7.9835673985036175, 8.0797549575217342, 8.1901341236080967, 8.2102079817541949, 8.6560111300847389, 8.6743113650320645, 8.6924205745624032, 8.7464107644665177], Clade(name='Z3'): [0.0, 0.0, 0.0, 0.0, 0.0, 0.0, 0.0, 0.0, 0.0, 10.1, 12.0, 13.186311787072244, 13.345183013422512, 13.527494256775277, 13.560649879953647, 14.296974760313121, 14.327200922597081, 14.357111571704799, 14.446286177740232]}\n",
      "#####\n",
      "Clade\n",
      "{Clade(branch_length=3.7, name='CDC'): [0.0, 0.0, 0.0, 0.0, 0.0, 3.7], Clade(branch_length=6.1, name='MAL'): [0.0, 0.0, 0.0, 0.0, 0.0, 0.0, 0.0, 6.1, 7.0346774193548383, 7.7301208144241382, 7.8232548001400914, 7.9301298657157755], Clade(branch_length=3.3, name='SF2'): [0.0, 0.0, 0.0, 0.0, 3.3, 3.3428571428571425], Clade(branch_length=0.5, name='BRU'): [0.0, 0.0, 0.5, 0.54166666666666663, 1.0616666666666665, 1.0759523809523808], Clade(branch_length=4.3, name='RF'): [0.0, 0.0, 0.0, 0.0, 0.0, 0.0, 0.0, 4.3, 4.3518072289156624, 4.4112581473434718], Clade(branch_length=0.3, name='PV22'): [0.0, 0.3, 0.34999999999999998, 0.37916666666666665, 0.89916666666666667, 0.9134523809523809], Clade(branch_length=3.0, name='WMJ2'): [0.0, 0.0, 0.0, 0.0, 0.0, 0.0, 3.0, 3.040983606557377], Clade(branch_length=0.7, name='HXB'): [0.0, 0.0, 0.0, 0.7, 1.54, 1.5542857142857143], Clade(branch_length=0.3, name='BH10'): [0.0, 0.3, 0.34999999999999998, 0.37916666666666665, 0.89916666666666667, 0.9134523809523809], Clade(branch_length=6.3, name='ELI'): [0.0, 0.0, 0.0, 0.0, 0.0, 0.0, 0.0, 6.3, 7.2653225806451607, 7.9835673985036175, 8.0797549575217342, 8.1901341236080967], Clade(name='Z3'): [0.0, 0.0, 0.0, 0.0, 0.0, 0.0, 0.0, 0.0, 0.0, 10.1, 12.0, 13.186311787072244, 13.345183013422512, 13.527494256775277]}\n",
      "#####\n",
      "HXB\n",
      "{Clade(branch_length=3.7, name='CDC'): [0.0, 0.0, 0.0, 0.0, 0.0, 3.7, 3.7090686274509808, 3.9104660189867806, 3.9676127040241655], Clade(branch_length=6.1, name='MAL'): [0.0, 0.0, 0.0, 0.0, 0.0, 0.0, 0.0, 6.1, 7.0346774193548383, 7.7301208144241382, 7.8232548001400914, 7.9301298657157755, 7.9495664585239023, 8.3812171259550645, 8.5036983783176652], Clade(branch_length=3.3, name='SF2'): [0.0, 0.0, 0.0, 0.0, 3.3, 3.4791855203619906, 3.5300295676324165], Clade(branch_length=0.5, name='BRU'): [0.0, 0.0, 0.5, 0.54166666666666663, 0.54958246346555317], Clade(branch_length=4.3, name='RF'): [0.0, 0.0, 0.0, 0.0, 0.0, 0.0, 0.0, 4.3, 4.3518072289156624, 4.4112581473434718, 4.422070054567353, 4.6621824557203313, 4.7303145584135304], Clade(branch_length=0.3, name='PV22'): [0.0, 0.3, 0.34999999999999998, 0.37916666666666665, 0.38470772442588724], Clade(branch_length=3.0, name='WMJ2'): [0.0, 0.0, 0.0, 0.0, 0.0, 0.0, 3.0, 3.040983606557377, 3.0484369977499197, 3.2139629885779697, 3.2609311324611552], Clade(branch_length=0.7, name='HXB'): [0.0, 0.0, 0.0], Clade(branch_length=0.3, name='BH10'): [0.0, 0.3, 0.34999999999999998, 0.37916666666666665, 0.38470772442588724], Clade(branch_length=6.3, name='ELI'): [0.0, 0.0, 0.0, 0.0, 0.0, 0.0, 0.0, 6.3, 7.2653225806451607, 7.9835673985036175, 8.0797549575217342, 8.1901341236080967, 8.2102079817541949, 8.6560111300847389, 8.7825081612133253], Clade(name='Z3'): [0.0, 0.0, 0.0, 0.0, 0.0, 0.0, 0.0, 0.0, 0.0, 10.1, 12.0, 13.186311787072244, 13.345183013422512, 13.527494256775277, 13.560649879953647, 14.296974760313121, 14.505907585620411]}\n",
      "#####\n",
      "Clade\n",
      "{Clade(branch_length=3.7, name='CDC'): [0.0, 0.0, 0.0, 0.0, 0.0, 3.7, 3.8608695652173917], Clade(branch_length=6.1, name='MAL'): [0.0, 0.0, 0.0, 0.0, 0.0, 0.0, 0.0, 6.1, 7.0346774193548383, 7.7301208144241382, 7.8232548001400914], Clade(branch_length=3.3, name='SF2'): [0.0, 0.0, 0.0, 0.0, 3.3, 3.3428571428571425, 3.4106832298136642], Clade(branch_length=0.5, name='BRU'): [0.0, 0.0, 0.5, 0.54166666666666663, 1.0616666666666665, 1.0759523809523808, 1.1437784679089025], Clade(branch_length=4.3, name='RF'): [0.0, 0.0, 0.0, 0.0, 0.0, 0.0, 0.0, 4.3, 4.3518072289156624], Clade(branch_length=0.3, name='PV22'): [0.0, 0.3, 0.34999999999999998, 0.37916666666666665, 0.89916666666666667, 0.9134523809523809, 0.98127846790890261], Clade(branch_length=3.0, name='WMJ2'): [0.0, 0.0, 0.0, 0.0, 0.0, 0.0, 3.0], Clade(branch_length=0.7, name='HXB'): [0.0, 0.0, 0.0, 0.7, 1.54, 1.5542857142857143, 1.622111801242236], Clade(branch_length=0.3, name='BH10'): [0.0, 0.3, 0.34999999999999998, 0.37916666666666665, 0.89916666666666667, 0.9134523809523809, 0.98127846790890261], Clade(branch_length=6.3, name='ELI'): [0.0, 0.0, 0.0, 0.0, 0.0, 0.0, 0.0, 6.3, 7.2653225806451607, 7.9835673985036175, 8.0797549575217342], Clade(name='Z3'): [0.0, 0.0, 0.0, 0.0, 0.0, 0.0, 0.0, 0.0, 0.0, 10.1, 12.0, 13.186311787072244, 13.345183013422512]}\n",
      "#####\n",
      "Clade\n",
      "{Clade(branch_length=3.7, name='CDC'): [0.0, 0.0, 0.0, 0.0, 0.0, 3.7, 3.7090686274509808, 3.9104660189867806, 3.9187333890057801], Clade(branch_length=6.1, name='MAL'): [0.0, 0.0, 0.0, 0.0, 0.0, 0.0, 0.0, 6.1, 7.0346774193548383, 7.7301208144241382, 7.8232548001400914, 7.9301298657157755, 7.9495664585239023, 8.3812171259550645, 8.3989364010627927], Clade(branch_length=3.3, name='SF2'): [0.0, 0.0, 0.0, 0.0, 3.3, 3.4791855203619906, 3.4865410922866458], Clade(branch_length=0.5, name='BRU'): [0.0, 0.0, 0.5], Clade(branch_length=4.3, name='RF'): [0.0, 0.0, 0.0, 0.0, 0.0, 0.0, 0.0, 4.3, 4.3518072289156624, 4.4112581473434718, 4.422070054567353, 4.6621824557203313, 4.6720390782482815], Clade(branch_length=0.3, name='PV22'): [0.0, 0.3, 0.34999999999999998], Clade(branch_length=3.0, name='WMJ2'): [0.0, 0.0, 0.0, 0.0, 0.0, 0.0, 3.0, 3.040983606557377, 3.0484369977499197, 3.2139629885779697, 3.2207578363339486], Clade(branch_length=0.7, name='HXB'): [0.0, 0.0, 0.0, 0.7, 0.70147991543340371], Clade(branch_length=0.3, name='BH10'): [0.0, 0.3, 0.34999999999999998], Clade(branch_length=6.3, name='ELI'): [0.0, 0.0, 0.0, 0.0, 0.0, 0.0, 0.0, 6.3, 7.2653225806451607, 7.9835673985036175, 8.0797549575217342, 8.1901341236080967, 8.2102079817541949, 8.6560111300847389, 8.6743113650320645], Clade(name='Z3'): [0.0, 0.0, 0.0, 0.0, 0.0, 0.0, 0.0, 0.0, 0.0, 10.1, 12.0, 13.186311787072244, 13.345183013422512, 13.527494256775277, 13.560649879953647, 14.296974760313121, 14.327200922597081]}\n",
      "#####\n",
      "Clade\n",
      "{Clade(branch_length=3.7, name='CDC'): [0.0, 0.0, 0.0, 0.0, 0.0, 3.7, 3.8608695652173917, 3.9142028985507249, 4.2045582284999634, 4.4374637863468998], Clade(branch_length=6.1, name='MAL'): [0.0, 0.0, 0.0, 0.0, 0.0, 0.0, 0.0, 6.1], Clade(branch_length=3.3, name='SF2'): [0.0, 0.0, 0.0, 0.0, 3.3, 3.3428571428571425, 3.4106832298136642, 3.4640165631469975, 3.754371893096236, 3.9623400154543367], Clade(branch_length=0.5, name='BRU'): [0.0, 0.0, 0.5, 0.54166666666666663, 1.0616666666666665, 1.0759523809523808, 1.1437784679089025, 1.1971118012422357, 1.4874671311914742, 1.5698632696539758], Clade(branch_length=4.3, name='RF'): [0.0, 0.0, 0.0, 0.0, 0.0, 0.0, 0.0, 4.3, 4.8675126903553299, 5.1371416732030015], Clade(branch_length=0.3, name='PV22'): [0.0, 0.3, 0.34999999999999998, 0.37916666666666665, 0.89916666666666667, 0.9134523809523809, 0.98127846790890261, 1.0346118012422358, 1.3249671311914744, 1.3983618119280283], Clade(branch_length=3.0, name='WMJ2'): [0.0, 0.0, 0.0, 0.0, 0.0, 0.0, 3.0, 3.0800000000000001, 3.3703553299492386, 3.5570513977889924], Clade(branch_length=0.7, name='HXB'): [0.0, 0.0, 0.0, 0.7, 1.54, 1.5542857142857143, 1.622111801242236, 1.6754451345755692, 1.9658004645248077, 2.074693201626765], Clade(branch_length=0.3, name='BH10'): [0.0, 0.3, 0.34999999999999998, 0.37916666666666665, 0.89916666666666667, 0.9134523809523809, 0.98127846790890261, 1.0346118012422358, 1.3249671311914744, 1.3983618119280283], Clade(branch_length=6.3, name='ELI'): [0.0, 0.0, 0.0, 0.0, 0.0, 0.0, 0.0, 6.3], Clade(name='Z3'): [0.0, 0.0, 0.0, 0.0, 0.0, 0.0, 0.0, 0.0, 0.0, 10.1, 12.0, 12.66472303206997]}\n",
      "#####\n",
      "Clade\n",
      "{Clade(branch_length=6.1, name='MAL'): [0.0, 0.0, 0.0, 0.0, 0.0, 0.0, 0.0, 6.1, 7.0346774193548383, 7.4058522827428162], Clade(branch_length=0.5, name='BRU'): [0.0, 0.0, 0.5, 0.54166666666666663, 1.0616666666666665, 1.0759523809523808, 1.1437784679089025, 1.1971118012422357, 1.4874671311914742, 1.6321734153444798], Clade(branch_length=3.7, name='CDC'): [0.0, 0.0, 0.0, 0.0, 0.0, 3.7, 3.8608695652173917, 3.9142028985507249, 4.2045582284999634, 4.3492645126529688], Clade(branch_length=4.3, name='RF'): [0.0, 0.0, 0.0, 0.0, 0.0, 0.0, 0.0, 4.3, 4.8675126903553299, 5.0122189745083352], Clade(branch_length=0.3, name='PV22'): [0.0, 0.3, 0.34999999999999998, 0.37916666666666665, 0.89916666666666667, 0.9134523809523809, 0.98127846790890261, 1.0346118012422358, 1.3249671311914744, 1.4696734153444799], Clade(branch_length=3.0, name='WMJ2'): [0.0, 0.0, 0.0, 0.0, 0.0, 0.0, 3.0, 3.0800000000000001, 3.3703553299492386, 3.5150616141022439], Clade(branch_length=0.7, name='HXB'): [0.0, 0.0, 0.0, 0.7, 1.54, 1.5542857142857143, 1.622111801242236, 1.6754451345755692, 1.9658004645248077, 2.1105067486778131], Clade(branch_length=0.3, name='BH10'): [0.0, 0.3, 0.34999999999999998, 0.37916666666666665, 0.89916666666666667, 0.9134523809523809, 0.98127846790890261, 1.0346118012422358, 1.3249671311914744, 1.4696734153444799], Clade(branch_length=3.3, name='SF2'): [0.0, 0.0, 0.0, 0.0, 3.3, 3.3428571428571425, 3.4106832298136642, 3.4640165631469975, 3.754371893096236, 3.8990781772492413], Clade(branch_length=6.3, name='ELI'): [0.0, 0.0, 0.0, 0.0, 0.0, 0.0, 0.0, 6.3, 7.2653225806451607, 7.6364974440331386], Clade(name='Z3'): [0.0, 0.0, 0.0, 0.0, 0.0, 0.0, 0.0, 0.0, 0.0, 10.1]}\n",
      "#####\n",
      "Z3\n",
      "{Clade(branch_length=3.7, name='CDC'): [0.0, 0.0, 0.0, 0.0, 0.0, 3.7, 3.8608695652173917, 3.9142028985507249, 4.2045582284999634, 4.3492645126529688, 5.490240397790501], Clade(branch_length=6.1, name='MAL'): [0.0, 0.0, 0.0, 0.0, 0.0, 0.0, 0.0, 6.1, 7.0346774193548383, 7.4058522827428162, 9.3486862582156078], Clade(branch_length=3.3, name='SF2'): [0.0, 0.0, 0.0, 0.0, 3.3, 3.3428571428571425, 3.4106832298136642, 3.4640165631469975, 3.754371893096236, 3.8990781772492413, 4.9219532315406012], Clade(branch_length=0.5, name='BRU'): [0.0, 0.0, 0.5, 0.54166666666666663, 1.0616666666666665, 1.0759523809523808, 1.1437784679089025, 1.1971118012422357, 1.4874671311914742, 1.6321734153444798, 2.0603539736556291], Clade(branch_length=4.3, name='RF'): [0.0, 0.0, 0.0, 0.0, 0.0, 0.0, 0.0, 4.3, 4.8675126903553299, 5.0122189745083352, 6.3271127834053278], Clade(branch_length=0.3, name='PV22'): [0.0, 0.3, 0.34999999999999998, 0.37916666666666665, 0.89916666666666667, 0.9134523809523809, 0.98127846790890261, 1.0346118012422358, 1.3249671311914744, 1.4696734153444799, 1.8552241035257591], Clade(branch_length=3.0, name='WMJ2'): [0.0, 0.0, 0.0, 0.0, 0.0, 0.0, 3.0, 3.0800000000000001, 3.3703553299492386, 3.5150616141022439, 4.437194660918677], Clade(branch_length=0.7, name='HXB'): [0.0, 0.0, 0.0, 0.7, 1.54, 1.5542857142857143, 1.622111801242236, 1.6754451345755692, 1.9658004645248077, 2.1105067486778131, 2.6641721554738109], Clade(branch_length=0.3, name='BH10'): [0.0, 0.3, 0.34999999999999998, 0.37916666666666665, 0.89916666666666667, 0.9134523809523809, 0.98127846790890261, 1.0346118012422358, 1.3249671311914744, 1.4696734153444799, 1.8552241035257591], Clade(branch_length=6.3, name='ELI'): [0.0, 0.0, 0.0, 0.0, 0.0, 0.0, 0.0, 6.3, 7.2653225806451607, 7.6364974440331386, 9.6398383319483258], Clade(name='Z3'): [0.0, 0.0, 0.0, 0.0, 0.0, 0.0, 0.0, 0.0, 0.0]}\n"
     ]
    }
   ],
   "source": [
    "for key,val in c.items():\n",
    "    print('#####')\n",
    "    print(key)\n",
    "    print(val)"
   ]
  },
  {
   "cell_type": "code",
   "execution_count": 443,
   "metadata": {
    "collapsed": false
   },
   "outputs": [
    {
     "data": {
      "text/plain": [
       "[(Clade(name='284593'),\n",
       "        fun: 0.27310977658162072\n",
       " hess_inv: <1x1 LbfgsInvHessProduct with dtype=float64>\n",
       "      jac: array([ 0.12242843])\n",
       "  message: b'CONVERGENCE: NORM_OF_PROJECTED_GRADIENT_<=_PGTOL'\n",
       "     nfev: 10\n",
       "      nit: 2\n",
       "   status: 0\n",
       "  success: True\n",
       "        x: array([ 0.])),\n",
       " (Clade(branch_length=1.5196, name='284590'),\n",
       "        fun: 0.28008028475757918\n",
       " hess_inv: <1x1 LbfgsInvHessProduct with dtype=float64>\n",
       "      jac: array([ 0.13053649])\n",
       "  message: b'CONVERGENCE: NORM_OF_PROJECTED_GRADIENT_<=_PGTOL'\n",
       "     nfev: 10\n",
       "      nit: 2\n",
       "   status: 0\n",
       "  success: True\n",
       "        x: array([ 0.])),\n",
       " (Clade(branch_length=1.5555, name='381046'),\n",
       "        fun: 0.29495960117964437\n",
       " hess_inv: <1x1 LbfgsInvHessProduct with dtype=float64>\n",
       "      jac: array([ 0.12736434])\n",
       "  message: b'CONVERGENCE: NORM_OF_PROJECTED_GRADIENT_<=_PGTOL'\n",
       "     nfev: 10\n",
       "      nit: 2\n",
       "   status: 0\n",
       "  success: True\n",
       "        x: array([ 0.])),\n",
       " (Clade(branch_length=0.32614),\n",
       "        fun: 0.29969491614164467\n",
       " hess_inv: <1x1 LbfgsInvHessProduct with dtype=float64>\n",
       "      jac: array([  2.66453526e-07])\n",
       "  message: b'CONVERGENCE: NORM_OF_PROJECTED_GRADIENT_<=_PGTOL'\n",
       "     nfev: 12\n",
       "      nit: 5\n",
       "   status: 0\n",
       "  success: True\n",
       "        x: array([ 1.36948876])),\n",
       " (Clade(branch_length=1.1719, name='4950'),\n",
       "        fun: 0.31785228579032576\n",
       " hess_inv: <1x1 LbfgsInvHessProduct with dtype=float64>\n",
       "      jac: array([ 0.12724896])\n",
       "  message: b'CONVERGENCE: NORM_OF_PROJECTED_GRADIENT_<=_PGTOL'\n",
       "     nfev: 8\n",
       "      nit: 2\n",
       "   status: 0\n",
       "  success: True\n",
       "        x: array([ 0.])),\n",
       " (Clade(branch_length=1.1477, name='13684'),\n",
       "        fun: 0.31827798523480233\n",
       " hess_inv: <1x1 LbfgsInvHessProduct with dtype=float64>\n",
       "      jac: array([ 0.14179186])\n",
       "  message: b'CONVERGENCE: NORM_OF_PROJECTED_GRADIENT_<=_PGTOL'\n",
       "     nfev: 8\n",
       "      nit: 2\n",
       "   status: 0\n",
       "  success: True\n",
       "        x: array([ 0.])),\n",
       " (Clade(branch_length=2.6094, confidence=1),\n",
       "        fun: 0.33609740855000098\n",
       " hess_inv: <1x1 LbfgsInvHessProduct with dtype=float64>\n",
       "      jac: array([-0.1244917])\n",
       "  message: b'CONVERGENCE: NORM_OF_PROJECTED_GRADIENT_<=_PGTOL'\n",
       "     nfev: 6\n",
       "      nit: 2\n",
       "   status: 0\n",
       "  success: True\n",
       "        x: array([ 0.652255])),\n",
       " (Clade(branch_length=0.07697, name='535722'),\n",
       "        fun: 0.36791564697737345\n",
       " hess_inv: <1x1 LbfgsInvHessProduct with dtype=float64>\n",
       "      jac: array([ 0.14463687])\n",
       "  message: b'CONVERGENCE: NORM_OF_PROJECTED_GRADIENT_<=_PGTOL'\n",
       "     nfev: 4\n",
       "      nit: 1\n",
       "   status: 0\n",
       "  success: True\n",
       "        x: array([ 0.])),\n",
       " (Clade(branch_length=0.050632, name='559305'),\n",
       "        fun: 0.37160009982656705\n",
       " hess_inv: <1x1 LbfgsInvHessProduct with dtype=float64>\n",
       "      jac: array([ 0.14544919])\n",
       "  message: b'CONVERGENCE: NORM_OF_PROJECTED_GRADIENT_<=_PGTOL'\n",
       "     nfev: 4\n",
       "      nit: 1\n",
       "   status: 0\n",
       "  success: True\n",
       "        x: array([ 0.])),\n",
       " (Clade(branch_length=0.38347, name='318829'),\n",
       "        fun: 0.37855892032612515\n",
       " hess_inv: <1x1 LbfgsInvHessProduct with dtype=float64>\n",
       "      jac: array([ 0.15161597])\n",
       "  message: b'CONVERGENCE: NORM_OF_PROJECTED_GRADIENT_<=_PGTOL'\n",
       "     nfev: 6\n",
       "      nit: 2\n",
       "   status: 0\n",
       "  success: True\n",
       "        x: array([ 0.])),\n",
       " (Clade(branch_length=0.5155, confidence=1),\n",
       "        fun: 0.37890198574911943\n",
       " hess_inv: <1x1 LbfgsInvHessProduct with dtype=float64>\n",
       "      jac: array([ 0.13850182])\n",
       "  message: b'CONVERGENCE: NORM_OF_PROJECTED_GRADIENT_<=_PGTOL'\n",
       "     nfev: 6\n",
       "      nit: 2\n",
       "   status: 0\n",
       "  success: True\n",
       "        x: array([ 0.])),\n",
       " (Clade(branch_length=0.054785, name='771870'),\n",
       "        fun: 0.38127806645355949\n",
       " hess_inv: <1x1 LbfgsInvHessProduct with dtype=float64>\n",
       "      jac: array([ 0.15202484])\n",
       "  message: b'CONVERGENCE: NORM_OF_PROJECTED_GRADIENT_<=_PGTOL'\n",
       "     nfev: 4\n",
       "      nit: 1\n",
       "   status: 0\n",
       "  success: True\n",
       "        x: array([ 0.])),\n",
       " (Clade(branch_length=0.049505, name='5141'),\n",
       "        fun: 0.38205787328729846\n",
       " hess_inv: <1x1 LbfgsInvHessProduct with dtype=float64>\n",
       "      jac: array([ 0.15223])\n",
       "  message: b'CONVERGENCE: NORM_OF_PROJECTED_GRADIENT_<=_PGTOL'\n",
       "     nfev: 4\n",
       "      nit: 1\n",
       "   status: 0\n",
       "  success: True\n",
       "        x: array([ 0.])),\n",
       " (Clade(branch_length=0.19406, name='515849'),\n",
       "        fun: 0.38416965749259907\n",
       " hess_inv: <1x1 LbfgsInvHessProduct with dtype=float64>\n",
       "      jac: array([ 0.15288815])\n",
       "  message: b'CONVERGENCE: NORM_OF_PROJECTED_GRADIENT_<=_PGTOL'\n",
       "     nfev: 4\n",
       "      nit: 1\n",
       "   status: 0\n",
       "  success: True\n",
       "        x: array([ 0.])),\n",
       " (Clade(branch_length=0.16376, confidence=0.999),\n",
       "        fun: 0.38953840822291352\n",
       " hess_inv: <1x1 LbfgsInvHessProduct with dtype=float64>\n",
       "      jac: array([ 0.14686931])\n",
       "  message: b'CONVERGENCE: NORM_OF_PROJECTED_GRADIENT_<=_PGTOL'\n",
       "     nfev: 4\n",
       "      nit: 1\n",
       "   status: 0\n",
       "  success: True\n",
       "        x: array([ 0.])),\n",
       " (Clade(branch_length=0.49742, name='500485'),\n",
       "        fun: 0.39535580915620938\n",
       " hess_inv: <1x1 LbfgsInvHessProduct with dtype=float64>\n",
       "      jac: array([ 0.15361314])\n",
       "  message: b'CONVERGENCE: NORM_OF_PROJECTED_GRADIENT_<=_PGTOL'\n",
       "     nfev: 6\n",
       "      nit: 2\n",
       "   status: 0\n",
       "  success: True\n",
       "        x: array([ 0.])),\n",
       " (Clade(branch_length=0.3407, name='5507'),\n",
       "        fun: 0.39698526973153853\n",
       " hess_inv: <1x1 LbfgsInvHessProduct with dtype=float64>\n",
       "      jac: array([ 0.15808314])\n",
       "  message: b'CONVERGENCE: NORM_OF_PROJECTED_GRADIENT_<=_PGTOL'\n",
       "     nfev: 6\n",
       "      nit: 2\n",
       "   status: 0\n",
       "  success: True\n",
       "        x: array([ 0.])),\n",
       " (Clade(branch_length=1.5185, name='6239'),\n",
       "        fun: 0.3978256823942386\n",
       " hess_inv: <1x1 LbfgsInvHessProduct with dtype=float64>\n",
       "      jac: array([ 0.12141355])\n",
       "  message: b'CONVERGENCE: NORM_OF_PROJECTED_GRADIENT_<=_PGTOL'\n",
       "     nfev: 10\n",
       "      nit: 2\n",
       "   status: 0\n",
       "  success: True\n",
       "        x: array([ 0.])),\n",
       " (Clade(branch_length=0.36447, name='441959'),\n",
       "        fun: 0.40343208532235719\n",
       " hess_inv: <1x1 LbfgsInvHessProduct with dtype=float64>\n",
       "      jac: array([ 0.15612131])\n",
       "  message: b'CONVERGENCE: NORM_OF_PROJECTED_GRADIENT_<=_PGTOL'\n",
       "     nfev: 6\n",
       "      nit: 2\n",
       "   status: 0\n",
       "  success: True\n",
       "        x: array([ 0.])),\n",
       " (Clade(branch_length=0.22805, name='222929'),\n",
       "        fun: 0.41040160138902293\n",
       " hess_inv: <1x1 LbfgsInvHessProduct with dtype=float64>\n",
       "      jac: array([ 0.15693777])\n",
       "  message: b'CONVERGENCE: NORM_OF_PROJECTED_GRADIENT_<=_PGTOL'\n",
       "     nfev: 4\n",
       "      nit: 1\n",
       "   status: 0\n",
       "  success: True\n",
       "        x: array([ 0.])),\n",
       " (Clade(branch_length=0.16226, confidence=0.998),\n",
       "        fun: 0.41305962659795264\n",
       " hess_inv: <1x1 LbfgsInvHessProduct with dtype=float64>\n",
       "      jac: array([ 0.13034475])\n",
       "  message: b'CONVERGENCE: NORM_OF_PROJECTED_GRADIENT_<=_PGTOL'\n",
       "     nfev: 4\n",
       "      nit: 1\n",
       "   status: 0\n",
       "  success: True\n",
       "        x: array([ 0.])),\n",
       " (Clade(branch_length=0.36092, confidence=0.791),\n",
       "        fun: 0.41618094273783324\n",
       " hess_inv: <1x1 LbfgsInvHessProduct with dtype=float64>\n",
       "      jac: array([-0.05827753])\n",
       "  message: b'CONVERGENCE: NORM_OF_PROJECTED_GRADIENT_<=_PGTOL'\n",
       "     nfev: 8\n",
       "      nit: 2\n",
       "   status: 0\n",
       "  success: True\n",
       "        x: array([ 0.32614])),\n",
       " (Clade(branch_length=0.20884, name='559298'),\n",
       "        fun: 0.42574131972469725\n",
       " hess_inv: <1x1 LbfgsInvHessProduct with dtype=float64>\n",
       "      jac: array([ 0.1627168])\n",
       "  message: b'CONVERGENCE: NORM_OF_PROJECTED_GRADIENT_<=_PGTOL'\n",
       "     nfev: 4\n",
       "      nit: 1\n",
       "   status: 0\n",
       "  success: True\n",
       "        x: array([ 0.])),\n",
       " (Clade(branch_length=0.14653, confidence=0.988),\n",
       "        fun: 0.43380154069400434\n",
       " hess_inv: <1x1 LbfgsInvHessProduct with dtype=float64>\n",
       "      jac: array([ 0.10509386])\n",
       "  message: b'CONVERGENCE: NORM_OF_PROJECTED_GRADIENT_<=_PGTOL'\n",
       "     nfev: 4\n",
       "      nit: 1\n",
       "   status: 0\n",
       "  success: True\n",
       "        x: array([ 0.])),\n",
       " (Clade(confidence=0.234),\n",
       "        fun: 0.43497153924290854\n",
       " hess_inv: <1x1 LbfgsInvHessProduct with dtype=float64>\n",
       "      jac: array([-0.0027461])\n",
       "  message: b'CONVERGENCE: NORM_OF_PROJECTED_GRADIENT_<=_PGTOL'\n",
       "     nfev: 14\n",
       "      nit: 2\n",
       "   status: 0\n",
       "  success: True\n",
       "        x: array([ 0.36092])),\n",
       " (Clade(branch_length=0.13855, name='5057'),\n",
       "        fun: 0.43535919994396549\n",
       " hess_inv: <1x1 LbfgsInvHessProduct with dtype=float64>\n",
       "      jac: array([ 0.16686323])\n",
       "  message: b'CONVERGENCE: NORM_OF_PROJECTED_GRADIENT_<=_PGTOL'\n",
       "     nfev: 4\n",
       "      nit: 1\n",
       "   status: 0\n",
       "  success: True\n",
       "        x: array([ 0.])),\n",
       " (Clade(branch_length=0.1246, confidence=0.926),\n",
       "        fun: 0.44535739457388368\n",
       " hess_inv: <1x1 LbfgsInvHessProduct with dtype=float64>\n",
       "      jac: array([ 0.11192276])\n",
       "  message: b'CONVERGENCE: NORM_OF_PROJECTED_GRADIENT_<=_PGTOL'\n",
       "     nfev: 4\n",
       "      nit: 1\n",
       "   status: 0\n",
       "  success: True\n",
       "        x: array([ 0.])),\n",
       " (Clade(branch_length=0.30402, confidence=0.997),\n",
       "        fun: 0.44891290262203004\n",
       " hess_inv: <1x1 LbfgsInvHessProduct with dtype=float64>\n",
       "      jac: array([ 0.08403612])\n",
       "  message: b'CONVERGENCE: NORM_OF_PROJECTED_GRADIENT_<=_PGTOL'\n",
       "     nfev: 6\n",
       "      nit: 2\n",
       "   status: 0\n",
       "  success: True\n",
       "        x: array([ 0.])),\n",
       " (Clade(branch_length=0.13825, confidence=0.135),\n",
       "        fun: 0.45001659071782962\n",
       " hess_inv: <1x1 LbfgsInvHessProduct with dtype=float64>\n",
       "      jac: array([-0.16288905])\n",
       "  message: b'CONVERGENCE: NORM_OF_PROJECTED_GRADIENT_<=_PGTOL'\n",
       "     nfev: 4\n",
       "      nit: 1\n",
       "   status: 0\n",
       "  success: True\n",
       "        x: array([ 0.13825])),\n",
       " (Clade(branch_length=0.068732, confidence=0.801),\n",
       "        fun: 0.45824325010315242\n",
       " hess_inv: <1x1 LbfgsInvHessProduct with dtype=float64>\n",
       "      jac: array([ 0.14012529])\n",
       "  message: b'CONVERGENCE: NORM_OF_PROJECTED_GRADIENT_<=_PGTOL'\n",
       "     nfev: 4\n",
       "      nit: 1\n",
       "   status: 0\n",
       "  success: True\n",
       "        x: array([ 0.])),\n",
       " (Clade(branch_length=0.16994, confidence=0.99),\n",
       "        fun: 0.45913939338097137\n",
       " hess_inv: <1x1 LbfgsInvHessProduct with dtype=float64>\n",
       "      jac: array([ 0.10001752])\n",
       "  message: b'CONVERGENCE: NORM_OF_PROJECTED_GRADIENT_<=_PGTOL'\n",
       "     nfev: 4\n",
       "      nit: 1\n",
       "   status: 0\n",
       "  success: True\n",
       "        x: array([ 0.])),\n",
       " (Clade(branch_length=0.38275, name='7165'),\n",
       "        fun: 0.46202882266646811\n",
       " hess_inv: <1x1 LbfgsInvHessProduct with dtype=float64>\n",
       "      jac: array([ 0.13429559])\n",
       "  message: b'CONVERGENCE: NORM_OF_PROJECTED_GRADIENT_<=_PGTOL'\n",
       "     nfev: 6\n",
       "      nit: 2\n",
       "   status: 0\n",
       "  success: True\n",
       "        x: array([ 0.])),\n",
       " (Clade(branch_length=0.35212, name='7227'),\n",
       "        fun: 0.46557345818003765\n",
       " hess_inv: <1x1 LbfgsInvHessProduct with dtype=float64>\n",
       "      jac: array([ 0.13510477])\n",
       "  message: b'CONVERGENCE: NORM_OF_PROJECTED_GRADIENT_<=_PGTOL'\n",
       "     nfev: 6\n",
       "      nit: 2\n",
       "   status: 0\n",
       "  success: True\n",
       "        x: array([ 0.])),\n",
       " (Clade(branch_length=0.45786, name='121225'),\n",
       "        fun: 0.46686939941568478\n",
       " hess_inv: <1x1 LbfgsInvHessProduct with dtype=float64>\n",
       "      jac: array([ 0.1356099])\n",
       "  message: b'CONVERGENCE: NORM_OF_PROJECTED_GRADIENT_<=_PGTOL'\n",
       "     nfev: 6\n",
       "      nit: 2\n",
       "   status: 0\n",
       "  success: True\n",
       "        x: array([ 0.])),\n",
       " (Clade(branch_length=0.072444, confidence=0.712),\n",
       "        fun: 0.46783291965655888\n",
       " hess_inv: <1x1 LbfgsInvHessProduct with dtype=float64>\n",
       "      jac: array([ 0.1120735])\n",
       "  message: b'CONVERGENCE: NORM_OF_PROJECTED_GRADIENT_<=_PGTOL'\n",
       "     nfev: 4\n",
       "      nit: 1\n",
       "   status: 0\n",
       "  success: True\n",
       "        x: array([ 0.])),\n",
       " (Clade(branch_length=0.61245, name='7668'),\n",
       "        fun: 0.47267063724015429\n",
       " hess_inv: <1x1 LbfgsInvHessProduct with dtype=float64>\n",
       "      jac: array([ 0.1399887])\n",
       "  message: b'CONVERGENCE: NORM_OF_PROJECTED_GRADIENT_<=_PGTOL'\n",
       "     nfev: 8\n",
       "      nit: 2\n",
       "   status: 0\n",
       "  success: True\n",
       "        x: array([ 0.])),\n",
       " (Clade(branch_length=0.12636, confidence=0.896),\n",
       "        fun: 0.47310728425028054\n",
       " hess_inv: <1x1 LbfgsInvHessProduct with dtype=float64>\n",
       "      jac: array([-0.09086717])\n",
       "  message: b'CONVERGENCE: NORM_OF_PROJECTED_GRADIENT_<=_PGTOL'\n",
       "     nfev: 4\n",
       "      nit: 1\n",
       "   status: 0\n",
       "  success: True\n",
       "        x: array([ 0.12636])),\n",
       " (Clade(branch_length=0.24145, confidence=0.981),\n",
       "        fun: 0.47595944680140589\n",
       " hess_inv: <1x1 LbfgsInvHessProduct with dtype=float64>\n",
       "      jac: array([ 0.0411909])\n",
       "  message: b'CONVERGENCE: NORM_OF_PROJECTED_GRADIENT_<=_PGTOL'\n",
       "     nfev: 8\n",
       "      nit: 2\n",
       "   status: 0\n",
       "  success: True\n",
       "        x: array([ 0.])),\n",
       " (Clade(branch_length=0.1476, name='7425'),\n",
       "        fun: 0.48087067399093386\n",
       " hess_inv: <1x1 LbfgsInvHessProduct with dtype=float64>\n",
       "      jac: array([ 0.13896109])\n",
       "  message: b'CONVERGENCE: NORM_OF_PROJECTED_GRADIENT_<=_PGTOL'\n",
       "     nfev: 4\n",
       "      nit: 1\n",
       "   status: 0\n",
       "  success: True\n",
       "        x: array([ 0.])),\n",
       " (Clade(branch_length=2.2432, confidence=1),\n",
       "        fun: 0.48127497848243367\n",
       " hess_inv: <1x1 LbfgsInvHessProduct with dtype=float64>\n",
       "      jac: array([  9.54791801e-07])\n",
       "  message: b'CONVERGENCE: NORM_OF_PROJECTED_GRADIENT_<=_PGTOL'\n",
       "     nfev: 14\n",
       "      nit: 6\n",
       "   status: 0\n",
       "  success: True\n",
       "        x: array([ 2.04567859])),\n",
       " (Clade(branch_length=0.071587, name='7460'),\n",
       "        fun: 0.49107337005638108\n",
       " hess_inv: <1x1 LbfgsInvHessProduct with dtype=float64>\n",
       "      jac: array([ 0.1414477])\n",
       "  message: b'CONVERGENCE: NORM_OF_PROJECTED_GRADIENT_<=_PGTOL'\n",
       "     nfev: 4\n",
       "      nit: 1\n",
       "   status: 0\n",
       "  success: True\n",
       "        x: array([ 0.])),\n",
       " (Clade(branch_length=0.19353, confidence=1),\n",
       "        fun: 0.50114731511397426\n",
       " hess_inv: <1x1 LbfgsInvHessProduct with dtype=float64>\n",
       "      jac: array([ 0.13378071])\n",
       "  message: b'CONVERGENCE: NORM_OF_PROJECTED_GRADIENT_<=_PGTOL'\n",
       "     nfev: 4\n",
       "      nit: 1\n",
       "   status: 0\n",
       "  success: True\n",
       "        x: array([ 0.])),\n",
       " (Clade(branch_length=0.10518, name='8364'),\n",
       "        fun: 0.51098580817808159\n",
       " hess_inv: <1x1 LbfgsInvHessProduct with dtype=float64>\n",
       "      jac: array([ 0.15250196])\n",
       "  message: b'CONVERGENCE: NORM_OF_PROJECTED_GRADIENT_<=_PGTOL'\n",
       "     nfev: 4\n",
       "      nit: 1\n",
       "   status: 0\n",
       "  success: True\n",
       "        x: array([ 0.])),\n",
       " (Clade(branch_length=0.20483, confidence=1),\n",
       "        fun: 0.51174450893895107\n",
       " hess_inv: <1x1 LbfgsInvHessProduct with dtype=float64>\n",
       "      jac: array([ 0.11412201])\n",
       "  message: b'CONVERGENCE: NORM_OF_PROJECTED_GRADIENT_<=_PGTOL'\n",
       "     nfev: 4\n",
       "      nit: 1\n",
       "   status: 0\n",
       "  success: True\n",
       "        x: array([ 0.])),\n",
       " (Clade(branch_length=0.049907, name='8090'),\n",
       "        fun: 0.51383038943487835\n",
       " hess_inv: <1x1 LbfgsInvHessProduct with dtype=float64>\n",
       "      jac: array([ 0.15333982])\n",
       "  message: b'CONVERGENCE: NORM_OF_PROJECTED_GRADIENT_<=_PGTOL'\n",
       "     nfev: 4\n",
       "      nit: 1\n",
       "   status: 0\n",
       "  success: True\n",
       "        x: array([ 0.])),\n",
       " (Clade(branch_length=0.01556, name='10090'),\n",
       "        fun: 0.51502726444742075\n",
       " hess_inv: <1x1 LbfgsInvHessProduct with dtype=float64>\n",
       "      jac: array([ 0.15369064])\n",
       "  message: b'CONVERGENCE: NORM_OF_PROJECTED_GRADIENT_<=_PGTOL'\n",
       "     nfev: 4\n",
       "      nit: 1\n",
       "   status: 0\n",
       "  success: True\n",
       "        x: array([ 0.])),\n",
       " (Clade(branch_length=0.0055835, name='9606'),\n",
       "        fun: 0.51655649386415559\n",
       " hess_inv: <1x1 LbfgsInvHessProduct with dtype=float64>\n",
       "      jac: array([ 0.15413989])\n",
       "  message: b'CONVERGENCE: NORM_OF_PROJECTED_GRADIENT_<=_PGTOL'\n",
       "     nfev: 4\n",
       "      nit: 1\n",
       "   status: 0\n",
       "  success: True\n",
       "        x: array([ 0.])),\n",
       " (Clade(branch_length=0.030125, name='8128'),\n",
       "        fun: 0.51682540280920186\n",
       " hess_inv: <1x1 LbfgsInvHessProduct with dtype=float64>\n",
       "      jac: array([ 0.15422222])\n",
       "  message: b'CONVERGENCE: NORM_OF_PROJECTED_GRADIENT_<=_PGTOL'\n",
       "     nfev: 4\n",
       "      nit: 1\n",
       "   status: 0\n",
       "  success: True\n",
       "        x: array([ 0.])),\n",
       " (Clade(branch_length=0.06915, name='7955'),\n",
       "        fun: 0.51717003953756069\n",
       " hess_inv: <1x1 LbfgsInvHessProduct with dtype=float64>\n",
       "      jac: array([ 0.1543359])\n",
       "  message: b'CONVERGENCE: NORM_OF_PROJECTED_GRADIENT_<=_PGTOL'\n",
       "     nfev: 4\n",
       "      nit: 1\n",
       "   status: 0\n",
       "  success: True\n",
       "        x: array([ 0.])),\n",
       " (Clade(branch_length=0.0035274, confidence=0.73),\n",
       "        fun: 0.51741690788259909\n",
       " hess_inv: <1x1 LbfgsInvHessProduct with dtype=float64>\n",
       "      jac: array([ 0.1532987])\n",
       "  message: b'CONVERGENCE: NORM_OF_PROJECTED_GRADIENT_<=_PGTOL'\n",
       "     nfev: 4\n",
       "      nit: 1\n",
       "   status: 0\n",
       "  success: True\n",
       "        x: array([ 0.])),\n",
       " (Clade(branch_length=0.0027439, name='30611'),\n",
       "        fun: 0.51753388201103256\n",
       " hess_inv: <1x1 LbfgsInvHessProduct with dtype=float64>\n",
       "      jac: array([ 0.15442843])\n",
       "  message: b'CONVERGENCE: NORM_OF_PROJECTED_GRADIENT_<=_PGTOL'\n",
       "     nfev: 4\n",
       "      nit: 1\n",
       "   status: 0\n",
       "  success: True\n",
       "        x: array([ 0.])),\n",
       " (Clade(branch_length=0.058814, confidence=0.998),\n",
       "        fun: 0.51795756428569872\n",
       " hess_inv: <1x1 LbfgsInvHessProduct with dtype=float64>\n",
       "      jac: array([ 0.15316896])\n",
       "  message: b'CONVERGENCE: NORM_OF_PROJECTED_GRADIENT_<=_PGTOL'\n",
       "     nfev: 4\n",
       "      nit: 1\n",
       "   status: 0\n",
       "  success: True\n",
       "        x: array([ 0.])),\n",
       " (Clade(branch_length=0.041929, confidence=0.998),\n",
       "        fun: 0.52146491828913766\n",
       " hess_inv: <1x1 LbfgsInvHessProduct with dtype=float64>\n",
       "      jac: array([ 0.15160001])\n",
       "  message: b'CONVERGENCE: NORM_OF_PROJECTED_GRADIENT_<=_PGTOL'\n",
       "     nfev: 4\n",
       "      nit: 1\n",
       "   status: 0\n",
       "  success: True\n",
       "        x: array([ 0.])),\n",
       " (Clade(branch_length=0.071362, confidence=0.837),\n",
       "        fun: 0.52670703410034636\n",
       " hess_inv: <1x1 LbfgsInvHessProduct with dtype=float64>\n",
       "      jac: array([ 0.11327413])\n",
       "  message: b'CONVERGENCE: NORM_OF_PROJECTED_GRADIENT_<=_PGTOL'\n",
       "     nfev: 4\n",
       "      nit: 1\n",
       "   status: 0\n",
       "  success: True\n",
       "        x: array([ 0.])),\n",
       " (Clade(branch_length=0.059839, confidence=0.984),\n",
       "        fun: 0.52694495267352093\n",
       " hess_inv: <1x1 LbfgsInvHessProduct with dtype=float64>\n",
       "      jac: array([ 0.147964])\n",
       "  message: b'CONVERGENCE: NORM_OF_PROJECTED_GRADIENT_<=_PGTOL'\n",
       "     nfev: 4\n",
       "      nit: 1\n",
       "   status: 0\n",
       "  success: True\n",
       "        x: array([ 0.])),\n",
       " (Clade(branch_length=0.053782, confidence=0.892),\n",
       "        fun: 0.52780971292181666\n",
       " hess_inv: <1x1 LbfgsInvHessProduct with dtype=float64>\n",
       "      jac: array([ 0.1484702])\n",
       "  message: b'CONVERGENCE: NORM_OF_PROJECTED_GRADIENT_<=_PGTOL'\n",
       "     nfev: 4\n",
       "      nit: 1\n",
       "   status: 0\n",
       "  success: True\n",
       "        x: array([ 0.])),\n",
       " (Clade(branch_length=0.21782, confidence=0.952),\n",
       "        fun: 0.53475758195718037\n",
       " hess_inv: <1x1 LbfgsInvHessProduct with dtype=float64>\n",
       "      jac: array([ 0.07901851])\n",
       "  message: b'CONVERGENCE: NORM_OF_PROJECTED_GRADIENT_<=_PGTOL'\n",
       "     nfev: 6\n",
       "      nit: 2\n",
       "   status: 0\n",
       "  success: True\n",
       "        x: array([ 0.])),\n",
       " (Clade(branch_length=0.14106, confidence=0.914),\n",
       "        fun: 0.53577883347538069\n",
       " hess_inv: <1x1 LbfgsInvHessProduct with dtype=float64>\n",
       "      jac: array([ 0.13792815])\n",
       "  message: b'CONVERGENCE: NORM_OF_PROJECTED_GRADIENT_<=_PGTOL'\n",
       "     nfev: 4\n",
       "      nit: 1\n",
       "   status: 0\n",
       "  success: True\n",
       "        x: array([ 0.])),\n",
       " (Clade(branch_length=0.15024, confidence=0.175),\n",
       "        fun: 0.55156772664354903\n",
       " hess_inv: <1x1 LbfgsInvHessProduct with dtype=float64>\n",
       "      jac: array([ 0.02399186])\n",
       "  message: b'CONVERGENCE: NORM_OF_PROJECTED_GRADIENT_<=_PGTOL'\n",
       "     nfev: 8\n",
       "      nit: 2\n",
       "   status: 0\n",
       "  success: True\n",
       "        x: array([ -6.93889390e-18])),\n",
       " (Clade(branch_length=0.124, confidence=0.856),\n",
       "        fun: 0.55474329245221188\n",
       " hess_inv: <1x1 LbfgsInvHessProduct with dtype=float64>\n",
       "      jac: array([-0.0033523])\n",
       "  message: b'CONVERGENCE: NORM_OF_PROJECTED_GRADIENT_<=_PGTOL'\n",
       "     nfev: 12\n",
       "      nit: 2\n",
       "   status: 0\n",
       "  success: True\n",
       "        x: array([ 0.124]))]"
      ]
     },
     "execution_count": 443,
     "metadata": {},
     "output_type": "execute_result"
    }
   ],
   "source": [
    "a"
   ]
  },
  {
   "cell_type": "code",
   "execution_count": null,
   "metadata": {
    "collapsed": true
   },
   "outputs": [],
   "source": []
  },
  {
   "cell_type": "code",
   "execution_count": 611,
   "metadata": {
    "collapsed": false
   },
   "outputs": [
    {
     "data": {
      "image/png": "[encoded data removed]",
      "text/plain": [
       "<matplotlib.figure.Figure at 0x127bf3978>"
      ]
     },
     "metadata": {},
     "output_type": "display_data"
    }
   ],
   "source": [
    "# tree = Phylo.read('../../Tree_rooting/Tria_et_al_data/eukaryotes/ingroup/phyml/KOG0007.faa.aln.nwk', 'newick')\n",
    "# tree = rooting_methods.mp_root_adhock(tree)\n",
    "# Phylo.draw(tree)\n",
    "tree,a,b = rooting_methods.ml_root_adhock(tree)\n",
    "Phylo.draw(tree)"
   ]
  },
  {
   "cell_type": "code",
   "execution_count": 612,
   "metadata": {
    "collapsed": false
   },
   "outputs": [
    {
     "name": "stdout",
     "output_type": "stream",
     "text": [
      "[(None, 1.3427466101027199), (None, 1.26665338989728)]\n"
     ]
    }
   ],
   "source": [
    "print([(i.name, i.branch_length) for i in tree.root.clades])"
   ]
  },
  {
   "cell_type": "code",
   "execution_count": 474,
   "metadata": {
    "collapsed": false
   },
   "outputs": [],
   "source": [
    "testy = [val for key, val in tree.depths().items() if key in tree.get_terminals()]"
   ]
  },
  {
   "cell_type": "code",
   "execution_count": 475,
   "metadata": {
    "collapsed": false
   },
   "outputs": [
    {
     "name": "stdout",
     "output_type": "stream",
     "text": [
      "1.07297489653 3.40675614942 0.314955003961\n",
      "46.1705816308\n"
     ]
    }
   ],
   "source": [
    "print(np.std(testy), np.mean(testy), np.std(testy)/np.mean(testy))\n",
    "print(-np.sum(stats.norm.logpdf(testy, loc=np.mean(testy), scale=np.std(testy))))"
   ]
  },
  {
   "cell_type": "code",
   "execution_count": 468,
   "metadata": {
    "collapsed": false
   },
   "outputs": [
    {
     "name": "stdout",
     "output_type": "stream",
     "text": [
      "1.07297489653 3.4067561544 0.314955003501\n",
      "46.1705816308\n"
     ]
    }
   ],
   "source": [
    "print(np.std(testy), np.mean(testy), np.std(testy)/np.mean(testy))\n",
    "print(-np.sum(stats.norm.logpdf(testy, loc=np.mean(testy), scale=np.std(testy))))"
   ]
  },
  {
   "cell_type": "code",
   "execution_count": 472,
   "metadata": {
    "collapsed": false
   },
   "outputs": [
    {
     "name": "stdout",
     "output_type": "stream",
     "text": [
      "2.00078394421 7.14004442581 0.280220097368\n",
      "65.4868058811\n"
     ]
    }
   ],
   "source": [
    "print(np.std(testy), np.mean(testy), np.std(testy)/np.mean(testy))\n",
    "print(-np.sum(stats.norm.logpdf(testy, loc=np.mean(testy), scale=np.std(testy))))"
   ]
  },
  {
   "cell_type": "code",
   "execution_count": 464,
   "metadata": {
    "collapsed": false
   },
   "outputs": [
    {
     "data": {
      "text/plain": [
       "0.28022009736777487"
      ]
     },
     "execution_count": 464,
     "metadata": {},
     "output_type": "execute_result"
    }
   ],
   "source": []
  },
  {
   "cell_type": "code",
   "execution_count": null,
   "metadata": {
    "collapsed": true
   },
   "outputs": [],
   "source": []
  },
  {
   "cell_type": "code",
   "execution_count": 267,
   "metadata": {
    "collapsed": false
   },
   "outputs": [
    {
     "name": "stdout",
     "output_type": "stream",
     "text": [
      "[-5 -4 -3 -2 -1  0  1  2  3  4] [9 8 7 6 5 4 3 2 1 0]\n",
      "0.947607082959\n"
     ]
    }
   ],
   "source": [
    "from statsmodels.stats.weightstats import DescrStatsW\n",
    "arr = np.arange(-5, 5)\n",
    "weights = np.arange(9, -1, -1)  # Same size as arr\n",
    "print(arr, weights)\n",
    "dsw = DescrStatsW(arr, weights)\n",
    "cv = dsw.std / abs(dsw.mean)  # weighted std / abs of weighted mean\n",
    "print(cv)"
   ]
  },
  {
   "cell_type": "code",
   "execution_count": 42,
   "metadata": {
    "collapsed": true
   },
   "outputs": [],
   "source": [
    "from matplotlib import pyplot as plt"
   ]
  },
  {
   "cell_type": "code",
   "execution_count": 35,
   "metadata": {
    "collapsed": true
   },
   "outputs": [],
   "source": [
    "import statsmodels.api as sm"
   ]
  },
  {
   "cell_type": "code",
   "execution_count": 40,
   "metadata": {
    "collapsed": false
   },
   "outputs": [],
   "source": [
    "sm.stats.DescrStatsW.mean()\n",
    "\n",
    "from statsmodels.stats.weightstats import DescrStatsW\n",
    "\n",
    "cv = dsw.std / abs(dsw.mean)  # weighted std / abs of weighted mean\n",
    "\n",
    "print(cv)\n",
    "1.6583123951777001\n",
    "\n",
    "\n",
    "\n",
    "weighted_stats = DescrStatsW(array, weights=weights, ddof=0)\n",
    ">>> weighted_stats.std       \n"
   ]
  },
  {
   "cell_type": "code",
   "execution_count": 43,
   "metadata": {
    "collapsed": false
   },
   "outputs": [
    {
     "data": {
      "text/plain": [
       "[<matplotlib.lines.Line2D at 0x11c9c6b70>]"
      ]
     },
     "execution_count": 43,
     "metadata": {},
     "output_type": "execute_result"
    },
    {
     "data": {
      "image/png": "[encoded data removed]",
      "text/plain": [
       "<matplotlib.figure.Figure at 0x11c9c6ba8>"
      ]
     },
     "metadata": {},
     "output_type": "display_data"
    }
   ],
   "source": [
    "fig, ax = plt.subplots(1, )\n",
    "ax.plot(testy.support, testy.density)"
   ]
  },
  {
   "cell_type": "code",
   "execution_count": null,
   "metadata": {
    "collapsed": true
   },
   "outputs": [],
   "source": []
  }
 ],
 "metadata": {
  "kernelspec": {
   "display_name": "Python 3",
   "language": "python",
   "name": "python3"
  },
  "language_info": {
   "codemirror_mode": {
    "name": "ipython",
    "version": 3
   },
   "file_extension": ".py",
   "mimetype": "text/x-python",
   "name": "python",
   "nbconvert_exporter": "python",
   "pygments_lexer": "ipython3",
   "version": "3.4.5"
  },
  "toc": {
   "colors": {
    "hover_highlight": "#DAA520",
    "navigate_num": "#000000",
    "navigate_text": "#333333",
    "running_highlight": "#FF0000",
    "selected_highlight": "#FFD700",
    "sidebar_border": "#EEEEEE",
    "wrapper_background": "#FFFFFF"
   },
   "moveMenuLeft": true,
   "nav_menu": {
    "height": "12px",
    "width": "252px"
   },
   "navigate_menu": true,
   "number_sections": true,
   "sideBar": true,
   "threshold": 4,
   "toc_cell": false,
   "toc_section_display": "block",
   "toc_window_display": false,
   "widenNotebook": false
  }
 },
 "nbformat": 4,
 "nbformat_minor": 2
}

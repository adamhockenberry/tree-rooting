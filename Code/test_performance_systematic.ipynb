{
 "cells": [
  {
   "cell_type": "code",
   "execution_count": 1,
   "metadata": {
    "collapsed": false
   },
   "outputs": [],
   "source": [
    "%matplotlib inline\n",
    "%load_ext autoreload\n",
    "%autoreload 2"
   ]
  },
  {
   "cell_type": "code",
   "execution_count": 2,
   "metadata": {
    "collapsed": true
   },
   "outputs": [],
   "source": [
    "import glob\n",
    "from Bio import Phylo, SeqIO\n",
    "import pandas as pd\n",
    "import numpy as np\n",
    "from matplotlib import pyplot as plt\n",
    "\n",
    "from scipy import stats"
   ]
  },
  {
   "cell_type": "code",
   "execution_count": null,
   "metadata": {
    "collapsed": true
   },
   "outputs": [],
   "source": []
  },
  {
   "cell_type": "markdown",
   "metadata": {},
   "source": [
    "# Read in dataframe containing monophyly information"
   ]
  },
  {
   "cell_type": "code",
   "execution_count": 90,
   "metadata": {
    "collapsed": false
   },
   "outputs": [
    {
     "name": "stdout",
     "output_type": "stream",
     "text": [
      "(528, 9)\n"
     ]
    },
    {
     "data": {
      "text/html": [
       "<div>\n",
       "<style>\n",
       "    .dataframe thead tr:only-child th {\n",
       "        text-align: right;\n",
       "    }\n",
       "\n",
       "    .dataframe thead th {\n",
       "        text-align: left;\n",
       "    }\n",
       "\n",
       "    .dataframe tbody tr th {\n",
       "        vertical-align: top;\n",
       "    }\n",
       "</style>\n",
       "<table border=\"1\" class=\"dataframe\">\n",
       "  <thead>\n",
       "    <tr style=\"text-align: right;\">\n",
       "      <th></th>\n",
       "      <th>monophyletic_clade</th>\n",
       "      <th>other_clade</th>\n",
       "      <th>root_bl</th>\n",
       "      <th>monophyletic_total_bl</th>\n",
       "      <th>other_total_bl</th>\n",
       "      <th>total_tree_bl</th>\n",
       "      <th>total_n</th>\n",
       "      <th>monophyletic_n</th>\n",
       "      <th>other_n</th>\n",
       "    </tr>\n",
       "    <tr>\n",
       "      <th>Group_id</th>\n",
       "      <th></th>\n",
       "      <th></th>\n",
       "      <th></th>\n",
       "      <th></th>\n",
       "      <th></th>\n",
       "      <th></th>\n",
       "      <th></th>\n",
       "      <th></th>\n",
       "      <th></th>\n",
       "    </tr>\n",
       "  </thead>\n",
       "  <tbody>\n",
       "    <tr>\n",
       "      <th>OMAGroup_789494</th>\n",
       "      <td>IntNode_3</td>\n",
       "      <td>IntNode_88</td>\n",
       "      <td>1.49293</td>\n",
       "      <td>69.00150</td>\n",
       "      <td>56.46590</td>\n",
       "      <td>126.96033</td>\n",
       "      <td>194.0</td>\n",
       "      <td>89.0</td>\n",
       "      <td>105.0</td>\n",
       "    </tr>\n",
       "    <tr>\n",
       "      <th>OMAGroup_556084</th>\n",
       "      <td>IntNode_63</td>\n",
       "      <td>IntNode_88</td>\n",
       "      <td>1.51192</td>\n",
       "      <td>45.38699</td>\n",
       "      <td>36.29295</td>\n",
       "      <td>83.19186</td>\n",
       "      <td>199.0</td>\n",
       "      <td>89.0</td>\n",
       "      <td>110.0</td>\n",
       "    </tr>\n",
       "    <tr>\n",
       "      <th>OMAGroup_555430</th>\n",
       "      <td>IntNode_46</td>\n",
       "      <td>IntNode_73</td>\n",
       "      <td>1.00116</td>\n",
       "      <td>30.16103</td>\n",
       "      <td>38.54124</td>\n",
       "      <td>69.70343</td>\n",
       "      <td>222.0</td>\n",
       "      <td>94.0</td>\n",
       "      <td>128.0</td>\n",
       "    </tr>\n",
       "    <tr>\n",
       "      <th>OMAGroup_828657</th>\n",
       "      <td>IntNode_43</td>\n",
       "      <td>IntNode_49</td>\n",
       "      <td>0.97504</td>\n",
       "      <td>16.43967</td>\n",
       "      <td>28.31956</td>\n",
       "      <td>45.73427</td>\n",
       "      <td>172.0</td>\n",
       "      <td>50.0</td>\n",
       "      <td>122.0</td>\n",
       "    </tr>\n",
       "    <tr>\n",
       "      <th>OMAGroup_804387</th>\n",
       "      <td>IntNode_48</td>\n",
       "      <td>IntNode_76</td>\n",
       "      <td>0.37875</td>\n",
       "      <td>20.59071</td>\n",
       "      <td>17.27605</td>\n",
       "      <td>38.24551</td>\n",
       "      <td>233.0</td>\n",
       "      <td>97.0</td>\n",
       "      <td>136.0</td>\n",
       "    </tr>\n",
       "    <tr>\n",
       "      <th>OMAGroup_832116</th>\n",
       "      <td>IntNode_88</td>\n",
       "      <td>IntNode_90</td>\n",
       "      <td>1.80966</td>\n",
       "      <td>32.08482</td>\n",
       "      <td>20.72547</td>\n",
       "      <td>54.61995</td>\n",
       "      <td>203.0</td>\n",
       "      <td>90.0</td>\n",
       "      <td>113.0</td>\n",
       "    </tr>\n",
       "    <tr>\n",
       "      <th>OMAGroup_809161</th>\n",
       "      <td>IntNode_3</td>\n",
       "      <td>IntNode_95</td>\n",
       "      <td>3.04869</td>\n",
       "      <td>32.59700</td>\n",
       "      <td>28.92590</td>\n",
       "      <td>64.57159</td>\n",
       "      <td>213.0</td>\n",
       "      <td>96.0</td>\n",
       "      <td>117.0</td>\n",
       "    </tr>\n",
       "    <tr>\n",
       "      <th>OMAGroup_839524</th>\n",
       "      <td>IntNode_42</td>\n",
       "      <td>IntNode_67</td>\n",
       "      <td>1.74309</td>\n",
       "      <td>17.51860</td>\n",
       "      <td>17.52166</td>\n",
       "      <td>36.78335</td>\n",
       "      <td>191.0</td>\n",
       "      <td>68.0</td>\n",
       "      <td>123.0</td>\n",
       "    </tr>\n",
       "    <tr>\n",
       "      <th>OMAGroup_840929</th>\n",
       "      <td>IntNode_65</td>\n",
       "      <td>IntNode_88</td>\n",
       "      <td>0.32456</td>\n",
       "      <td>17.32818</td>\n",
       "      <td>19.81383</td>\n",
       "      <td>37.46657</td>\n",
       "      <td>210.0</td>\n",
       "      <td>88.0</td>\n",
       "      <td>122.0</td>\n",
       "    </tr>\n",
       "    <tr>\n",
       "      <th>OMAGroup_677247</th>\n",
       "      <td>IntNode_4</td>\n",
       "      <td>IntNode_64</td>\n",
       "      <td>1.59976</td>\n",
       "      <td>50.28686</td>\n",
       "      <td>35.68908</td>\n",
       "      <td>87.57570</td>\n",
       "      <td>178.0</td>\n",
       "      <td>89.0</td>\n",
       "      <td>89.0</td>\n",
       "    </tr>\n",
       "  </tbody>\n",
       "</table>\n",
       "</div>"
      ],
      "text/plain": [
       "                monophyletic_clade other_clade  root_bl  \\\n",
       "Group_id                                                  \n",
       "OMAGroup_789494          IntNode_3  IntNode_88  1.49293   \n",
       "OMAGroup_556084         IntNode_63  IntNode_88  1.51192   \n",
       "OMAGroup_555430         IntNode_46  IntNode_73  1.00116   \n",
       "OMAGroup_828657         IntNode_43  IntNode_49  0.97504   \n",
       "OMAGroup_804387         IntNode_48  IntNode_76  0.37875   \n",
       "OMAGroup_832116         IntNode_88  IntNode_90  1.80966   \n",
       "OMAGroup_809161          IntNode_3  IntNode_95  3.04869   \n",
       "OMAGroup_839524         IntNode_42  IntNode_67  1.74309   \n",
       "OMAGroup_840929         IntNode_65  IntNode_88  0.32456   \n",
       "OMAGroup_677247          IntNode_4  IntNode_64  1.59976   \n",
       "\n",
       "                 monophyletic_total_bl  other_total_bl  total_tree_bl  \\\n",
       "Group_id                                                                \n",
       "OMAGroup_789494               69.00150        56.46590      126.96033   \n",
       "OMAGroup_556084               45.38699        36.29295       83.19186   \n",
       "OMAGroup_555430               30.16103        38.54124       69.70343   \n",
       "OMAGroup_828657               16.43967        28.31956       45.73427   \n",
       "OMAGroup_804387               20.59071        17.27605       38.24551   \n",
       "OMAGroup_832116               32.08482        20.72547       54.61995   \n",
       "OMAGroup_809161               32.59700        28.92590       64.57159   \n",
       "OMAGroup_839524               17.51860        17.52166       36.78335   \n",
       "OMAGroup_840929               17.32818        19.81383       37.46657   \n",
       "OMAGroup_677247               50.28686        35.68908       87.57570   \n",
       "\n",
       "                 total_n  monophyletic_n  other_n  \n",
       "Group_id                                           \n",
       "OMAGroup_789494    194.0            89.0    105.0  \n",
       "OMAGroup_556084    199.0            89.0    110.0  \n",
       "OMAGroup_555430    222.0            94.0    128.0  \n",
       "OMAGroup_828657    172.0            50.0    122.0  \n",
       "OMAGroup_804387    233.0            97.0    136.0  \n",
       "OMAGroup_832116    203.0            90.0    113.0  \n",
       "OMAGroup_809161    213.0            96.0    117.0  \n",
       "OMAGroup_839524    191.0            68.0    123.0  \n",
       "OMAGroup_840929    210.0            88.0    122.0  \n",
       "OMAGroup_677247    178.0            89.0     89.0  "
      ]
     },
     "execution_count": 90,
     "metadata": {},
     "output_type": "execute_result"
    }
   ],
   "source": [
    "monophyly_df = pd.read_csv('../Data/OMA_group_data/eukaryotes/tree_monophyly.csv', index_col='Group_id')\n",
    "# monophyly_df = pd.read_csv('../Data/Tria_et_al_data/eukaryotes/tree_monophyly.csv', index_col='Group_id')\n",
    "print(monophyly_df.shape)\n",
    "monophyly_df.head(n=10)"
   ]
  },
  {
   "cell_type": "code",
   "execution_count": null,
   "metadata": {
    "collapsed": false
   },
   "outputs": [],
   "source": []
  },
  {
   "cell_type": "markdown",
   "metadata": {},
   "source": [
    "# Testing algorithm accuracies on full datasets"
   ]
  },
  {
   "cell_type": "code",
   "execution_count": 92,
   "metadata": {
    "collapsed": false
   },
   "outputs": [],
   "source": [
    "trees_dir = '../Data/OMA_group_data/eukaryotes/processed_OMA_trees/*treefile.RootedNoZero.MPAJH'\n",
    "# trees_dir = '../Data/OMA_group_data/eukaryotes/processed_OMA_trees/*Terms.Rooted.MPAJH'\n",
    "# trees_dir = '../Data/OMA_group_data/eukaryotes/pruned_OMA_trees/*frac0.05*treefile.RootedNoZero.MPAJH'\n",
    "# trees_dir = '../Data/OMA_group_data/eukaryotes/pruned_OMA_trees/*frac0.5*treefile.RootedNoZero.MPAJH'\n",
    "# trees_dir = '../Data/OMA_group_data/eukaryotes/pruned_OMA_trees/*frac0.95*treefile.RootedNoZero.MPAJH'\n",
    "# trees_dir = '../Data/Tria_et_al_data/eukaryotes/processed_trees/*nwk.RootedNoZero.MPAJH'\n",
    "# trees_dir = '../Data/Tria_et_al_data/eukaryotes/processed_trees/*Terms.Rooted.MPAJH'\n",
    "\n",
    "methods = ['.MPAJH','.MinVarAJH', '.MADAJH']\n",
    "# methods = ['.MPAJH',\\\n",
    "#            '.MinVarAJH', '.MinVarGSCAJH', '.MinVarGSCnAJH', '.MinVarHHAJH',\\\n",
    "#            '.MADAJH', '.MADweightAJH', '.MADweightNormedAJH', '.MADweightControlAJH', '.MADweightTestyAJH']\n",
    "# methods = ['.MPAJH',\\\n",
    "#            '.MinVarAJH', '.MinVarGSCAJH', '.MinVarGSCnAJH', '.MinVarHHAJH',\\\n",
    "#           '.MADAJH', '.MADweightAJH', '.MADweightNormedAJH']\n",
    "for method in methods:\n",
    "    monophyly_df['{}_success'.format(method)] = np.nan\n",
    "\n",
    "trees_tested = []\n",
    "\n",
    "for tree_loc in glob.glob(trees_dir)[:]:\n",
    "#     print(tree_loc)\n",
    "    group = tree_loc.split('/')[-1].split('.')[0]\n",
    "    if type(monophyly_df.loc[group]['monophyletic_clade']) != str:\n",
    "        continue\n",
    "    for method in methods:\n",
    "        my_tree = Phylo.read(tree_loc.replace('.MPAJH', method), 'newick', rooted=True)\n",
    "        internals = [i.name for i in my_tree.get_nonterminals()]\n",
    "        assert monophyly_df.loc[group]['monophyletic_clade'] in internals\n",
    "        assert monophyly_df.loc[group]['other_clade'] in internals\n",
    "        if monophyly_df.loc[group]['monophyletic_clade'] in [clade.name for clade in my_tree.root.clades] \\\n",
    "        and monophyly_df.loc[group]['other_clade'] in [clade.name for clade in my_tree.root.clades]:\n",
    "            monophyly_df.set_value(group, '{}_success'.format(method), 1)\n",
    "        else:\n",
    "            monophyly_df.set_value(group, '{}_success'.format(method), 0)\n",
    "    trees_tested.append(tree_loc)"
   ]
  },
  {
   "cell_type": "code",
   "execution_count": 93,
   "metadata": {
    "collapsed": false
   },
   "outputs": [
    {
     "name": "stdout",
     "output_type": "stream",
     "text": [
      ".MPAJH \t 334.0\n",
      ".MinVarAJH \t 399.0\n",
      ".MADAJH \t 416.0\n"
     ]
    }
   ],
   "source": [
    "for method in methods:\n",
    "    print(method, '\\t', monophyly_df['{}_success'.format(method)].sum())"
   ]
  },
  {
   "cell_type": "code",
   "execution_count": 103,
   "metadata": {
    "collapsed": false
   },
   "outputs": [
    {
     "data": {
      "text/plain": [
       "(514, 17)"
      ]
     },
     "execution_count": 103,
     "metadata": {},
     "output_type": "execute_result"
    }
   ],
   "source": [
    "monophyly_df[monophyly_df['monophyletic_clade'].isnull()==False].shape"
   ]
  },
  {
   "cell_type": "code",
   "execution_count": 104,
   "metadata": {
    "collapsed": false
   },
   "outputs": [
    {
     "data": {
      "text/plain": [
       "0.8093385214007782"
      ]
     },
     "execution_count": 104,
     "metadata": {},
     "output_type": "execute_result"
    }
   ],
   "source": [
    "416/514"
   ]
  },
  {
   "cell_type": "code",
   "execution_count": 106,
   "metadata": {
    "collapsed": false
   },
   "outputs": [
    {
     "data": {
      "text/plain": [
       "(1.2234668303411591, 0.21816902703598745)"
      ]
     },
     "execution_count": 106,
     "metadata": {},
     "output_type": "execute_result"
    }
   ],
   "source": [
    "stats.fisher_exact([[416, 514-416], [399, 514-399]])"
   ]
  },
  {
   "cell_type": "code",
   "execution_count": 101,
   "metadata": {
    "collapsed": false
   },
   "outputs": [
    {
     "data": {
      "text/html": [
       "<div>\n",
       "<style>\n",
       "    .dataframe thead tr:only-child th {\n",
       "        text-align: right;\n",
       "    }\n",
       "\n",
       "    .dataframe thead th {\n",
       "        text-align: left;\n",
       "    }\n",
       "\n",
       "    .dataframe tbody tr th {\n",
       "        vertical-align: top;\n",
       "    }\n",
       "</style>\n",
       "<table border=\"1\" class=\"dataframe\">\n",
       "  <thead>\n",
       "    <tr style=\"text-align: right;\">\n",
       "      <th></th>\n",
       "      <th>monophyletic_clade</th>\n",
       "      <th>other_clade</th>\n",
       "      <th>root_bl</th>\n",
       "      <th>monophyletic_total_bl</th>\n",
       "      <th>other_total_bl</th>\n",
       "      <th>total_tree_bl</th>\n",
       "      <th>total_n</th>\n",
       "      <th>monophyletic_n</th>\n",
       "      <th>other_n</th>\n",
       "      <th>.MPAJH_success</th>\n",
       "      <th>.MinVarAJH_success</th>\n",
       "      <th>.MinVarGSCAJH_success</th>\n",
       "      <th>.MinVarGSCnAJH_success</th>\n",
       "      <th>.MinVarHHAJH_success</th>\n",
       "      <th>.MADAJH_success</th>\n",
       "      <th>.MADweightAJH_success</th>\n",
       "      <th>.MADweightNormedAJH_success</th>\n",
       "    </tr>\n",
       "    <tr>\n",
       "      <th>Group_id</th>\n",
       "      <th></th>\n",
       "      <th></th>\n",
       "      <th></th>\n",
       "      <th></th>\n",
       "      <th></th>\n",
       "      <th></th>\n",
       "      <th></th>\n",
       "      <th></th>\n",
       "      <th></th>\n",
       "      <th></th>\n",
       "      <th></th>\n",
       "      <th></th>\n",
       "      <th></th>\n",
       "      <th></th>\n",
       "      <th></th>\n",
       "      <th></th>\n",
       "      <th></th>\n",
       "    </tr>\n",
       "  </thead>\n",
       "  <tbody>\n",
       "    <tr>\n",
       "      <th>OMAGroup_789494</th>\n",
       "      <td>IntNode_3</td>\n",
       "      <td>IntNode_88</td>\n",
       "      <td>1.49293</td>\n",
       "      <td>69.00150</td>\n",
       "      <td>56.46590</td>\n",
       "      <td>126.96033</td>\n",
       "      <td>194.0</td>\n",
       "      <td>89.0</td>\n",
       "      <td>105.0</td>\n",
       "      <td>1.0</td>\n",
       "      <td>1.0</td>\n",
       "      <td>1.0</td>\n",
       "      <td>1.0</td>\n",
       "      <td>1.0</td>\n",
       "      <td>1.0</td>\n",
       "      <td>1.0</td>\n",
       "      <td>1.0</td>\n",
       "    </tr>\n",
       "    <tr>\n",
       "      <th>OMAGroup_556084</th>\n",
       "      <td>IntNode_63</td>\n",
       "      <td>IntNode_88</td>\n",
       "      <td>1.51192</td>\n",
       "      <td>45.38699</td>\n",
       "      <td>36.29295</td>\n",
       "      <td>83.19186</td>\n",
       "      <td>199.0</td>\n",
       "      <td>89.0</td>\n",
       "      <td>110.0</td>\n",
       "      <td>1.0</td>\n",
       "      <td>1.0</td>\n",
       "      <td>NaN</td>\n",
       "      <td>NaN</td>\n",
       "      <td>NaN</td>\n",
       "      <td>1.0</td>\n",
       "      <td>NaN</td>\n",
       "      <td>NaN</td>\n",
       "    </tr>\n",
       "    <tr>\n",
       "      <th>OMAGroup_555430</th>\n",
       "      <td>IntNode_46</td>\n",
       "      <td>IntNode_73</td>\n",
       "      <td>1.00116</td>\n",
       "      <td>30.16103</td>\n",
       "      <td>38.54124</td>\n",
       "      <td>69.70343</td>\n",
       "      <td>222.0</td>\n",
       "      <td>94.0</td>\n",
       "      <td>128.0</td>\n",
       "      <td>1.0</td>\n",
       "      <td>1.0</td>\n",
       "      <td>NaN</td>\n",
       "      <td>NaN</td>\n",
       "      <td>NaN</td>\n",
       "      <td>1.0</td>\n",
       "      <td>NaN</td>\n",
       "      <td>NaN</td>\n",
       "    </tr>\n",
       "    <tr>\n",
       "      <th>OMAGroup_828657</th>\n",
       "      <td>IntNode_43</td>\n",
       "      <td>IntNode_49</td>\n",
       "      <td>0.97504</td>\n",
       "      <td>16.43967</td>\n",
       "      <td>28.31956</td>\n",
       "      <td>45.73427</td>\n",
       "      <td>172.0</td>\n",
       "      <td>50.0</td>\n",
       "      <td>122.0</td>\n",
       "      <td>1.0</td>\n",
       "      <td>1.0</td>\n",
       "      <td>NaN</td>\n",
       "      <td>NaN</td>\n",
       "      <td>NaN</td>\n",
       "      <td>1.0</td>\n",
       "      <td>NaN</td>\n",
       "      <td>NaN</td>\n",
       "    </tr>\n",
       "    <tr>\n",
       "      <th>OMAGroup_804387</th>\n",
       "      <td>IntNode_48</td>\n",
       "      <td>IntNode_76</td>\n",
       "      <td>0.37875</td>\n",
       "      <td>20.59071</td>\n",
       "      <td>17.27605</td>\n",
       "      <td>38.24551</td>\n",
       "      <td>233.0</td>\n",
       "      <td>97.0</td>\n",
       "      <td>136.0</td>\n",
       "      <td>1.0</td>\n",
       "      <td>1.0</td>\n",
       "      <td>NaN</td>\n",
       "      <td>NaN</td>\n",
       "      <td>NaN</td>\n",
       "      <td>1.0</td>\n",
       "      <td>NaN</td>\n",
       "      <td>NaN</td>\n",
       "    </tr>\n",
       "  </tbody>\n",
       "</table>\n",
       "</div>"
      ],
      "text/plain": [
       "                monophyletic_clade other_clade  root_bl  \\\n",
       "Group_id                                                  \n",
       "OMAGroup_789494          IntNode_3  IntNode_88  1.49293   \n",
       "OMAGroup_556084         IntNode_63  IntNode_88  1.51192   \n",
       "OMAGroup_555430         IntNode_46  IntNode_73  1.00116   \n",
       "OMAGroup_828657         IntNode_43  IntNode_49  0.97504   \n",
       "OMAGroup_804387         IntNode_48  IntNode_76  0.37875   \n",
       "\n",
       "                 monophyletic_total_bl  other_total_bl  total_tree_bl  \\\n",
       "Group_id                                                                \n",
       "OMAGroup_789494               69.00150        56.46590      126.96033   \n",
       "OMAGroup_556084               45.38699        36.29295       83.19186   \n",
       "OMAGroup_555430               30.16103        38.54124       69.70343   \n",
       "OMAGroup_828657               16.43967        28.31956       45.73427   \n",
       "OMAGroup_804387               20.59071        17.27605       38.24551   \n",
       "\n",
       "                 total_n  monophyletic_n  other_n  .MPAJH_success  \\\n",
       "Group_id                                                            \n",
       "OMAGroup_789494    194.0            89.0    105.0             1.0   \n",
       "OMAGroup_556084    199.0            89.0    110.0             1.0   \n",
       "OMAGroup_555430    222.0            94.0    128.0             1.0   \n",
       "OMAGroup_828657    172.0            50.0    122.0             1.0   \n",
       "OMAGroup_804387    233.0            97.0    136.0             1.0   \n",
       "\n",
       "                 .MinVarAJH_success  .MinVarGSCAJH_success  \\\n",
       "Group_id                                                     \n",
       "OMAGroup_789494                 1.0                    1.0   \n",
       "OMAGroup_556084                 1.0                    NaN   \n",
       "OMAGroup_555430                 1.0                    NaN   \n",
       "OMAGroup_828657                 1.0                    NaN   \n",
       "OMAGroup_804387                 1.0                    NaN   \n",
       "\n",
       "                 .MinVarGSCnAJH_success  .MinVarHHAJH_success  \\\n",
       "Group_id                                                        \n",
       "OMAGroup_789494                     1.0                   1.0   \n",
       "OMAGroup_556084                     NaN                   NaN   \n",
       "OMAGroup_555430                     NaN                   NaN   \n",
       "OMAGroup_828657                     NaN                   NaN   \n",
       "OMAGroup_804387                     NaN                   NaN   \n",
       "\n",
       "                 .MADAJH_success  .MADweightAJH_success  \\\n",
       "Group_id                                                  \n",
       "OMAGroup_789494              1.0                    1.0   \n",
       "OMAGroup_556084              1.0                    NaN   \n",
       "OMAGroup_555430              1.0                    NaN   \n",
       "OMAGroup_828657              1.0                    NaN   \n",
       "OMAGroup_804387              1.0                    NaN   \n",
       "\n",
       "                 .MADweightNormedAJH_success  \n",
       "Group_id                                      \n",
       "OMAGroup_789494                          1.0  \n",
       "OMAGroup_556084                          NaN  \n",
       "OMAGroup_555430                          NaN  \n",
       "OMAGroup_828657                          NaN  \n",
       "OMAGroup_804387                          NaN  "
      ]
     },
     "execution_count": 101,
     "metadata": {},
     "output_type": "execute_result"
    }
   ],
   "source": [
    "monophyly_df.head()"
   ]
  },
  {
   "cell_type": "markdown",
   "metadata": {},
   "source": [
    "# This only makes sense for non-pruned trees. \n",
    "\n",
    "But is a test of whether there is a statistical difference in the trees that one method gets right and another method gets wrong. I'm generally interested in whether methods are more robust to tree imbalance so the \"statistical difference in the trees\" that I'm caring about are essentialy the balance in terms of the number of taxa in the two monophyletic groups or the relative branch length of these two groups. "
   ]
  },
  {
   "cell_type": "code",
   "execution_count": 137,
   "metadata": {
    "collapsed": false
   },
   "outputs": [
    {
     "data": {
      "text/plain": [
       "Group_id\n",
       "OMAGroup_840929    0.419048\n",
       "OMAGroup_837542    0.436242\n",
       "OMAGroup_784475    0.371134\n",
       "OMAGroup_745963    0.370370\n",
       "OMAGroup_786887    0.396396\n",
       "OMAGroup_840984    0.441860\n",
       "OMAGroup_835263    0.444444\n",
       "OMAGroup_781945    0.432558\n",
       "OMAGroup_823988    0.454545\n",
       "OMAGroup_825385    0.395480\n",
       "OMAGroup_842254    0.474227\n",
       "OMAGroup_833893    0.344086\n",
       "OMAGroup_839846    0.452381\n",
       "OMAGroup_555629    0.443243\n",
       "OMAGroup_555704    0.424731\n",
       "OMAGroup_838397    0.358696\n",
       "OMAGroup_771547    0.329670\n",
       "OMAGroup_781943    0.477157\n",
       "OMAGroup_838637    0.352601\n",
       "OMAGroup_781946    0.480000\n",
       "OMAGroup_824237    0.438424\n",
       "OMAGroup_555604    0.467033\n",
       "OMAGroup_831785    0.475410\n",
       "OMAGroup_788814    0.393939\n",
       "OMAGroup_821886    0.470588\n",
       "OMAGroup_783111    0.391304\n",
       "dtype: float64"
      ]
     },
     "execution_count": 137,
     "metadata": {},
     "output_type": "execute_result"
    }
   ],
   "source": [
    "testy = monophyly_df[(monophyly_df['.MADAJH_success']==0) & (monophyly_df['.MPAJH_success']==1)]\n",
    "# res_a = testy['total_tree_bl']\n",
    "###Look at branch length. If balanced, these would be 0.5\n",
    "# res_a = testy['monophyletic_total_bl'] / (testy['total_tree_bl'] - testy['root_bl'])\n",
    "###Look at taxa number, if balanced these would be 0.5 as well\n",
    "###My instinct is that this is the most relevant thing to care about\n",
    "res_a = testy['monophyletic_n'] / testy['total_n']\n",
    "###Look at branch length per taxa. My instinct is that this is dumb\n",
    "# res_a = (testy['monophyletic_total_bl']/testy['monophyletic_n']) /((testy['total_tree_bl']-testy['root_bl'])/testy['total_n'])\n",
    "res_a"
   ]
  },
  {
   "cell_type": "code",
   "execution_count": 138,
   "metadata": {
    "collapsed": false
   },
   "outputs": [
    {
     "data": {
      "text/plain": [
       "Group_id\n",
       "OMAGroup_832116    0.443350\n",
       "OMAGroup_837745    0.409091\n",
       "OMAGroup_549030    0.411765\n",
       "OMAGroup_813355    0.434579\n",
       "OMAGroup_825335    0.340314\n",
       "OMAGroup_711600    0.400000\n",
       "OMAGroup_499157    0.405882\n",
       "OMAGroup_841019    0.422727\n",
       "OMAGroup_821345    0.447005\n",
       "OMAGroup_840274    0.429319\n",
       "OMAGroup_834727    0.448780\n",
       "OMAGroup_555435    0.424779\n",
       "OMAGroup_556019    0.491979\n",
       "OMAGroup_555423    0.403587\n",
       "OMAGroup_768309    0.351064\n",
       "OMAGroup_664903    0.514286\n",
       "OMAGroup_810533    0.379518\n",
       "OMAGroup_826604    0.448780\n",
       "OMAGroup_817985    0.457711\n",
       "OMAGroup_833097    0.425234\n",
       "OMAGroup_662668    0.413636\n",
       "OMAGroup_839507    0.457447\n",
       "OMAGroup_721452    0.465969\n",
       "OMAGroup_555602    0.424419\n",
       "OMAGroup_555550    0.435897\n",
       "OMAGroup_825670    0.426606\n",
       "OMAGroup_754919    0.655462\n",
       "OMAGroup_826854    0.480000\n",
       "OMAGroup_489860    0.340426\n",
       "OMAGroup_555528    0.457831\n",
       "                     ...   \n",
       "OMAGroup_810040    0.436275\n",
       "OMAGroup_801072    0.435407\n",
       "OMAGroup_812374    0.377907\n",
       "OMAGroup_732020    0.428571\n",
       "OMAGroup_756999    0.455026\n",
       "OMAGroup_839956    0.407583\n",
       "OMAGroup_803883    0.372781\n",
       "OMAGroup_555488    0.454106\n",
       "OMAGroup_812259    0.431472\n",
       "OMAGroup_841690    0.418103\n",
       "OMAGroup_839159    0.414847\n",
       "OMAGroup_818751    0.428571\n",
       "OMAGroup_838578    0.454976\n",
       "OMAGroup_732528    0.393665\n",
       "OMAGroup_555601    0.414747\n",
       "OMAGroup_672890    0.400943\n",
       "OMAGroup_555586    0.336898\n",
       "OMAGroup_673222    0.438889\n",
       "OMAGroup_667070    0.378698\n",
       "OMAGroup_820430    0.395833\n",
       "OMAGroup_555570    0.516484\n",
       "OMAGroup_555590    0.361702\n",
       "OMAGroup_838548    0.477387\n",
       "OMAGroup_775366    0.425641\n",
       "OMAGroup_804384    0.409302\n",
       "OMAGroup_794135    0.433333\n",
       "OMAGroup_788040    0.402985\n",
       "OMAGroup_760899    0.464286\n",
       "OMAGroup_840516    0.376543\n",
       "OMAGroup_555634    0.439024\n",
       "Length: 108, dtype: float64"
      ]
     },
     "execution_count": 138,
     "metadata": {},
     "output_type": "execute_result"
    }
   ],
   "source": [
    "testy = monophyly_df[(monophyly_df['.MADAJH_success']==1) & (monophyly_df['.MPAJH_success']==0)]\n",
    "# res_b = testy['total_tree_bl']\n",
    "# res_b = testy['monophyletic_total_bl'] / (testy['total_tree_bl']-testy['root_bl'])\n",
    "res_b = testy['monophyletic_n'] / testy['total_n']\n",
    "# res_b = (testy['monophyletic_total_bl']/testy['monophyletic_n']) / ((testy['total_tree_bl']-testy['root_bl'])/testy['total_n'])\n",
    "res_b"
   ]
  },
  {
   "cell_type": "code",
   "execution_count": 139,
   "metadata": {
    "collapsed": false
   },
   "outputs": [
    {
     "data": {
      "text/plain": [
       "(RanksumsResult(statistic=0.52324867299322775, pvalue=0.60080121409847376),\n",
       " 0.43439987513656936,\n",
       " 0.42459868285655483)"
      ]
     },
     "execution_count": 139,
     "metadata": {},
     "output_type": "execute_result"
    }
   ],
   "source": [
    "stats.ranksums(res_a.values, res_b.values),\\\n",
    "    np.median(res_a.values), np.median(res_b.values)"
   ]
  },
  {
   "cell_type": "code",
   "execution_count": 140,
   "metadata": {
    "collapsed": false
   },
   "outputs": [
    {
     "data": {
      "text/plain": [
       "(RanksumsResult(statistic=-0.70891755695856662, pvalue=0.47837563924795823),\n",
       " 0.065600124863430642,\n",
       " 0.076427061310782252)"
      ]
     },
     "execution_count": 140,
     "metadata": {},
     "output_type": "execute_result"
    }
   ],
   "source": [
    "stats.ranksums(np.abs(0.5-res_a.values), np.abs(0.5-res_b.values)),\\\n",
    "    np.median(np.abs(0.5-res_a.values)), np.median(np.abs(0.5-res_b.values)) "
   ]
  },
  {
   "cell_type": "code",
   "execution_count": null,
   "metadata": {
    "collapsed": false
   },
   "outputs": [],
   "source": []
  },
  {
   "cell_type": "code",
   "execution_count": 136,
   "metadata": {
    "collapsed": false
   },
   "outputs": [
    {
     "data": {
      "text/plain": [
       "(array([  2.,  12.,  17.,  14.,  18.,  16.,   8.,   8.,   8.,   5.]),\n",
       " array([ 0.30471931,  0.3511531 ,  0.3975869 ,  0.44402069,  0.49045448,\n",
       "         0.53688828,  0.58332207,  0.62975586,  0.67618965,  0.72262345,\n",
       "         0.76905724]),\n",
       " <a list of 10 Patch objects>)"
      ]
     },
     "execution_count": 136,
     "metadata": {},
     "output_type": "execute_result"
    },
    {
     "data": {
      "image/png": "[encoded data removed]",
      "text/plain": [
       "<matplotlib.figure.Figure at 0x11d40aef0>"
      ]
     },
     "metadata": {},
     "output_type": "display_data"
    }
   ],
   "source": [
    "fig, ax = plt.subplots()\n",
    "ax.hist(res_a.values, alpha=0.7)\n",
    "ax.hist(res_b.values, alpha=0.7)\n",
    "# ax.hist(np.abs(0.5-res_a.values), alpha=0.7)\n",
    "# ax.hist(np.abs(0.5-res_b.values), alpha=0.7)"
   ]
  },
  {
   "cell_type": "code",
   "execution_count": null,
   "metadata": {
    "collapsed": true
   },
   "outputs": [],
   "source": []
  },
  {
   "cell_type": "markdown",
   "metadata": {},
   "source": [
    "# Test variability/robustness in distance"
   ]
  },
  {
   "cell_type": "code",
   "execution_count": null,
   "metadata": {
    "collapsed": false,
    "scrolled": true
   },
   "outputs": [],
   "source": [
    "trees_dir = '../Data/raw_OMA_trees/*Rooted.MPAJH'\n",
    "# trees_dir = '../Data/pruned_OMA_trees/*Rooted.MPAJH'\n",
    "methods = ['.MPAJH', '.MLAJH', '.MADAJH']\n",
    "accuracy_dict = {}\n",
    "for method in methods:\n",
    "    accuracy_dict[method] = []\n",
    "\n",
    "trees_tested = []\n",
    "\n",
    "for tree_loc in glob.glob(trees_dir)[:]:\n",
    "    print(tree_loc)\n",
    "    test_tree = Phylo.read(tree_loc, 'newick', rooted=True)\n",
    "    testy = [term for term in test_tree.get_terminals() if\\\n",
    "                      term.name in metazoa]\n",
    "    valid = is_monophyletic_all(test_tree.root, test_tree, testy, False)\n",
    "    if valid == False:\n",
    "        continue\n",
    "        \n",
    "    trees_tested.append(tree_loc)\n",
    "    for method in methods:\n",
    "        my_tree = Phylo.read(tree_loc.replace('.MPAJH', method), 'newick', rooted=True)\n",
    "        metazoa_clades = [term for term in my_tree.get_terminals() if\\\n",
    "                          term.name in metazoa]\n",
    "        non_metazoa_clades = [term for term in my_tree.get_terminals() if\\\n",
    "                          term.name not in metazoa]\n",
    "\n",
    "        if set(metazoa_clades) == set(my_tree.root.clades[0].get_terminals()) or \\\n",
    "            set(metazoa_clades) == set(my_tree.root.clades[1].get_terminals()):\n",
    "            all_ca = my_tree.common_ancestor(non_metazoa_clades)\n",
    "            accuracy_dict[method].append(my_tree.distance(all_ca, my_tree.root))"
   ]
  },
  {
   "cell_type": "code",
   "execution_count": null,
   "metadata": {
    "collapsed": true
   },
   "outputs": [],
   "source": []
  },
  {
   "cell_type": "code",
   "execution_count": null,
   "metadata": {
    "collapsed": false
   },
   "outputs": [],
   "source": [
    "fig, ax = plt.subplots()\n",
    "ax.hist(accuracy_dict['.MPAJH'], alpha=0.2)\n",
    "# ax.hist(accuracy_dict['.MLAJH'], alpha=0.2)\n",
    "ax.hist(accuracy_dict['.MADAJH'], alpha=0.2)"
   ]
  },
  {
   "cell_type": "code",
   "execution_count": null,
   "metadata": {
    "collapsed": true
   },
   "outputs": [],
   "source": []
  },
  {
   "cell_type": "code",
   "execution_count": null,
   "metadata": {
    "collapsed": true
   },
   "outputs": [],
   "source": []
  },
  {
   "cell_type": "code",
   "execution_count": null,
   "metadata": {
    "collapsed": true
   },
   "outputs": [],
   "source": []
  },
  {
   "cell_type": "code",
   "execution_count": null,
   "metadata": {
    "collapsed": false
   },
   "outputs": [],
   "source": [
    "trees_dir = '../Data/euk_trees/*Rooted.MPAJH'\n",
    "ideal_species_n = 31\n",
    "\n",
    "# trees_dir = '../Data/pruned_euk_trees/*_9_meta.nwk.Rooted.MPAJH'\n",
    "# ideal_species_n = 22\n",
    "\n",
    "# trees_dir = '../Data/pruned_euk_trees/*_12_meta.nwk.Rooted.MPAJH'\n",
    "# ideal_species_n = 19\n",
    "\n",
    "\n",
    "# methods = ['.MPAJH', '.MLAJH']\n",
    "methods = ['.MPAJH', '.MLAJH', '.MADAJH']\n",
    "accuracy_dict = {}\n",
    "for method in methods:\n",
    "    accuracy_dict[method] = []\n",
    "\n",
    "trees_tested = []\n",
    "for tree_loc in glob.glob(trees_dir)[:50]:\n",
    "    print(tree_loc)\n",
    "    test_tree = Phylo.read(tree_loc, 'newick', rooted=True)\n",
    "    if len(test_tree.get_terminals()) != ideal_species_n:\n",
    "        continue\n",
    "    testy = [term for term in test_tree.get_terminals() if\\\n",
    "                      term.name in metazoa]\n",
    "    valid = is_monophyletic_all(test_tree.root, test_tree, testy, False)\n",
    "    if valid == False:\n",
    "        continue\n",
    "        \n",
    "    trees_tested.append(tree_loc)\n",
    "    for method in methods:\n",
    "        my_tree = Phylo.read(tree_loc.replace('.MPAJH', method), 'newick', rooted=True)\n",
    "        metazoa_clades = [term for term in my_tree.get_terminals() if\\\n",
    "                          term.name in metazoa]\n",
    "        non_metazoa_clades = [term for term in my_tree.get_terminals() if\\\n",
    "                          term.name not in metazoa]\n",
    "\n",
    "        if set(metazoa_clades) == set(my_tree.root.clades[0].get_terminals()) or \\\n",
    "            set(metazoa_clades) == set(my_tree.root.clades[1].get_terminals()):\n",
    "            all_ca = my_tree.common_ancestor(non_metazoa_clades)\n",
    "            initial_dist = my_tree.distance(all_ca, my_tree.root)\n",
    "        \n",
    "\n",
    "            pruned_tree_loc = tree_loc.replace('/euk_trees/', '/pruned_euk_trees/')\n",
    "            pruned_tree_loc = pruned_tree_loc.replace('.nwk.Rooted.MPAJH', '.pruned_9_meta.nwk.Rooted.MPAJH')\n",
    "            pruned_tree_loc = pruned_tree_loc.replace('.MPAJH', method)\n",
    "            pruned_tree = Phylo.read(pruned_tree_loc, 'newick', rooted=True)\n",
    "            metazoa_clades = [term for term in pruned_tree.get_terminals() if\\\n",
    "                          term.name in metazoa]\n",
    "            non_metazoa_clades = [term for term in pruned_tree.get_terminals() if\\\n",
    "                          term.name not in metazoa]\n",
    "\n",
    "            if set(metazoa_clades) == set(pruned_tree.root.clades[0].get_terminals()) or \\\n",
    "                set(metazoa_clades) == set(pruned_tree.root.clades[1].get_terminals()):\n",
    "                pruned_ca = pruned_tree.common_ancestor(non_metazoa_clades)\n",
    "                pruned_dist = pruned_tree.distance(pruned_ca, pruned_tree.root)\n",
    "#                 print(method, initial_dist, pruned_dist, initial_dist-pruned_dist)\n",
    "#                 print(method, initial_dist-pruned_dist)\n",
    "                accuracy_dict[method].append(initial_dist-pruned_dist)"
   ]
  },
  {
   "cell_type": "code",
   "execution_count": null,
   "metadata": {
    "collapsed": false
   },
   "outputs": [],
   "source": [
    "fig, ax = plt.subplots()\n",
    "# ax.hist(accuracy_dict['.MPAJH'], alpha=0.2)\n",
    "ax.hist(accuracy_dict['.MLAJH'], alpha=0.2)\n",
    "ax.hist(accuracy_dict['.MADAJH'], alpha=0.2)"
   ]
  },
  {
   "cell_type": "code",
   "execution_count": null,
   "metadata": {
    "collapsed": true
   },
   "outputs": [],
   "source": []
  },
  {
   "cell_type": "code",
   "execution_count": null,
   "metadata": {
    "collapsed": true
   },
   "outputs": [],
   "source": []
  }
 ],
 "metadata": {
  "kernelspec": {
   "display_name": "Python 3",
   "language": "python",
   "name": "python3"
  },
  "language_info": {
   "codemirror_mode": {
    "name": "ipython",
    "version": 3
   },
   "file_extension": ".py",
   "mimetype": "text/x-python",
   "name": "python",
   "nbconvert_exporter": "python",
   "pygments_lexer": "ipython3",
   "version": "3.4.5"
  },
  "toc": {
   "colors": {
    "hover_highlight": "#DAA520",
    "navigate_num": "#000000",
    "navigate_text": "#333333",
    "running_highlight": "#FF0000",
    "selected_highlight": "#FFD700",
    "sidebar_border": "#EEEEEE",
    "wrapper_background": "#FFFFFF"
   },
   "moveMenuLeft": true,
   "nav_menu": {
    "height": "48px",
    "width": "252px"
   },
   "navigate_menu": true,
   "number_sections": true,
   "sideBar": true,
   "threshold": 4,
   "toc_cell": false,
   "toc_section_display": "block",
   "toc_window_display": false,
   "widenNotebook": false
  }
 },
 "nbformat": 4,
 "nbformat_minor": 2
}

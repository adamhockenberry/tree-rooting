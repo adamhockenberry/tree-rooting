{
 "cells": [
  {
   "cell_type": "code",
   "execution_count": 1,
   "metadata": {
    "collapsed": true
   },
   "outputs": [],
   "source": [
    "%matplotlib inline\n",
    "%load_ext autoreload\n",
    "%autoreload 2"
   ]
  },
  {
   "cell_type": "code",
   "execution_count": 72,
   "metadata": {
    "collapsed": false
   },
   "outputs": [],
   "source": [
    "from Bio import Phylo\n",
    "\n",
    "import numpy as np\n",
    "from matplotlib import pyplot as plt\n",
    "\n",
    "from scipy.optimize import minimize\n",
    "import pandas as pd\n",
    "\n",
    "from io import StringIO"
   ]
  },
  {
   "cell_type": "code",
   "execution_count": 3,
   "metadata": {
    "collapsed": true
   },
   "outputs": [],
   "source": [
    "import rooting_methods\n",
    "import rooting_methods_weighted"
   ]
  },
  {
   "cell_type": "markdown",
   "metadata": {},
   "source": [
    "# Going through another round of speed-up / simplification (ideally)"
   ]
  },
  {
   "cell_type": "code",
   "execution_count": 390,
   "metadata": {
    "collapsed": false
   },
   "outputs": [],
   "source": [
    "# tree = Phylo.read('../../Tree_rooting/Data/raw_OMA_trees/OMAGroup_479938.mafft.afa.treefile.Rooted.MPAJH', 'newick')\n",
    "# tree = Phylo.read('/Users/adamhockenberry/Downloads/BM_Folder/paper_tree.txt', 'newick')\n",
    "# rooted_tree.root_with_outgroup(['ELI', 'MAL'], outgroup_branch_length=10e-6)\n",
    "# tree = Phylo.read(StringIO('(((A:20, B:20):30,C:10):30, D:80)'), 'newick', rooted=False)\n",
    "tree = Phylo.read('../../Tree_rooting/Data/Tria_et_al_data/eukaryotes/processed_trees/'\n",
    "                  'KOG0018.faa.aln.nwk.Rooted.MPAJH', 'newick')\n",
    "# tree = Phylo.read('../../Tree_rooting/Data/OMA_group_data/eukaryotes/pruned_OMA_trees/'\n",
    "#                   'OMAGroup_489052.frac0.95.treefile.Rooted.MPAJH', 'newick')\n",
    "# tree = Phylo.read('../../Tree_rooting/Data/OMA_group_data/eukaryotes/processed_OMA_trees/'\n",
    "#                   'OMAGroup_489052.treefile.Rooted.MPAJH', 'newick')\n",
    "# tree = Phylo.read('../../Phylogenetic_couplings/Data/psicov150_aln_pdb/raw_trees/1a3aA.newick', 'newick')\n",
    "rooted_tree = rooting_methods.mp_root_adhock(tree)\n",
    "# Phylo.draw(rooted_tree)"
   ]
  },
  {
   "cell_type": "code",
   "execution_count": 389,
   "metadata": {
    "collapsed": false
   },
   "outputs": [],
   "source": [
    "# %%timeit\n",
    "new_tree_a, RAI_a, fxn_optima_a = rooting_methods.mad_root_adhock(rooted_tree)\n",
    "# Phylo.draw(new_tree_a)"
   ]
  },
  {
   "cell_type": "code",
   "execution_count": 391,
   "metadata": {
    "collapsed": false
   },
   "outputs": [],
   "source": [
    "# %%timeit\n",
    "new_tree_b, RAI_b, fxn_optima_b = rooting_methods_weighted.mad_root_adhock(rooted_tree)\n",
    "# Phylo.draw(new_tree_b)"
   ]
  },
  {
   "cell_type": "code",
   "execution_count": 392,
   "metadata": {
    "collapsed": false
   },
   "outputs": [
    {
     "data": {
      "text/plain": [
       "([0.15697918855981474, 0.31046081144018528],\n",
       " [0.54195679359249826, 1.786643206407502])"
      ]
     },
     "execution_count": 392,
     "metadata": {},
     "output_type": "execute_result"
    }
   ],
   "source": [
    "[i.branch_length for i in new_tree_a.root.clades],\\\n",
    "[i.branch_length for i in new_tree_b.root.clades]"
   ]
  },
  {
   "cell_type": "code",
   "execution_count": 387,
   "metadata": {
    "collapsed": false
   },
   "outputs": [
    {
     "data": {
      "text/plain": [
       "([14, 17], [30, 1])"
      ]
     },
     "execution_count": 387,
     "metadata": {},
     "output_type": "execute_result"
    }
   ],
   "source": [
    "[len(i.get_terminals()) for i in new_tree_a.root.clades],\\\n",
    "[len(i.get_terminals()) for i in new_tree_b.root.clades]"
   ]
  },
  {
   "cell_type": "code",
   "execution_count": 381,
   "metadata": {
    "collapsed": false
   },
   "outputs": [
    {
     "data": {
      "text/plain": [
       "(0.97812063642480973, 0.87198881373092263)"
      ]
     },
     "execution_count": 381,
     "metadata": {},
     "output_type": "execute_result"
    }
   ],
   "source": [
    "RAI_a, RAI_b"
   ]
  },
  {
   "cell_type": "code",
   "execution_count": 368,
   "metadata": {
    "collapsed": false
   },
   "outputs": [
    {
     "data": {
      "text/plain": [
       "[(Clade(name='IntNode_195'), (0.38438746666367118, 0.13485352296924588)),\n",
       " (Clade(branch_length=0.91168, name='IntNode_2'),\n",
       "  (0.90914909315715309, 0.13586004528734849)),\n",
       " (Clade(name='IntNode_3'), (0, 0.13586058385314387)),\n",
       " (Clade(branch_length=0.3595, name='IntNode_70'),\n",
       "  (0.12697125663265835, 0.14348209124640357)),\n",
       " (Clade(branch_length=0.15868, name='IntNode_47'),\n",
       "  (0.18446999999999986, 0.14366510382427722))]"
      ]
     },
     "execution_count": 368,
     "metadata": {},
     "output_type": "execute_result"
    }
   ],
   "source": [
    "fxn_optima_a[:5]"
   ]
  },
  {
   "cell_type": "code",
   "execution_count": 338,
   "metadata": {
    "collapsed": false
   },
   "outputs": [
    {
     "data": {
      "text/plain": [
       "[(Clade(name='7425'), (1.786643206407502, 0.19782864947555484)),\n",
       " (Clade(name='IntNode_16'), (0.10582000000000003, 0.22687062765073565)),\n",
       " (Clade(branch_length=0.46744, name='IntNode_3'),\n",
       "  (0.3381637940944931, 0.23013539530115368)),\n",
       " (Clade(branch_length=0.29691, name='IntNode_17'),\n",
       "  (0.29691000000000001, 0.24120960025846525)),\n",
       " (Clade(branch_length=0.90293, name='IntNode_2'),\n",
       "  (0.72984451727170863, 0.28863836385164693))]"
      ]
     },
     "execution_count": 338,
     "metadata": {},
     "output_type": "execute_result"
    }
   ],
   "source": [
    "fxn_optima_b[:5]"
   ]
  },
  {
   "cell_type": "code",
   "execution_count": 341,
   "metadata": {
    "collapsed": false
   },
   "outputs": [
    {
     "data": {
      "image/png": "[encoded data removed]",
      "text/plain": [
       "<matplotlib.figure.Figure at 0x11c18c5f8>"
      ]
     },
     "metadata": {},
     "output_type": "display_data"
    }
   ],
   "source": [
    "Phylo.draw(new_tree_b)"
   ]
  },
  {
   "cell_type": "code",
   "execution_count": null,
   "metadata": {
    "collapsed": false
   },
   "outputs": [],
   "source": [
    "data = np.arange(25).reshape(5,5)\n",
    "data"
   ]
  },
  {
   "cell_type": "code",
   "execution_count": null,
   "metadata": {
    "collapsed": false
   },
   "outputs": [],
   "source": [
    "data[::data.shape[0]-1, ::data.shape[1]-1]\n"
   ]
  },
  {
   "cell_type": "code",
   "execution_count": null,
   "metadata": {
    "collapsed": false
   },
   "outputs": [],
   "source": [
    "data[::data.shape[0]-1, ::data.shape[1]-1]"
   ]
  },
  {
   "cell_type": "code",
   "execution_count": null,
   "metadata": {
    "collapsed": false
   },
   "outputs": [],
   "source": [
    "data[::data.shape[0]-1,:]"
   ]
  },
  {
   "cell_type": "code",
   "execution_count": null,
   "metadata": {
    "collapsed": false
   },
   "outputs": [],
   "source": [
    "data[:,::data.shape[1]-1]"
   ]
  },
  {
   "cell_type": "code",
   "execution_count": null,
   "metadata": {
    "collapsed": true
   },
   "outputs": [],
   "source": [
    "data[::data.shape[0]-1,:]"
   ]
  },
  {
   "cell_type": "code",
   "execution_count": null,
   "metadata": {
    "collapsed": false
   },
   "outputs": [],
   "source": [
    "blah = np.delete(data,np.s_[2:4],1)\n",
    "blah = np.delete(blah,np.s_[2:4],0)\n",
    "# np.delete(a,[0,2],1)\n"
   ]
  },
  {
   "cell_type": "code",
   "execution_count": null,
   "metadata": {
    "collapsed": false
   },
   "outputs": [],
   "source": [
    "data"
   ]
  },
  {
   "cell_type": "code",
   "execution_count": null,
   "metadata": {
    "collapsed": false
   },
   "outputs": [],
   "source": [
    "data[0:1, np.r_[:1, 2:5]]"
   ]
  },
  {
   "cell_type": "code",
   "execution_count": null,
   "metadata": {
    "collapsed": false
   },
   "outputs": [],
   "source": [
    "data.shape"
   ]
  },
  {
   "cell_type": "code",
   "execution_count": null,
   "metadata": {
    "collapsed": true
   },
   "outputs": [],
   "source": []
  },
  {
   "cell_type": "code",
   "execution_count": null,
   "metadata": {
    "collapsed": true
   },
   "outputs": [],
   "source": []
  },
  {
   "cell_type": "markdown",
   "metadata": {},
   "source": [
    "# \\*\\*\\*Everything below here is a total old mess\\*\\*\\*"
   ]
  },
  {
   "cell_type": "markdown",
   "metadata": {},
   "source": [
    "# Minimal Ancestor Deviation"
   ]
  },
  {
   "cell_type": "markdown",
   "metadata": {},
   "source": [
    "**Working version 1**\n",
    "\n",
    "On at least a few test cases.\n",
    "\n",
    "Horrendously slow / un-scalable"
   ]
  },
  {
   "cell_type": "code",
   "execution_count": null,
   "metadata": {
    "collapsed": true
   },
   "outputs": [],
   "source": [
    "def optimize_root_loc_on_branch_mad_v1(tree):\n",
    "    '''\n",
    "    This will calculate (and optimize) the ancestor deviation on a given branch\n",
    "    \n",
    "        `tree` is a Bio.Phylo tree object that must be rooted (and only bifurcating roots)\n",
    "                will suffice. This function will only explore moving this root location\n",
    "                within the bounds of the next nodes\n",
    "    \n",
    "    Note: calculating the MAD for the whole tree will thus require running this function on every\n",
    "    putative root branch and selecting the best branch / location on that branch as the root.\n",
    "    '''\n",
    "    assert len(tree.root.clades) == 2\n",
    "    lterms = tree.root.clades[0].get_terminals()\n",
    "    rterms = tree.root.clades[1].get_terminals()\n",
    "    ####################################################\n",
    "    ####################################################\n",
    "    ###This is slow and inefficient where I'm essentially computing a distance\n",
    "    ###matrix from the tree object. Since this function only operates on a single\n",
    "    ###branch, I end up repeating this tedious calculation surely more than necessary.\n",
    "    ###There might be a way to speed it up with some clever array operations and/or \n",
    "    ###recursion. Or at least passing this dictionary between putative roots \n",
    "    ###(with necessary modifications, since it *must* change *slightly* from root-to-root)\n",
    "    lineage_dist_dict = {}\n",
    "    for leaf in tree.get_terminals():\n",
    "        lineage_dist_dict[leaf] = {}\n",
    "        full_lineage = tree.trace(tree.root, leaf)\n",
    "        ###A reverse traversal here would speed things up a tiny bit since it's currently\n",
    "        ###repeating certain sums moving down the tree from root to tip. Tip to root would be\n",
    "        ###preferred\n",
    "        for index, ancestral_node in enumerate(full_lineage):\n",
    "            temp_lineage = full_lineage[index:]\n",
    "            ###This little \"[1:]\" was a tricky bug caused by the fact that summing the branch\n",
    "            ###lengths from the common ancestor includes the length leading up to the ancestor\n",
    "            ###which it of course shouldn't.\n",
    "            temp_dist = np.sum([i.branch_length for i in temp_lineage[1:] if i.branch_length])\n",
    "            lineage_dist_dict[leaf][ancestral_node] = temp_dist\n",
    "\n",
    "    ####################################################\n",
    "    ###On to the actual algorithm... dealing with same side leaves first since they \n",
    "    ###won't change at all as the root location moves within bounds. We need to compute\n",
    "    ###all pairwise distances between nodes/their ancestors\n",
    "    ###Note: THIS is the speed bottleneck. Super. Slow.\n",
    "    ss_a_dists = []\n",
    "    ss_b_dists = []\n",
    "    for ss_terms in [lterms, rterms]:###Treat left and right sides separately\n",
    "        #####################################\n",
    "        ###This double for loop is the killer, but I have an idea\n",
    "        ###to make it a little faster with a recursive algorithm?\n",
    "        for index_a, leaf_a in enumerate(ss_terms[:]):\n",
    "            for leaf_b in ss_terms[index_a+1:]:\n",
    "                ###Get the common ancestor\n",
    "                ancestor = tree.common_ancestor(leaf_a, leaf_b)\n",
    "                ###And the distance of each leaf to said common ancestor\n",
    "                a_dist = lineage_dist_dict[leaf_a][ancestor]\n",
    "                b_dist = lineage_dist_dict[leaf_b][ancestor]\n",
    "                ###append\n",
    "                ss_a_dists.append(a_dist)\n",
    "                ss_b_dists.append(b_dist)\n",
    "    ###Calculate the ancestral deviations for these same side nodes\n",
    "    ss_a_dists = np.array(ss_a_dists)\n",
    "    ss_b_dists = np.array(ss_b_dists)\n",
    "    ss_total_dists = ss_a_dists + ss_b_dists\n",
    "    ###Now just follow the formula from the MAD paper\n",
    "    ss_devs = np.abs(((2*ss_a_dists)/ss_total_dists)-1)  \n",
    "    \n",
    "    ###Now get arrays of the distances from terminal to the root for \n",
    "    ###the root-straddling leaf pairs\n",
    "    root_clade = tree.root\n",
    "    ds_a_dists = []\n",
    "    ds_b_dists = []\n",
    "    for leaf_a in lterms:\n",
    "        for leaf_b in rterms:\n",
    "            ds_a_dists.append(lineage_dist_dict[leaf_a][root_clade])\n",
    "            ds_b_dists.append(lineage_dist_dict[leaf_b][root_clade])\n",
    "    ds_a_dists = np.array(ds_a_dists)\n",
    "    ds_b_dists = np.array(ds_b_dists)\n",
    "    ds_total_dists = ds_a_dists + ds_b_dists\n",
    "\n",
    "    ###Using the analytical solution to \"rho\" parameter as outlined in the MAD paper\n",
    "    ###This is quite elegant\n",
    "    l_branch_len = tree.root.clades[0].branch_length\n",
    "    r_branch_len = tree.root.clades[1].branch_length\n",
    "    total_bl = l_branch_len + r_branch_len\n",
    "    rho = np.sum((ds_total_dists-(2*ds_a_dists))*ds_total_dists**-2)/(2*total_bl*np.sum(ds_total_dists**-2))\n",
    "    modifier = total_bl*rho\n",
    "    modifier = min(max(-l_branch_len, modifier), r_branch_len)   \n",
    " \n",
    "    ###Rescale the distances with the optimized modifier\n",
    "    ds_a_dists = ds_a_dists + modifier\n",
    "    ds_b_dists = ds_b_dists - modifier\n",
    "    ds_total_dists = ds_a_dists + ds_b_dists\n",
    "    ###Calculate their deviations\n",
    "    ds_devs = np.abs(((2*ds_a_dists)/ds_total_dists)-1)\n",
    "\n",
    "    ###Concatenate them with the pre-computed same side deviations (ss_devs)\n",
    "    all_devs = np.concatenate((ss_devs, ds_devs))\n",
    "    ###And compute final score\n",
    "    all_devs = all_devs**2\n",
    "    dev_score = np.mean(all_devs)\n",
    "    dev_score = dev_score**0.5\n",
    "    return (modifier, dev_score)\n",
    "\n",
    "def recursive_tree_root_mad_v1(hypothetical_root, explored, function_optima, tree):\n",
    "    '''\n",
    "    This should crawl through every possible branch in a tree.\n",
    "    Before running, you must assert that the tree is fully bifurcating and\n",
    "    probably should not have any zero branch lengths (remains to be tested)\n",
    "    \n",
    "        `hypothetical root` should be a bifurcating clade. I prefer to usually start the process\n",
    "                    with a mid-point root just for consistency but it should crawl from\n",
    "                    any starting point\n",
    "                    \n",
    "        `explored` is just an empty list to keep track of where I went and assert\n",
    "                    offline that I tried everything\n",
    "            \n",
    "        `function_optima` is likewise an empty list to start and keeps track of \n",
    "                    the name of the putative roots with their optimal root locations\n",
    "                    \n",
    "        `tree` is just a rooted Bio.Phylo tree object\n",
    "    \n",
    "    \n",
    "    Note: i need to crawl down r clades but I don't need to root on them\n",
    "    since any root along an rclade is redundant with a root along the sister lclade.\n",
    "    '''\n",
    "    if len(hypothetical_root.clades) == 2:\n",
    "        l_clade, r_clade = hypothetical_root.clades        \n",
    "        tree.root_with_outgroup(l_clade, outgroup_branch_length=10e-10)\n",
    "        res = optimize_root_loc_on_branch_mad_v1(tree)\n",
    "        function_optima.append((l_clade, res))\n",
    "        ###Recurse on l clade\n",
    "        explored, function_optima = recursive_tree_root_mad_v1(l_clade, explored, function_optima, tree)\n",
    "        \n",
    "        tree.root_with_outgroup(r_clade, outgroup_branch_length=10e-10)\n",
    "        res = optimize_root_loc_on_branch_mad_v1(tree)\n",
    "        function_optima.append((r_clade, res))\n",
    "        ###Recurse on r clade\n",
    "        explored, function_optima = recursive_tree_root_mad_v1(r_clade, explored, function_optima, tree)\n",
    "    elif len(hypothetical_root.clades) == 1:\n",
    "        l_clade = hypothetical_root.clades[0]\n",
    "        tree.root_with_outgroup_mad(l_clade, outgroup_branch_length=10e-10)\n",
    "        res = optimize_root_loc_on_branch_v1(tree)\n",
    "        function_optima.append((l_clade, res))\n",
    "        ###Recurse on only clade\n",
    "        explored, function_optima = recursive_tree_root_mad_v1(l_clade, explored, function_optima, tree)\n",
    "    elif len(hypothetical_root.clades) == 0:\n",
    "        explored.append(hypothetical_root)\n",
    "        return explored, function_optima\n",
    "    explored.append(hypothetical_root)\n",
    "    return explored, function_optima\n",
    "\n",
    "def max_likelihood_root_mad_v1(tree):\n",
    "    '''\n",
    "    This is a pretty boring function that just runs the main program and then \n",
    "    at the very end does the proper re-rooting.\n",
    "    \n",
    "        `tree` is just a Bio.Phylo tree object\n",
    "    '''\n",
    "    ###Not sure whether I feel like labeling internal nodes or not, but it \n",
    "    ###can be helpful for troubleshooting\n",
    "    # for i, internal_node in enumerate(tree.get_nonterminals()):\n",
    "    #     internal_node.name = 'I{}'.format(i)\n",
    "    ###I also usually like to start the process with a midpoint rooted tree\n",
    "    ###for consistency. But note that this rooting function is terrible\n",
    "    # tree.root_at_midpoint()\n",
    "    explored, function_optima = recursive_tree_root_mad_v1(tree.root, [], [], tree)\n",
    "    function_optima = sorted(function_optima, key=lambda x: x[1][1])\n",
    "    tree.root_with_outgroup(function_optima[0][0], outgroup_branch_length=10e-10)\n",
    "    tree.root.clades[0].branch_length += function_optima[0][1][0]\n",
    "    tree.root.clades[1].branch_length -= function_optima[0][1][0]\n",
    "    RAI = function_optima[0][1][1] / function_optima[1][1][1]\n",
    "    return tree, RAI, function_optima"
   ]
  },
  {
   "cell_type": "code",
   "execution_count": null,
   "metadata": {
    "collapsed": false
   },
   "outputs": [],
   "source": [
    "# tree_loc = '../Tria_et_al_data/eukaryotes/ingroup/phyml/KOG0725.faa.aln.nwk'\n",
    "# tree_loc = '../Tria_et_al_data/eukaryotes/ingroup/phyml/KOG2515.faa.aln.nwk' ###MAD fails, MP works\n",
    "# tree_loc = '../Tria_et_al_data/eukaryotes/ingroup/phyml/KOG2459.faa.aln.nwk' ###MAD works, MP fails\n",
    "# tree_loc = '../Tria_et_al_data/eukaryotes/ingroup/phyml/KOG2340.faa.aln.nwk' ###MAD works, MP fails\n",
    "tree_loc = '../Tria_et_al_data/eukaryotes/ingroup/phyml/KOG2725.faa.aln.nwk.15.pruned'\n",
    "# tree_loc = '../Tria_et_al_data/eukaryotes/ingroup/phyml/KOG1622.faa.aln.nwk'\n",
    "# tree_loc = '../Tria_et_al_data/cyanobacteria/ingroup/phyml/cluster_100.faa.aln.nwk'\n",
    "\n",
    "\n",
    "###Load the tree\n",
    "tree = Phylo.read(tree_loc, 'newick', rooted=False)\n",
    "print(len(tree.get_terminals()), tree.total_branch_length())\n",
    "Phylo.draw(tree)\n",
    "\n",
    "# mad_tree = Phylo.read(tree_loc+'.rooted', 'newick', rooted=True)\n",
    "# print(len(mad_tree.get_terminals()), mad_tree.total_branch_length())\n",
    "# Phylo.draw(mad_tree)\n",
    "\n",
    "tree.root_at_midpoint()\n",
    "print(len(tree.get_terminals()), tree.total_branch_length())\n",
    "Phylo.draw(tree)\n",
    "# tree.root_with_outgroup([i for i in tree.get_terminals() if i.name in ['7460', '7425']], outgroup_branch_length=10e-2)\n",
    "\n",
    "tree, RAI, function_optima = max_likelihood_root_mad_v1(tree)\n",
    "print(len(tree.get_terminals()), tree.total_branch_length())\n",
    "Phylo.draw(tree)"
   ]
  },
  {
   "cell_type": "code",
   "execution_count": null,
   "metadata": {
    "collapsed": false
   },
   "outputs": [],
   "source": [
    "print(RAI, len(function_optima), function_optima[0])"
   ]
  },
  {
   "cell_type": "code",
   "execution_count": null,
   "metadata": {
    "collapsed": false
   },
   "outputs": [],
   "source": [
    "function_optima[:5]"
   ]
  },
  {
   "cell_type": "code",
   "execution_count": null,
   "metadata": {
    "collapsed": false
   },
   "outputs": [],
   "source": [
    "###If that worked this should return essentially zero\n",
    "optimize_root_loc_on_branch_mad_v1(tree)"
   ]
  },
  {
   "cell_type": "code",
   "execution_count": null,
   "metadata": {
    "collapsed": false
   },
   "outputs": [],
   "source": [
    "%%timeit\n",
    "max_likelihood_root_mad_v1(tree)"
   ]
  },
  {
   "cell_type": "code",
   "execution_count": null,
   "metadata": {
    "collapsed": true
   },
   "outputs": [],
   "source": []
  },
  {
   "cell_type": "code",
   "execution_count": null,
   "metadata": {
    "collapsed": true
   },
   "outputs": [],
   "source": [
    "###This is an old / working version that uses an optimizer to solve the location rather than rely on the \n",
    "###analytical solution from the MAD paper. Pointless now, but might come in handy later so keeping it here\n",
    "\n",
    "# def branch_scan_mad(modifier, ss_devs, a_dists, b_dists):\n",
    "#     '''\n",
    "#     For a given branch, this function will optimize the root location by minimizing\n",
    "#     the deviations, particularly for the root straddling leaf pairs.\n",
    "    \n",
    "#         `modifier` is the parameter to be optimized and it moves the location of the \n",
    "#                     root down the left and right branches. It has bounds that must be\n",
    "#                     given when optimized\n",
    "    \n",
    "#         `ss_devs` (same side deviations) will not be altered and don't really need\n",
    "#                     to be here but for completeness of the calculation I still pass them\n",
    "                    \n",
    "#         `a_dists` and `b_dists` are numpy arrays that represent the distances from \n",
    "#                     leaf to putative root\n",
    "    \n",
    "#     Note: As the function to be optimized, this will get called potentially a lot so any\n",
    "#     speedups here are pretty critical. But this implementation is fast so it's \n",
    "#     probably best to optimize speed somewhere else.\n",
    "    \n",
    "#     Note the second: This might not be necessary if I could understand from the paper how to\n",
    "#     get this result analytically (which it seems they do)\n",
    "#     '''\n",
    "#     ###Add/subtract the modifier from the pre-computed distance arrays where the \n",
    "#     ###distances are the distance from root node to terminals on each side\n",
    "#     a_dists_temp = a_dists + modifier\n",
    "#     b_dists_temp = b_dists - modifier\n",
    "#     total_dists = a_dists_temp + b_dists_temp\n",
    "#     ###Get the different side deviations (ds_devs)\n",
    "#     ds_devs = np.abs(((2*a_dists_temp)/total_dists)-1)\n",
    "#     ###Concatenate them with the pre-computed same side deviations (ss_devs)\n",
    "#     all_devs = np.concatenate((ss_devs, ds_devs))\n",
    "#     all_devs = all_devs**2\n",
    "#     temp_avg = np.mean(all_devs)\n",
    "#     return temp_avg**0.5\n",
    "\n",
    "\n",
    "# def optimize_root_loc_on_branch_mad(tree):\n",
    "#     '''\n",
    "#     This will calculate (and optimize) the ancestor deviation on a given branch\n",
    "    \n",
    "#         `tree` is a Bio.Phylo tree object that must be rooted (and only bifurcating roots)\n",
    "#                 will suffice. This function will only explore moving this root location\n",
    "#                 within the bounds of the next nodes\n",
    "    \n",
    "#     Note: calculating the MAD for the whole tree will thus require running this function on every\n",
    "#     putative root branch and selecting the best branch / location on that branch as the root.\n",
    "#     '''\n",
    "#     assert len(tree.root.clades) == 2\n",
    "#     lterms = tree.root.clades[0].get_terminals()\n",
    "#     rterms = tree.root.clades[1].get_terminals()\n",
    "#     ####################################################\n",
    "#     ####################################################\n",
    "#     ###This is slow and inefficient where I'm essentially computing a distance\n",
    "#     ###matrix from the tree object. Since this function only operates on a single\n",
    "#     ###branch, I end up repeating this tedious calculation surely more than necessary.\n",
    "#     ###There might be a way to speed it up with some clever array operations and/or \n",
    "#     ###recursion. Or at least passing this dictionary between putative roots \n",
    "#     ###(with necessary modifications, since it *must* change *slightly* from root-to-root)\n",
    "#     lineage_dist_dict = {}\n",
    "#     for leaf in tree.get_terminals():\n",
    "#         lineage_dist_dict[leaf] = {}\n",
    "#         full_lineage = tree.trace(tree.root, leaf)\n",
    "#         ###A reverse traversal here would speed things up a tiny bit since it's currently\n",
    "#         ###repeating certain sums moving down the tree from root to tip. Tip to root would be\n",
    "#         ###preferred\n",
    "#         for index, ancestral_node in enumerate(full_lineage):\n",
    "#             temp_lineage = full_lineage[index:]\n",
    "#             ###This little \"[1:]\" was a tricky bug caused by the fact that summing the branch\n",
    "#             ###lengths from the common ancestor includes the length leading up to the ancestor\n",
    "#             ###which it of course shouldn't.\n",
    "#             temp_dist = np.sum([i.branch_length for i in temp_lineage[1:] if i.branch_length])\n",
    "#             lineage_dist_dict[leaf][ancestral_node] = temp_dist\n",
    "\n",
    "#     ####################################################\n",
    "#     ###On to the actual algorithm... dealing with same side leaves first since they \n",
    "#     ###won't change at all as the root location moves within bounds. We need to compute\n",
    "#     ###all pairwise distances between nodes/their ancestors\n",
    "#     ###Note: THIS is the speed bottleneck. Super slow.\n",
    "#     all_a_dists = []\n",
    "#     all_b_dists = []\n",
    "#     for ss_terms in [lterms, rterms]:###Treat left and right sides separately\n",
    "#         #####################################\n",
    "#         ###This double for loop is the killer, but I have an idea\n",
    "#         ###to make it a little faster with a recursive algorithm?\n",
    "#         for index_a, leaf_a in enumerate(ss_terms[:]):\n",
    "#             for leaf_b in ss_terms[index_a+1:]:\n",
    "#                 ###Get the common ancestor\n",
    "#                 ancestor = tree.common_ancestor(leaf_a, leaf_b)\n",
    "#                 ###And the distance of each leaf to said common ancestor\n",
    "#                 a_dist = lineage_dist_dict[leaf_a][ancestor]\n",
    "#                 b_dist = lineage_dist_dict[leaf_b][ancestor]\n",
    "#                 ###append\n",
    "#                 all_a_dists.append(a_dist)\n",
    "#                 all_b_dists.append(b_dist)\n",
    "#     ###Calculate the ancestral deviations for these same side nodes\n",
    "#     all_a_dists = np.array(all_a_dists)\n",
    "#     all_b_dists = np.array(all_b_dists)\n",
    "#     total_dists = all_a_dists + all_b_dists\n",
    "#     ###Now just follow the formula from the MAD paper\n",
    "#     ss_devs = np.abs(((2*all_a_dists)/total_dists)-1)  \n",
    "    \n",
    "#     ####################################################\n",
    "#     ###Now to deal with different side leaves and optimize the \n",
    "#     ###location of the root within bounds. First get the bounds \n",
    "#     ###which is the left and right branch lengths\n",
    "#     current_loc = tree.root.clades[0].branch_length\n",
    "#     max_r = tree.root.clades[1].branch_length\n",
    "#     bl_bounds = np.array([[-current_loc, max_r]])\n",
    "    \n",
    "#     ###Now get arrays of the distances from terminal to the root for \n",
    "#     ###the root-straddling leaf pairs\n",
    "#     root_clade = tree.root\n",
    "#     a_dists = []\n",
    "#     b_dists = []\n",
    "#     for leaf_a in lterms:\n",
    "#         for leaf_b in rterms:\n",
    "#             a_dists.append(lineage_dist_dict[leaf_a][root_clade])\n",
    "#             b_dists.append(lineage_dist_dict[leaf_b][root_clade])\n",
    "#     a_dists = np.array(a_dists)\n",
    "#     b_dists = np.array(b_dists)\n",
    "#     ###Finally optimize the modifier parameter (within bounds) to minimize the deviations \n",
    "#     ###Valid bounded methods are 'SLSQP', 'L-BFGS-B', and 'TNC'\n",
    "#     res = minimize(branch_scan_mad, np.array(0.),\\\n",
    "#                           args=(ss_devs, a_dists, b_dists),\\\n",
    "#                           bounds=bl_bounds, method='L-BFGS-B')\n",
    "    \n",
    "#     return res\n",
    "\n",
    "\n",
    "# def recursive_tree_root_mad(hypothetical_root, explored, function_optima, tree):\n",
    "#     '''\n",
    "#     This should crawl through every possible branch in a tree.\n",
    "#     Before running, you must assert that the tree is fully bifurcating and\n",
    "#     probably should not have any zero branch lengths (remains to be tested)\n",
    "    \n",
    "#         `hypothetical root` should be a bifurcating clade. I prefer to usually start the process\n",
    "#                     with a mid-point root just for consistency but it should crawl from\n",
    "#                     any starting point\n",
    "                    \n",
    "#         `explored` is just an empty list to keep track of where I went and assert\n",
    "#                     offline that I tried everything\n",
    "            \n",
    "#         `function_optima` is likewise an empty list to start and keeps track of \n",
    "#                     the name of the putative roots with their optimal root locations\n",
    "                    \n",
    "#         `tree` is just a rooted Bio.Phylo tree object\n",
    "    \n",
    "    \n",
    "#     Note: i need to crawl down r clades but I don't need to root on them\n",
    "#     since any root along an rclade is redundant with a root along the sister lclade.\n",
    "#     '''\n",
    "#     if len(hypothetical_root.clades) == 2:\n",
    "#         l_clade, r_clade = hypothetical_root.clades        \n",
    "#         tree.root_with_outgroup(l_clade, outgroup_branch_length=10e-10)\n",
    "#         res = optimize_root_loc_on_branch_mad(tree)\n",
    "#         function_optima.append((l_clade, res))\n",
    "#         ###Recurse on l clade\n",
    "#         explored, function_optima = recursive_tree_root_mad(l_clade, explored, function_optima, tree)\n",
    "#         ###Recurse on r clade\n",
    "#         explored, function_optima = recursive_tree_root_mad(r_clade, explored, function_optima, tree)\n",
    "#     elif len(hypothetical_root.clades) == 1:\n",
    "#         l_clade = hypothetical_root.clades[0]\n",
    "#         tree.root_with_outgroup_mad(l_clade, outgroup_branch_length=10e-10)\n",
    "#         res = optimize_root_loc_on_branch(tree)\n",
    "#         function_optima.append((l_clade, res))\n",
    "#         ###Recurse on only clade\n",
    "#         explored, function_optima = recursive_tree_root_mad(l_clade, explored, function_optima, tree)\n",
    "#     elif len(hypothetical_root.clades) == 0:\n",
    "#         explored.append(hypothetical_root)\n",
    "#         return explored, function_optima\n",
    "#     explored.append(hypothetical_root)\n",
    "#     return explored, function_optima\n",
    "\n",
    "\n",
    "# def max_likelihood_root_mad(tree):\n",
    "#     '''\n",
    "#     This is a pretty boring function that just runs the main program and then \n",
    "#     at the very end does the proper re-rooting.\n",
    "    \n",
    "#         `tree` is just a Bio.Phylo tree object\n",
    "#     '''\n",
    "#     ###Not sure whether I feel like labeling internal nodes or not, but it \n",
    "#     ###can be helpful for troubleshooting\n",
    "#     # for i, internal_node in enumerate(tree.get_nonterminals()):\n",
    "#     #     internal_node.name = 'I{}'.format(i)\n",
    "#     ###I also usually like to start the process with a midpoint rooted tree\n",
    "#     ###for consistency. But note that this rooting function is terrible\n",
    "#     # tree.root_at_midpoint()\n",
    "#     explored, function_optima = recursive_tree_root_mad(tree.root, [], [], tree)\n",
    "#     function_optima = sorted(function_optima, key=lambda x: x[1].fun)\n",
    "#     tree.root_with_outgroup(function_optima[0][0], outgroup_branch_length=10e-10)\n",
    "#     tree.root.clades[0].branch_length += function_optima[0][1].x[0]\n",
    "#     tree.root.clades[1].branch_length -= function_optima[0][1].x[0]\n",
    "    \n",
    "#     RAI = function_optima[0][1].fun / function_optima[1][1].fun\n",
    "#     return tree, RAI, function_optima"
   ]
  },
  {
   "cell_type": "code",
   "execution_count": null,
   "metadata": {
    "collapsed": true
   },
   "outputs": [],
   "source": []
  },
  {
   "cell_type": "markdown",
   "metadata": {},
   "source": [
    "**Working version 2**\n",
    "\n",
    "And about an order of magnitude faster than above. Still a bit buggy when testing speed with `%%timeit`\n",
    "\n",
    "And turns out that it's not super scalable"
   ]
  },
  {
   "cell_type": "code",
   "execution_count": null,
   "metadata": {
    "collapsed": false
   },
   "outputs": [],
   "source": [
    "def get_distance_dict(tree):\n",
    "    lineage_dist_dict = {}\n",
    "    for leaf in tree.get_terminals()[:]:\n",
    "        lineage_dist_dict[leaf] = {}\n",
    "        lineage_dist_dict[leaf][leaf] = 0.\n",
    "\n",
    "        full_lineage = tree.trace(tree.root, leaf)[::-1]\n",
    "        back_dist = 0\n",
    "        for i, back_clade in enumerate(full_lineage[:]):\n",
    "            if i == 0:\n",
    "                continue\n",
    "            back_dist += full_lineage[i-1].branch_length\n",
    "            lineage_dist_dict[leaf][back_clade] = back_dist\n",
    "            fwd_dist = 0\n",
    "            for fwd_clade, depth in back_clade.depths().items():\n",
    "                if fwd_clade in lineage_dist_dict[leaf].keys():\n",
    "                    continue\n",
    "                if back_clade.branch_length:\n",
    "                    lineage_dist_dict[leaf][fwd_clade] = back_dist + depth - back_clade.branch_length\n",
    "                else:\n",
    "                    lineage_dist_dict[leaf][fwd_clade] = back_dist + depth\n",
    "    return lineage_dist_dict\n",
    "\n",
    "def optimize_root_loc_on_branch_mad_v2(tree, lineage_dist_dict):\n",
    "    '''\n",
    "    This will calculate (and optimize) the ancestor deviation on a given branch\n",
    "    \n",
    "        `tree` is a Bio.Phylo tree object that must be rooted (and only bifurcating roots)\n",
    "                will suffice. This function will only explore moving this root location\n",
    "                within the bounds of the next nodes\n",
    "    \n",
    "    Note: calculating the MAD for the whole tree will thus require running this function on every\n",
    "    putative root branch and selecting the best branch / location on that branch as the root.\n",
    "    '''\n",
    "    assert len(tree.root.clades) == 2\n",
    "    lterms = tree.root.clades[0].get_terminals()\n",
    "    rterms = tree.root.clades[1].get_terminals()\n",
    "\n",
    "    ###Too be clear, this is the problem section\n",
    "    ss_a_dists = []\n",
    "    ss_b_dists = []\n",
    "    for clade in [tree.root.clades[0], tree.root.clades[1]]:\n",
    "        for node in clade.get_nonterminals() + clade.get_terminals():\n",
    "            if len(node.clades) != 2:\n",
    "                continue\n",
    "            a_side = node.clades[0].get_terminals()\n",
    "            b_side = node.clades[1].get_terminals()\n",
    "            for a_term in a_side:\n",
    "                for b_term in b_side:\n",
    "                    ss_a_dists.append(lineage_dist_dict[a_term][node])\n",
    "                    ss_b_dists.append(lineage_dist_dict[b_term][node])\n",
    "\n",
    "    ###Calculate the ancestral deviations for these same side nodes\n",
    "    ss_a_dists = np.array(ss_a_dists)\n",
    "    ss_b_dists = np.array(ss_b_dists)\n",
    "    ss_total_dists = ss_a_dists + ss_b_dists\n",
    "    ###Now just follow the formula from the MAD paper\n",
    "    ss_devs = np.abs(((2*ss_a_dists)/ss_total_dists)-1)  \n",
    "    \n",
    "    ###This can be sped up too. \n",
    "    ds_a_dists = []\n",
    "    ds_b_dists = []\n",
    "    temp_depths = tree.depths()\n",
    "    for leaf_a in lterms:\n",
    "        for leaf_b in rterms:\n",
    "            ds_a_dists.append(temp_depths[leaf_a])\n",
    "            ds_b_dists.append(temp_depths[leaf_b])\n",
    "    ds_a_dists = np.array(ds_a_dists)\n",
    "    ds_b_dists = np.array(ds_b_dists)\n",
    "    ds_total_dists = ds_a_dists + ds_b_dists\n",
    "\n",
    "    ###Using the analytical solution to \"rho\" parameter as outlined in the MAD paper\n",
    "    ###This is quite elegant\n",
    "    l_branch_len = tree.root.clades[0].branch_length\n",
    "    r_branch_len = tree.root.clades[1].branch_length\n",
    "    total_bl = l_branch_len + r_branch_len\n",
    "    rho = np.sum((ds_total_dists-(2*ds_a_dists))*ds_total_dists**-2)/(2*total_bl*np.sum(ds_total_dists**-2))\n",
    "    modifier = total_bl*rho\n",
    "    modifier = min(max(-l_branch_len, modifier), r_branch_len)   \n",
    " \n",
    "    ###Rescale the distances with the optimized modifier\n",
    "    ds_a_dists = ds_a_dists + modifier\n",
    "    ds_b_dists = ds_b_dists - modifier\n",
    "    ds_total_dists = ds_a_dists + ds_b_dists\n",
    "    ###Calculate their deviations\n",
    "    ds_devs = np.abs(((2*ds_a_dists)/ds_total_dists)-1)\n",
    "\n",
    "    ###Concatenate them with the pre-computed same side deviations (ss_devs)\n",
    "    all_devs = np.concatenate((ss_devs, ds_devs))\n",
    "    ###And compute final score\n",
    "    all_devs = all_devs**2\n",
    "    dev_score = np.mean(all_devs)\n",
    "    dev_score = dev_score**0.5\n",
    "    return (modifier, dev_score)\n",
    "\n",
    "def recursive_tree_root_mad_v2(hypothetical_root, explored, function_optima, tree, lineage_dist_dict):\n",
    "    '''\n",
    "    This should crawl through every possible branch in a tree.\n",
    "    Before running, you must assert that the tree is fully bifurcating and\n",
    "    probably should not have any zero branch lengths (remains to be tested)\n",
    "    \n",
    "        `hypothetical root` should be a bifurcating clade. I prefer to usually start the process\n",
    "                    with a mid-point root just for consistency but it should crawl from\n",
    "                    any starting point\n",
    "                    \n",
    "        `explored` is just an empty list to keep track of where I went and assert\n",
    "                    offline that I tried everything\n",
    "            \n",
    "        `function_optima` is likewise an empty list to start and keeps track of \n",
    "                    the name of the putative roots with their optimal root locations\n",
    "                    \n",
    "        `tree` is just a rooted Bio.Phylo tree object\n",
    "    \n",
    "    \n",
    "    Note: i need to crawl down r clades but I don't need to root on them\n",
    "    since any root along an rclade is redundant with a root along the sister lclade.\n",
    "    '''\n",
    "    if len(hypothetical_root.clades) == 2:\n",
    "        l_clade, r_clade = hypothetical_root.clades\n",
    "        ###L clade\n",
    "        tree.root_with_outgroup(l_clade, outgroup_branch_length=10e-10)\n",
    "        res = optimize_root_loc_on_branch_mad_v2(tree, lineage_dist_dict)\n",
    "        function_optima.append((l_clade, res))\n",
    "        explored, function_optima = recursive_tree_root_mad_v2(l_clade, explored, function_optima, tree, lineage_dist_dict)\n",
    "        ###R clade\n",
    "        tree.root_with_outgroup(r_clade, outgroup_branch_length=10e-10)\n",
    "        res = optimize_root_loc_on_branch_mad_v2(tree, lineage_dist_dict)\n",
    "        function_optima.append((r_clade, res))\n",
    "        explored, function_optima = recursive_tree_root_mad_v2(r_clade, explored, function_optima, tree, lineage_dist_dict)\n",
    "    elif len(hypothetical_root.clades) == 1:\n",
    "        print('something is rotten in the state of denmark')\n",
    "    elif len(hypothetical_root.clades) == 0:\n",
    "        explored.append(hypothetical_root)\n",
    "        return explored, function_optima\n",
    "    explored.append(hypothetical_root)\n",
    "    return explored, function_optima\n",
    "\n",
    "\n",
    "def max_likelihood_root_mad_v2(tree):\n",
    "    '''\n",
    "    This is a pretty boring function that just runs the main program and then \n",
    "    at the very end does the proper re-rooting.\n",
    "    \n",
    "        `tree` is just a Bio.Phylo tree object\n",
    "    '''\n",
    "    ###Not sure whether I feel like labeling internal nodes or not, but it \n",
    "    ###can be helpful for troubleshooting\n",
    "    # for i, internal_node in enumerate(tree.get_nonterminals()):\n",
    "    #     internal_node.name = 'I{}'.format(i)\n",
    "    ###I also usually like to start the process with a midpoint rooted tree\n",
    "    ###for consistency. But note that this rooting function is terrible\n",
    "#     tree.root_at_midpoint()\n",
    "    lineage_dist_dict = get_distance_dict(tree)\n",
    "    explored, function_optima = recursive_tree_root_mad_v2(tree.root, [], [], tree, lineage_dist_dict)\n",
    "    function_optima = sorted(function_optima, key=lambda x: x[1][1])\n",
    "    tree.root_with_outgroup(function_optima[0][0], outgroup_branch_length=10e-10)\n",
    "    tree.root.clades[0].branch_length += function_optima[0][1][0]\n",
    "    tree.root.clades[1].branch_length -= function_optima[0][1][0]\n",
    "    RAI = function_optima[0][1][1] / function_optima[1][1][1]\n",
    "    return tree, RAI, function_optima"
   ]
  },
  {
   "cell_type": "code",
   "execution_count": null,
   "metadata": {
    "collapsed": false
   },
   "outputs": [],
   "source": [
    "tree_loc = '../Tria_et_al_data/eukaryotes/ingroup/phyml/KOG0725.faa.aln.nwk'\n",
    "# tree_loc = '../Tria_et_al_data/eukaryotes/ingroup/phyml/KOG2515.faa.aln.nwk' ###MAD fails, MP works\n",
    "# tree_loc = '../Tria_et_al_data/eukaryotes/ingroup/phyml/KOG2459.faa.aln.nwk' ###MAD works, MP fails\n",
    "# tree_loc = '../Tria_et_al_data/eukaryotes/ingroup/phyml/KOG2340.faa.aln.nwk' ###MAD works, MP fails\n",
    "# tree_loc = '../Tria_et_al_data/eukaryotes/ingroup/phyml/KOG2725.faa.aln.nwk.15.pruned'\n",
    "# tree_loc = '../Tria_et_al_data/eukaryotes/ingroup/phyml/KOG1622.faa.aln.nwk'\n",
    "# tree_loc = '../Tria_et_al_data/cyanobacteria/ingroup/phyml/cluster_100.faa.aln.nwk'\n",
    "\n",
    "###Load the tree\n",
    "tree = Phylo.read(tree_loc, 'newick', rooted=False)\n",
    "print(len(tree.get_terminals()), tree.total_branch_length())\n",
    "Phylo.draw(tree)\n",
    "\n",
    "mad_tree = Phylo.read(tree_loc+'.rooted', 'newick', rooted=True)\n",
    "print(len(mad_tree.get_terminals()), mad_tree.total_branch_length())\n",
    "Phylo.draw(mad_tree)\n",
    "\n",
    "tree.root_at_midpoint()\n",
    "print(len(tree.get_terminals()), tree.total_branch_length())\n",
    "Phylo.draw(tree)\n",
    "\n",
    "lineage_dist_dict = get_distance_dict(tree)\n",
    "tree, RAI, function_optima = max_likelihood_root_mad_v2(tree)\n",
    "print(len(tree.get_terminals()), tree.total_branch_length())\n",
    "Phylo.draw(tree)"
   ]
  },
  {
   "cell_type": "code",
   "execution_count": null,
   "metadata": {
    "collapsed": false
   },
   "outputs": [],
   "source": [
    "print(RAI, len(function_optima), function_optima[0])"
   ]
  },
  {
   "cell_type": "code",
   "execution_count": null,
   "metadata": {
    "collapsed": false
   },
   "outputs": [],
   "source": [
    "optimize_root_loc_on_branch_mad_v2(tree, lineage_dist_dict)"
   ]
  },
  {
   "cell_type": "code",
   "execution_count": null,
   "metadata": {
    "collapsed": false
   },
   "outputs": [],
   "source": [
    "%%timeit\n",
    "# max_likelihood_root_mad_v2(tree)\n",
    "tree.depths()"
   ]
  },
  {
   "cell_type": "code",
   "execution_count": null,
   "metadata": {
    "collapsed": true
   },
   "outputs": [],
   "source": []
  },
  {
   "cell_type": "code",
   "execution_count": null,
   "metadata": {
    "collapsed": false
   },
   "outputs": [],
   "source": [
    "%%timeit\n",
    "get_distance_dict(tree)"
   ]
  },
  {
   "cell_type": "code",
   "execution_count": null,
   "metadata": {
    "collapsed": true
   },
   "outputs": [],
   "source": []
  },
  {
   "cell_type": "code",
   "execution_count": null,
   "metadata": {
    "collapsed": true
   },
   "outputs": [],
   "source": []
  },
  {
   "cell_type": "markdown",
   "metadata": {},
   "source": [
    "# Scratch\n",
    "\n",
    "Need to cut the speed on that one step and using recursion is the only good way I know. \n",
    "\n",
    "Also this doesn't work. Or does it."
   ]
  },
  {
   "cell_type": "code",
   "execution_count": null,
   "metadata": {
    "collapsed": false
   },
   "outputs": [],
   "source": [
    "def get_initial_distance_matrix_recursive(tree):\n",
    "    '''\n",
    "    Where distance matrix here is subtle. I'm actually calculating the distance to LCA for an initial \n",
    "    hypothetical bifurcating root.\n",
    "    '''\n",
    "    assert tree.is_bifurcating()\n",
    "    initial = np.zeros((len(tree.get_terminals()),len(tree.get_terminals())))\n",
    "    recurse, finished_list = recursive_clade(initial, tree.root, finished=[])\n",
    "    final = recurse - recurse.diagonal()\n",
    "    term_names = [i.name for i in tree.get_terminals()]\n",
    "    final_df = pd.DataFrame(final, index=term_names, columns=term_names)\n",
    "    return final_df\n",
    "\n",
    "def recursive_clade(vcv_matrix, initial_clade, finished=[]):\n",
    "    '''\n",
    "    This is kind of complicated looking but it should scale linearly with tree size\n",
    "    '''\n",
    "    if len(initial_clade) == 2:\n",
    "        #Add branch length to relevant cells in matrix and move down the left side\n",
    "        if not set(initial_clade[0].get_terminals()).issubset(set(finished)):\n",
    "            clade = initial_clade[0]\n",
    "            clade_term_n = len(clade.get_terminals())\n",
    "            finished_n = len(finished)\n",
    "            vcv_matrix[finished_n:finished_n+clade_term_n, finished_n:finished_n+clade_term_n] += clade.branch_length\n",
    "            vcv_matrix, finished = recursive_clade(vcv_matrix, clade, finished)\n",
    "        #Add branch length to relevant cells in matrix and move down the right side\n",
    "        if not set(initial_clade[1].get_terminals()).issubset(set(finished)):\n",
    "            clade = initial_clade[1]\n",
    "            clade_term_n = len(clade.get_terminals())\n",
    "            finished_n = len(finished)\n",
    "            vcv_matrix[finished_n:finished_n+clade_term_n, finished_n:finished_n+clade_term_n] += clade.branch_length\n",
    "            vcv_matrix, finished = recursive_clade(vcv_matrix, clade, finished)\n",
    "    elif len(initial_clade) == 0:\n",
    "        finished.append(initial_clade)\n",
    "    else:\n",
    "        print(\"ERROR: APPEARS TO BE A NON-BINARY TREE. MATRIX GENERATION WILL PROBABLY FAIL\")\n",
    "    return vcv_matrix, finished\n",
    "\n",
    "\n",
    "\n",
    "def mad_from_df(clade, my_terms, other_terms, lca_dist_df):\n",
    "    my_df = lca_dist_df.loc[my_terms, my_terms]\n",
    "    other_df = lca_dist_df.loc[other_terms, other_terms]\n",
    "    my_df_trans = my_df.T\n",
    "    other_df_trans = other_df.T\n",
    "    ss_a_dists = np.abs(np.concatenate((my_df.values[np.triu_indices(len(my_terms), k = 1)],\\\n",
    "                                other_df.values[np.triu_indices(len(other_terms), k = 1)])))\n",
    "    ss_b_dists = np.abs(np.concatenate((my_df_trans.values[np.triu_indices(len(my_terms), k = 1)],\\\n",
    "                                other_df_trans.values[np.triu_indices(len(other_terms), k = 1)])))\n",
    "\n",
    "    ss_total_dists = ss_a_dists + ss_b_dists\n",
    "    ss_devs = np.abs(((2*ss_a_dists)/ss_total_dists)-1)  \n",
    "\n",
    "\n",
    "    ds_a_dists = lca_dist_df.loc[my_terms, other_terms].values.flatten(order='C')\n",
    "    ds_b_dists = lca_dist_df.loc[other_terms, my_terms].values.flatten(order='F')\n",
    "    ds_total_dists = ds_a_dists + ds_b_dists\n",
    "\n",
    "    ###Using the analytical solution to \"rho\" parameter as outlined in the MAD paper\n",
    "    ###This is quite elegant\n",
    "    total_bl = clade.branch_length\n",
    "    rho = np.sum((ds_total_dists-(2*ds_a_dists))*ds_total_dists**-2)/(2*total_bl*np.sum(ds_total_dists**-2))\n",
    "    modifier = total_bl*rho\n",
    "    modifier = min(max(0, modifier), total_bl)   \n",
    " \n",
    "    ###Rescale the distances with the optimized modifier\n",
    "    ds_a_dists = ds_a_dists + modifier\n",
    "    ds_b_dists = ds_b_dists - modifier\n",
    "    ds_total_dists = ds_a_dists + ds_b_dists\n",
    "    ###Calculate their deviations\n",
    "    ds_devs = np.abs(((2*ds_a_dists)/ds_total_dists)-1)\n",
    "\n",
    "    ###Concatenate them with the pre-computed same side deviations (ss_devs)\n",
    "    all_devs = np.concatenate((ss_devs, ds_devs))\n",
    "    ###And compute final score\n",
    "    all_devs = all_devs**2\n",
    "    dev_score = np.mean(all_devs)\n",
    "    dev_score = dev_score**0.5\n",
    "    return (modifier, dev_score)\n",
    "\n",
    "def update_dist_df(lca_dist_df_dict, clade, parent, tree):\n",
    "    bl = clade.branch_length\n",
    "    downstream_terms = [i.name for i in clade.get_terminals()]\n",
    "    upstream_terms = list(set([i.name for i in tree.get_terminals()]) - set(downstream_terms))\n",
    "    lca_dist_df = lca_dist_df_dict[parent].copy(deep=True)\n",
    "    lca_dist_df.loc[downstream_terms,upstream_terms] -= bl\n",
    "    lca_dist_df.loc[upstream_terms,downstream_terms] += bl\n",
    "    lca_dist_df_dict[clade] = lca_dist_df\n",
    "    return lca_dist_df_dict, downstream_terms, upstream_terms\n",
    "\n",
    "\n",
    "def recursive_tree_root_mad_v3(hypothetical_root, explored, function_optima, tree, lca_dist_df_dict):\n",
    "    if len(hypothetical_root.clades) == 2:\n",
    "        l_clade, r_clade = hypothetical_root.clades        \n",
    "        ###Recurse on l clade\n",
    "        lca_dist_df_dict, my_terms, other_terms = update_dist_df(lca_dist_df_dict, l_clade, hypothetical_root, tree)\n",
    "        res = mad_from_df(l_clade, my_terms, other_terms, lca_dist_df_dict[l_clade])\n",
    "        function_optima.append((l_clade, res))\n",
    "        explored, function_optima, lca_dist_df_dict = recursive_tree_root_mad_v3(l_clade, explored, function_optima, tree, lca_dist_df_dict)\n",
    "        ###Recurse on r clade\n",
    "        lca_dist_df_dict, my_terms, other_terms = update_dist_df(lca_dist_df_dict, r_clade, hypothetical_root, tree)\n",
    "        res = mad_from_df(r_clade, my_terms, other_terms, lca_dist_df_dict[r_clade])\n",
    "        function_optima.append((r_clade, res))\n",
    "        explored, function_optima, lca_dist_df_dict = recursive_tree_root_mad_v3(r_clade, explored, function_optima, tree, lca_dist_df_dict)\n",
    "    elif len(hypothetical_root.clades) == 0:\n",
    "        explored.append(hypothetical_root)\n",
    "        return explored, function_optima, lca_dist_df_dict\n",
    "    else:\n",
    "        print('non binary tree...?')\n",
    "    explored.append(hypothetical_root)\n",
    "    return explored, function_optima, lca_dist_df_dict\n",
    "\n",
    "\n",
    "\n",
    "def max_likelihood_root_mad_v3(tree):\n",
    "    dist_df = get_initial_distance_matrix_recursive(tree)\n",
    "    tempy_dict = {}\n",
    "    tempy_dict[tree.root] = dist_df\n",
    "    explored, function_optima, lca_dist_df_dict = recursive_tree_root_mad_v3(tree.root, [], [], tree, tempy_dict)\n",
    "    function_optima = sorted(function_optima, key=lambda x: x[1][1])\n",
    "    tree.root_with_outgroup(function_optima[0][0], outgroup_branch_length=10e-10)\n",
    "    tree.root.clades[0].branch_length -= function_optima[0][1][0]\n",
    "    tree.root.clades[1].branch_length += function_optima[0][1][0]\n",
    "    RAI = function_optima[0][1][1] / function_optima[1][1][1]\n",
    "    return tree, RAI, function_optima\n"
   ]
  },
  {
   "cell_type": "code",
   "execution_count": null,
   "metadata": {
    "collapsed": false
   },
   "outputs": [],
   "source": [
    "# tree_loc = '../Tria_et_al_data/eukaryotes/ingroup/phyml/KOG0725.faa.aln.nwk'\n",
    "# tree_loc = '../Tria_et_al_data/eukaryotes/ingroup/phyml/KOG2515.faa.aln.nwk' ###MAD fails, MP works\n",
    "# tree_loc = '../Tria_et_al_data/eukaryotes/ingroup/phyml/KOG2459.faa.aln.nwk' ###MAD works, MP fails\n",
    "# tree_loc = '../Tria_et_al_data/eukaryotes/ingroup/phyml/KOG2340.faa.aln.nwk' ###MAD works, MP fails\n",
    "# tree_loc = '../Tria_et_al_data/eukaryotes/ingroup/phyml/KOG2725.faa.aln.nwk.15.pruned'\n",
    "# tree_loc = '../Tria_et_al_data/eukaryotes/ingroup/phyml/KOG1622.faa.aln.nwk'\n",
    "tree_loc = '../Tria_et_al_data/cyanobacteria/ingroup/phyml/cluster_100.faa.aln.nwk'\n",
    "\n",
    "###Load the tree\n",
    "tree = Phylo.read(tree_loc, 'newick', rooted=False)\n",
    "print(len(tree.get_terminals()), tree.total_branch_length())\n",
    "Phylo.draw(tree)\n",
    "\n",
    "mad_tree = Phylo.read(tree_loc+'.rooted', 'newick', rooted=True)\n",
    "print(len(mad_tree.get_terminals()), mad_tree.total_branch_length())\n",
    "Phylo.draw(mad_tree)\n",
    "\n",
    "tree.root_at_midpoint()\n",
    "print(len(tree.get_terminals()), tree.total_branch_length())\n",
    "Phylo.draw(tree)\n",
    "\n",
    "# tree.root_with_outgroup('7460', outgroup_branch_length=10e-8)\n",
    "tree, RAI, function_optima = max_likelihood_root_mad_v3(tree)\n",
    "Phylo.draw(tree)\n"
   ]
  },
  {
   "cell_type": "code",
   "execution_count": null,
   "metadata": {
    "collapsed": false
   },
   "outputs": [],
   "source": [
    "fo = sorted(function_optima, key=lambda x: x[1][1])\n",
    "fo[:5]"
   ]
  },
  {
   "cell_type": "code",
   "execution_count": null,
   "metadata": {
    "collapsed": false
   },
   "outputs": [],
   "source": [
    "fig, ax = plt.subplots()\n",
    "cbar = ax.matshow(trash3[tree.root])\n",
    "fig.colorbar(cbar)\n",
    "\n",
    "fig, ax = plt.subplots()\n",
    "cbar = ax.matshow(trash3[tree.root.clades[0]])\n",
    "fig.colorbar(cbar)\n",
    "\n",
    "fig, ax = plt.subplots()\n",
    "cbar = ax.matshow(trash3[tree.root.clades[1]])\n",
    "fig.colorbar(cbar)"
   ]
  },
  {
   "cell_type": "code",
   "execution_count": null,
   "metadata": {
    "collapsed": false
   },
   "outputs": [],
   "source": [
    "for i in tree.get_terminals():\n",
    "    print(i.name, i.branch_length)"
   ]
  },
  {
   "cell_type": "code",
   "execution_count": null,
   "metadata": {
    "collapsed": false
   },
   "outputs": [],
   "source": [
    "%%timeit\n",
    "max_likelihood_root_mad_v3(tree)"
   ]
  },
  {
   "cell_type": "code",
   "execution_count": null,
   "metadata": {
    "collapsed": true
   },
   "outputs": [],
   "source": []
  },
  {
   "cell_type": "markdown",
   "metadata": {},
   "source": [
    "** Following Sailer's method **"
   ]
  },
  {
   "cell_type": "code",
   "execution_count": null,
   "metadata": {
    "collapsed": true
   },
   "outputs": [],
   "source": [
    "def get_distance_df(tree):\n",
    "    '''\n",
    "    Should be able to halve this time easily by computing a triangle\n",
    "    '''\n",
    "    term_names = [i.name for i in tree.get_terminals()]\n",
    "    dist_df = pd.DataFrame(0., index=term_names, columns=term_names)\n",
    "    for leaf in tree.get_terminals()[:]:\n",
    "        done = []\n",
    "        full_lineage = tree.trace(tree.root, leaf)[::-1]\n",
    "        back_dist = 0\n",
    "        for i, back_clade in enumerate(full_lineage[:]):\n",
    "            if i == 0:\n",
    "                dist_df.set_value(leaf.name, leaf.name, 0)\n",
    "                done.append(leaf)\n",
    "                continue\n",
    "            back_dist += full_lineage[i-1].branch_length\n",
    "            fwd_dist = 0\n",
    "            for fwd_clade, depth in back_clade.depths().items():\n",
    "                if fwd_clade.name and fwd_clade not in done:\n",
    "#                     dist_df[leaf, fwd_clade] = back_dist + depth - fwd_clade.branch_length\n",
    "                    if back_clade.branch_length:\n",
    "                        dist_df.set_value(leaf.name, fwd_clade.name, back_dist + depth - back_clade.branch_length)\n",
    "                    else:\n",
    "                        dist_df.set_value(leaf.name, fwd_clade.name, back_dist + depth)\n",
    "                    done.append(fwd_clade)\n",
    "    return dist_df\n",
    "\n",
    "def optimize_root_loc_on_branch_mad_v4(tree, dist_df):\n",
    "    lclade = tree.root.clades[0]\n",
    "    rclade = tree.root.clades[1]\n",
    "    lterms = [i.name for i in lclade.get_terminals()]\n",
    "    rterms = [i.name for i in rclade.get_terminals()]\n",
    "    \n",
    "    ss_a_dists = []\n",
    "    ss_total_dists = []\n",
    "    for head_clade in [lclade, rclade]:\n",
    "        \n",
    "        term_set = [i.name for i in clade.get_terminals()]\n",
    "        ss_df = dist_df.loc[term_set,term_set]\n",
    "        depth_dict_trash = clade.depths()\n",
    "        depth_dict = {}\n",
    "        for i,j in depth_dict_trash.items():\n",
    "            depth_dict[i.name] = j - clade.branch_length\n",
    "        indices = ss_df.iloc[np.triu_indices(len(term_set), k = 1)[0]].index\n",
    "        ss_a_dists.extend([depth_dict[i] for i in indices])\n",
    "        ss_total_dists.append(np.array(ss_df)[np.triu_indices(len(term_set), k = 1)])\n",
    "    \n",
    "    ss_a_dists = np.array(ss_a_dists)\n",
    "    ss_total_dists = np.concatenate(ss_total_dists)\n",
    "    ss_devs = np.abs(((2*ss_a_dists)/ss_total_dists)-1)  \n",
    "    print(ss_a_dists)\n",
    "    print(ss_total_dists)\n",
    "    \n",
    "    ###Now get arrays of the distances from terminal to the root for \n",
    "    ###the root-straddling leaf pairs\n",
    "    ds_df = dist_df.loc[lterms, rterms]\n",
    "    ds_df_stack = ds_df.stack()\n",
    "    depth_dict_trash = tree.depths()\n",
    "    depth_dict = {}\n",
    "    for i,j in depth_dict_trash.items():\n",
    "        depth_dict[i.name] = j\n",
    "    ds_a_dists = []\n",
    "    index_levels = ds_df_stack.index.levels\n",
    "    for index in index_levels[0]:\n",
    "        for i in range(len(index_levels[1])):\n",
    "            ds_a_dists.append(depth_dict[index])\n",
    "    ds_a_dists = np.array(ds_a_dists)\n",
    "    ds_total_dists = ds_df_stack.values\n",
    "    ds_b_dists = ds_total_dists-ds_a_dists\n",
    "    \n",
    "    ###Using the analytical solution to \"rho\" parameter as outlined in the MAD paper\n",
    "    ###This is quite elegant\n",
    "    l_branch_len = lclade.branch_length\n",
    "    r_branch_len = rclade.branch_length\n",
    "    total_bl = l_branch_len + r_branch_len\n",
    "    rho = np.sum((ds_total_dists-(2*ds_a_dists))*ds_total_dists**-2)/(2*total_bl*np.sum(ds_total_dists**-2))\n",
    "    modifier = total_bl*rho\n",
    "    modifier = min(max(-l_branch_len, modifier), r_branch_len)   \n",
    " \n",
    "    ###Rescale the distances with the optimized modifier\n",
    "    ds_a_dists = ds_a_dists + modifier\n",
    "    ds_b_dists = ds_b_dists - modifier\n",
    "    ds_total_dists = ds_a_dists + ds_b_dists\n",
    "    ###Calculate their deviations\n",
    "    ds_devs = np.abs(((2*ds_a_dists)/ds_total_dists)-1)\n",
    "    print(ds_devs)\n",
    "    ###Concatenate them with the pre-computed same side deviations (ss_devs)\n",
    "    all_devs = np.concatenate((ss_devs, ds_devs))\n",
    "    ###And compute final score\n",
    "    all_devs = all_devs**2\n",
    "    dev_score = np.mean(all_devs)\n",
    "    dev_score = dev_score**0.5\n",
    "    return (modifier, dev_score)\n",
    "\n",
    "def recursive_tree_root_mad_v4(hypothetical_root, explored, function_optima, tree, lineage_dist_dict):\n",
    "    '''\n",
    "    This should crawl through every possible branch in a tree.\n",
    "    Before running, you must assert that the tree is fully bifurcating and\n",
    "    probably should not have any zero branch lengths (remains to be tested)\n",
    "    \n",
    "        `hypothetical root` should be a bifurcating clade. I prefer to usually start the process\n",
    "                    with a mid-point root just for consistency but it should crawl from\n",
    "                    any starting point\n",
    "                    \n",
    "        `explored` is just an empty list to keep track of where I went and assert\n",
    "                    offline that I tried everything\n",
    "            \n",
    "        `function_optima` is likewise an empty list to start and keeps track of \n",
    "                    the name of the putative roots with their optimal root locations\n",
    "                    \n",
    "        `tree` is just a rooted Bio.Phylo tree object\n",
    "    \n",
    "    \n",
    "    Note: i need to crawl down r clades but I don't need to root on them\n",
    "    since any root along an rclade is redundant with a root along the sister lclade.\n",
    "    '''\n",
    "    if len(hypothetical_root.clades) == 2:\n",
    "        l_clade, r_clade = hypothetical_root.clades        \n",
    "        tree.root_with_outgroup(l_clade, outgroup_branch_length=10e-10)\n",
    "        res = optimize_root_loc_on_branch_mad_v2(tree, lineage_dist_dict)\n",
    "        function_optima.append((l_clade, res))\n",
    "        ###Recurse on l clade\n",
    "        explored, function_optima = recursive_tree_root_mad_v2(l_clade, explored, function_optima, tree, lineage_dist_dict)\n",
    "        ###Recurse on r clade\n",
    "        explored, function_optima = recursive_tree_root_mad_v2(r_clade, explored, function_optima, tree, lineage_dist_dict)\n",
    "    elif len(hypothetical_root.clades) == 1:\n",
    "        l_clade = hypothetical_root.clades[0]\n",
    "        tree.root_with_outgroup_mad(l_clade, outgroup_branch_length=10e-10)\n",
    "        res = optimize_root_loc_on_branch_v2(tree, lineage_dist_dict)\n",
    "        function_optima.append((l_clade, res))\n",
    "        ###Recurse on only clade\n",
    "        explored, function_optima = recursive_tree_root_mad_v2(l_clade, explored, function_optima, tree, lineage_dist_dict)\n",
    "    elif len(hypothetical_root.clades) == 0:\n",
    "        explored.append(hypothetical_root)\n",
    "        return explored, function_optima\n",
    "    explored.append(hypothetical_root)\n",
    "    return explored, function_optima\n",
    "\n",
    "\n",
    "def max_likelihood_root_mad_v3(tree):\n",
    "    '''\n",
    "    This is a pretty boring function that just runs the main program and then \n",
    "    at the very end does the proper re-rooting.\n",
    "    \n",
    "        `tree` is just a Bio.Phylo tree object\n",
    "    '''\n",
    "    ###Not sure whether I feel like labeling internal nodes or not, but it \n",
    "    ###can be helpful for troubleshooting\n",
    "    # for i, internal_node in enumerate(tree.get_nonterminals()):\n",
    "    #     internal_node.name = 'I{}'.format(i)\n",
    "    ###I also usually like to start the process with a midpoint rooted tree\n",
    "    ###for consistency. But note that this rooting function is terrible\n",
    "    # tree.root_at_midpoint()\n",
    "    lineage_dist_dict = get_distance_dict(tree)\n",
    "    explored, function_optima = recursive_tree_root_mad_v3(tree.root, [], [], tree, lineage_dist_dict)\n",
    "    function_optima = sorted(function_optima, key=lambda x: x[1][1])\n",
    "    tree.root_with_outgroup(function_optima[0][0], outgroup_branch_length=10e-10)\n",
    "    tree.root.clades[0].branch_length += function_optima[0][1][0]\n",
    "    tree.root.clades[1].branch_length -= function_optima[0][1][0]\n",
    "    RAI = function_optima[0][1][1] / function_optima[1][1][1]\n",
    "    return tree, RAI, function_optima"
   ]
  },
  {
   "cell_type": "code",
   "execution_count": null,
   "metadata": {
    "collapsed": false
   },
   "outputs": [],
   "source": [
    "optimize_root_loc_on_branch_mad_v1(tree)"
   ]
  },
  {
   "cell_type": "code",
   "execution_count": null,
   "metadata": {
    "collapsed": true
   },
   "outputs": [],
   "source": []
  },
  {
   "cell_type": "code",
   "execution_count": null,
   "metadata": {
    "collapsed": false
   },
   "outputs": [],
   "source": [
    "tree_loc = '../Tria_et_al_data/eukaryotes/ingroup/phyml/KOG0725.faa.aln.nwk'\n",
    "# tree_loc = '../Tria_et_al_data/eukaryotes/ingroup/phyml/KOG2515.faa.aln.nwk' ###MAD fails, MP works\n",
    "# tree_loc = '../Tria_et_al_data/eukaryotes/ingroup/phyml/KOG2459.faa.aln.nwk' ###MAD works, MP fails\n",
    "# tree_loc = '../Tria_et_al_data/eukaryotes/ingroup/phyml/KOG2340.faa.aln.nwk' ###MAD works, MP fails\n",
    "# tree_loc = '../Tria_et_al_data/eukaryotes/ingroup/phyml/KOG2725.faa.aln.nwk.15.pruned'\n",
    "# tree_loc = '../Tria_et_al_data/eukaryotes/ingroup/phyml/KOG1622.faa.aln.nwk'\n",
    "# tree_loc = '../Tria_et_al_data/cyanobacteria/ingroup/phyml/cluster_100.faa.aln.nwk'\n",
    "\n",
    "\n",
    "###Load the tree\n",
    "tree = Phylo.read(tree_loc, 'newick', rooted=False)\n",
    "print(len(tree.get_terminals()), tree.total_branch_length())\n",
    "Phylo.draw(tree)\n",
    "\n",
    "mad_tree = Phylo.read(tree_loc+'.rooted', 'newick', rooted=True)\n",
    "print(len(mad_tree.get_terminals()), mad_tree.total_branch_length())\n",
    "Phylo.draw(mad_tree)\n",
    "\n",
    "tree.root_at_midpoint()\n",
    "# print(len(tree.get_terminals()), tree.total_branch_length())\n",
    "# Phylo.draw(tree)\n",
    "# # tree.root_with_outgroup([i for i in tree.get_terminals() if i.name in ['7460', '7425']], outgroup_branch_length=10e-2)\n",
    "\n",
    "# tree, RAI, function_optima = max_likelihood_root_mad_v1(tree)\n",
    "# print(len(tree.get_terminals()), tree.total_branch_length())\n",
    "# Phylo.draw(tree)"
   ]
  },
  {
   "cell_type": "code",
   "execution_count": null,
   "metadata": {
    "collapsed": false
   },
   "outputs": [],
   "source": [
    "optimize_root_loc_on_branch_mad_v4(tree, dist_df)"
   ]
  },
  {
   "cell_type": "code",
   "execution_count": null,
   "metadata": {
    "collapsed": false
   },
   "outputs": [],
   "source": [
    "dist_df = get_distance_df_v1(tree)"
   ]
  },
  {
   "cell_type": "code",
   "execution_count": null,
   "metadata": {
    "collapsed": true
   },
   "outputs": [],
   "source": []
  },
  {
   "cell_type": "code",
   "execution_count": null,
   "metadata": {
    "collapsed": true
   },
   "outputs": [],
   "source": []
  },
  {
   "cell_type": "code",
   "execution_count": null,
   "metadata": {
    "collapsed": true
   },
   "outputs": [],
   "source": []
  },
  {
   "cell_type": "code",
   "execution_count": null,
   "metadata": {
    "collapsed": true
   },
   "outputs": [],
   "source": []
  },
  {
   "cell_type": "code",
   "execution_count": null,
   "metadata": {
    "collapsed": true
   },
   "outputs": [],
   "source": []
  },
  {
   "cell_type": "code",
   "execution_count": null,
   "metadata": {
    "collapsed": true
   },
   "outputs": [],
   "source": []
  },
  {
   "cell_type": "code",
   "execution_count": null,
   "metadata": {
    "collapsed": true
   },
   "outputs": [],
   "source": []
  },
  {
   "cell_type": "code",
   "execution_count": null,
   "metadata": {
    "collapsed": true
   },
   "outputs": [],
   "source": []
  },
  {
   "cell_type": "code",
   "execution_count": null,
   "metadata": {
    "collapsed": true
   },
   "outputs": [],
   "source": []
  },
  {
   "cell_type": "code",
   "execution_count": null,
   "metadata": {
    "collapsed": true
   },
   "outputs": [],
   "source": []
  },
  {
   "cell_type": "code",
   "execution_count": null,
   "metadata": {
    "collapsed": true
   },
   "outputs": [],
   "source": []
  },
  {
   "cell_type": "code",
   "execution_count": null,
   "metadata": {
    "collapsed": true
   },
   "outputs": [],
   "source": []
  },
  {
   "cell_type": "code",
   "execution_count": null,
   "metadata": {
    "collapsed": true
   },
   "outputs": [],
   "source": [
    "def get_distance_dict(tree):\n",
    "    lineage_dist_dict = {}\n",
    "    for leaf in tree.get_terminals()[:]:\n",
    "        lineage_dist_dict[leaf] = {}\n",
    "        lineage_dist_dict[leaf][leaf] = 0.\n",
    "\n",
    "        full_lineage = tree.trace(tree.root, leaf)[::-1]\n",
    "        back_dist = 0\n",
    "        for i, back_clade in enumerate(full_lineage[:]):\n",
    "            if i == 0:\n",
    "                continue\n",
    "            back_dist += full_lineage[i-1].branch_length\n",
    "            lineage_dist_dict[leaf][back_clade] = back_dist\n",
    "            fwd_dist = 0\n",
    "            for fwd_clade, depth in back_clade.depths().items():\n",
    "                if fwd_clade in lineage_dist_dict[leaf].keys():\n",
    "                    continue\n",
    "                if back_clade.branch_length:\n",
    "                    lineage_dist_dict[leaf][fwd_clade] = back_dist + depth - back_clade.branch_length\n",
    "                else:\n",
    "                    lineage_dist_dict[leaf][fwd_clade] = back_dist + depth\n",
    "    return lineage_dist_dict\n",
    "\n",
    "def optimize_root_loc_on_branch_mad_v2(tree, lineage_dist_dict):\n",
    "    '''\n",
    "    This will calculate (and optimize) the ancestor deviation on a given branch\n",
    "    \n",
    "        `tree` is a Bio.Phylo tree object that must be rooted (and only bifurcating roots)\n",
    "                will suffice. This function will only explore moving this root location\n",
    "                within the bounds of the next nodes\n",
    "    \n",
    "    Note: calculating the MAD for the whole tree will thus require running this function on every\n",
    "    putative root branch and selecting the best branch / location on that branch as the root.\n",
    "    '''\n",
    "    assert len(tree.root.clades) == 2\n",
    "    lterms = tree.root.clades[0].get_terminals()\n",
    "    rterms = tree.root.clades[1].get_terminals()\n",
    "\n",
    "    ####################################################\n",
    "    ###On to the actual algorithm... dealing with same side leaves first since they \n",
    "    ###won't change at all as the root location moves within bounds. We need to compute\n",
    "    ###all pairwise distances between nodes/their ancestors\n",
    "    ###Note: THIS is the speed bottleneck. Super. Slow.\n",
    "    ss_a_dists = []\n",
    "    ss_b_dists = []\n",
    "    for clade in [tree.root.clades[0], tree.root.clades[1]]:\n",
    "        for node in clade.get_nonterminals() + clade.get_terminals():\n",
    "            if len(node.clades) != 2:\n",
    "                continue\n",
    "            a_side = node.clades[0].get_terminals()\n",
    "            b_side = node.clades[1].get_terminals()\n",
    "            for a_term in a_side:\n",
    "                for b_term in b_side:\n",
    "                    ss_a_dists.append(lineage_dist_dict[a_term][node])\n",
    "                    ss_b_dists.append(lineage_dist_dict[b_term][node])\n",
    "\n",
    "    ###Calculate the ancestral deviations for these same side nodes\n",
    "    ss_a_dists = np.array(ss_a_dists)\n",
    "    ss_b_dists = np.array(ss_b_dists)\n",
    "    ss_total_dists = ss_a_dists + ss_b_dists\n",
    "    ###Now just follow the formula from the MAD paper\n",
    "    ss_devs = np.abs(((2*ss_a_dists)/ss_total_dists)-1)  \n",
    "    \n",
    "    ###Now get arrays of the distances from terminal to the root for \n",
    "    ###the root-straddling leaf pairs\n",
    "    root_clade = tree.root\n",
    "    ds_a_dists = []\n",
    "    ds_b_dists = []\n",
    "    temp_depths = tree.depths()\n",
    "    for leaf_a in lterms:\n",
    "        for leaf_b in rterms:\n",
    "            ds_a_dists.append(temp_depths[leaf_a])\n",
    "            ds_b_dists.append(temp_depths[leaf_b])\n",
    "    ds_a_dists = np.array(ds_a_dists)\n",
    "    ds_b_dists = np.array(ds_b_dists)\n",
    "    ds_total_dists = ds_a_dists + ds_b_dists\n",
    "\n",
    "    ###Using the analytical solution to \"rho\" parameter as outlined in the MAD paper\n",
    "    ###This is quite elegant\n",
    "    l_branch_len = tree.root.clades[0].branch_length\n",
    "    r_branch_len = tree.root.clades[1].branch_length\n",
    "    total_bl = l_branch_len + r_branch_len\n",
    "    rho = np.sum((ds_total_dists-(2*ds_a_dists))*ds_total_dists**-2)/(2*total_bl*np.sum(ds_total_dists**-2))\n",
    "    modifier = total_bl*rho\n",
    "    modifier = min(max(-l_branch_len, modifier), r_branch_len)   \n",
    " \n",
    "    ###Rescale the distances with the optimized modifier\n",
    "    ds_a_dists = ds_a_dists + modifier\n",
    "    ds_b_dists = ds_b_dists - modifier\n",
    "    ds_total_dists = ds_a_dists + ds_b_dists\n",
    "    ###Calculate their deviations\n",
    "    ds_devs = np.abs(((2*ds_a_dists)/ds_total_dists)-1)\n",
    "\n",
    "    ###Concatenate them with the pre-computed same side deviations (ss_devs)\n",
    "    all_devs = np.concatenate((ss_devs, ds_devs))\n",
    "    ###And compute final score\n",
    "    all_devs = all_devs**2\n",
    "    dev_score = np.mean(all_devs)\n",
    "    dev_score = dev_score**0.5\n",
    "    return (modifier, dev_score)\n",
    "\n",
    "def explore_all_roots(tree, set_list, lineage_dist_dict):\n",
    "#     starting_terms = tree.root.clades[0].get_terminals()\n",
    "#     starting_og_len = tree.root.clades[0].branch_length\n",
    "#     mp_res = optimize_root_loc_on_branch_mad_v2(tree, lineage_dist_dict)    \n",
    "    function_optima = []\n",
    "    for og_set in set_list:\n",
    "        tree.root_with_outgroup(og_set, outgroup_branch_length=10e-8)\n",
    "        function_optima.append((og_set, optimize_root_loc_on_branch_mad_v2(tree, lineage_dist_dict)))\n",
    "        tree.root_at_midpoint()\n",
    "#         tree.root_with_outgroup(starting_terms, outgroup_branch_length=starting_og_len)\n",
    "#         print(tree.total_branch_length())\n",
    "    return function_optima\n",
    "\n",
    "# def max_likelihood_root_mad_v2(tree):\n",
    "#     '''\n",
    "#     This is a pretty boring function that just runs the main program and then \n",
    "#     at the very end does the proper re-rooting.\n",
    "    \n",
    "#         `tree` is just a Bio.Phylo tree object\n",
    "#     '''\n",
    "#     ###Not sure whether I feel like labeling internal nodes or not, but it \n",
    "#     ###can be helpful for troubleshooting\n",
    "#     # for i, internal_node in enumerate(tree.get_nonterminals()):\n",
    "#     #     internal_node.name = 'I{}'.format(i)\n",
    "#     ###I also usually like to start the process with a midpoint rooted tree\n",
    "#     ###for consistency. But note that this rooting function is terrible\n",
    "#     # tree.root_at_midpoint()\n",
    "#     lineage_dist_dict = get_distance_dict(tree)\n",
    "#     explored, function_optima = recursive_tree_root_mad_v2(tree.root, [], [], tree, lineage_dist_dict)\n",
    "#     function_optima = sorted(function_optima, key=lambda x: x[1][1])\n",
    "#     tree.root_with_outgroup(function_optima[0][0], outgroup_branch_length=10e-10)\n",
    "#     tree.root.clades[0].branch_length += function_optima[0][1][0]\n",
    "#     tree.root.clades[1].branch_length -= function_optima[0][1][0]\n",
    "#     RAI = function_optima[0][1][1] / function_optima[1][1][1]\n",
    "#     return tree, RAI, function_optima"
   ]
  },
  {
   "cell_type": "code",
   "execution_count": null,
   "metadata": {
    "collapsed": false
   },
   "outputs": [],
   "source": [
    "# tree_loc = '../Tria_et_al_data/eukaryotes/ingroup/phyml/KOG0725.faa.aln.nwk'\n",
    "# tree_loc = '../Tria_et_al_data/eukaryotes/ingroup/phyml/KOG2515.faa.aln.nwk' ###MAD fails, MP works\n",
    "tree_loc = '../Tria_et_al_data/eukaryotes/ingroup/phyml/KOG2459.faa.aln.nwk' ###MAD works, MP fails\n",
    "# tree_loc = '../Tria_et_al_data/eukaryotes/ingroup/phyml/KOG2340.faa.aln.nwk' ###MAD works, MP fails\n",
    "# tree_loc = '../Tria_et_al_data/eukaryotes/ingroup/phyml/KOG2725.faa.aln.nwk.15.pruned'\n",
    "# tree_loc = '../Tria_et_al_data/eukaryotes/ingroup/phyml/KOG1622.faa.aln.nwk'\n",
    "# tree_loc = '../Tria_et_al_data/cyanobacteria/ingroup/phyml/cluster_100.faa.aln.nwk'\n",
    "\n",
    "###Load the tree\n",
    "tree = Phylo.read(tree_loc, 'newick', rooted=False)\n",
    "print(len(tree.get_terminals()), tree.total_branch_length())\n",
    "Phylo.draw(tree)\n",
    "\n",
    "mad_tree = Phylo.read(tree_loc+'.rooted', 'newick', rooted=True)\n",
    "print(len(mad_tree.get_terminals()), mad_tree.total_branch_length())\n",
    "Phylo.draw(mad_tree)\n",
    "\n",
    "tree.root_at_midpoint()\n",
    "print(len(tree.get_terminals()), tree.total_branch_length())\n",
    "Phylo.draw(tree)\n",
    "\n",
    "# lineage_dist_dict = get_distance_dict(tree)\n",
    "# tree, RAI, function_optima = max_likelihood_root_mad_v2(tree)\n",
    "# print(len(tree.get_terminals()), tree.total_branch_length())\n",
    "# Phylo.draw(tree)"
   ]
  },
  {
   "cell_type": "code",
   "execution_count": null,
   "metadata": {
    "collapsed": true
   },
   "outputs": [],
   "source": []
  },
  {
   "cell_type": "code",
   "execution_count": null,
   "metadata": {
    "collapsed": true
   },
   "outputs": [],
   "source": []
  },
  {
   "cell_type": "code",
   "execution_count": null,
   "metadata": {
    "collapsed": false
   },
   "outputs": [],
   "source": [
    "dist_dict = get_distance_dict(tree)\n",
    "function_optima = explore_all_roots(tree, set_list, dist_dict)"
   ]
  },
  {
   "cell_type": "code",
   "execution_count": null,
   "metadata": {
    "collapsed": false
   },
   "outputs": [],
   "source": [
    "fo = sorted(function_optima, key=lambda x: x[1])\n",
    "fo[:5]"
   ]
  },
  {
   "cell_type": "code",
   "execution_count": null,
   "metadata": {
    "collapsed": false
   },
   "outputs": [],
   "source": [
    "next(tree.find_elements(fo[0][0])).clades"
   ]
  },
  {
   "cell_type": "code",
   "execution_count": null,
   "metadata": {
    "collapsed": false
   },
   "outputs": [],
   "source": [
    "%%timeit\n",
    "explore_all_roots(tree, dist_dict)"
   ]
  },
  {
   "cell_type": "code",
   "execution_count": null,
   "metadata": {
    "collapsed": true
   },
   "outputs": [],
   "source": []
  },
  {
   "cell_type": "code",
   "execution_count": null,
   "metadata": {
    "collapsed": false
   },
   "outputs": [],
   "source": [
    "def iterative_og_set(tree):\n",
    "    set_list = []\n",
    "    all_terms = tree.get_terminals()\n",
    "    for clade in tree.get_nonterminals():\n",
    "        temp_terms = clade.get_terminals()\n",
    "        set_list.append(temp_terms)\n",
    "        set_list.append([i for i in all_terms if i not in temp_terms])\n",
    "    \n",
    "    return set_list\n",
    "\n",
    "def recursive_og_set(hypothetical_root, tree, set_list):\n",
    "    if len(hypothetical_root.clades) == 2:\n",
    "        l_clade, r_clade = hypothetical_root.clades\n",
    "        l_terms = l_clade.get_terminals()\n",
    "        non_l_terms = [term for term in tree.get_terminals() if term not in l_terms]\n",
    "        r_terms = r_clade.get_terminals()\n",
    "        non_r_terms = [term for term in tree.get_terminals() if term not in r_terms]\n",
    "        set_list.append(set(l_terms))\n",
    "        set_list.append(set(r_terms))\n",
    "        set_list.append(set(non_l_terms))\n",
    "        set_list.append(set(non_r_terms))\n",
    "        ###Recurse on l clade\n",
    "        set_list = recursive_og_set(l_clade, tree, set_list)\n",
    "        ###Recurse on r clade\n",
    "        set_list = recursive_og_set(r_clade, tree, set_list)\n",
    "    elif len(hypothetical_root.clades) == 0:\n",
    "        return set_list\n",
    "    return set_list\n",
    "set_list = iterative_og_set(tree)\n",
    "# set_list = recursive_og_set(tree.root, tree, [])"
   ]
  },
  {
   "cell_type": "code",
   "execution_count": null,
   "metadata": {
    "collapsed": false
   },
   "outputs": [],
   "source": [
    "len(set_list)"
   ]
  },
  {
   "cell_type": "code",
   "execution_count": null,
   "metadata": {
    "collapsed": false
   },
   "outputs": [],
   "source": [
    "for terminal in tree.get_terminals():\n",
    "    assert set([terminal]) in set_list"
   ]
  },
  {
   "cell_type": "code",
   "execution_count": null,
   "metadata": {
    "collapsed": true
   },
   "outputs": [],
   "source": []
  },
  {
   "cell_type": "code",
   "execution_count": null,
   "metadata": {
    "collapsed": true
   },
   "outputs": [],
   "source": []
  },
  {
   "cell_type": "code",
   "execution_count": null,
   "metadata": {
    "collapsed": true
   },
   "outputs": [],
   "source": []
  },
  {
   "cell_type": "code",
   "execution_count": null,
   "metadata": {
    "collapsed": true
   },
   "outputs": [],
   "source": []
  },
  {
   "cell_type": "code",
   "execution_count": null,
   "metadata": {
    "collapsed": true
   },
   "outputs": [],
   "source": []
  }
 ],
 "metadata": {
  "kernelspec": {
   "display_name": "Python 3",
   "language": "python",
   "name": "python3"
  },
  "language_info": {
   "codemirror_mode": {
    "name": "ipython",
    "version": 3
   },
   "file_extension": ".py",
   "mimetype": "text/x-python",
   "name": "python",
   "nbconvert_exporter": "python",
   "pygments_lexer": "ipython3",
   "version": "3.4.5"
  },
  "toc": {
   "colors": {
    "hover_highlight": "#DAA520",
    "navigate_num": "#000000",
    "navigate_text": "#333333",
    "running_highlight": "#FF0000",
    "selected_highlight": "#FFD700",
    "sidebar_border": "#EEEEEE",
    "wrapper_background": "#FFFFFF"
   },
   "moveMenuLeft": true,
   "nav_menu": {
    "height": "48px",
    "width": "252px"
   },
   "navigate_menu": true,
   "number_sections": true,
   "sideBar": true,
   "threshold": 4,
   "toc_cell": false,
   "toc_section_display": "block",
   "toc_window_display": false,
   "widenNotebook": false
  }
 },
 "nbformat": 4,
 "nbformat_minor": 2
}
